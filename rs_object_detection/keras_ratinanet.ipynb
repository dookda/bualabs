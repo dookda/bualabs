{
 "cells": [
  {
   "cell_type": "code",
   "execution_count": 1,
   "metadata": {},
   "outputs": [
    {
     "name": "stdout",
     "output_type": "stream",
     "text": [
      "Cloning into 'keras-retinanet'...\n",
      "remote: Enumerating objects: 6224, done.\u001b[K\n",
      "remote: Counting objects: 100% (19/19), done.\u001b[K\n",
      "remote: Compressing objects: 100% (17/17), done.\u001b[K\n",
      "remote: Total 6224 (delta 6), reused 9 (delta 2), pack-reused 6205\u001b[K\n",
      "Receiving objects: 100% (6224/6224), 13.48 MiB | 6.29 MiB/s, done.\n",
      "Resolving deltas: 100% (4206/4206), done.\n"
     ]
    }
   ],
   "source": [
    "import os\n",
    "repo_url = 'https://github.com/fizyr/keras-retinanet'\n",
    "repo_dir_path = os.path.abspath(os.path.join('.', os.path.basename(repo_url)))\n",
    "# clone git repository\n",
    "!git clone {repo_url}"
   ]
  },
  {
   "cell_type": "code",
   "execution_count": 2,
   "metadata": {},
   "outputs": [
    {
     "name": "stdout",
     "output_type": "stream",
     "text": [
      "zsh:1: command not found: kaggle\n"
     ]
    }
   ],
   "source": [
    "# import username and key from kaggle.json\n",
    "import json\n",
    "with open('./kaggle.json') as f:\n",
    "    kaggle = json.load(f)\n",
    "os.environ['KAGGLE_USERNAME'] = kaggle['username']\n",
    "os.environ['KAGGLE_KEY'] = kaggle['key']\n",
    "!kaggle datasets download kbhartiya83/swimming-pool-and-car-detection -p /content/data --unzip"
   ]
  },
  {
   "cell_type": "code",
   "execution_count": 6,
   "metadata": {},
   "outputs": [
    {
     "name": "stdout",
     "output_type": "stream",
     "text": [
      "/Users/sakdahomhuan/Dev/cmu_deep_tutorial/rs_object_detection\n"
     ]
    },
    {
     "ename": "FileNotFoundError",
     "evalue": "[Errno 2] No such file or directory: '/Users/sakdahomhuan/Dev/cmu_deep_tutorial/rs_object_detection/data/training_data/training_data/images/'",
     "output_type": "error",
     "traceback": [
      "\u001b[0;31m---------------------------------------------------------------------------\u001b[0m",
      "\u001b[0;31mFileNotFoundError\u001b[0m                         Traceback (most recent call last)",
      "\u001b[1;32m/Users/sakdahomhuan/Dev/cmu_deep_tutorial/rs_object_detection/keras_ratinanet.ipynb Cell 3\u001b[0m line \u001b[0;36m1\n\u001b[1;32m     <a href='vscode-notebook-cell:/Users/sakdahomhuan/Dev/cmu_deep_tutorial/rs_object_detection/keras_ratinanet.ipynb#W2sZmlsZQ%3D%3D?line=10'>11</a>\u001b[0m get_ipython()\u001b[39m.\u001b[39msystem(\u001b[39m'\u001b[39m\u001b[39mmkdir \u001b[39m\u001b[39m{sub_dir}\u001b[39;00m\u001b[39m'\u001b[39m)\n\u001b[1;32m     <a href='vscode-notebook-cell:/Users/sakdahomhuan/Dev/cmu_deep_tutorial/rs_object_detection/keras_ratinanet.ipynb#W2sZmlsZQ%3D%3D?line=11'>12</a>\u001b[0m image_dir \u001b[39m=\u001b[39m base_dir \u001b[39m+\u001b[39m \u001b[39m'\u001b[39m\u001b[39m/data/training_data/training_data/images/\u001b[39m\u001b[39m'\u001b[39m\n\u001b[0;32m---> <a href='vscode-notebook-cell:/Users/sakdahomhuan/Dev/cmu_deep_tutorial/rs_object_detection/keras_ratinanet.ipynb#W2sZmlsZQ%3D%3D?line=12'>13</a>\u001b[0m image_paths \u001b[39m=\u001b[39m os\u001b[39m.\u001b[39;49mlistdir(image_dir)\n\u001b[1;32m     <a href='vscode-notebook-cell:/Users/sakdahomhuan/Dev/cmu_deep_tutorial/rs_object_detection/keras_ratinanet.ipynb#W2sZmlsZQ%3D%3D?line=13'>14</a>\u001b[0m \u001b[39m# randomly select subsample\u001b[39;00m\n\u001b[1;32m     <a href='vscode-notebook-cell:/Users/sakdahomhuan/Dev/cmu_deep_tutorial/rs_object_detection/keras_ratinanet.ipynb#W2sZmlsZQ%3D%3D?line=14'>15</a>\u001b[0m random_NUM \u001b[39m=\u001b[39m random\u001b[39m.\u001b[39msample(image_paths, NUM) \n",
      "\u001b[0;31mFileNotFoundError\u001b[0m: [Errno 2] No such file or directory: '/Users/sakdahomhuan/Dev/cmu_deep_tutorial/rs_object_detection/data/training_data/training_data/images/'"
     ]
    }
   ],
   "source": [
    "# select subsample of N for initial training\n",
    "# import os\n",
    "import random\n",
    "from shutil import copyfile\n",
    "# determine number for the sample\n",
    "NUM = 800\n",
    "# create directory for the sample\n",
    "base_dir = os.getcwd()\n",
    "print(base_dir)\n",
    "sub_dir = base_dir + '/images_subset/'\n",
    "!mkdir {sub_dir}\n",
    "image_dir = base_dir + '/data/training_data/training_data/images/'\n",
    "image_paths = os.listdir(image_dir)\n",
    "# randomly select subsample\n",
    "random_NUM = random.sample(image_paths, NUM) \n",
    "# copy subsample into subsample directory\n",
    "for i in random_NUM:\n",
    "   copyfile(image_dir + i, sub_dir + i )"
   ]
  }
 ],
 "metadata": {
  "kernelspec": {
   "display_name": "tf",
   "language": "python",
   "name": "python3"
  },
  "language_info": {
   "codemirror_mode": {
    "name": "ipython",
    "version": 3
   },
   "file_extension": ".py",
   "mimetype": "text/x-python",
   "name": "python",
   "nbconvert_exporter": "python",
   "pygments_lexer": "ipython3",
   "version": "3.11.5"
  }
 },
 "nbformat": 4,
 "nbformat_minor": 2
}
