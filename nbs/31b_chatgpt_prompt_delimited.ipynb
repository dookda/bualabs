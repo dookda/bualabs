{
  "nbformat": 4,
  "nbformat_minor": 0,
  "metadata": {
    "colab": {
      "provenance": [],
      "authorship_tag": "ABX9TyMhQFMnkz6wJEAOX05lfa/Y",
      "include_colab_link": true
    },
    "kernelspec": {
      "name": "python3",
      "display_name": "Python 3"
    },
    "language_info": {
      "name": "python"
    }
  },
  "cells": [
    {
      "cell_type": "markdown",
      "metadata": {
        "id": "view-in-github",
        "colab_type": "text"
      },
      "source": [
        "<a href=\"https://colab.research.google.com/github/gnoparus/bualabs/blob/master/nbs/31b_chatgpt_prompt_delimited.ipynb\" target=\"_parent\"><img src=\"https://colab.research.google.com/assets/colab-badge.svg\" alt=\"Open In Colab\"/></a>"
      ]
    },
    {
      "cell_type": "code",
      "execution_count": null,
      "metadata": {
        "id": "SyF6odPmhFO6"
      },
      "outputs": [],
      "source": []
    },
    {
      "cell_type": "markdown",
      "source": [
        "ต่อไปเราจะมาเรียนรู้ การใช้งาน LLM, ChatGPT, GPT-3.5, GPT-4 ใช้ผ่านทาง API Endpoint ด้วยภาษา Python รวมถึงเรียนรู้ Prompt Engineering กัน ตั้งแต่หลักการเบื้องต้น ไปจนถึงเทคนิคระดับ Advance"
      ],
      "metadata": {
        "id": "WrAXCBTSH1VF"
      }
    },
    {
      "cell_type": "markdown",
      "source": [
        "# 0. Magic Commands\n",
        "ให้ใส่ไว้บนสุดทุก Notebook เป็นการสั่งให้ Notebook ก่อนรัน ให้รีโหลด Library ภายนอกที่เรา import ไว้ใหม่โดยอัตโนมัติ\n",
        "\n",
        "และให้พล็อตกราฟ matplotlib ใน Output ของ cell แบบ code ได้เลย"
      ],
      "metadata": {
        "id": "XADbYKvIHVdT"
      }
    },
    {
      "cell_type": "code",
      "source": [
        "%reload_ext autoreload\n",
        "%autoreload 2\n",
        "%matplotlib inline"
      ],
      "metadata": {
        "id": "SY1xxOt4GFMw"
      },
      "execution_count": null,
      "outputs": []
    },
    {
      "cell_type": "markdown",
      "source": [
        "# 1. Import Library\n",
        "\n",
        "ติดตั้ง OpenAI Library ด้วยการ Uncomment Cell ด้านล่างแล้ว Run"
      ],
      "metadata": {
        "id": "2tV5b_GLGsfT"
      }
    },
    {
      "cell_type": "code",
      "execution_count": null,
      "metadata": {
        "id": "AQWl4NIQ8LJm"
      },
      "outputs": [],
      "source": [
        "# ! pip install openai"
      ]
    },
    {
      "cell_type": "code",
      "source": [
        "import openai"
      ],
      "metadata": {
        "id": "Y9S8DX6a9GdD"
      },
      "execution_count": null,
      "outputs": []
    },
    {
      "cell_type": "markdown",
      "source": [
        "# 2. Authentication\n",
        "\n",
        "ก่อนที่เราจะเรียกใช้งาน ChatGPT, GPT-4 ของ OpenAI ได้ เราต้องลงทะเบียน สมัครใช้งาน และใส่ข้อมูลวิธีชำระเงินให้เรียบร้อยก่อน \n",
        "\n",
        "## Sign up\n",
        "\n",
        "กดปุ่ม Sign up สีเขียว ในลิงค์ด้านล่าง สมัครใช้งาน OpenAI \n",
        "\n",
        "https://platform.openai.com/overview\n",
        "\n",
        "ใส่ข้อมูลบัตรเครดิต ในหน้า Billing ให้เรียบร้อย\n",
        "\n",
        "https://platform.openai.com/account/billing/payment-methods\n",
        "\n",
        "\n",
        "\n",
        "\n"
      ],
      "metadata": {
        "id": "MyBgjLga_6rG"
      }
    },
    {
      "cell_type": "markdown",
      "source": [
        "## API Key\n",
        "\n",
        "สร้าง API Key จากลิงค์ด้านล่าง โดยกดปุ่ม Create new secret key ตั้งชื่อ แล้ว Copy secret key เตรียมไว้ใส่ในช่อง OPENAI_API_KEY ด้านล่าง\n",
        "\n",
        "https://platform.openai.com/account/api-keys\n",
        "\n",
        "\n",
        "## ตัวอย่าง API Key \n",
        "\n",
        "OPENAI_API_KEY: sk-abcDeFGHijKlMNopQrstuvWxyZ1234567890abcDefhiJklm\n",
        "\n",
        "รัน Cell ด้านล่าง แล้วใส่ secret key ที่ได้มา"
      ],
      "metadata": {
        "id": "2jWLUnvhJ0cX"
      }
    },
    {
      "cell_type": "code",
      "source": [
        "import os\n",
        "from getpass import getpass\n",
        "\n",
        "token = getpass('Enter OPENAI_API_KEY here: ')\n",
        "# print ('token is', token)\n",
        "\n",
        "openai.api_key = token"
      ],
      "metadata": {
        "colab": {
          "base_uri": "https://localhost:8080/"
        },
        "id": "od_JGCDH85e8",
        "outputId": "b2cc17e2-139a-47d3-a6f2-e41ad4ed61a9"
      },
      "execution_count": null,
      "outputs": [
        {
          "name": "stdout",
          "output_type": "stream",
          "text": [
            "Enter OPENAI_API_KEY here: ··········\n"
          ]
        }
      ]
    },
    {
      "cell_type": "markdown",
      "source": [
        "หลังจากทดสอบเสร็จแล้ว แนะนำให้กลับไปลบ Secret Key ในหน้า https://platform.openai.com/account/api-keys ทิ้งไปทุกครั้ง เพื่อความปลอดภัย โดยเราสามารถสร้าง Key ใหม่ได้เรื่อย ๆ ไม่จำกัด"
      ],
      "metadata": {
        "id": "6DGekg9eQyD0"
      }
    }
  ]
}