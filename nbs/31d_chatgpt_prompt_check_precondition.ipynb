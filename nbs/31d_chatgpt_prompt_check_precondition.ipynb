{
  "nbformat": 4,
  "nbformat_minor": 0,
  "metadata": {
    "colab": {
      "provenance": [],
      "authorship_tag": "ABX9TyP0T4d0fYkZPtAKqMkQmfon",
      "include_colab_link": true
    },
    "kernelspec": {
      "name": "python3",
      "display_name": "Python 3"
    },
    "language_info": {
      "name": "python"
    }
  },
  "cells": [
    {
      "cell_type": "markdown",
      "metadata": {
        "id": "view-in-github",
        "colab_type": "text"
      },
      "source": [
        "<a href=\"https://colab.research.google.com/github/gnoparus/bualabs/blob/master/nbs/31d_chatgpt_prompt_check_precondition.ipynb\" target=\"_parent\"><img src=\"https://colab.research.google.com/assets/colab-badge.svg\" alt=\"Open In Colab\"/></a>"
      ]
    },
    {
      "cell_type": "markdown",
      "source": [
        "ต่อไปเราจะมาเรียนรู้ Prompt Engineering เทคนิคที่ 3 สั่งให้ AI ตรวจเช็คเงื่อนไขที่จำเป็น ก่อนทำงาน"
      ],
      "metadata": {
        "id": "WrAXCBTSH1VF"
      }
    },
    {
      "cell_type": "markdown",
      "source": [
        "# 0. Magic Commands\n",
        "ให้ใส่ไว้บนสุดทุก Notebook เป็นการสั่งให้ Notebook ก่อนรัน ให้รีโหลด Library ภายนอกที่เรา import ไว้ใหม่โดยอัตโนมัติ\n",
        "\n",
        "และให้พล็อตกราฟ matplotlib ใน Output ของ cell แบบ code ได้เลย"
      ],
      "metadata": {
        "id": "XADbYKvIHVdT"
      }
    },
    {
      "cell_type": "code",
      "source": [
        "%reload_ext autoreload\n",
        "%autoreload 2\n",
        "%matplotlib inline"
      ],
      "metadata": {
        "id": "SY1xxOt4GFMw"
      },
      "execution_count": null,
      "outputs": []
    },
    {
      "cell_type": "markdown",
      "source": [
        "สั่งให้ Colab แสดงผลข้อความแบบ Wrap Text"
      ],
      "metadata": {
        "id": "uvbfUIO3oeEi"
      }
    },
    {
      "cell_type": "code",
      "source": [
        "from IPython.display import HTML, display\n",
        "\n",
        "def set_css():\n",
        "  display(HTML('''\n",
        "  <style>\n",
        "    pre {\n",
        "        white-space: pre-wrap;\n",
        "    }\n",
        "  </style>\n",
        "  '''))\n",
        "get_ipython().events.register('pre_run_cell', set_css)"
      ],
      "metadata": {
        "id": "xwy_06Hgn2T2"
      },
      "execution_count": null,
      "outputs": []
    },
    {
      "cell_type": "markdown",
      "source": [
        "# 1. Import Library\n",
        "\n",
        "ติดตั้ง OpenAI Library ด้วยการ Uncomment Cell ด้านล่างแล้ว Run"
      ],
      "metadata": {
        "id": "2tV5b_GLGsfT"
      }
    },
    {
      "cell_type": "code",
      "execution_count": 1,
      "metadata": {
        "id": "AQWl4NIQ8LJm"
      },
      "outputs": [],
      "source": [
        "# ! pip install openai"
      ]
    },
    {
      "cell_type": "code",
      "source": [
        "import openai"
      ],
      "metadata": {
        "id": "Y9S8DX6a9GdD",
        "colab": {
          "base_uri": "https://localhost:8080/",
          "height": 17
        },
        "outputId": "6933fcc9-5138-4878-8b9b-26a8c513bfaa"
      },
      "execution_count": null,
      "outputs": [
        {
          "output_type": "display_data",
          "data": {
            "text/plain": [
              "<IPython.core.display.HTML object>"
            ],
            "text/html": [
              "\n",
              "  <style>\n",
              "    pre {\n",
              "        white-space: pre-wrap;\n",
              "    }\n",
              "  </style>\n",
              "  "
            ]
          },
          "metadata": {}
        }
      ]
    },
    {
      "cell_type": "markdown",
      "source": [
        "# 2. Authentication\n",
        "\n",
        "ก่อนที่เราจะเรียกใช้งาน ChatGPT, GPT-4 ของ OpenAI ได้ เราต้องลงทะเบียน สมัครใช้งาน และใส่ข้อมูลวิธีชำระเงินให้เรียบร้อยก่อน \n",
        "\n",
        "## Sign up\n",
        "\n",
        "กดปุ่ม Sign up สีเขียว ในลิงค์ด้านล่าง สมัครใช้งาน OpenAI \n",
        "\n",
        "https://platform.openai.com/overview\n",
        "\n",
        "ใส่ข้อมูลบัตรเครดิต ในหน้า Billing ให้เรียบร้อย\n",
        "\n",
        "https://platform.openai.com/account/billing/payment-methods\n",
        "\n",
        "\n",
        "\n",
        "\n"
      ],
      "metadata": {
        "id": "MyBgjLga_6rG"
      }
    },
    {
      "cell_type": "markdown",
      "source": [
        "## API Key\n",
        "\n",
        "สร้าง API Key จากลิงค์ด้านล่าง โดยกดปุ่ม Create new secret key ตั้งชื่อ แล้ว Copy secret key เตรียมไว้ใส่ในช่อง OPENAI_API_KEY ด้านล่าง\n",
        "\n",
        "https://platform.openai.com/account/api-keys\n",
        "\n",
        "\n",
        "## ตัวอย่าง API Key \n",
        "\n",
        "OPENAI_API_KEY: sk-abcDeFGHijKlMNopQrstuvWxyZ1234567890abcDefhiJklm\n",
        "\n",
        "รัน Cell ด้านล่าง แล้วใส่ secret key ที่ได้มา"
      ],
      "metadata": {
        "id": "2jWLUnvhJ0cX"
      }
    },
    {
      "cell_type": "code",
      "source": [
        "import os\n",
        "from getpass import getpass\n",
        "\n",
        "token = getpass('Enter OPENAI_API_KEY here: ')\n",
        "# print ('token is', token)\n",
        "\n",
        "openai.api_key = token"
      ],
      "metadata": {
        "colab": {
          "base_uri": "https://localhost:8080/",
          "height": 34
        },
        "id": "od_JGCDH85e8",
        "outputId": "58d554e2-4d69-4a5b-c73c-3e15a7ea611d"
      },
      "execution_count": null,
      "outputs": [
        {
          "output_type": "display_data",
          "data": {
            "text/plain": [
              "<IPython.core.display.HTML object>"
            ],
            "text/html": [
              "\n",
              "  <style>\n",
              "    pre {\n",
              "        white-space: pre-wrap;\n",
              "    }\n",
              "  </style>\n",
              "  "
            ]
          },
          "metadata": {}
        },
        {
          "name": "stdout",
          "output_type": "stream",
          "text": [
            "Enter OPENAI_API_KEY here: ··········\n"
          ]
        }
      ]
    },
    {
      "cell_type": "markdown",
      "source": [
        "หลังจากทดสอบเสร็จแล้ว แนะนำให้กลับไปลบ Secret Key ในหน้า https://platform.openai.com/account/api-keys ทิ้งไปทุกครั้ง เพื่อความปลอดภัย โดยเราสามารถสร้าง Key ใหม่ได้เรื่อย ๆ ไม่จำกัด"
      ],
      "metadata": {
        "id": "6DGekg9eQyD0"
      }
    },
    {
      "cell_type": "markdown",
      "source": [
        "# 3. ฟังก์ชัน"
      ],
      "metadata": {
        "id": "Eh1bNHQgiAVF"
      }
    },
    {
      "cell_type": "code",
      "source": [
        "def get_completion(prompt, model=\"gpt-3.5-turbo\"):\n",
        "    messages = [{\"role\": \"user\", \"content\": prompt}]\n",
        "    response = openai.ChatCompletion.create(\n",
        "        model=model,\n",
        "        messages=messages,\n",
        "        temperature=0, # this is the degree of randomness of the model's output\n",
        "    )\n",
        "    return response.choices[0].message[\"content\"]"
      ],
      "metadata": {
        "id": "kRe_-7Czhzbd",
        "colab": {
          "base_uri": "https://localhost:8080/",
          "height": 17
        },
        "outputId": "6b29ce9f-8e84-4749-a392-5fcd6c2b0f41"
      },
      "execution_count": null,
      "outputs": [
        {
          "output_type": "display_data",
          "data": {
            "text/plain": [
              "<IPython.core.display.HTML object>"
            ],
            "text/html": [
              "\n",
              "  <style>\n",
              "    pre {\n",
              "        white-space: pre-wrap;\n",
              "    }\n",
              "  </style>\n",
              "  "
            ]
          },
          "metadata": {}
        }
      ]
    },
    {
      "cell_type": "code",
      "source": [
        "resp = get_completion(\"what are the 5 most populated provinces in thailand?\")"
      ],
      "metadata": {
        "id": "kqTWgxHVh-n2",
        "colab": {
          "base_uri": "https://localhost:8080/",
          "height": 17
        },
        "outputId": "257eb1b2-7015-4157-c526-c45bd3b2c0ab"
      },
      "execution_count": null,
      "outputs": [
        {
          "output_type": "display_data",
          "data": {
            "text/plain": [
              "<IPython.core.display.HTML object>"
            ],
            "text/html": [
              "\n",
              "  <style>\n",
              "    pre {\n",
              "        white-space: pre-wrap;\n",
              "    }\n",
              "  </style>\n",
              "  "
            ]
          },
          "metadata": {}
        }
      ]
    },
    {
      "cell_type": "code",
      "source": [
        "print(resp)"
      ],
      "metadata": {
        "colab": {
          "base_uri": "https://localhost:8080/",
          "height": 104
        },
        "id": "ASe0VTf2h-ss",
        "outputId": "4d6ce9e4-d569-493a-8c6c-885d1dbe0568"
      },
      "execution_count": null,
      "outputs": [
        {
          "output_type": "display_data",
          "data": {
            "text/plain": [
              "<IPython.core.display.HTML object>"
            ],
            "text/html": [
              "\n",
              "  <style>\n",
              "    pre {\n",
              "        white-space: pre-wrap;\n",
              "    }\n",
              "  </style>\n",
              "  "
            ]
          },
          "metadata": {}
        },
        {
          "output_type": "stream",
          "name": "stdout",
          "text": [
            "1. Bangkok - population of approximately 8.3 million\n",
            "2. Nonthaburi - population of approximately 1.2 million\n",
            "3. Samut Prakan - population of approximately 1.1 million\n",
            "4. Chonburi - population of approximately 1.1 million\n",
            "5. Ubon Ratchathani - population of approximately 1.1 million\n"
          ]
        }
      ]
    },
    {
      "cell_type": "markdown",
      "source": [
        "# 4. ตัวอย่างการเขียน Prompt ไม่ตรวจเช็คเงื่อนไขที่จำเป็น ก่อนทำงาน"
      ],
      "metadata": {
        "id": "xSLCudDfix_5"
      }
    },
    {
      "cell_type": "markdown",
      "source": [
        "เราจะลองสั่งให้โมเดล ลิสต์รายชื่อทีมฟุตบอล 10 ทีม ที่อยู่ในข้อความข่าว ที่คั่นด้วย เครื่องหมาย ` \n",
        "\n",
        "แต่ในข้อความข่าว มีชื่อทีมอยู่ไม่ถึง 10 ชื่อ โมเดลจะทำอย่างไร"
      ],
      "metadata": {
        "id": "7OANle_plY9F"
      }
    },
    {
      "cell_type": "code",
      "source": [
        "prompt = \"\"\"\n",
        "List the names of 10 soccer teams mentioned in the text. The text is delimited by triple backticks.\n",
        "\n",
        "```\n",
        "Real Madrid are in advanced talks with Borussia Dortmund to sign England midfielder Jude Bellingham for more than 100m euros.\n",
        "\n",
        "The 19-year-old, who joined Dortmund from Birmingham City in July 2020, was one of England's top performers at last year's World Cup.\n",
        "\n",
        "Real are willing to pay around 100m euros for Bellingham but Dortmund are understood to want 150m euros.\n",
        "\n",
        "Bellingham has been linked with some of Europe's top sides.\n",
        "\n",
        "Real are confident the midfielder - who has turned down a contract offer to stay at Dortmund - wants to join them but Manchester City are still interested too.\n",
        "\n",
        "Bellingham has played 40 times for his club this season - scoring 11 goals and registering seven assists.\n",
        "```\n",
        "\"\"\"\n",
        "\n",
        "resp = get_completion(prompt)"
      ],
      "metadata": {
        "colab": {
          "base_uri": "https://localhost:8080/",
          "height": 17
        },
        "id": "d2a1j_hEueBb",
        "outputId": "3310325a-3c83-4075-f367-985848e7fffe"
      },
      "execution_count": null,
      "outputs": [
        {
          "output_type": "display_data",
          "data": {
            "text/plain": [
              "<IPython.core.display.HTML object>"
            ],
            "text/html": [
              "\n",
              "  <style>\n",
              "    pre {\n",
              "        white-space: pre-wrap;\n",
              "    }\n",
              "  </style>\n",
              "  "
            ]
          },
          "metadata": {}
        }
      ]
    },
    {
      "cell_type": "code",
      "source": [
        "print(resp)"
      ],
      "metadata": {
        "colab": {
          "base_uri": "https://localhost:8080/",
          "height": 191
        },
        "id": "8tFLJ67XueHD",
        "outputId": "5f862b8d-00a8-40d0-f470-794b5158fc0c"
      },
      "execution_count": null,
      "outputs": [
        {
          "output_type": "display_data",
          "data": {
            "text/plain": [
              "<IPython.core.display.HTML object>"
            ],
            "text/html": [
              "\n",
              "  <style>\n",
              "    pre {\n",
              "        white-space: pre-wrap;\n",
              "    }\n",
              "  </style>\n",
              "  "
            ]
          },
          "metadata": {}
        },
        {
          "output_type": "stream",
          "name": "stdout",
          "text": [
            "1. Real Madrid\n",
            "2. Borussia Dortmund\n",
            "3. Birmingham City\n",
            "4. England\n",
            "5. World Cup\n",
            "6. Europe\n",
            "7. Manchester City\n",
            "8. Dortmund\n",
            "9. midfielder\n",
            "10. club\n"
          ]
        }
      ]
    },
    {
      "cell_type": "markdown",
      "source": [
        "โมเดลก็พยายามอย่างที่สุด ที่จะปฏิบัติตามคำสั่ง ถึงแม้จะเป็นไปไม่ได้ ก็เอาจนได้ โดยสร้างชื่อทีมที่ไม่มีอยู่จริง ในข้อความข่าวขึ้นมา หยิบมาจากไหนก็ไม่รู้ เพื่อให้ครบ 10 ทีม"
      ],
      "metadata": {
        "id": "NcJpjMuIlhUL"
      }
    },
    {
      "cell_type": "markdown",
      "source": [
        "# 5. ตัวอย่างการเขียน Prompt ที่ตรวจเช็คเงื่อนไขที่จำเป็น ก่อนทำงาน"
      ],
      "metadata": {
        "id": "Pxg51bzpx8je"
      }
    },
    {
      "cell_type": "markdown",
      "source": [
        "ในเคสนี้ เราจะสั่งให้โมเดลเช็คว่า ชื่อทีมฟุตบอล มีไม่ถึง 10 ชื่อ ก็ไม่เป็นไร เอาเท่าที่มีก็ได้"
      ],
      "metadata": {
        "id": "ZziW7mBNl1UY"
      }
    },
    {
      "cell_type": "code",
      "source": [
        "prompt2 = \"\"\"\n",
        "List the names of 10 teams mentioned in the text. The text is delimited by triple backticks.\n",
        "Check if there are fewer than 10 teams, just respond with what we have.\n",
        "\n",
        "```\n",
        "Real Madrid are in advanced talks with Borussia Dortmund to sign England midfielder Jude Bellingham for more than 100m euros.\n",
        "\n",
        "The 19-year-old, who joined Dortmund from Birmingham City in July 2020, was one of England's top performers at last year's World Cup.\n",
        "\n",
        "Real are willing to pay around 100m euros for Bellingham but Dortmund are understood to want 150m euros.\n",
        "\n",
        "Bellingham has been linked with some of Europe's top sides.\n",
        "\n",
        "Real are confident the midfielder - who has turned down a contract offer to stay at Dortmund - wants to join them but Manchester City are still interested too.\n",
        "\n",
        "Bellingham has played 40 times for his club this season - scoring 11 goals and registering seven assists.\n",
        "```\n",
        "\"\"\"\n",
        "\n",
        "resp2 = get_completion(prompt2)"
      ],
      "metadata": {
        "colab": {
          "base_uri": "https://localhost:8080/",
          "height": 17
        },
        "id": "-Fuu0iz2ueN3",
        "outputId": "040c9b10-0825-4e8d-ab01-5ebb8273f2cf"
      },
      "execution_count": null,
      "outputs": [
        {
          "output_type": "display_data",
          "data": {
            "text/plain": [
              "<IPython.core.display.HTML object>"
            ],
            "text/html": [
              "\n",
              "  <style>\n",
              "    pre {\n",
              "        white-space: pre-wrap;\n",
              "    }\n",
              "  </style>\n",
              "  "
            ]
          },
          "metadata": {}
        }
      ]
    },
    {
      "cell_type": "code",
      "source": [
        "print(resp2)"
      ],
      "metadata": {
        "colab": {
          "base_uri": "https://localhost:8080/",
          "height": 138
        },
        "id": "3ALZaZ4kueRQ",
        "outputId": "aa506521-1517-4a45-9274-004b420df335"
      },
      "execution_count": null,
      "outputs": [
        {
          "output_type": "display_data",
          "data": {
            "text/plain": [
              "<IPython.core.display.HTML object>"
            ],
            "text/html": [
              "\n",
              "  <style>\n",
              "    pre {\n",
              "        white-space: pre-wrap;\n",
              "    }\n",
              "  </style>\n",
              "  "
            ]
          },
          "metadata": {}
        },
        {
          "output_type": "stream",
          "name": "stdout",
          "text": [
            "1. Real Madrid\n",
            "2. Borussia Dortmund\n",
            "3. Birmingham City\n",
            "4. England national team\n",
            "5. Manchester City\n",
            "6. Europe's top sides (not a specific team)\n",
            "7.\n"
          ]
        }
      ]
    },
    {
      "cell_type": "markdown",
      "source": [
        "โมเดลก็จะทำงานได้อย่างถูกต้อง ตอบจาก 6-7 ชื่อเท่าที่มีอยู่ใน ข้อความข่าว"
      ],
      "metadata": {
        "id": "a0GDLCSPmEpk"
      }
    },
    {
      "cell_type": "code",
      "source": [],
      "metadata": {
        "id": "ZAfPSrAKuebb"
      },
      "execution_count": null,
      "outputs": []
    },
    {
      "cell_type": "markdown",
      "source": [
        "# 6. สรุป\n",
        "\n",
        "- ถ้าเราไม่สั่งให้โมเดลเช็คเงื่อนไขก่อนทำงาน คำตอบที่ได้จะออกมาผิด เนื่องจากเป็นไปไม่ได้ แต่โมเดลก็ยังพยายามตอบออกมา\n",
        "- เมื่อเราสั่งให้โมเดลเช็คก่อน ผลลัพท์ที่ได้ออกมาดีขึ้น ถูกต้องมากขึ้น"
      ],
      "metadata": {
        "id": "LguH2Y7rkbE1"
      }
    },
    {
      "cell_type": "code",
      "source": [],
      "metadata": {
        "id": "iwxTJJ-auiOG"
      },
      "execution_count": null,
      "outputs": []
    }
  ]
}