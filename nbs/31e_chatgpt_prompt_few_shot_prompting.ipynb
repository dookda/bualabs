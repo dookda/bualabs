{
  "nbformat": 4,
  "nbformat_minor": 0,
  "metadata": {
    "colab": {
      "provenance": [],
      "authorship_tag": "ABX9TyPj0Cm2gRnwcAqhxafJ9BSM",
      "include_colab_link": true
    },
    "kernelspec": {
      "name": "python3",
      "display_name": "Python 3"
    },
    "language_info": {
      "name": "python"
    }
  },
  "cells": [
    {
      "cell_type": "markdown",
      "metadata": {
        "id": "view-in-github",
        "colab_type": "text"
      },
      "source": [
        "<a href=\"https://colab.research.google.com/github/gnoparus/bualabs/blob/master/nbs/31e_chatgpt_prompt_few_shot_prompting.ipynb\" target=\"_parent\"><img src=\"https://colab.research.google.com/assets/colab-badge.svg\" alt=\"Open In Colab\"/></a>"
      ]
    },
    {
      "cell_type": "code",
      "execution_count": null,
      "metadata": {
        "id": "WXKGOPZKk3R5"
      },
      "outputs": [],
      "source": []
    },
    {
      "cell_type": "markdown",
      "source": [
        "ต่อไปเราจะมาเรียนรู้ [Prompt Engineering](https://www.bualabs.com/archives/4483/what-is-prompt-engineering/) เทคนิคที่ 4  ยกตัวอย่างผลลัพธ์ที่อยากได้ [Few-Shot Prompting](https://www.bualabs.com/archives/4810/how-to-prompt-chatgpt-few-shot-learning-prompt-engineering-ep-4/)"
      ],
      "metadata": {
        "id": "WrAXCBTSH1VF"
      }
    },
    {
      "cell_type": "markdown",
      "source": [
        "# 0. Magic Commands\n",
        "ให้ใส่ไว้บนสุดทุก Notebook เป็นการสั่งให้ Notebook ก่อนรัน ให้รีโหลด Library ภายนอกที่เรา import ไว้ใหม่โดยอัตโนมัติ\n",
        "\n",
        "และให้พล็อตกราฟ matplotlib ใน Output ของ cell แบบ code ได้เลย"
      ],
      "metadata": {
        "id": "XADbYKvIHVdT"
      }
    },
    {
      "cell_type": "code",
      "source": [
        "%reload_ext autoreload\n",
        "%autoreload 2\n",
        "%matplotlib inline"
      ],
      "metadata": {
        "id": "SY1xxOt4GFMw"
      },
      "execution_count": 1,
      "outputs": []
    },
    {
      "cell_type": "markdown",
      "source": [
        "สั่งให้ Colab แสดงผลข้อความแบบ Wrap Text"
      ],
      "metadata": {
        "id": "uvbfUIO3oeEi"
      }
    },
    {
      "cell_type": "code",
      "source": [
        "from IPython.display import HTML, display\n",
        "\n",
        "def set_css():\n",
        "  display(HTML('''\n",
        "  <style>\n",
        "    pre {\n",
        "        white-space: pre-wrap;\n",
        "    }\n",
        "  </style>\n",
        "  '''))\n",
        "get_ipython().events.register('pre_run_cell', set_css)"
      ],
      "metadata": {
        "id": "xwy_06Hgn2T2"
      },
      "execution_count": 2,
      "outputs": []
    },
    {
      "cell_type": "markdown",
      "source": [
        "# 1. Import Library\n",
        "\n",
        "ติดตั้ง OpenAI Library ด้วยการ Uncomment Cell ด้านล่างแล้ว Run"
      ],
      "metadata": {
        "id": "2tV5b_GLGsfT"
      }
    },
    {
      "cell_type": "code",
      "execution_count": 7,
      "metadata": {
        "id": "AQWl4NIQ8LJm",
        "colab": {
          "base_uri": "https://localhost:8080/",
          "height": 17
        },
        "outputId": "eb9b118f-79e2-4800-e93a-485573c0f8f6"
      },
      "outputs": [
        {
          "output_type": "display_data",
          "data": {
            "text/plain": [
              "<IPython.core.display.HTML object>"
            ],
            "text/html": [
              "\n",
              "  <style>\n",
              "    pre {\n",
              "        white-space: pre-wrap;\n",
              "    }\n",
              "  </style>\n",
              "  "
            ]
          },
          "metadata": {}
        }
      ],
      "source": [
        "# ! pip install openai"
      ]
    },
    {
      "cell_type": "code",
      "source": [
        "import openai"
      ],
      "metadata": {
        "id": "Y9S8DX6a9GdD",
        "colab": {
          "base_uri": "https://localhost:8080/",
          "height": 17
        },
        "outputId": "9c0c0fd6-4942-46d4-f96f-18f9738ab3a7"
      },
      "execution_count": 4,
      "outputs": [
        {
          "output_type": "display_data",
          "data": {
            "text/plain": [
              "<IPython.core.display.HTML object>"
            ],
            "text/html": [
              "\n",
              "  <style>\n",
              "    pre {\n",
              "        white-space: pre-wrap;\n",
              "    }\n",
              "  </style>\n",
              "  "
            ]
          },
          "metadata": {}
        }
      ]
    },
    {
      "cell_type": "markdown",
      "source": [
        "# 2. Authentication\n",
        "\n",
        "ก่อนที่เราจะเรียกใช้งาน ChatGPT, GPT-4 ของ OpenAI ได้ เราต้องลงทะเบียน สมัครใช้งาน และใส่ข้อมูลวิธีชำระเงินให้เรียบร้อยก่อน \n",
        "\n",
        "## Sign up\n",
        "\n",
        "กดปุ่ม Sign up สีเขียว ในลิงค์ด้านล่าง สมัครใช้งาน OpenAI \n",
        "\n",
        "https://platform.openai.com/overview\n",
        "\n",
        "ใส่ข้อมูลบัตรเครดิต ในหน้า Billing ให้เรียบร้อย\n",
        "\n",
        "https://platform.openai.com/account/billing/payment-methods\n",
        "\n",
        "\n",
        "\n",
        "\n"
      ],
      "metadata": {
        "id": "MyBgjLga_6rG"
      }
    },
    {
      "cell_type": "markdown",
      "source": [
        "## API Key\n",
        "\n",
        "สร้าง API Key จากลิงค์ด้านล่าง โดยกดปุ่ม Create new secret key ตั้งชื่อ แล้ว Copy secret key เตรียมไว้ใส่ในช่อง OPENAI_API_KEY ด้านล่าง\n",
        "\n",
        "https://platform.openai.com/account/api-keys\n",
        "\n",
        "\n",
        "## ตัวอย่าง API Key \n",
        "\n",
        "OPENAI_API_KEY: sk-abcDeFGHijKlMNopQrstuvWxyZ1234567890abcDefhiJklm\n",
        "\n",
        "รัน Cell ด้านล่าง แล้วใส่ secret key ที่ได้มา"
      ],
      "metadata": {
        "id": "2jWLUnvhJ0cX"
      }
    },
    {
      "cell_type": "code",
      "source": [
        "import os\n",
        "from getpass import getpass\n",
        "\n",
        "token = getpass('Enter OPENAI_API_KEY here: ')\n",
        "# print ('token is', token)\n",
        "\n",
        "openai.api_key = token"
      ],
      "metadata": {
        "colab": {
          "base_uri": "https://localhost:8080/",
          "height": 35
        },
        "id": "od_JGCDH85e8",
        "outputId": "11aa2bc1-b39b-46c0-c354-ad2d517a3721"
      },
      "execution_count": 6,
      "outputs": [
        {
          "output_type": "display_data",
          "data": {
            "text/plain": [
              "<IPython.core.display.HTML object>"
            ],
            "text/html": [
              "\n",
              "  <style>\n",
              "    pre {\n",
              "        white-space: pre-wrap;\n",
              "    }\n",
              "  </style>\n",
              "  "
            ]
          },
          "metadata": {}
        },
        {
          "name": "stdout",
          "output_type": "stream",
          "text": [
            "Enter OPENAI_API_KEY here: ··········\n"
          ]
        }
      ]
    },
    {
      "cell_type": "markdown",
      "source": [
        "หลังจากทดสอบเสร็จแล้ว แนะนำให้กลับไปลบ Secret Key ในหน้า https://platform.openai.com/account/api-keys ทิ้งไปทุกครั้ง เพื่อความปลอดภัย โดยเราสามารถสร้าง Key ใหม่ได้เรื่อย ๆ ไม่จำกัด"
      ],
      "metadata": {
        "id": "6DGekg9eQyD0"
      }
    },
    {
      "cell_type": "markdown",
      "source": [
        "# 3. ฟังก์ชัน"
      ],
      "metadata": {
        "id": "Eh1bNHQgiAVF"
      }
    },
    {
      "cell_type": "code",
      "source": [
        "def get_completion(prompt, model=\"gpt-3.5-turbo\"):\n",
        "    messages = [{\"role\": \"user\", \"content\": prompt}]\n",
        "    response = openai.ChatCompletion.create(\n",
        "        model=model,\n",
        "        messages=messages,\n",
        "        temperature=0, # this is the degree of randomness of the model's output\n",
        "    )\n",
        "    return response.choices[0].message[\"content\"]"
      ],
      "metadata": {
        "id": "kRe_-7Czhzbd",
        "colab": {
          "base_uri": "https://localhost:8080/",
          "height": 17
        },
        "outputId": "164c5458-e867-442e-d95f-da0538b3e83b"
      },
      "execution_count": 8,
      "outputs": [
        {
          "output_type": "display_data",
          "data": {
            "text/plain": [
              "<IPython.core.display.HTML object>"
            ],
            "text/html": [
              "\n",
              "  <style>\n",
              "    pre {\n",
              "        white-space: pre-wrap;\n",
              "    }\n",
              "  </style>\n",
              "  "
            ]
          },
          "metadata": {}
        }
      ]
    },
    {
      "cell_type": "code",
      "source": [
        "resp = get_completion(\"what are the 5 most populated provinces in thailand?\")"
      ],
      "metadata": {
        "id": "kqTWgxHVh-n2",
        "colab": {
          "base_uri": "https://localhost:8080/",
          "height": 17
        },
        "outputId": "8ba50ec3-9c5e-4e9f-8213-cbb7c83c0b28"
      },
      "execution_count": 9,
      "outputs": [
        {
          "output_type": "display_data",
          "data": {
            "text/plain": [
              "<IPython.core.display.HTML object>"
            ],
            "text/html": [
              "\n",
              "  <style>\n",
              "    pre {\n",
              "        white-space: pre-wrap;\n",
              "    }\n",
              "  </style>\n",
              "  "
            ]
          },
          "metadata": {}
        }
      ]
    },
    {
      "cell_type": "code",
      "source": [
        "print(resp)"
      ],
      "metadata": {
        "colab": {
          "base_uri": "https://localhost:8080/",
          "height": 106
        },
        "id": "ASe0VTf2h-ss",
        "outputId": "81704505-c7e1-4e17-f0a2-a4edc7e626fd"
      },
      "execution_count": 10,
      "outputs": [
        {
          "output_type": "display_data",
          "data": {
            "text/plain": [
              "<IPython.core.display.HTML object>"
            ],
            "text/html": [
              "\n",
              "  <style>\n",
              "    pre {\n",
              "        white-space: pre-wrap;\n",
              "    }\n",
              "  </style>\n",
              "  "
            ]
          },
          "metadata": {}
        },
        {
          "output_type": "stream",
          "name": "stdout",
          "text": [
            "1. Bangkok - population of approximately 8.3 million\n",
            "2. Nonthaburi - population of approximately 1.2 million\n",
            "3. Samut Prakan - population of approximately 1.1 million\n",
            "4. Chonburi - population of approximately 1.1 million\n",
            "5. Ubon Ratchathani - population of approximately 1.1 million\n"
          ]
        }
      ]
    },
    {
      "cell_type": "markdown",
      "source": [
        "# 4. ตัวอย่างการเขียน Prompt แบบไม่ยกตัวอย่างผลลัพธ์ที่อยากได้ Zero-Shot Prompting"
      ],
      "metadata": {
        "id": "xSLCudDfix_5"
      }
    },
    {
      "cell_type": "code",
      "source": [
        "prompt = \"\"\"\n",
        "Find max number:\n",
        "34, 24, 13, 2, 7, 16 \n",
        "\"\"\"\n",
        "resp = get_completion(prompt)\n"
      ],
      "metadata": {
        "id": "9GuUlUBclF7f",
        "colab": {
          "base_uri": "https://localhost:8080/",
          "height": 17
        },
        "outputId": "21e1d0ed-a556-4242-fa6f-f2e0c0daf9e4"
      },
      "execution_count": 16,
      "outputs": [
        {
          "output_type": "display_data",
          "data": {
            "text/plain": [
              "<IPython.core.display.HTML object>"
            ],
            "text/html": [
              "\n",
              "  <style>\n",
              "    pre {\n",
              "        white-space: pre-wrap;\n",
              "    }\n",
              "  </style>\n",
              "  "
            ]
          },
          "metadata": {}
        }
      ]
    },
    {
      "cell_type": "markdown",
      "source": [
        "ระบบก็สามารถให้คำตอบที่ถูกต้อง  แต่มีคำบรรยายยืดยาว ผลลัพธ์อาจจะไม่ได้อยู่ในรูปแบบที่เราต้องการ"
      ],
      "metadata": {
        "id": "dZkrJ-2LmoP8"
      }
    },
    {
      "cell_type": "code",
      "source": [
        "print(resp)"
      ],
      "metadata": {
        "id": "dGoUYCE_lF_F",
        "colab": {
          "base_uri": "https://localhost:8080/",
          "height": 35
        },
        "outputId": "cc7287be-5120-4eb5-f387-3e35bcdbfe85"
      },
      "execution_count": 15,
      "outputs": [
        {
          "output_type": "display_data",
          "data": {
            "text/plain": [
              "<IPython.core.display.HTML object>"
            ],
            "text/html": [
              "\n",
              "  <style>\n",
              "    pre {\n",
              "        white-space: pre-wrap;\n",
              "    }\n",
              "  </style>\n",
              "  "
            ]
          },
          "metadata": {}
        },
        {
          "output_type": "stream",
          "name": "stdout",
          "text": [
            "The maximum number is 34.\n"
          ]
        }
      ]
    },
    {
      "cell_type": "markdown",
      "source": [
        "# 5. ตัวอย่างการเขียน Prompt แบบยกตัวอย่างผลลัพธ์ที่อยากได้ Few-Shot Prompting"
      ],
      "metadata": {
        "id": "CM8Ey3oymxC2"
      }
    },
    {
      "cell_type": "markdown",
      "source": [
        "เราจะลองใส่ใน Prompt ว่าอยากได้ผลลัพธ์เป็น ประโยคเดียวแบบนี้นะ เป็นตัวอย่าง 3 ครั้ง [Few-Shot Prompting](https://www.bualabs.com/archives/4810/how-to-prompt-chatgpt-few-shot-learning-prompt-engineering-ep-4/) แล้วเว้นอันสุดท้ายไว้ให้โมเดลตอบต่อจากนั้น"
      ],
      "metadata": {
        "id": "3rdOS94XnB7z"
      }
    },
    {
      "cell_type": "code",
      "source": [
        "prompt = \"\"\"\n",
        "Find the max number:\n",
        "\n",
        "2, 4, 24, 1, 45, 8 \n",
        "The max is 45.\n",
        "\n",
        "39, 44, 23, 19, 28 , 8 \n",
        "The max is 44.\n",
        "\n",
        "4, 35, 82, 21, 16, 6  \n",
        "The max is 82.\n",
        "\n",
        "34, 24, 13, 2, 7, 16 \n",
        "\"\"\"\n",
        "resp = get_completion(prompt)\n"
      ],
      "metadata": {
        "outputId": "68fa4c69-0bba-4da3-a08b-ef5b57ae89e2",
        "colab": {
          "base_uri": "https://localhost:8080/",
          "height": 17
        },
        "id": "O9JvlUATmxC2"
      },
      "execution_count": 17,
      "outputs": [
        {
          "output_type": "display_data",
          "data": {
            "text/plain": [
              "<IPython.core.display.HTML object>"
            ],
            "text/html": [
              "\n",
              "  <style>\n",
              "    pre {\n",
              "        white-space: pre-wrap;\n",
              "    }\n",
              "  </style>\n",
              "  "
            ]
          },
          "metadata": {}
        }
      ]
    },
    {
      "cell_type": "markdown",
      "source": [
        "โมเดลจะตอบออกมา ในรูปแบบตามตัวอย่างที่ให้ไป 3 ตัวอย่างก่อนหน้า"
      ],
      "metadata": {
        "id": "gulhyPRamxC3"
      }
    },
    {
      "cell_type": "code",
      "source": [
        "print(resp)"
      ],
      "metadata": {
        "outputId": "bad774c1-16af-48e6-d355-51a0f5a4c1cf",
        "colab": {
          "base_uri": "https://localhost:8080/",
          "height": 35
        },
        "id": "T3A8Y2d0mxC3"
      },
      "execution_count": 18,
      "outputs": [
        {
          "output_type": "display_data",
          "data": {
            "text/plain": [
              "<IPython.core.display.HTML object>"
            ],
            "text/html": [
              "\n",
              "  <style>\n",
              "    pre {\n",
              "        white-space: pre-wrap;\n",
              "    }\n",
              "  </style>\n",
              "  "
            ]
          },
          "metadata": {}
        },
        {
          "output_type": "stream",
          "name": "stdout",
          "text": [
            "The max is 34.\n"
          ]
        }
      ]
    },
    {
      "cell_type": "code",
      "source": [],
      "metadata": {
        "id": "D0czH7Hxn6sH"
      },
      "execution_count": null,
      "outputs": []
    },
    {
      "cell_type": "markdown",
      "source": [
        "# 6. ตัวอย่างเพิ่มเติม"
      ],
      "metadata": {
        "id": "vXlnSaEAn8_h"
      }
    },
    {
      "cell_type": "markdown",
      "source": [
        "เคสนี้ เราจะมา [Sentiment Analysis](https://www.bualabs.com/archives/926/sentiment-analysis-imdb-movie-review-ulmfit-sentiment-analysis-ep-1/) รีวิวหนังกัน ด้วย [Few-Shot Prompting](https://www.bualabs.com/archives/4810/how-to-prompt-chatgpt-few-shot-learning-prompt-engineering-ep-4/) ใส่ตัวอย่าง 2 ตัวอย่าง ตามรูปแบบด้านล่าง"
      ],
      "metadata": {
        "id": "LYE7S_ArqUXL"
      }
    },
    {
      "cell_type": "markdown",
      "source": [
        "หมายเหตุ: เราสามารถใช้เครื่องหมาย Colon \":\" ช่วยในการแบ่ง คั่น ระหว่าง ลิสต์รายการตัวอย่าง และ คำอธิบาย เช่น name: John หรือ foods: pizza, sandwich, soup, padthai"
      ],
      "metadata": {
        "id": "yCEqeEGJplEQ"
      }
    },
    {
      "cell_type": "code",
      "source": [
        "prompt = \"\"\"\n",
        "Review1: I absolutely love this movie.\n",
        "Sentiment1: Positive\n",
        "\n",
        "Review2: I would have walked out during the first half of the movie.\n",
        "Sentiment2: Negative\n",
        "\n",
        "Review3: This movie is as boring as hell.\n",
        "\"\"\"\n",
        "resp = get_completion(prompt)\n"
      ],
      "metadata": {
        "colab": {
          "base_uri": "https://localhost:8080/",
          "height": 17
        },
        "outputId": "7599c29a-d541-4e79-b643-14ad225eb5ab",
        "id": "rmQWwaMJoeWZ"
      },
      "execution_count": 19,
      "outputs": [
        {
          "output_type": "display_data",
          "data": {
            "text/plain": [
              "<IPython.core.display.HTML object>"
            ],
            "text/html": [
              "\n",
              "  <style>\n",
              "    pre {\n",
              "        white-space: pre-wrap;\n",
              "    }\n",
              "  </style>\n",
              "  "
            ]
          },
          "metadata": {}
        }
      ]
    },
    {
      "cell_type": "markdown",
      "source": [
        "โมเดลสามารถให้คำตอบที่ถูกต้อง ใน Format ที่เราต้องการ ตามตัวอย่างที่ใส่ใน Prompt"
      ],
      "metadata": {
        "id": "pmqKkAQNoeWa"
      }
    },
    {
      "cell_type": "code",
      "source": [
        "print(resp)"
      ],
      "metadata": {
        "colab": {
          "base_uri": "https://localhost:8080/",
          "height": 35
        },
        "outputId": "a33f1fa6-aa71-4aac-98b7-9d3156f6ce3a",
        "id": "AQ8ZrCqboeWa"
      },
      "execution_count": 20,
      "outputs": [
        {
          "output_type": "display_data",
          "data": {
            "text/plain": [
              "<IPython.core.display.HTML object>"
            ],
            "text/html": [
              "\n",
              "  <style>\n",
              "    pre {\n",
              "        white-space: pre-wrap;\n",
              "    }\n",
              "  </style>\n",
              "  "
            ]
          },
          "metadata": {}
        },
        {
          "output_type": "stream",
          "name": "stdout",
          "text": [
            "Sentiment3: Negative\n"
          ]
        }
      ]
    },
    {
      "cell_type": "code",
      "source": [],
      "metadata": {
        "id": "5cMK90yen7Jr"
      },
      "execution_count": null,
      "outputs": []
    },
    {
      "cell_type": "markdown",
      "source": [
        "# 6. สรุป\n",
        "\n",
        "- โมเดลทำงานได้ดีขึ้น ตอบคำถามได้ตรงใจขึ้น เพียงแค่เราใช้เทคนิค [Few-Shot Prompting](https://www.bualabs.com/archives/4810/how-to-prompt-chatgpt-few-shot-learning-prompt-engineering-ep-4/) ป้อนตัวอย่างงานที่เสร็จเรียบร้อยแล้ว เข้าไปใน Prompt ด้วย เวลาสั่งงาน\n",
        "- Few-Shot Prompting อาจจะแปลเป็นไทย ได้ว่า สั่ง-สอน หมายถึง ทั้งสั่งทั้งสอนไปพร้อม ๆ กัน"
      ],
      "metadata": {
        "id": "LguH2Y7rkbE1"
      }
    },
    {
      "cell_type": "code",
      "source": [],
      "metadata": {
        "id": "UBtwdQzvlPXb"
      },
      "execution_count": null,
      "outputs": []
    }
  ]
}