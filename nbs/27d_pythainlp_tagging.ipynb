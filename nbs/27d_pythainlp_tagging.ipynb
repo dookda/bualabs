{
  "nbformat": 4,
  "nbformat_minor": 0,
  "metadata": {
    "colab": {
      "name": "27d_pythainlp_tagging.ipynb",
      "provenance": [],
      "authorship_tag": "ABX9TyPg7BYKhoLkw+sludMJT6k8"
    },
    "kernelspec": {
      "name": "python3",
      "display_name": "Python 3"
    },
    "widgets": {
      "application/vnd.jupyter.widget-state+json": {
        "161be7bb903648178667695e697d2bc2": {
          "model_module": "@jupyter-widgets/controls",
          "model_name": "HBoxModel",
          "model_module_version": "1.5.0",
          "state": {
            "_view_name": "HBoxView",
            "_dom_classes": [],
            "_model_name": "HBoxModel",
            "_view_module": "@jupyter-widgets/controls",
            "_model_module_version": "1.5.0",
            "_view_count": null,
            "_view_module_version": "1.5.0",
            "box_style": "",
            "layout": "IPY_MODEL_781a7de1a908444696b513deb8e481b7",
            "_model_module": "@jupyter-widgets/controls",
            "children": [
              "IPY_MODEL_4cb0397ff5e14a6e981d782a60516d71",
              "IPY_MODEL_6973af361ecb463b9f28e4f20ace3d94",
              "IPY_MODEL_9060fd04c0574ec59681a4a485630bf2"
            ]
          }
        },
        "781a7de1a908444696b513deb8e481b7": {
          "model_module": "@jupyter-widgets/base",
          "model_name": "LayoutModel",
          "model_module_version": "1.2.0",
          "state": {
            "_view_name": "LayoutView",
            "grid_template_rows": null,
            "right": null,
            "justify_content": null,
            "_view_module": "@jupyter-widgets/base",
            "overflow": null,
            "_model_module_version": "1.2.0",
            "_view_count": null,
            "flex_flow": null,
            "width": null,
            "min_width": null,
            "border": null,
            "align_items": null,
            "bottom": null,
            "_model_module": "@jupyter-widgets/base",
            "top": null,
            "grid_column": null,
            "overflow_y": null,
            "overflow_x": null,
            "grid_auto_flow": null,
            "grid_area": null,
            "grid_template_columns": null,
            "flex": null,
            "_model_name": "LayoutModel",
            "justify_items": null,
            "grid_row": null,
            "max_height": null,
            "align_content": null,
            "visibility": null,
            "align_self": null,
            "height": null,
            "min_height": null,
            "padding": null,
            "grid_auto_rows": null,
            "grid_gap": null,
            "max_width": null,
            "order": null,
            "_view_module_version": "1.2.0",
            "grid_template_areas": null,
            "object_position": null,
            "object_fit": null,
            "grid_auto_columns": null,
            "margin": null,
            "display": null,
            "left": null
          }
        },
        "4cb0397ff5e14a6e981d782a60516d71": {
          "model_module": "@jupyter-widgets/controls",
          "model_name": "HTMLModel",
          "model_module_version": "1.5.0",
          "state": {
            "_view_name": "HTMLView",
            "style": "IPY_MODEL_d5892eb2f83044079d40c79e78036461",
            "_dom_classes": [],
            "description": "",
            "_model_name": "HTMLModel",
            "placeholder": "​",
            "_view_module": "@jupyter-widgets/controls",
            "_model_module_version": "1.5.0",
            "value": "Downloading: 100%",
            "_view_count": null,
            "_view_module_version": "1.5.0",
            "description_tooltip": null,
            "_model_module": "@jupyter-widgets/controls",
            "layout": "IPY_MODEL_d6e3c0f7aa8843f8adf2e798dc49d5cd"
          }
        },
        "6973af361ecb463b9f28e4f20ace3d94": {
          "model_module": "@jupyter-widgets/controls",
          "model_name": "FloatProgressModel",
          "model_module_version": "1.5.0",
          "state": {
            "_view_name": "ProgressView",
            "style": "IPY_MODEL_12e70b3189ec4b2797a92ce7946716ca",
            "_dom_classes": [],
            "description": "",
            "_model_name": "FloatProgressModel",
            "bar_style": "success",
            "max": 904693,
            "_view_module": "@jupyter-widgets/controls",
            "_model_module_version": "1.5.0",
            "value": 904693,
            "_view_count": null,
            "_view_module_version": "1.5.0",
            "orientation": "horizontal",
            "min": 0,
            "description_tooltip": null,
            "_model_module": "@jupyter-widgets/controls",
            "layout": "IPY_MODEL_8d6e484dbdd84daa86e3254fce6a8b4c"
          }
        },
        "9060fd04c0574ec59681a4a485630bf2": {
          "model_module": "@jupyter-widgets/controls",
          "model_name": "HTMLModel",
          "model_module_version": "1.5.0",
          "state": {
            "_view_name": "HTMLView",
            "style": "IPY_MODEL_13795d8e872d44b8ada6b10fa456ce87",
            "_dom_classes": [],
            "description": "",
            "_model_name": "HTMLModel",
            "placeholder": "​",
            "_view_module": "@jupyter-widgets/controls",
            "_model_module_version": "1.5.0",
            "value": " 883k/883k [00:00&lt;00:00, 689kB/s]",
            "_view_count": null,
            "_view_module_version": "1.5.0",
            "description_tooltip": null,
            "_model_module": "@jupyter-widgets/controls",
            "layout": "IPY_MODEL_2e539829e550491d84bd3c50f6e37ae9"
          }
        },
        "d5892eb2f83044079d40c79e78036461": {
          "model_module": "@jupyter-widgets/controls",
          "model_name": "DescriptionStyleModel",
          "model_module_version": "1.5.0",
          "state": {
            "_view_name": "StyleView",
            "_model_name": "DescriptionStyleModel",
            "description_width": "",
            "_view_module": "@jupyter-widgets/base",
            "_model_module_version": "1.5.0",
            "_view_count": null,
            "_view_module_version": "1.2.0",
            "_model_module": "@jupyter-widgets/controls"
          }
        },
        "d6e3c0f7aa8843f8adf2e798dc49d5cd": {
          "model_module": "@jupyter-widgets/base",
          "model_name": "LayoutModel",
          "model_module_version": "1.2.0",
          "state": {
            "_view_name": "LayoutView",
            "grid_template_rows": null,
            "right": null,
            "justify_content": null,
            "_view_module": "@jupyter-widgets/base",
            "overflow": null,
            "_model_module_version": "1.2.0",
            "_view_count": null,
            "flex_flow": null,
            "width": null,
            "min_width": null,
            "border": null,
            "align_items": null,
            "bottom": null,
            "_model_module": "@jupyter-widgets/base",
            "top": null,
            "grid_column": null,
            "overflow_y": null,
            "overflow_x": null,
            "grid_auto_flow": null,
            "grid_area": null,
            "grid_template_columns": null,
            "flex": null,
            "_model_name": "LayoutModel",
            "justify_items": null,
            "grid_row": null,
            "max_height": null,
            "align_content": null,
            "visibility": null,
            "align_self": null,
            "height": null,
            "min_height": null,
            "padding": null,
            "grid_auto_rows": null,
            "grid_gap": null,
            "max_width": null,
            "order": null,
            "_view_module_version": "1.2.0",
            "grid_template_areas": null,
            "object_position": null,
            "object_fit": null,
            "grid_auto_columns": null,
            "margin": null,
            "display": null,
            "left": null
          }
        },
        "12e70b3189ec4b2797a92ce7946716ca": {
          "model_module": "@jupyter-widgets/controls",
          "model_name": "ProgressStyleModel",
          "model_module_version": "1.5.0",
          "state": {
            "_view_name": "StyleView",
            "_model_name": "ProgressStyleModel",
            "description_width": "",
            "_view_module": "@jupyter-widgets/base",
            "_model_module_version": "1.5.0",
            "_view_count": null,
            "_view_module_version": "1.2.0",
            "bar_color": null,
            "_model_module": "@jupyter-widgets/controls"
          }
        },
        "8d6e484dbdd84daa86e3254fce6a8b4c": {
          "model_module": "@jupyter-widgets/base",
          "model_name": "LayoutModel",
          "model_module_version": "1.2.0",
          "state": {
            "_view_name": "LayoutView",
            "grid_template_rows": null,
            "right": null,
            "justify_content": null,
            "_view_module": "@jupyter-widgets/base",
            "overflow": null,
            "_model_module_version": "1.2.0",
            "_view_count": null,
            "flex_flow": null,
            "width": null,
            "min_width": null,
            "border": null,
            "align_items": null,
            "bottom": null,
            "_model_module": "@jupyter-widgets/base",
            "top": null,
            "grid_column": null,
            "overflow_y": null,
            "overflow_x": null,
            "grid_auto_flow": null,
            "grid_area": null,
            "grid_template_columns": null,
            "flex": null,
            "_model_name": "LayoutModel",
            "justify_items": null,
            "grid_row": null,
            "max_height": null,
            "align_content": null,
            "visibility": null,
            "align_self": null,
            "height": null,
            "min_height": null,
            "padding": null,
            "grid_auto_rows": null,
            "grid_gap": null,
            "max_width": null,
            "order": null,
            "_view_module_version": "1.2.0",
            "grid_template_areas": null,
            "object_position": null,
            "object_fit": null,
            "grid_auto_columns": null,
            "margin": null,
            "display": null,
            "left": null
          }
        },
        "13795d8e872d44b8ada6b10fa456ce87": {
          "model_module": "@jupyter-widgets/controls",
          "model_name": "DescriptionStyleModel",
          "model_module_version": "1.5.0",
          "state": {
            "_view_name": "StyleView",
            "_model_name": "DescriptionStyleModel",
            "description_width": "",
            "_view_module": "@jupyter-widgets/base",
            "_model_module_version": "1.5.0",
            "_view_count": null,
            "_view_module_version": "1.2.0",
            "_model_module": "@jupyter-widgets/controls"
          }
        },
        "2e539829e550491d84bd3c50f6e37ae9": {
          "model_module": "@jupyter-widgets/base",
          "model_name": "LayoutModel",
          "model_module_version": "1.2.0",
          "state": {
            "_view_name": "LayoutView",
            "grid_template_rows": null,
            "right": null,
            "justify_content": null,
            "_view_module": "@jupyter-widgets/base",
            "overflow": null,
            "_model_module_version": "1.2.0",
            "_view_count": null,
            "flex_flow": null,
            "width": null,
            "min_width": null,
            "border": null,
            "align_items": null,
            "bottom": null,
            "_model_module": "@jupyter-widgets/base",
            "top": null,
            "grid_column": null,
            "overflow_y": null,
            "overflow_x": null,
            "grid_auto_flow": null,
            "grid_area": null,
            "grid_template_columns": null,
            "flex": null,
            "_model_name": "LayoutModel",
            "justify_items": null,
            "grid_row": null,
            "max_height": null,
            "align_content": null,
            "visibility": null,
            "align_self": null,
            "height": null,
            "min_height": null,
            "padding": null,
            "grid_auto_rows": null,
            "grid_gap": null,
            "max_width": null,
            "order": null,
            "_view_module_version": "1.2.0",
            "grid_template_areas": null,
            "object_position": null,
            "object_fit": null,
            "grid_auto_columns": null,
            "margin": null,
            "display": null,
            "left": null
          }
        },
        "400701e978d748ff95021366d3e007ee": {
          "model_module": "@jupyter-widgets/controls",
          "model_name": "HBoxModel",
          "model_module_version": "1.5.0",
          "state": {
            "_view_name": "HBoxView",
            "_dom_classes": [],
            "_model_name": "HBoxModel",
            "_view_module": "@jupyter-widgets/controls",
            "_model_module_version": "1.5.0",
            "_view_count": null,
            "_view_module_version": "1.5.0",
            "box_style": "",
            "layout": "IPY_MODEL_601ac94d14fd4f89bc3f1e8f6d94ca77",
            "_model_module": "@jupyter-widgets/controls",
            "children": [
              "IPY_MODEL_a4ae7a19f7294757af9cdfd0dbfb70fd",
              "IPY_MODEL_a28a63d38cda4104badb46e97630bd62",
              "IPY_MODEL_41f947f9f7674c17ab6d558d32f3b245"
            ]
          }
        },
        "601ac94d14fd4f89bc3f1e8f6d94ca77": {
          "model_module": "@jupyter-widgets/base",
          "model_name": "LayoutModel",
          "model_module_version": "1.2.0",
          "state": {
            "_view_name": "LayoutView",
            "grid_template_rows": null,
            "right": null,
            "justify_content": null,
            "_view_module": "@jupyter-widgets/base",
            "overflow": null,
            "_model_module_version": "1.2.0",
            "_view_count": null,
            "flex_flow": null,
            "width": null,
            "min_width": null,
            "border": null,
            "align_items": null,
            "bottom": null,
            "_model_module": "@jupyter-widgets/base",
            "top": null,
            "grid_column": null,
            "overflow_y": null,
            "overflow_x": null,
            "grid_auto_flow": null,
            "grid_area": null,
            "grid_template_columns": null,
            "flex": null,
            "_model_name": "LayoutModel",
            "justify_items": null,
            "grid_row": null,
            "max_height": null,
            "align_content": null,
            "visibility": null,
            "align_self": null,
            "height": null,
            "min_height": null,
            "padding": null,
            "grid_auto_rows": null,
            "grid_gap": null,
            "max_width": null,
            "order": null,
            "_view_module_version": "1.2.0",
            "grid_template_areas": null,
            "object_position": null,
            "object_fit": null,
            "grid_auto_columns": null,
            "margin": null,
            "display": null,
            "left": null
          }
        },
        "a4ae7a19f7294757af9cdfd0dbfb70fd": {
          "model_module": "@jupyter-widgets/controls",
          "model_name": "HTMLModel",
          "model_module_version": "1.5.0",
          "state": {
            "_view_name": "HTMLView",
            "style": "IPY_MODEL_e4dde8eaf2174d24952208f67f846b0a",
            "_dom_classes": [],
            "description": "",
            "_model_name": "HTMLModel",
            "placeholder": "​",
            "_view_module": "@jupyter-widgets/controls",
            "_model_module_version": "1.5.0",
            "value": "Downloading: 100%",
            "_view_count": null,
            "_view_module_version": "1.5.0",
            "description_tooltip": null,
            "_model_module": "@jupyter-widgets/controls",
            "layout": "IPY_MODEL_94aae76c2d364f2199a614f450480a57"
          }
        },
        "a28a63d38cda4104badb46e97630bd62": {
          "model_module": "@jupyter-widgets/controls",
          "model_name": "FloatProgressModel",
          "model_module_version": "1.5.0",
          "state": {
            "_view_name": "ProgressView",
            "style": "IPY_MODEL_23f942900c0d41d988430520893b930a",
            "_dom_classes": [],
            "description": "",
            "_model_name": "FloatProgressModel",
            "bar_style": "success",
            "max": 282,
            "_view_module": "@jupyter-widgets/controls",
            "_model_module_version": "1.5.0",
            "value": 282,
            "_view_count": null,
            "_view_module_version": "1.5.0",
            "orientation": "horizontal",
            "min": 0,
            "description_tooltip": null,
            "_model_module": "@jupyter-widgets/controls",
            "layout": "IPY_MODEL_4c53ce1157f14f7aba01aca4a481f718"
          }
        },
        "41f947f9f7674c17ab6d558d32f3b245": {
          "model_module": "@jupyter-widgets/controls",
          "model_name": "HTMLModel",
          "model_module_version": "1.5.0",
          "state": {
            "_view_name": "HTMLView",
            "style": "IPY_MODEL_e929d06f4bd946e6b1bd9212659d33c6",
            "_dom_classes": [],
            "description": "",
            "_model_name": "HTMLModel",
            "placeholder": "​",
            "_view_module": "@jupyter-widgets/controls",
            "_model_module_version": "1.5.0",
            "value": " 282/282 [00:00&lt;00:00, 5.44kB/s]",
            "_view_count": null,
            "_view_module_version": "1.5.0",
            "description_tooltip": null,
            "_model_module": "@jupyter-widgets/controls",
            "layout": "IPY_MODEL_e5d2b0fb6ff243a5889b6891f6ef1d5b"
          }
        },
        "e4dde8eaf2174d24952208f67f846b0a": {
          "model_module": "@jupyter-widgets/controls",
          "model_name": "DescriptionStyleModel",
          "model_module_version": "1.5.0",
          "state": {
            "_view_name": "StyleView",
            "_model_name": "DescriptionStyleModel",
            "description_width": "",
            "_view_module": "@jupyter-widgets/base",
            "_model_module_version": "1.5.0",
            "_view_count": null,
            "_view_module_version": "1.2.0",
            "_model_module": "@jupyter-widgets/controls"
          }
        },
        "94aae76c2d364f2199a614f450480a57": {
          "model_module": "@jupyter-widgets/base",
          "model_name": "LayoutModel",
          "model_module_version": "1.2.0",
          "state": {
            "_view_name": "LayoutView",
            "grid_template_rows": null,
            "right": null,
            "justify_content": null,
            "_view_module": "@jupyter-widgets/base",
            "overflow": null,
            "_model_module_version": "1.2.0",
            "_view_count": null,
            "flex_flow": null,
            "width": null,
            "min_width": null,
            "border": null,
            "align_items": null,
            "bottom": null,
            "_model_module": "@jupyter-widgets/base",
            "top": null,
            "grid_column": null,
            "overflow_y": null,
            "overflow_x": null,
            "grid_auto_flow": null,
            "grid_area": null,
            "grid_template_columns": null,
            "flex": null,
            "_model_name": "LayoutModel",
            "justify_items": null,
            "grid_row": null,
            "max_height": null,
            "align_content": null,
            "visibility": null,
            "align_self": null,
            "height": null,
            "min_height": null,
            "padding": null,
            "grid_auto_rows": null,
            "grid_gap": null,
            "max_width": null,
            "order": null,
            "_view_module_version": "1.2.0",
            "grid_template_areas": null,
            "object_position": null,
            "object_fit": null,
            "grid_auto_columns": null,
            "margin": null,
            "display": null,
            "left": null
          }
        },
        "23f942900c0d41d988430520893b930a": {
          "model_module": "@jupyter-widgets/controls",
          "model_name": "ProgressStyleModel",
          "model_module_version": "1.5.0",
          "state": {
            "_view_name": "StyleView",
            "_model_name": "ProgressStyleModel",
            "description_width": "",
            "_view_module": "@jupyter-widgets/base",
            "_model_module_version": "1.5.0",
            "_view_count": null,
            "_view_module_version": "1.2.0",
            "bar_color": null,
            "_model_module": "@jupyter-widgets/controls"
          }
        },
        "4c53ce1157f14f7aba01aca4a481f718": {
          "model_module": "@jupyter-widgets/base",
          "model_name": "LayoutModel",
          "model_module_version": "1.2.0",
          "state": {
            "_view_name": "LayoutView",
            "grid_template_rows": null,
            "right": null,
            "justify_content": null,
            "_view_module": "@jupyter-widgets/base",
            "overflow": null,
            "_model_module_version": "1.2.0",
            "_view_count": null,
            "flex_flow": null,
            "width": null,
            "min_width": null,
            "border": null,
            "align_items": null,
            "bottom": null,
            "_model_module": "@jupyter-widgets/base",
            "top": null,
            "grid_column": null,
            "overflow_y": null,
            "overflow_x": null,
            "grid_auto_flow": null,
            "grid_area": null,
            "grid_template_columns": null,
            "flex": null,
            "_model_name": "LayoutModel",
            "justify_items": null,
            "grid_row": null,
            "max_height": null,
            "align_content": null,
            "visibility": null,
            "align_self": null,
            "height": null,
            "min_height": null,
            "padding": null,
            "grid_auto_rows": null,
            "grid_gap": null,
            "max_width": null,
            "order": null,
            "_view_module_version": "1.2.0",
            "grid_template_areas": null,
            "object_position": null,
            "object_fit": null,
            "grid_auto_columns": null,
            "margin": null,
            "display": null,
            "left": null
          }
        },
        "e929d06f4bd946e6b1bd9212659d33c6": {
          "model_module": "@jupyter-widgets/controls",
          "model_name": "DescriptionStyleModel",
          "model_module_version": "1.5.0",
          "state": {
            "_view_name": "StyleView",
            "_model_name": "DescriptionStyleModel",
            "description_width": "",
            "_view_module": "@jupyter-widgets/base",
            "_model_module_version": "1.5.0",
            "_view_count": null,
            "_view_module_version": "1.2.0",
            "_model_module": "@jupyter-widgets/controls"
          }
        },
        "e5d2b0fb6ff243a5889b6891f6ef1d5b": {
          "model_module": "@jupyter-widgets/base",
          "model_name": "LayoutModel",
          "model_module_version": "1.2.0",
          "state": {
            "_view_name": "LayoutView",
            "grid_template_rows": null,
            "right": null,
            "justify_content": null,
            "_view_module": "@jupyter-widgets/base",
            "overflow": null,
            "_model_module_version": "1.2.0",
            "_view_count": null,
            "flex_flow": null,
            "width": null,
            "min_width": null,
            "border": null,
            "align_items": null,
            "bottom": null,
            "_model_module": "@jupyter-widgets/base",
            "top": null,
            "grid_column": null,
            "overflow_y": null,
            "overflow_x": null,
            "grid_auto_flow": null,
            "grid_area": null,
            "grid_template_columns": null,
            "flex": null,
            "_model_name": "LayoutModel",
            "justify_items": null,
            "grid_row": null,
            "max_height": null,
            "align_content": null,
            "visibility": null,
            "align_self": null,
            "height": null,
            "min_height": null,
            "padding": null,
            "grid_auto_rows": null,
            "grid_gap": null,
            "max_width": null,
            "order": null,
            "_view_module_version": "1.2.0",
            "grid_template_areas": null,
            "object_position": null,
            "object_fit": null,
            "grid_auto_columns": null,
            "margin": null,
            "display": null,
            "left": null
          }
        },
        "c816e4a522574ff2a578d587f73db95e": {
          "model_module": "@jupyter-widgets/controls",
          "model_name": "HBoxModel",
          "model_module_version": "1.5.0",
          "state": {
            "_view_name": "HBoxView",
            "_dom_classes": [],
            "_model_name": "HBoxModel",
            "_view_module": "@jupyter-widgets/controls",
            "_model_module_version": "1.5.0",
            "_view_count": null,
            "_view_module_version": "1.5.0",
            "box_style": "",
            "layout": "IPY_MODEL_8c2a1e36eacd4ba9998478444fb9044b",
            "_model_module": "@jupyter-widgets/controls",
            "children": [
              "IPY_MODEL_f422659c87cb4b258ba40c400c006b97",
              "IPY_MODEL_998d9222453b47fa8965ac59d93548cd",
              "IPY_MODEL_ce0a2eabc11e4c17bb7b2e5d0c83400d"
            ]
          }
        },
        "8c2a1e36eacd4ba9998478444fb9044b": {
          "model_module": "@jupyter-widgets/base",
          "model_name": "LayoutModel",
          "model_module_version": "1.2.0",
          "state": {
            "_view_name": "LayoutView",
            "grid_template_rows": null,
            "right": null,
            "justify_content": null,
            "_view_module": "@jupyter-widgets/base",
            "overflow": null,
            "_model_module_version": "1.2.0",
            "_view_count": null,
            "flex_flow": null,
            "width": null,
            "min_width": null,
            "border": null,
            "align_items": null,
            "bottom": null,
            "_model_module": "@jupyter-widgets/base",
            "top": null,
            "grid_column": null,
            "overflow_y": null,
            "overflow_x": null,
            "grid_auto_flow": null,
            "grid_area": null,
            "grid_template_columns": null,
            "flex": null,
            "_model_name": "LayoutModel",
            "justify_items": null,
            "grid_row": null,
            "max_height": null,
            "align_content": null,
            "visibility": null,
            "align_self": null,
            "height": null,
            "min_height": null,
            "padding": null,
            "grid_auto_rows": null,
            "grid_gap": null,
            "max_width": null,
            "order": null,
            "_view_module_version": "1.2.0",
            "grid_template_areas": null,
            "object_position": null,
            "object_fit": null,
            "grid_auto_columns": null,
            "margin": null,
            "display": null,
            "left": null
          }
        },
        "f422659c87cb4b258ba40c400c006b97": {
          "model_module": "@jupyter-widgets/controls",
          "model_name": "HTMLModel",
          "model_module_version": "1.5.0",
          "state": {
            "_view_name": "HTMLView",
            "style": "IPY_MODEL_c3b72bab0b8846a8a42c9083506a3184",
            "_dom_classes": [],
            "description": "",
            "_model_name": "HTMLModel",
            "placeholder": "​",
            "_view_module": "@jupyter-widgets/controls",
            "_model_module_version": "1.5.0",
            "value": "Downloading: 100%",
            "_view_count": null,
            "_view_module_version": "1.5.0",
            "description_tooltip": null,
            "_model_module": "@jupyter-widgets/controls",
            "layout": "IPY_MODEL_61f44c75549d46c7829182c9583930ba"
          }
        },
        "998d9222453b47fa8965ac59d93548cd": {
          "model_module": "@jupyter-widgets/controls",
          "model_name": "FloatProgressModel",
          "model_module_version": "1.5.0",
          "state": {
            "_view_name": "ProgressView",
            "style": "IPY_MODEL_c85810c586ef4b528cb56b69dcd9d445",
            "_dom_classes": [],
            "description": "",
            "_model_name": "FloatProgressModel",
            "bar_style": "success",
            "max": 546,
            "_view_module": "@jupyter-widgets/controls",
            "_model_module_version": "1.5.0",
            "value": 546,
            "_view_count": null,
            "_view_module_version": "1.5.0",
            "orientation": "horizontal",
            "min": 0,
            "description_tooltip": null,
            "_model_module": "@jupyter-widgets/controls",
            "layout": "IPY_MODEL_ada85fa21b41402b951b240d5473c75c"
          }
        },
        "ce0a2eabc11e4c17bb7b2e5d0c83400d": {
          "model_module": "@jupyter-widgets/controls",
          "model_name": "HTMLModel",
          "model_module_version": "1.5.0",
          "state": {
            "_view_name": "HTMLView",
            "style": "IPY_MODEL_46dbaa8c54c94396941856ca6eb3030a",
            "_dom_classes": [],
            "description": "",
            "_model_name": "HTMLModel",
            "placeholder": "​",
            "_view_module": "@jupyter-widgets/controls",
            "_model_module_version": "1.5.0",
            "value": " 546/546 [00:00&lt;00:00, 14.6kB/s]",
            "_view_count": null,
            "_view_module_version": "1.5.0",
            "description_tooltip": null,
            "_model_module": "@jupyter-widgets/controls",
            "layout": "IPY_MODEL_92125e1e9b984b84a9d7ccf0b4355be2"
          }
        },
        "c3b72bab0b8846a8a42c9083506a3184": {
          "model_module": "@jupyter-widgets/controls",
          "model_name": "DescriptionStyleModel",
          "model_module_version": "1.5.0",
          "state": {
            "_view_name": "StyleView",
            "_model_name": "DescriptionStyleModel",
            "description_width": "",
            "_view_module": "@jupyter-widgets/base",
            "_model_module_version": "1.5.0",
            "_view_count": null,
            "_view_module_version": "1.2.0",
            "_model_module": "@jupyter-widgets/controls"
          }
        },
        "61f44c75549d46c7829182c9583930ba": {
          "model_module": "@jupyter-widgets/base",
          "model_name": "LayoutModel",
          "model_module_version": "1.2.0",
          "state": {
            "_view_name": "LayoutView",
            "grid_template_rows": null,
            "right": null,
            "justify_content": null,
            "_view_module": "@jupyter-widgets/base",
            "overflow": null,
            "_model_module_version": "1.2.0",
            "_view_count": null,
            "flex_flow": null,
            "width": null,
            "min_width": null,
            "border": null,
            "align_items": null,
            "bottom": null,
            "_model_module": "@jupyter-widgets/base",
            "top": null,
            "grid_column": null,
            "overflow_y": null,
            "overflow_x": null,
            "grid_auto_flow": null,
            "grid_area": null,
            "grid_template_columns": null,
            "flex": null,
            "_model_name": "LayoutModel",
            "justify_items": null,
            "grid_row": null,
            "max_height": null,
            "align_content": null,
            "visibility": null,
            "align_self": null,
            "height": null,
            "min_height": null,
            "padding": null,
            "grid_auto_rows": null,
            "grid_gap": null,
            "max_width": null,
            "order": null,
            "_view_module_version": "1.2.0",
            "grid_template_areas": null,
            "object_position": null,
            "object_fit": null,
            "grid_auto_columns": null,
            "margin": null,
            "display": null,
            "left": null
          }
        },
        "c85810c586ef4b528cb56b69dcd9d445": {
          "model_module": "@jupyter-widgets/controls",
          "model_name": "ProgressStyleModel",
          "model_module_version": "1.5.0",
          "state": {
            "_view_name": "StyleView",
            "_model_name": "ProgressStyleModel",
            "description_width": "",
            "_view_module": "@jupyter-widgets/base",
            "_model_module_version": "1.5.0",
            "_view_count": null,
            "_view_module_version": "1.2.0",
            "bar_color": null,
            "_model_module": "@jupyter-widgets/controls"
          }
        },
        "ada85fa21b41402b951b240d5473c75c": {
          "model_module": "@jupyter-widgets/base",
          "model_name": "LayoutModel",
          "model_module_version": "1.2.0",
          "state": {
            "_view_name": "LayoutView",
            "grid_template_rows": null,
            "right": null,
            "justify_content": null,
            "_view_module": "@jupyter-widgets/base",
            "overflow": null,
            "_model_module_version": "1.2.0",
            "_view_count": null,
            "flex_flow": null,
            "width": null,
            "min_width": null,
            "border": null,
            "align_items": null,
            "bottom": null,
            "_model_module": "@jupyter-widgets/base",
            "top": null,
            "grid_column": null,
            "overflow_y": null,
            "overflow_x": null,
            "grid_auto_flow": null,
            "grid_area": null,
            "grid_template_columns": null,
            "flex": null,
            "_model_name": "LayoutModel",
            "justify_items": null,
            "grid_row": null,
            "max_height": null,
            "align_content": null,
            "visibility": null,
            "align_self": null,
            "height": null,
            "min_height": null,
            "padding": null,
            "grid_auto_rows": null,
            "grid_gap": null,
            "max_width": null,
            "order": null,
            "_view_module_version": "1.2.0",
            "grid_template_areas": null,
            "object_position": null,
            "object_fit": null,
            "grid_auto_columns": null,
            "margin": null,
            "display": null,
            "left": null
          }
        },
        "46dbaa8c54c94396941856ca6eb3030a": {
          "model_module": "@jupyter-widgets/controls",
          "model_name": "DescriptionStyleModel",
          "model_module_version": "1.5.0",
          "state": {
            "_view_name": "StyleView",
            "_model_name": "DescriptionStyleModel",
            "description_width": "",
            "_view_module": "@jupyter-widgets/base",
            "_model_module_version": "1.5.0",
            "_view_count": null,
            "_view_module_version": "1.2.0",
            "_model_module": "@jupyter-widgets/controls"
          }
        },
        "92125e1e9b984b84a9d7ccf0b4355be2": {
          "model_module": "@jupyter-widgets/base",
          "model_name": "LayoutModel",
          "model_module_version": "1.2.0",
          "state": {
            "_view_name": "LayoutView",
            "grid_template_rows": null,
            "right": null,
            "justify_content": null,
            "_view_module": "@jupyter-widgets/base",
            "overflow": null,
            "_model_module_version": "1.2.0",
            "_view_count": null,
            "flex_flow": null,
            "width": null,
            "min_width": null,
            "border": null,
            "align_items": null,
            "bottom": null,
            "_model_module": "@jupyter-widgets/base",
            "top": null,
            "grid_column": null,
            "overflow_y": null,
            "overflow_x": null,
            "grid_auto_flow": null,
            "grid_area": null,
            "grid_template_columns": null,
            "flex": null,
            "_model_name": "LayoutModel",
            "justify_items": null,
            "grid_row": null,
            "max_height": null,
            "align_content": null,
            "visibility": null,
            "align_self": null,
            "height": null,
            "min_height": null,
            "padding": null,
            "grid_auto_rows": null,
            "grid_gap": null,
            "max_width": null,
            "order": null,
            "_view_module_version": "1.2.0",
            "grid_template_areas": null,
            "object_position": null,
            "object_fit": null,
            "grid_auto_columns": null,
            "margin": null,
            "display": null,
            "left": null
          }
        },
        "fa676ffaedaa409faafb1deebd69d1ad": {
          "model_module": "@jupyter-widgets/controls",
          "model_name": "HBoxModel",
          "model_module_version": "1.5.0",
          "state": {
            "_view_name": "HBoxView",
            "_dom_classes": [],
            "_model_name": "HBoxModel",
            "_view_module": "@jupyter-widgets/controls",
            "_model_module_version": "1.5.0",
            "_view_count": null,
            "_view_module_version": "1.5.0",
            "box_style": "",
            "layout": "IPY_MODEL_f529e8ab232445ab8a841d233b881a4b",
            "_model_module": "@jupyter-widgets/controls",
            "children": [
              "IPY_MODEL_8137b7b63fe44e0f93bfb118f393d5e3",
              "IPY_MODEL_68910d8e791d40098620f9a46ec5d0d4",
              "IPY_MODEL_d77a10a1d39c4fbba372adedb53233db"
            ]
          }
        },
        "f529e8ab232445ab8a841d233b881a4b": {
          "model_module": "@jupyter-widgets/base",
          "model_name": "LayoutModel",
          "model_module_version": "1.2.0",
          "state": {
            "_view_name": "LayoutView",
            "grid_template_rows": null,
            "right": null,
            "justify_content": null,
            "_view_module": "@jupyter-widgets/base",
            "overflow": null,
            "_model_module_version": "1.2.0",
            "_view_count": null,
            "flex_flow": null,
            "width": null,
            "min_width": null,
            "border": null,
            "align_items": null,
            "bottom": null,
            "_model_module": "@jupyter-widgets/base",
            "top": null,
            "grid_column": null,
            "overflow_y": null,
            "overflow_x": null,
            "grid_auto_flow": null,
            "grid_area": null,
            "grid_template_columns": null,
            "flex": null,
            "_model_name": "LayoutModel",
            "justify_items": null,
            "grid_row": null,
            "max_height": null,
            "align_content": null,
            "visibility": null,
            "align_self": null,
            "height": null,
            "min_height": null,
            "padding": null,
            "grid_auto_rows": null,
            "grid_gap": null,
            "max_width": null,
            "order": null,
            "_view_module_version": "1.2.0",
            "grid_template_areas": null,
            "object_position": null,
            "object_fit": null,
            "grid_auto_columns": null,
            "margin": null,
            "display": null,
            "left": null
          }
        },
        "8137b7b63fe44e0f93bfb118f393d5e3": {
          "model_module": "@jupyter-widgets/controls",
          "model_name": "HTMLModel",
          "model_module_version": "1.5.0",
          "state": {
            "_view_name": "HTMLView",
            "style": "IPY_MODEL_00b1d6c65d5044328387d0760b4c5707",
            "_dom_classes": [],
            "description": "",
            "_model_name": "HTMLModel",
            "placeholder": "​",
            "_view_module": "@jupyter-widgets/controls",
            "_model_module_version": "1.5.0",
            "value": "Downloading: 100%",
            "_view_count": null,
            "_view_module_version": "1.5.0",
            "description_tooltip": null,
            "_model_module": "@jupyter-widgets/controls",
            "layout": "IPY_MODEL_8e13a7a323db416086af51b527c13881"
          }
        },
        "68910d8e791d40098620f9a46ec5d0d4": {
          "model_module": "@jupyter-widgets/controls",
          "model_name": "FloatProgressModel",
          "model_module_version": "1.5.0",
          "state": {
            "_view_name": "ProgressView",
            "style": "IPY_MODEL_6e389a6228ef4e76bdf88824cffabfbe",
            "_dom_classes": [],
            "description": "",
            "_model_name": "FloatProgressModel",
            "bar_style": "success",
            "max": 1057,
            "_view_module": "@jupyter-widgets/controls",
            "_model_module_version": "1.5.0",
            "value": 1057,
            "_view_count": null,
            "_view_module_version": "1.5.0",
            "orientation": "horizontal",
            "min": 0,
            "description_tooltip": null,
            "_model_module": "@jupyter-widgets/controls",
            "layout": "IPY_MODEL_1cf187a8e4584763967983239948543e"
          }
        },
        "d77a10a1d39c4fbba372adedb53233db": {
          "model_module": "@jupyter-widgets/controls",
          "model_name": "HTMLModel",
          "model_module_version": "1.5.0",
          "state": {
            "_view_name": "HTMLView",
            "style": "IPY_MODEL_bf0d54972826494cab57957a2449bcf5",
            "_dom_classes": [],
            "description": "",
            "_model_name": "HTMLModel",
            "placeholder": "​",
            "_view_module": "@jupyter-widgets/controls",
            "_model_module_version": "1.5.0",
            "value": " 1.03k/1.03k [00:00&lt;00:00, 23.1kB/s]",
            "_view_count": null,
            "_view_module_version": "1.5.0",
            "description_tooltip": null,
            "_model_module": "@jupyter-widgets/controls",
            "layout": "IPY_MODEL_f06c3d241ad046aa93a46379a3d3e714"
          }
        },
        "00b1d6c65d5044328387d0760b4c5707": {
          "model_module": "@jupyter-widgets/controls",
          "model_name": "DescriptionStyleModel",
          "model_module_version": "1.5.0",
          "state": {
            "_view_name": "StyleView",
            "_model_name": "DescriptionStyleModel",
            "description_width": "",
            "_view_module": "@jupyter-widgets/base",
            "_model_module_version": "1.5.0",
            "_view_count": null,
            "_view_module_version": "1.2.0",
            "_model_module": "@jupyter-widgets/controls"
          }
        },
        "8e13a7a323db416086af51b527c13881": {
          "model_module": "@jupyter-widgets/base",
          "model_name": "LayoutModel",
          "model_module_version": "1.2.0",
          "state": {
            "_view_name": "LayoutView",
            "grid_template_rows": null,
            "right": null,
            "justify_content": null,
            "_view_module": "@jupyter-widgets/base",
            "overflow": null,
            "_model_module_version": "1.2.0",
            "_view_count": null,
            "flex_flow": null,
            "width": null,
            "min_width": null,
            "border": null,
            "align_items": null,
            "bottom": null,
            "_model_module": "@jupyter-widgets/base",
            "top": null,
            "grid_column": null,
            "overflow_y": null,
            "overflow_x": null,
            "grid_auto_flow": null,
            "grid_area": null,
            "grid_template_columns": null,
            "flex": null,
            "_model_name": "LayoutModel",
            "justify_items": null,
            "grid_row": null,
            "max_height": null,
            "align_content": null,
            "visibility": null,
            "align_self": null,
            "height": null,
            "min_height": null,
            "padding": null,
            "grid_auto_rows": null,
            "grid_gap": null,
            "max_width": null,
            "order": null,
            "_view_module_version": "1.2.0",
            "grid_template_areas": null,
            "object_position": null,
            "object_fit": null,
            "grid_auto_columns": null,
            "margin": null,
            "display": null,
            "left": null
          }
        },
        "6e389a6228ef4e76bdf88824cffabfbe": {
          "model_module": "@jupyter-widgets/controls",
          "model_name": "ProgressStyleModel",
          "model_module_version": "1.5.0",
          "state": {
            "_view_name": "StyleView",
            "_model_name": "ProgressStyleModel",
            "description_width": "",
            "_view_module": "@jupyter-widgets/base",
            "_model_module_version": "1.5.0",
            "_view_count": null,
            "_view_module_version": "1.2.0",
            "bar_color": null,
            "_model_module": "@jupyter-widgets/controls"
          }
        },
        "1cf187a8e4584763967983239948543e": {
          "model_module": "@jupyter-widgets/base",
          "model_name": "LayoutModel",
          "model_module_version": "1.2.0",
          "state": {
            "_view_name": "LayoutView",
            "grid_template_rows": null,
            "right": null,
            "justify_content": null,
            "_view_module": "@jupyter-widgets/base",
            "overflow": null,
            "_model_module_version": "1.2.0",
            "_view_count": null,
            "flex_flow": null,
            "width": null,
            "min_width": null,
            "border": null,
            "align_items": null,
            "bottom": null,
            "_model_module": "@jupyter-widgets/base",
            "top": null,
            "grid_column": null,
            "overflow_y": null,
            "overflow_x": null,
            "grid_auto_flow": null,
            "grid_area": null,
            "grid_template_columns": null,
            "flex": null,
            "_model_name": "LayoutModel",
            "justify_items": null,
            "grid_row": null,
            "max_height": null,
            "align_content": null,
            "visibility": null,
            "align_self": null,
            "height": null,
            "min_height": null,
            "padding": null,
            "grid_auto_rows": null,
            "grid_gap": null,
            "max_width": null,
            "order": null,
            "_view_module_version": "1.2.0",
            "grid_template_areas": null,
            "object_position": null,
            "object_fit": null,
            "grid_auto_columns": null,
            "margin": null,
            "display": null,
            "left": null
          }
        },
        "bf0d54972826494cab57957a2449bcf5": {
          "model_module": "@jupyter-widgets/controls",
          "model_name": "DescriptionStyleModel",
          "model_module_version": "1.5.0",
          "state": {
            "_view_name": "StyleView",
            "_model_name": "DescriptionStyleModel",
            "description_width": "",
            "_view_module": "@jupyter-widgets/base",
            "_model_module_version": "1.5.0",
            "_view_count": null,
            "_view_module_version": "1.2.0",
            "_model_module": "@jupyter-widgets/controls"
          }
        },
        "f06c3d241ad046aa93a46379a3d3e714": {
          "model_module": "@jupyter-widgets/base",
          "model_name": "LayoutModel",
          "model_module_version": "1.2.0",
          "state": {
            "_view_name": "LayoutView",
            "grid_template_rows": null,
            "right": null,
            "justify_content": null,
            "_view_module": "@jupyter-widgets/base",
            "overflow": null,
            "_model_module_version": "1.2.0",
            "_view_count": null,
            "flex_flow": null,
            "width": null,
            "min_width": null,
            "border": null,
            "align_items": null,
            "bottom": null,
            "_model_module": "@jupyter-widgets/base",
            "top": null,
            "grid_column": null,
            "overflow_y": null,
            "overflow_x": null,
            "grid_auto_flow": null,
            "grid_area": null,
            "grid_template_columns": null,
            "flex": null,
            "_model_name": "LayoutModel",
            "justify_items": null,
            "grid_row": null,
            "max_height": null,
            "align_content": null,
            "visibility": null,
            "align_self": null,
            "height": null,
            "min_height": null,
            "padding": null,
            "grid_auto_rows": null,
            "grid_gap": null,
            "max_width": null,
            "order": null,
            "_view_module_version": "1.2.0",
            "grid_template_areas": null,
            "object_position": null,
            "object_fit": null,
            "grid_auto_columns": null,
            "margin": null,
            "display": null,
            "left": null
          }
        },
        "557148b29a884009ac585def31a7a0bf": {
          "model_module": "@jupyter-widgets/controls",
          "model_name": "HBoxModel",
          "model_module_version": "1.5.0",
          "state": {
            "_view_name": "HBoxView",
            "_dom_classes": [],
            "_model_name": "HBoxModel",
            "_view_module": "@jupyter-widgets/controls",
            "_model_module_version": "1.5.0",
            "_view_count": null,
            "_view_module_version": "1.5.0",
            "box_style": "",
            "layout": "IPY_MODEL_3cc5a2e22c10459a8a16d187d0c3e4fa",
            "_model_module": "@jupyter-widgets/controls",
            "children": [
              "IPY_MODEL_bc50ce06240c441ab6409778864c27be",
              "IPY_MODEL_49cfcdfb7f11484f92c0857646b5a4a1",
              "IPY_MODEL_58688c4d99934dbb8850b1fcf6239732"
            ]
          }
        },
        "3cc5a2e22c10459a8a16d187d0c3e4fa": {
          "model_module": "@jupyter-widgets/base",
          "model_name": "LayoutModel",
          "model_module_version": "1.2.0",
          "state": {
            "_view_name": "LayoutView",
            "grid_template_rows": null,
            "right": null,
            "justify_content": null,
            "_view_module": "@jupyter-widgets/base",
            "overflow": null,
            "_model_module_version": "1.2.0",
            "_view_count": null,
            "flex_flow": null,
            "width": null,
            "min_width": null,
            "border": null,
            "align_items": null,
            "bottom": null,
            "_model_module": "@jupyter-widgets/base",
            "top": null,
            "grid_column": null,
            "overflow_y": null,
            "overflow_x": null,
            "grid_auto_flow": null,
            "grid_area": null,
            "grid_template_columns": null,
            "flex": null,
            "_model_name": "LayoutModel",
            "justify_items": null,
            "grid_row": null,
            "max_height": null,
            "align_content": null,
            "visibility": null,
            "align_self": null,
            "height": null,
            "min_height": null,
            "padding": null,
            "grid_auto_rows": null,
            "grid_gap": null,
            "max_width": null,
            "order": null,
            "_view_module_version": "1.2.0",
            "grid_template_areas": null,
            "object_position": null,
            "object_fit": null,
            "grid_auto_columns": null,
            "margin": null,
            "display": null,
            "left": null
          }
        },
        "bc50ce06240c441ab6409778864c27be": {
          "model_module": "@jupyter-widgets/controls",
          "model_name": "HTMLModel",
          "model_module_version": "1.5.0",
          "state": {
            "_view_name": "HTMLView",
            "style": "IPY_MODEL_d21ed4a421294c9a92af8bfb86f8b245",
            "_dom_classes": [],
            "description": "",
            "_model_name": "HTMLModel",
            "placeholder": "​",
            "_view_module": "@jupyter-widgets/controls",
            "_model_module_version": "1.5.0",
            "value": "Downloading: 100%",
            "_view_count": null,
            "_view_module_version": "1.5.0",
            "description_tooltip": null,
            "_model_module": "@jupyter-widgets/controls",
            "layout": "IPY_MODEL_385ad3fb07d643578546bedaa698becb"
          }
        },
        "49cfcdfb7f11484f92c0857646b5a4a1": {
          "model_module": "@jupyter-widgets/controls",
          "model_name": "FloatProgressModel",
          "model_module_version": "1.5.0",
          "state": {
            "_view_name": "ProgressView",
            "style": "IPY_MODEL_e212ed8f75da4dd28dfbaa4cf538c50e",
            "_dom_classes": [],
            "description": "",
            "_model_name": "FloatProgressModel",
            "bar_style": "success",
            "max": 418719856,
            "_view_module": "@jupyter-widgets/controls",
            "_model_module_version": "1.5.0",
            "value": 418719856,
            "_view_count": null,
            "_view_module_version": "1.5.0",
            "orientation": "horizontal",
            "min": 0,
            "description_tooltip": null,
            "_model_module": "@jupyter-widgets/controls",
            "layout": "IPY_MODEL_0bb29b4983f745948bdaef19b21f196a"
          }
        },
        "58688c4d99934dbb8850b1fcf6239732": {
          "model_module": "@jupyter-widgets/controls",
          "model_name": "HTMLModel",
          "model_module_version": "1.5.0",
          "state": {
            "_view_name": "HTMLView",
            "style": "IPY_MODEL_5ed2c4c19e4e4703b1c94ace7ffcfb0e",
            "_dom_classes": [],
            "description": "",
            "_model_name": "HTMLModel",
            "placeholder": "​",
            "_view_module": "@jupyter-widgets/controls",
            "_model_module_version": "1.5.0",
            "value": " 399M/399M [00:10&lt;00:00, 39.3MB/s]",
            "_view_count": null,
            "_view_module_version": "1.5.0",
            "description_tooltip": null,
            "_model_module": "@jupyter-widgets/controls",
            "layout": "IPY_MODEL_0b9ba44c0be048d3b82bd557171ae603"
          }
        },
        "d21ed4a421294c9a92af8bfb86f8b245": {
          "model_module": "@jupyter-widgets/controls",
          "model_name": "DescriptionStyleModel",
          "model_module_version": "1.5.0",
          "state": {
            "_view_name": "StyleView",
            "_model_name": "DescriptionStyleModel",
            "description_width": "",
            "_view_module": "@jupyter-widgets/base",
            "_model_module_version": "1.5.0",
            "_view_count": null,
            "_view_module_version": "1.2.0",
            "_model_module": "@jupyter-widgets/controls"
          }
        },
        "385ad3fb07d643578546bedaa698becb": {
          "model_module": "@jupyter-widgets/base",
          "model_name": "LayoutModel",
          "model_module_version": "1.2.0",
          "state": {
            "_view_name": "LayoutView",
            "grid_template_rows": null,
            "right": null,
            "justify_content": null,
            "_view_module": "@jupyter-widgets/base",
            "overflow": null,
            "_model_module_version": "1.2.0",
            "_view_count": null,
            "flex_flow": null,
            "width": null,
            "min_width": null,
            "border": null,
            "align_items": null,
            "bottom": null,
            "_model_module": "@jupyter-widgets/base",
            "top": null,
            "grid_column": null,
            "overflow_y": null,
            "overflow_x": null,
            "grid_auto_flow": null,
            "grid_area": null,
            "grid_template_columns": null,
            "flex": null,
            "_model_name": "LayoutModel",
            "justify_items": null,
            "grid_row": null,
            "max_height": null,
            "align_content": null,
            "visibility": null,
            "align_self": null,
            "height": null,
            "min_height": null,
            "padding": null,
            "grid_auto_rows": null,
            "grid_gap": null,
            "max_width": null,
            "order": null,
            "_view_module_version": "1.2.0",
            "grid_template_areas": null,
            "object_position": null,
            "object_fit": null,
            "grid_auto_columns": null,
            "margin": null,
            "display": null,
            "left": null
          }
        },
        "e212ed8f75da4dd28dfbaa4cf538c50e": {
          "model_module": "@jupyter-widgets/controls",
          "model_name": "ProgressStyleModel",
          "model_module_version": "1.5.0",
          "state": {
            "_view_name": "StyleView",
            "_model_name": "ProgressStyleModel",
            "description_width": "",
            "_view_module": "@jupyter-widgets/base",
            "_model_module_version": "1.5.0",
            "_view_count": null,
            "_view_module_version": "1.2.0",
            "bar_color": null,
            "_model_module": "@jupyter-widgets/controls"
          }
        },
        "0bb29b4983f745948bdaef19b21f196a": {
          "model_module": "@jupyter-widgets/base",
          "model_name": "LayoutModel",
          "model_module_version": "1.2.0",
          "state": {
            "_view_name": "LayoutView",
            "grid_template_rows": null,
            "right": null,
            "justify_content": null,
            "_view_module": "@jupyter-widgets/base",
            "overflow": null,
            "_model_module_version": "1.2.0",
            "_view_count": null,
            "flex_flow": null,
            "width": null,
            "min_width": null,
            "border": null,
            "align_items": null,
            "bottom": null,
            "_model_module": "@jupyter-widgets/base",
            "top": null,
            "grid_column": null,
            "overflow_y": null,
            "overflow_x": null,
            "grid_auto_flow": null,
            "grid_area": null,
            "grid_template_columns": null,
            "flex": null,
            "_model_name": "LayoutModel",
            "justify_items": null,
            "grid_row": null,
            "max_height": null,
            "align_content": null,
            "visibility": null,
            "align_self": null,
            "height": null,
            "min_height": null,
            "padding": null,
            "grid_auto_rows": null,
            "grid_gap": null,
            "max_width": null,
            "order": null,
            "_view_module_version": "1.2.0",
            "grid_template_areas": null,
            "object_position": null,
            "object_fit": null,
            "grid_auto_columns": null,
            "margin": null,
            "display": null,
            "left": null
          }
        },
        "5ed2c4c19e4e4703b1c94ace7ffcfb0e": {
          "model_module": "@jupyter-widgets/controls",
          "model_name": "DescriptionStyleModel",
          "model_module_version": "1.5.0",
          "state": {
            "_view_name": "StyleView",
            "_model_name": "DescriptionStyleModel",
            "description_width": "",
            "_view_module": "@jupyter-widgets/base",
            "_model_module_version": "1.5.0",
            "_view_count": null,
            "_view_module_version": "1.2.0",
            "_model_module": "@jupyter-widgets/controls"
          }
        },
        "0b9ba44c0be048d3b82bd557171ae603": {
          "model_module": "@jupyter-widgets/base",
          "model_name": "LayoutModel",
          "model_module_version": "1.2.0",
          "state": {
            "_view_name": "LayoutView",
            "grid_template_rows": null,
            "right": null,
            "justify_content": null,
            "_view_module": "@jupyter-widgets/base",
            "overflow": null,
            "_model_module_version": "1.2.0",
            "_view_count": null,
            "flex_flow": null,
            "width": null,
            "min_width": null,
            "border": null,
            "align_items": null,
            "bottom": null,
            "_model_module": "@jupyter-widgets/base",
            "top": null,
            "grid_column": null,
            "overflow_y": null,
            "overflow_x": null,
            "grid_auto_flow": null,
            "grid_area": null,
            "grid_template_columns": null,
            "flex": null,
            "_model_name": "LayoutModel",
            "justify_items": null,
            "grid_row": null,
            "max_height": null,
            "align_content": null,
            "visibility": null,
            "align_self": null,
            "height": null,
            "min_height": null,
            "padding": null,
            "grid_auto_rows": null,
            "grid_gap": null,
            "max_width": null,
            "order": null,
            "_view_module_version": "1.2.0",
            "grid_template_areas": null,
            "object_position": null,
            "object_fit": null,
            "grid_auto_columns": null,
            "margin": null,
            "display": null,
            "left": null
          }
        },
        "675ce80cab8f41718fd3fbb75d3a216e": {
          "model_module": "@jupyter-widgets/controls",
          "model_name": "HBoxModel",
          "model_module_version": "1.5.0",
          "state": {
            "_view_name": "HBoxView",
            "_dom_classes": [],
            "_model_name": "HBoxModel",
            "_view_module": "@jupyter-widgets/controls",
            "_model_module_version": "1.5.0",
            "_view_count": null,
            "_view_module_version": "1.5.0",
            "box_style": "",
            "layout": "IPY_MODEL_64f2e5aa1f77427ab2172ed8c377e681",
            "_model_module": "@jupyter-widgets/controls",
            "children": [
              "IPY_MODEL_e7e3c0fb0bfc495dae3ed7755bbf8931",
              "IPY_MODEL_2a5401b4ff454a9db7cb3c55b2ba6fd2",
              "IPY_MODEL_b910c0155cb94ffe9b87f19b7c50e712"
            ]
          }
        },
        "64f2e5aa1f77427ab2172ed8c377e681": {
          "model_module": "@jupyter-widgets/base",
          "model_name": "LayoutModel",
          "model_module_version": "1.2.0",
          "state": {
            "_view_name": "LayoutView",
            "grid_template_rows": null,
            "right": null,
            "justify_content": null,
            "_view_module": "@jupyter-widgets/base",
            "overflow": null,
            "_model_module_version": "1.2.0",
            "_view_count": null,
            "flex_flow": null,
            "width": null,
            "min_width": null,
            "border": null,
            "align_items": null,
            "bottom": null,
            "_model_module": "@jupyter-widgets/base",
            "top": null,
            "grid_column": null,
            "overflow_y": null,
            "overflow_x": null,
            "grid_auto_flow": null,
            "grid_area": null,
            "grid_template_columns": null,
            "flex": null,
            "_model_name": "LayoutModel",
            "justify_items": null,
            "grid_row": null,
            "max_height": null,
            "align_content": null,
            "visibility": null,
            "align_self": null,
            "height": null,
            "min_height": null,
            "padding": null,
            "grid_auto_rows": null,
            "grid_gap": null,
            "max_width": null,
            "order": null,
            "_view_module_version": "1.2.0",
            "grid_template_areas": null,
            "object_position": null,
            "object_fit": null,
            "grid_auto_columns": null,
            "margin": null,
            "display": null,
            "left": null
          }
        },
        "e7e3c0fb0bfc495dae3ed7755bbf8931": {
          "model_module": "@jupyter-widgets/controls",
          "model_name": "HTMLModel",
          "model_module_version": "1.5.0",
          "state": {
            "_view_name": "HTMLView",
            "style": "IPY_MODEL_f3a68017848f4e7ba3c755d4d91eb997",
            "_dom_classes": [],
            "description": "",
            "_model_name": "HTMLModel",
            "placeholder": "​",
            "_view_module": "@jupyter-widgets/controls",
            "_model_module_version": "1.5.0",
            "value": "Downloading: 100%",
            "_view_count": null,
            "_view_module_version": "1.5.0",
            "description_tooltip": null,
            "_model_module": "@jupyter-widgets/controls",
            "layout": "IPY_MODEL_c5cccb2c06294d3fbc6f5b219d440cb6"
          }
        },
        "2a5401b4ff454a9db7cb3c55b2ba6fd2": {
          "model_module": "@jupyter-widgets/controls",
          "model_name": "FloatProgressModel",
          "model_module_version": "1.5.0",
          "state": {
            "_view_name": "ProgressView",
            "style": "IPY_MODEL_7338230fec724be4bde13f7c283c5c69",
            "_dom_classes": [],
            "description": "",
            "_model_name": "FloatProgressModel",
            "bar_style": "success",
            "max": 1789,
            "_view_module": "@jupyter-widgets/controls",
            "_model_module_version": "1.5.0",
            "value": 1789,
            "_view_count": null,
            "_view_module_version": "1.5.0",
            "orientation": "horizontal",
            "min": 0,
            "description_tooltip": null,
            "_model_module": "@jupyter-widgets/controls",
            "layout": "IPY_MODEL_e37e6a99cece4e39bb3f163b57f3c7cf"
          }
        },
        "b910c0155cb94ffe9b87f19b7c50e712": {
          "model_module": "@jupyter-widgets/controls",
          "model_name": "HTMLModel",
          "model_module_version": "1.5.0",
          "state": {
            "_view_name": "HTMLView",
            "style": "IPY_MODEL_7b8b6980670d4d989f1bc23db4bac446",
            "_dom_classes": [],
            "description": "",
            "_model_name": "HTMLModel",
            "placeholder": "​",
            "_view_module": "@jupyter-widgets/controls",
            "_model_module_version": "1.5.0",
            "value": " 1.75k/1.75k [00:00&lt;00:00, 29.5kB/s]",
            "_view_count": null,
            "_view_module_version": "1.5.0",
            "description_tooltip": null,
            "_model_module": "@jupyter-widgets/controls",
            "layout": "IPY_MODEL_8bb2106f3f9c430e9bd415a16d8c558c"
          }
        },
        "f3a68017848f4e7ba3c755d4d91eb997": {
          "model_module": "@jupyter-widgets/controls",
          "model_name": "DescriptionStyleModel",
          "model_module_version": "1.5.0",
          "state": {
            "_view_name": "StyleView",
            "_model_name": "DescriptionStyleModel",
            "description_width": "",
            "_view_module": "@jupyter-widgets/base",
            "_model_module_version": "1.5.0",
            "_view_count": null,
            "_view_module_version": "1.2.0",
            "_model_module": "@jupyter-widgets/controls"
          }
        },
        "c5cccb2c06294d3fbc6f5b219d440cb6": {
          "model_module": "@jupyter-widgets/base",
          "model_name": "LayoutModel",
          "model_module_version": "1.2.0",
          "state": {
            "_view_name": "LayoutView",
            "grid_template_rows": null,
            "right": null,
            "justify_content": null,
            "_view_module": "@jupyter-widgets/base",
            "overflow": null,
            "_model_module_version": "1.2.0",
            "_view_count": null,
            "flex_flow": null,
            "width": null,
            "min_width": null,
            "border": null,
            "align_items": null,
            "bottom": null,
            "_model_module": "@jupyter-widgets/base",
            "top": null,
            "grid_column": null,
            "overflow_y": null,
            "overflow_x": null,
            "grid_auto_flow": null,
            "grid_area": null,
            "grid_template_columns": null,
            "flex": null,
            "_model_name": "LayoutModel",
            "justify_items": null,
            "grid_row": null,
            "max_height": null,
            "align_content": null,
            "visibility": null,
            "align_self": null,
            "height": null,
            "min_height": null,
            "padding": null,
            "grid_auto_rows": null,
            "grid_gap": null,
            "max_width": null,
            "order": null,
            "_view_module_version": "1.2.0",
            "grid_template_areas": null,
            "object_position": null,
            "object_fit": null,
            "grid_auto_columns": null,
            "margin": null,
            "display": null,
            "left": null
          }
        },
        "7338230fec724be4bde13f7c283c5c69": {
          "model_module": "@jupyter-widgets/controls",
          "model_name": "ProgressStyleModel",
          "model_module_version": "1.5.0",
          "state": {
            "_view_name": "StyleView",
            "_model_name": "ProgressStyleModel",
            "description_width": "",
            "_view_module": "@jupyter-widgets/base",
            "_model_module_version": "1.5.0",
            "_view_count": null,
            "_view_module_version": "1.2.0",
            "bar_color": null,
            "_model_module": "@jupyter-widgets/controls"
          }
        },
        "e37e6a99cece4e39bb3f163b57f3c7cf": {
          "model_module": "@jupyter-widgets/base",
          "model_name": "LayoutModel",
          "model_module_version": "1.2.0",
          "state": {
            "_view_name": "LayoutView",
            "grid_template_rows": null,
            "right": null,
            "justify_content": null,
            "_view_module": "@jupyter-widgets/base",
            "overflow": null,
            "_model_module_version": "1.2.0",
            "_view_count": null,
            "flex_flow": null,
            "width": null,
            "min_width": null,
            "border": null,
            "align_items": null,
            "bottom": null,
            "_model_module": "@jupyter-widgets/base",
            "top": null,
            "grid_column": null,
            "overflow_y": null,
            "overflow_x": null,
            "grid_auto_flow": null,
            "grid_area": null,
            "grid_template_columns": null,
            "flex": null,
            "_model_name": "LayoutModel",
            "justify_items": null,
            "grid_row": null,
            "max_height": null,
            "align_content": null,
            "visibility": null,
            "align_self": null,
            "height": null,
            "min_height": null,
            "padding": null,
            "grid_auto_rows": null,
            "grid_gap": null,
            "max_width": null,
            "order": null,
            "_view_module_version": "1.2.0",
            "grid_template_areas": null,
            "object_position": null,
            "object_fit": null,
            "grid_auto_columns": null,
            "margin": null,
            "display": null,
            "left": null
          }
        },
        "7b8b6980670d4d989f1bc23db4bac446": {
          "model_module": "@jupyter-widgets/controls",
          "model_name": "DescriptionStyleModel",
          "model_module_version": "1.5.0",
          "state": {
            "_view_name": "StyleView",
            "_model_name": "DescriptionStyleModel",
            "description_width": "",
            "_view_module": "@jupyter-widgets/base",
            "_model_module_version": "1.5.0",
            "_view_count": null,
            "_view_module_version": "1.2.0",
            "_model_module": "@jupyter-widgets/controls"
          }
        },
        "8bb2106f3f9c430e9bd415a16d8c558c": {
          "model_module": "@jupyter-widgets/base",
          "model_name": "LayoutModel",
          "model_module_version": "1.2.0",
          "state": {
            "_view_name": "LayoutView",
            "grid_template_rows": null,
            "right": null,
            "justify_content": null,
            "_view_module": "@jupyter-widgets/base",
            "overflow": null,
            "_model_module_version": "1.2.0",
            "_view_count": null,
            "flex_flow": null,
            "width": null,
            "min_width": null,
            "border": null,
            "align_items": null,
            "bottom": null,
            "_model_module": "@jupyter-widgets/base",
            "top": null,
            "grid_column": null,
            "overflow_y": null,
            "overflow_x": null,
            "grid_auto_flow": null,
            "grid_area": null,
            "grid_template_columns": null,
            "flex": null,
            "_model_name": "LayoutModel",
            "justify_items": null,
            "grid_row": null,
            "max_height": null,
            "align_content": null,
            "visibility": null,
            "align_self": null,
            "height": null,
            "min_height": null,
            "padding": null,
            "grid_auto_rows": null,
            "grid_gap": null,
            "max_width": null,
            "order": null,
            "_view_module_version": "1.2.0",
            "grid_template_areas": null,
            "object_position": null,
            "object_fit": null,
            "grid_auto_columns": null,
            "margin": null,
            "display": null,
            "left": null
          }
        },
        "ebffd0516f304c6b8f838b8c1c09bc53": {
          "model_module": "@jupyter-widgets/controls",
          "model_name": "HBoxModel",
          "model_module_version": "1.5.0",
          "state": {
            "_view_name": "HBoxView",
            "_dom_classes": [],
            "_model_name": "HBoxModel",
            "_view_module": "@jupyter-widgets/controls",
            "_model_module_version": "1.5.0",
            "_view_count": null,
            "_view_module_version": "1.5.0",
            "box_style": "",
            "layout": "IPY_MODEL_f3d9561e739f460582355abc71d116a6",
            "_model_module": "@jupyter-widgets/controls",
            "children": [
              "IPY_MODEL_98ee9145531147818211bd9f231b6345",
              "IPY_MODEL_d04f643548874a57a3b41af909a1344c",
              "IPY_MODEL_ab50e0c2dc564b86bcd950d9654c8a17"
            ]
          }
        },
        "f3d9561e739f460582355abc71d116a6": {
          "model_module": "@jupyter-widgets/base",
          "model_name": "LayoutModel",
          "model_module_version": "1.2.0",
          "state": {
            "_view_name": "LayoutView",
            "grid_template_rows": null,
            "right": null,
            "justify_content": null,
            "_view_module": "@jupyter-widgets/base",
            "overflow": null,
            "_model_module_version": "1.2.0",
            "_view_count": null,
            "flex_flow": null,
            "width": null,
            "min_width": null,
            "border": null,
            "align_items": null,
            "bottom": null,
            "_model_module": "@jupyter-widgets/base",
            "top": null,
            "grid_column": null,
            "overflow_y": null,
            "overflow_x": null,
            "grid_auto_flow": null,
            "grid_area": null,
            "grid_template_columns": null,
            "flex": null,
            "_model_name": "LayoutModel",
            "justify_items": null,
            "grid_row": null,
            "max_height": null,
            "align_content": null,
            "visibility": null,
            "align_self": null,
            "height": null,
            "min_height": null,
            "padding": null,
            "grid_auto_rows": null,
            "grid_gap": null,
            "max_width": null,
            "order": null,
            "_view_module_version": "1.2.0",
            "grid_template_areas": null,
            "object_position": null,
            "object_fit": null,
            "grid_auto_columns": null,
            "margin": null,
            "display": null,
            "left": null
          }
        },
        "98ee9145531147818211bd9f231b6345": {
          "model_module": "@jupyter-widgets/controls",
          "model_name": "HTMLModel",
          "model_module_version": "1.5.0",
          "state": {
            "_view_name": "HTMLView",
            "style": "IPY_MODEL_4c0c44e2b9d849f197bcc438e9507ac9",
            "_dom_classes": [],
            "description": "",
            "_model_name": "HTMLModel",
            "placeholder": "​",
            "_view_module": "@jupyter-widgets/controls",
            "_model_module_version": "1.5.0",
            "value": "Downloading: 100%",
            "_view_count": null,
            "_view_module_version": "1.5.0",
            "description_tooltip": null,
            "_model_module": "@jupyter-widgets/controls",
            "layout": "IPY_MODEL_da9f7d596c584bff816984ba70c0d9de"
          }
        },
        "d04f643548874a57a3b41af909a1344c": {
          "model_module": "@jupyter-widgets/controls",
          "model_name": "FloatProgressModel",
          "model_module_version": "1.5.0",
          "state": {
            "_view_name": "ProgressView",
            "style": "IPY_MODEL_d5d59c1388774e54827dd8c7891e613c",
            "_dom_classes": [],
            "description": "",
            "_model_name": "FloatProgressModel",
            "bar_style": "success",
            "max": 418756768,
            "_view_module": "@jupyter-widgets/controls",
            "_model_module_version": "1.5.0",
            "value": 418756768,
            "_view_count": null,
            "_view_module_version": "1.5.0",
            "orientation": "horizontal",
            "min": 0,
            "description_tooltip": null,
            "_model_module": "@jupyter-widgets/controls",
            "layout": "IPY_MODEL_14476bcc60d747ea990beb8c52dc0775"
          }
        },
        "ab50e0c2dc564b86bcd950d9654c8a17": {
          "model_module": "@jupyter-widgets/controls",
          "model_name": "HTMLModel",
          "model_module_version": "1.5.0",
          "state": {
            "_view_name": "HTMLView",
            "style": "IPY_MODEL_9ab3895db4964a1bb775ea9e7c19cf63",
            "_dom_classes": [],
            "description": "",
            "_model_name": "HTMLModel",
            "placeholder": "​",
            "_view_module": "@jupyter-widgets/controls",
            "_model_module_version": "1.5.0",
            "value": " 399M/399M [00:15&lt;00:00, 27.8MB/s]",
            "_view_count": null,
            "_view_module_version": "1.5.0",
            "description_tooltip": null,
            "_model_module": "@jupyter-widgets/controls",
            "layout": "IPY_MODEL_768bc589a1ff41f5a72de08504301aa5"
          }
        },
        "4c0c44e2b9d849f197bcc438e9507ac9": {
          "model_module": "@jupyter-widgets/controls",
          "model_name": "DescriptionStyleModel",
          "model_module_version": "1.5.0",
          "state": {
            "_view_name": "StyleView",
            "_model_name": "DescriptionStyleModel",
            "description_width": "",
            "_view_module": "@jupyter-widgets/base",
            "_model_module_version": "1.5.0",
            "_view_count": null,
            "_view_module_version": "1.2.0",
            "_model_module": "@jupyter-widgets/controls"
          }
        },
        "da9f7d596c584bff816984ba70c0d9de": {
          "model_module": "@jupyter-widgets/base",
          "model_name": "LayoutModel",
          "model_module_version": "1.2.0",
          "state": {
            "_view_name": "LayoutView",
            "grid_template_rows": null,
            "right": null,
            "justify_content": null,
            "_view_module": "@jupyter-widgets/base",
            "overflow": null,
            "_model_module_version": "1.2.0",
            "_view_count": null,
            "flex_flow": null,
            "width": null,
            "min_width": null,
            "border": null,
            "align_items": null,
            "bottom": null,
            "_model_module": "@jupyter-widgets/base",
            "top": null,
            "grid_column": null,
            "overflow_y": null,
            "overflow_x": null,
            "grid_auto_flow": null,
            "grid_area": null,
            "grid_template_columns": null,
            "flex": null,
            "_model_name": "LayoutModel",
            "justify_items": null,
            "grid_row": null,
            "max_height": null,
            "align_content": null,
            "visibility": null,
            "align_self": null,
            "height": null,
            "min_height": null,
            "padding": null,
            "grid_auto_rows": null,
            "grid_gap": null,
            "max_width": null,
            "order": null,
            "_view_module_version": "1.2.0",
            "grid_template_areas": null,
            "object_position": null,
            "object_fit": null,
            "grid_auto_columns": null,
            "margin": null,
            "display": null,
            "left": null
          }
        },
        "d5d59c1388774e54827dd8c7891e613c": {
          "model_module": "@jupyter-widgets/controls",
          "model_name": "ProgressStyleModel",
          "model_module_version": "1.5.0",
          "state": {
            "_view_name": "StyleView",
            "_model_name": "ProgressStyleModel",
            "description_width": "",
            "_view_module": "@jupyter-widgets/base",
            "_model_module_version": "1.5.0",
            "_view_count": null,
            "_view_module_version": "1.2.0",
            "bar_color": null,
            "_model_module": "@jupyter-widgets/controls"
          }
        },
        "14476bcc60d747ea990beb8c52dc0775": {
          "model_module": "@jupyter-widgets/base",
          "model_name": "LayoutModel",
          "model_module_version": "1.2.0",
          "state": {
            "_view_name": "LayoutView",
            "grid_template_rows": null,
            "right": null,
            "justify_content": null,
            "_view_module": "@jupyter-widgets/base",
            "overflow": null,
            "_model_module_version": "1.2.0",
            "_view_count": null,
            "flex_flow": null,
            "width": null,
            "min_width": null,
            "border": null,
            "align_items": null,
            "bottom": null,
            "_model_module": "@jupyter-widgets/base",
            "top": null,
            "grid_column": null,
            "overflow_y": null,
            "overflow_x": null,
            "grid_auto_flow": null,
            "grid_area": null,
            "grid_template_columns": null,
            "flex": null,
            "_model_name": "LayoutModel",
            "justify_items": null,
            "grid_row": null,
            "max_height": null,
            "align_content": null,
            "visibility": null,
            "align_self": null,
            "height": null,
            "min_height": null,
            "padding": null,
            "grid_auto_rows": null,
            "grid_gap": null,
            "max_width": null,
            "order": null,
            "_view_module_version": "1.2.0",
            "grid_template_areas": null,
            "object_position": null,
            "object_fit": null,
            "grid_auto_columns": null,
            "margin": null,
            "display": null,
            "left": null
          }
        },
        "9ab3895db4964a1bb775ea9e7c19cf63": {
          "model_module": "@jupyter-widgets/controls",
          "model_name": "DescriptionStyleModel",
          "model_module_version": "1.5.0",
          "state": {
            "_view_name": "StyleView",
            "_model_name": "DescriptionStyleModel",
            "description_width": "",
            "_view_module": "@jupyter-widgets/base",
            "_model_module_version": "1.5.0",
            "_view_count": null,
            "_view_module_version": "1.2.0",
            "_model_module": "@jupyter-widgets/controls"
          }
        },
        "768bc589a1ff41f5a72de08504301aa5": {
          "model_module": "@jupyter-widgets/base",
          "model_name": "LayoutModel",
          "model_module_version": "1.2.0",
          "state": {
            "_view_name": "LayoutView",
            "grid_template_rows": null,
            "right": null,
            "justify_content": null,
            "_view_module": "@jupyter-widgets/base",
            "overflow": null,
            "_model_module_version": "1.2.0",
            "_view_count": null,
            "flex_flow": null,
            "width": null,
            "min_width": null,
            "border": null,
            "align_items": null,
            "bottom": null,
            "_model_module": "@jupyter-widgets/base",
            "top": null,
            "grid_column": null,
            "overflow_y": null,
            "overflow_x": null,
            "grid_auto_flow": null,
            "grid_area": null,
            "grid_template_columns": null,
            "flex": null,
            "_model_name": "LayoutModel",
            "justify_items": null,
            "grid_row": null,
            "max_height": null,
            "align_content": null,
            "visibility": null,
            "align_self": null,
            "height": null,
            "min_height": null,
            "padding": null,
            "grid_auto_rows": null,
            "grid_gap": null,
            "max_width": null,
            "order": null,
            "_view_module_version": "1.2.0",
            "grid_template_areas": null,
            "object_position": null,
            "object_fit": null,
            "grid_auto_columns": null,
            "margin": null,
            "display": null,
            "left": null
          }
        }
      }
    }
  },
  "cells": [
    {
      "cell_type": "markdown",
      "metadata": {
        "id": "4CyRqw3lLp2v"
      },
      "source": [
        "งานทาง [NLP](https://www.bualabs.com/archives/category/knowledge/artificial-intelligence/natural-language-processing-nlp/) อีกงาน ที่เป็นเรื่องพื้นฐานสุด ๆ ที่เราต้องเรียนรู้ ก่อนที่จะเข้าใจ ภาษาใด ๆ คือ Part of Speech ส่วนของคำพูด หรือ ประเภทของคำหรือชนิดของคำที่อยู่ในประโยค เช่น คำนาม คำสรรพนาม คำกริยา คำวิเศษณ์ เนื่องจาก ประโยค วลี คำพูด ต่าง ๆ ที่เราใช้สื่อสารกันนั้น ล้วนเกิดขึ้นจากการนำคำต่าง ๆ มาประกอบกันเป็นส่วนต่าง ๆ ที่ทำหน้าที่ต่างกันในประโยค\n",
        "\n",
        "และต่อจากเรารู้ว่าคำไหนเป็น Part of Speech อะไร แล้วเราจะมาเรียนรู้ Named-Entity Recognition ทำ Named-Entity Tagging ว่าคำ ๆ นี้ เป็น ชื่อสิ่งที่อยู่ในโลกความเป็นจริงหรือไม่ ประเภทอะไร เช่น ชื่อคน ชื่อสถานที่ องค์กร สินค้า จำนวน หรือ วันเวลา เป็นต้น persons, locations, organizations, products, medical codes, time expressions, quantities, monetary values, percentages "
      ]
    },
    {
      "cell_type": "markdown",
      "metadata": {
        "id": "CzApwnjVlKxC"
      },
      "source": [
        "# 0. Install"
      ]
    },
    {
      "cell_type": "code",
      "metadata": {
        "id": "0WcUkQRak7e6"
      },
      "source": [
        "%reload_ext autoreload\n",
        "%autoreload 2\n",
        "%matplotlib inline"
      ],
      "execution_count": 1,
      "outputs": []
    },
    {
      "cell_type": "markdown",
      "metadata": {
        "id": "MGOPzh9vCLJh"
      },
      "source": [
        "Install Library ที่จำเป็น แล้ว Restart Runtime"
      ]
    },
    {
      "cell_type": "code",
      "metadata": {
        "id": "QpAhcT3WxGqF"
      },
      "source": [
        "# dev version\n",
        "# !pip install https://github.com/PyThaiNLP/pythainlp/archive/dev.zip\n",
        "\n",
        "# release version \n",
        "! pip install pythainlp -q\n",
        "! pip install epitran -q\n",
        "! pip install sklearn_crfsuite -q"
      ],
      "execution_count": 2,
      "outputs": []
    },
    {
      "cell_type": "markdown",
      "metadata": {
        "id": "0u3BdH34_hN1"
      },
      "source": [
        "Restart Runtime เพื่อให้ใช้ Library เวอร์ชัน ที่เพิ่ง Install ลงไป"
      ]
    },
    {
      "cell_type": "markdown",
      "metadata": {
        "id": "86CaxdqnE0Ag"
      },
      "source": [
        "ในเคสนี้ เราจะปิด Warning ไว้ก่อน จะได้อ่านผลลัพท์ง่าย"
      ]
    },
    {
      "cell_type": "code",
      "metadata": {
        "id": "rha7sfRokmVJ"
      },
      "source": [
        "import warnings\n",
        "warnings.filterwarnings('ignore')"
      ],
      "execution_count": 3,
      "outputs": []
    },
    {
      "cell_type": "markdown",
      "metadata": {
        "id": "3VxLNfAElR29"
      },
      "source": [
        "# 1. Import"
      ]
    },
    {
      "cell_type": "markdown",
      "metadata": {
        "id": "nGm02SG0CQrq"
      },
      "source": [
        "Import Library ที่จะใช้ ในที่นี้คือ PyThaiNLP"
      ]
    },
    {
      "cell_type": "code",
      "metadata": {
        "id": "RUurvnGIsEWv",
        "outputId": "e2082880-912f-474a-8ce4-7c5a788142c2",
        "colab": {
          "base_uri": "https://localhost:8080/",
          "height": 35
        }
      },
      "source": [
        "import pythainlp\n",
        "\n",
        "pythainlp.__version__"
      ],
      "execution_count": 4,
      "outputs": [
        {
          "output_type": "execute_result",
          "data": {
            "application/vnd.google.colaboratory.intrinsic+json": {
              "type": "string"
            },
            "text/plain": [
              "'3.0.5'"
            ]
          },
          "metadata": {},
          "execution_count": 4
        }
      ]
    },
    {
      "cell_type": "markdown",
      "metadata": {
        "id": "ZlMuSx6mpuAd"
      },
      "source": [
        "เตรียมข้อความภาษาไทย [ตัดคำด้วย PyThaiNLP Tokenizer](https://www.bualabs.com/archives/3740/python-word-tokenize-pythainlp-example-algorithm-deepcut-newmm-longest-python-pythainlp-ep-2/) ไว้ก่อน"
      ]
    },
    {
      "cell_type": "code",
      "metadata": {
        "id": "11FRiLJ3pNH7"
      },
      "source": [
        "from pythainlp import sent_tokenize, word_tokenize"
      ],
      "execution_count": 5,
      "outputs": []
    },
    {
      "cell_type": "code",
      "metadata": {
        "id": "Rj8BCx72p4A2"
      },
      "source": [
        "text = \"ชาวต่างชาติเรียกอาณาจักรอยุธยาว่าสยาม\""
      ],
      "execution_count": 6,
      "outputs": []
    },
    {
      "cell_type": "code",
      "metadata": {
        "id": "Ayj9MUCdpM6N",
        "outputId": "ed835547-e9c9-474f-de05-dac9a5e35c92",
        "colab": {
          "base_uri": "https://localhost:8080/"
        }
      },
      "source": [
        "sent = word_tokenize(text)\n",
        "sent"
      ],
      "execution_count": 7,
      "outputs": [
        {
          "output_type": "execute_result",
          "data": {
            "text/plain": [
              "['ชาวต่างชาติ', 'เรียก', 'อาณาจักร', 'อยุธยา', 'ว่า', 'สยาม']"
            ]
          },
          "metadata": {},
          "execution_count": 7
        }
      ]
    },
    {
      "cell_type": "markdown",
      "metadata": {
        "id": "6sZZ0vja8WHS"
      },
      "source": [
        "[ตัดคำภาษาไทย](https://www.bualabs.com/archives/3740/python-word-tokenize-pythainlp-example-algorithm-deepcut-newmm-longest-python-pythainlp-ep-2/) โดยเพิ่มคำใน Custom Dict"
      ]
    },
    {
      "cell_type": "code",
      "metadata": {
        "id": "js4-KLXwpeTD"
      },
      "source": [
        "texts = [\"ไทยบางแก้วหรือนิยมเรียกสั้น ๆ ว่า บางแก้ว เป็นสุนัขประเภทสปิตซ์สายพันธุ์หนึ่งที่มีถิ่นกำเนิดในประเทศไทย ที่บ้านบางแก้ว ตำบลท่านางงาม และบ้านชุมแสงสงคราม ตำบลชุมแสงสงคราม อำเภอบางระกำ จังหวัดพิษณุโลก\",\n",
        "         \"ไทยบางแก้วถือเป็นสุนัขไทยสายพันธุ์เดียวที่มีขนยาวสองชั้นหางเป็นพวงมีขนขาหน้าคล้ายขนขาแข้งสิงห์แผงรอบคอคล้ายสิงโตมีความเฉลียวฉลาด\"]"
      ],
      "execution_count": 10,
      "outputs": []
    },
    {
      "cell_type": "code",
      "metadata": {
        "id": "WbkQ3kQwpelh",
        "outputId": "88f6471e-9a9b-47b5-f001-c9636cdcca0e",
        "colab": {
          "base_uri": "https://localhost:8080/"
        }
      },
      "source": [
        "from pythainlp import Tokenizer\n",
        "# from pythainlp.tokenize import dict_trie\n",
        "from pythainlp.util import dict_trie\n",
        "from pythainlp.corpus.common import thai_words\n",
        "\n",
        "words = [\"ไทยบางแก้ว\", \"บางแก้ว\"]\n",
        "custom_words_list = set(thai_words())\n",
        "## add multiple words\n",
        "custom_words_list.update(words)\n",
        "trie = dict_trie(dict_source=custom_words_list)\n",
        "\n",
        "custom_tokenizer = Tokenizer(custom_dict=trie, engine='newmm')\n",
        "\n",
        "sents = [custom_tokenizer.word_tokenize(text) for text in texts]\n",
        "sents"
      ],
      "execution_count": 12,
      "outputs": [
        {
          "output_type": "execute_result",
          "data": {
            "text/plain": [
              "[['ไทยบางแก้ว',\n",
              "  'หรือ',\n",
              "  'นิยม',\n",
              "  'เรียก',\n",
              "  'สั้น',\n",
              "  ' ',\n",
              "  'ๆ',\n",
              "  ' ',\n",
              "  'ว่า',\n",
              "  ' ',\n",
              "  'บางแก้ว',\n",
              "  ' ',\n",
              "  'เป็น',\n",
              "  'สุนัข',\n",
              "  'ประเภท',\n",
              "  'สปิตซ์',\n",
              "  'สายพันธุ์',\n",
              "  'หนึ่ง',\n",
              "  'ที่',\n",
              "  'มี',\n",
              "  'ถิ่นกำเนิด',\n",
              "  'ในประเทศ',\n",
              "  'ไทย',\n",
              "  ' ',\n",
              "  'ที่',\n",
              "  'บ้าน',\n",
              "  'บางแก้ว',\n",
              "  ' ',\n",
              "  'ตำบล',\n",
              "  'ท่า',\n",
              "  'นางงาม',\n",
              "  ' ',\n",
              "  'และ',\n",
              "  'บ้าน',\n",
              "  'ชุมแสง',\n",
              "  'สงคราม',\n",
              "  ' ',\n",
              "  'ตำบล',\n",
              "  'ชุมแสง',\n",
              "  'สงคราม',\n",
              "  ' ',\n",
              "  'อำเภอ',\n",
              "  'บาง',\n",
              "  'ระกำ',\n",
              "  ' ',\n",
              "  'จังหวัด',\n",
              "  'พิษณุโลก'],\n",
              " ['ไทยบางแก้ว',\n",
              "  'ถือเป็น',\n",
              "  'สุนัข',\n",
              "  'ไทย',\n",
              "  'สายพันธุ์',\n",
              "  'เดียว',\n",
              "  'ที่',\n",
              "  'มี',\n",
              "  'ขน',\n",
              "  'ยาว',\n",
              "  'สองชั้น',\n",
              "  'หาง',\n",
              "  'เป็น',\n",
              "  'พวง',\n",
              "  'มี',\n",
              "  'ขน',\n",
              "  'ขา',\n",
              "  'หน้า',\n",
              "  'คล้าย',\n",
              "  'ขน',\n",
              "  'ขา',\n",
              "  'แข้งสิงห์',\n",
              "  'แผง',\n",
              "  'รอบ',\n",
              "  'คอ',\n",
              "  'คล้าย',\n",
              "  'สิงโต',\n",
              "  'มี',\n",
              "  'ความเฉลียวฉลาด']]"
            ]
          },
          "metadata": {},
          "execution_count": 12
        }
      ]
    },
    {
      "cell_type": "markdown",
      "metadata": {
        "id": "YeJuPfAjSGnt"
      },
      "source": [
        "# 2. PyThaiNLP Part-of-Speech Tagging"
      ]
    },
    {
      "cell_type": "markdown",
      "metadata": {
        "id": "Q2gg8KZqtFB2"
      },
      "source": [
        "Part of Speech Tagging คือ การแปะป้ายว่า คำไหน เป็นส่วนไหนของประโยค เช่น คำนาม คำสรรพนาม คำกริยา คำวิเศษณ์ คำบุพบท คำสันธาน noun, pronoun, verb, adjective, adverb, preposition, conjunction และ interjection"
      ]
    },
    {
      "cell_type": "code",
      "metadata": {
        "id": "o_NpQW-aMFNh"
      },
      "source": [
        "from pythainlp.tag import pos_tag, pos_tag_sents"
      ],
      "execution_count": 13,
      "outputs": []
    },
    {
      "cell_type": "markdown",
      "metadata": {
        "id": "e3vO4FghYs5B"
      },
      "source": [
        "## 2.1 pos_tag"
      ]
    },
    {
      "cell_type": "markdown",
      "metadata": {
        "id": "Xm3W3oq5V1WS"
      },
      "source": [
        "### Engine"
      ]
    },
    {
      "cell_type": "markdown",
      "metadata": {
        "id": "5GhAKVBjUvV4"
      },
      "source": [
        "มี Engine ให้เลือกหลายตัว ได้แก่ \n",
        "\n",
        "* perceptron (default) - perceptron tagger \n",
        "* unigram - unigram tagger"
      ]
    },
    {
      "cell_type": "code",
      "metadata": {
        "id": "Nm1sebqdZFsY"
      },
      "source": [
        "# sent = ['ชาวต่างชาติ', 'เรียก', 'อาณาจักร', 'อยุธยา', 'ว่า', 'สยาม']"
      ],
      "execution_count": 14,
      "outputs": []
    },
    {
      "cell_type": "code",
      "metadata": {
        "id": "E2XyZw2cSczg",
        "outputId": "844993bd-8ea5-4b69-8d07-66d86cc038de",
        "colab": {
          "base_uri": "https://localhost:8080/"
        }
      },
      "source": [
        "pos_tag(sent) # Default engine=\"perceptron\""
      ],
      "execution_count": 15,
      "outputs": [
        {
          "output_type": "execute_result",
          "data": {
            "text/plain": [
              "[('ชาวต่างชาติ', 'NCMN'),\n",
              " ('เรียก', 'VACT'),\n",
              " ('อาณาจักร', 'NCMN'),\n",
              " ('อยุธยา', 'VACT'),\n",
              " ('ว่า', 'JSBR'),\n",
              " ('สยาม', 'NCMN')]"
            ]
          },
          "metadata": {},
          "execution_count": 15
        }
      ]
    },
    {
      "cell_type": "code",
      "metadata": {
        "id": "GUpbFEbQScpW",
        "outputId": "75876c45-57a0-4076-9191-25d8d6adee15",
        "colab": {
          "base_uri": "https://localhost:8080/"
        }
      },
      "source": [
        "pos_tag(sent, engine=\"unigram\")"
      ],
      "execution_count": 16,
      "outputs": [
        {
          "output_type": "execute_result",
          "data": {
            "text/plain": [
              "[('ชาวต่างชาติ', 'NCMN'),\n",
              " ('เรียก', 'VACT'),\n",
              " ('อาณาจักร', ''),\n",
              " ('อยุธยา', ''),\n",
              " ('ว่า', 'JSBR'),\n",
              " ('สยาม', '')]"
            ]
          },
          "metadata": {},
          "execution_count": 16
        }
      ]
    },
    {
      "cell_type": "markdown",
      "metadata": {
        "id": "iuWNSsciV4V5"
      },
      "source": [
        "## Corpus"
      ]
    },
    {
      "cell_type": "markdown",
      "metadata": {
        "id": "G-vkRRcvU3pk"
      },
      "source": [
        "เราสามารถเลือกใช้คำศัพท์ จาก Curpus ต่าง ๆ ได้แก่ \n",
        "\n",
        "* orchid (default) - annotated Thai academic articles namedly Orchid \n",
        "* orchid_ud - annotated Thai academic articles *Orchid* but the POS tags are mapped to comply with Universal Dependencies POS  Tags\n",
        "* pud - Parallel Universal Dependencies (PUD)"
      ]
    },
    {
      "cell_type": "code",
      "metadata": {
        "id": "YS2R_QZ-Xlu7",
        "outputId": "2838893f-b311-4641-d259-011eb9a8c000",
        "colab": {
          "base_uri": "https://localhost:8080/"
        }
      },
      "source": [
        "pos_tag(sent)  # (default) corpus=\"orchid\""
      ],
      "execution_count": 17,
      "outputs": [
        {
          "output_type": "execute_result",
          "data": {
            "text/plain": [
              "[('ชาวต่างชาติ', 'NCMN'),\n",
              " ('เรียก', 'VACT'),\n",
              " ('อาณาจักร', 'NCMN'),\n",
              " ('อยุธยา', 'VACT'),\n",
              " ('ว่า', 'JSBR'),\n",
              " ('สยาม', 'NCMN')]"
            ]
          },
          "metadata": {},
          "execution_count": 17
        }
      ]
    },
    {
      "cell_type": "code",
      "metadata": {
        "id": "HLBoFWpZUn9D",
        "outputId": "2069141c-5614-4614-d1c8-d589e67f2960",
        "colab": {
          "base_uri": "https://localhost:8080/"
        }
      },
      "source": [
        "pos_tag(sent, corpus=\"orchid_ud\")"
      ],
      "execution_count": 18,
      "outputs": [
        {
          "output_type": "execute_result",
          "data": {
            "text/plain": [
              "[('ชาวต่างชาติ', 'NOUN'),\n",
              " ('เรียก', 'VERB'),\n",
              " ('อาณาจักร', 'NOUN'),\n",
              " ('อยุธยา', 'VERB'),\n",
              " ('ว่า', 'SCONJ'),\n",
              " ('สยาม', 'NOUN')]"
            ]
          },
          "metadata": {},
          "execution_count": 18
        }
      ]
    },
    {
      "cell_type": "code",
      "metadata": {
        "id": "UU24wDqpScfO",
        "outputId": "f76eee5a-63dc-49f2-ac15-e365302adda5",
        "colab": {
          "base_uri": "https://localhost:8080/"
        }
      },
      "source": [
        "pos_tag(sent, corpus=\"pud\")"
      ],
      "execution_count": 19,
      "outputs": [
        {
          "output_type": "execute_result",
          "data": {
            "text/plain": [
              "[('ชาวต่างชาติ', 'NOUN'),\n",
              " ('เรียก', 'VERB'),\n",
              " ('อาณาจักร', 'VERB'),\n",
              " ('อยุธยา', 'VERB'),\n",
              " ('ว่า', 'ADP'),\n",
              " ('สยาม', 'NOUN')]"
            ]
          },
          "metadata": {},
          "execution_count": 19
        }
      ]
    },
    {
      "cell_type": "markdown",
      "metadata": {
        "id": "DU9QHthIScUB"
      },
      "source": [
        "Uncomment แล้วรัน Cell เพื่อดู help"
      ]
    },
    {
      "cell_type": "code",
      "metadata": {
        "id": "6kQRyzzyMFSC"
      },
      "source": [
        "# pos_tag??\n",
        "# pos_tag_sents??"
      ],
      "execution_count": 20,
      "outputs": []
    },
    {
      "cell_type": "markdown",
      "metadata": {
        "id": "A8PSmQmIYp7D"
      },
      "source": [
        "## 2.2 pos_tag_sents"
      ]
    },
    {
      "cell_type": "markdown",
      "metadata": {
        "id": "fj908HIzYySE"
      },
      "source": [
        "POS Tagging ทีละหลายประโยค"
      ]
    },
    {
      "cell_type": "code",
      "metadata": {
        "id": "OX7gwGIKMFV6"
      },
      "source": [
        "sents = [['ไทยบางแก้ว', 'หรือ', 'นิยม', 'เรียก', 'สั้น', ' ', 'ๆ', ' ', 'ว่า', ' ', 'บางแก้ว', ' ', 'เป็น', 'สุนัข', 'ประเภท', 'สปิตซ์', 'สายพันธุ์', 'หนึ่ง', 'ที่', 'มี', 'ถิ่นกำเนิด', 'ในประเทศ', 'ไทย', ' ', 'ที่', 'บ้าน', 'บางแก้ว', ' ', 'ตำบล', 'ท่า', 'นางงาม', ' ', 'และ', 'บ้าน', 'ชุมแสง', 'สงคราม', ' ', 'ตำบล', 'ชุมแสง', 'สงคราม', ' ', 'อำเภอ', 'บาง', 'ระกำ', ' ', 'จังหวัด', 'พิษณุโลก'],\n",
        "         ['ไทยบางแก้ว', 'ถือเป็น', 'สุนัข', 'ไทย', 'สายพันธุ์', 'เดียว', 'ที่', 'มี', 'ขน', 'ยาว', 'สองชั้น', 'หาง', 'เป็น', 'พวง', 'มี', 'ขน', 'ขา', 'หน้า', 'คล้าย', 'ขน', 'ขา', 'แข้งสิงห์', 'แผง', 'รอบ', 'คอ', 'คล้าย', 'สิงโต', 'มี', 'ความเฉลียวฉลาด']]"
      ],
      "execution_count": 21,
      "outputs": []
    },
    {
      "cell_type": "code",
      "metadata": {
        "id": "IeXUxvjeMFZy",
        "outputId": "7dd8ef3f-1ae1-4021-fc63-031296b66e28",
        "colab": {
          "base_uri": "https://localhost:8080/"
        }
      },
      "source": [
        "pos_tag_sents(sents)"
      ],
      "execution_count": 22,
      "outputs": [
        {
          "output_type": "execute_result",
          "data": {
            "text/plain": [
              "[[('ไทยบางแก้ว', 'NCMN'),\n",
              "  ('หรือ', 'JCRG'),\n",
              "  ('นิยม', 'VSTA'),\n",
              "  ('เรียก', 'VACT'),\n",
              "  ('สั้น', 'VATT'),\n",
              "  (' ', 'PUNC'),\n",
              "  ('ๆ', 'NCMN'),\n",
              "  (' ', 'PUNC'),\n",
              "  ('ว่า', 'JSBR'),\n",
              "  (' ', 'PUNC'),\n",
              "  ('บางแก้ว', 'NCMN'),\n",
              "  (' ', 'PUNC'),\n",
              "  ('เป็น', 'VSTA'),\n",
              "  ('สุนัข', 'NCMN'),\n",
              "  ('ประเภท', 'CLTV'),\n",
              "  ('สปิตซ์', 'NCMN'),\n",
              "  ('สายพันธุ์', 'NCMN'),\n",
              "  ('หนึ่ง', 'DCNM'),\n",
              "  ('ที่', 'PREL'),\n",
              "  ('มี', 'VSTA'),\n",
              "  ('ถิ่นกำเนิด', 'NCMN'),\n",
              "  ('ในประเทศ', 'NCMN'),\n",
              "  ('ไทย', 'NPRP'),\n",
              "  (' ', 'PUNC'),\n",
              "  ('ที่', 'RPRE'),\n",
              "  ('บ้าน', 'NCMN'),\n",
              "  ('บางแก้ว', 'NCMN'),\n",
              "  (' ', 'PUNC'),\n",
              "  ('ตำบล', 'NCMN'),\n",
              "  ('ท่า', 'NCMN'),\n",
              "  ('นางงาม', 'VATT'),\n",
              "  (' ', 'PUNC'),\n",
              "  ('และ', 'JCRG'),\n",
              "  ('บ้าน', 'NCMN'),\n",
              "  ('ชุมแสง', 'NCMN'),\n",
              "  ('สงคราม', 'NCMN'),\n",
              "  (' ', 'PUNC'),\n",
              "  ('ตำบล', 'NCMN'),\n",
              "  ('ชุมแสง', 'NCMN'),\n",
              "  ('สงคราม', 'NCMN'),\n",
              "  (' ', 'PUNC'),\n",
              "  ('อำเภอ', 'NCMN'),\n",
              "  ('บาง', 'DIBQ'),\n",
              "  ('ระกำ', 'NCMN'),\n",
              "  (' ', 'PUNC'),\n",
              "  ('จังหวัด', 'NCMN'),\n",
              "  ('พิษณุโลก', 'NCMN')],\n",
              " [('ไทยบางแก้ว', 'NCMN'),\n",
              "  ('ถือเป็น', 'VSTA'),\n",
              "  ('สุนัข', 'NCMN'),\n",
              "  ('ไทย', 'NPRP'),\n",
              "  ('สายพันธุ์', 'CNIT'),\n",
              "  ('เดียว', 'DIAC'),\n",
              "  ('ที่', 'PREL'),\n",
              "  ('มี', 'VSTA'),\n",
              "  ('ขน', 'NCMN'),\n",
              "  ('ยาว', 'VATT'),\n",
              "  ('สองชั้น', 'ADVN'),\n",
              "  ('หาง', 'NCMN'),\n",
              "  ('เป็น', 'VSTA'),\n",
              "  ('พวง', 'NCMN'),\n",
              "  ('มี', 'VSTA'),\n",
              "  ('ขน', 'NCMN'),\n",
              "  ('ขา', 'NCMN'),\n",
              "  ('หน้า', 'VATT'),\n",
              "  ('คล้าย', 'VSTA'),\n",
              "  ('ขน', 'NCMN'),\n",
              "  ('ขา', 'NCMN'),\n",
              "  ('แข้งสิงห์', 'NCMN'),\n",
              "  ('แผง', 'NCMN'),\n",
              "  ('รอบ', 'CFQC'),\n",
              "  ('คอ', 'NCMN'),\n",
              "  ('คล้าย', 'VSTA'),\n",
              "  ('สิงโต', 'NCMN'),\n",
              "  ('มี', 'VSTA'),\n",
              "  ('ความเฉลียวฉลาด', 'NCMN')]]"
            ]
          },
          "metadata": {},
          "execution_count": 22
        }
      ]
    },
    {
      "cell_type": "code",
      "metadata": {
        "id": "bPxE8fIxa5XL",
        "outputId": "42509d6f-4781-457d-88a2-27617c50a513",
        "colab": {
          "base_uri": "https://localhost:8080/"
        }
      },
      "source": [
        "pos_tag_sents(sents, engine=\"unigram\")"
      ],
      "execution_count": 23,
      "outputs": [
        {
          "output_type": "execute_result",
          "data": {
            "text/plain": [
              "[[('ไทยบางแก้ว', ''),\n",
              "  ('หรือ', 'JCRG'),\n",
              "  ('นิยม', 'VSTA'),\n",
              "  ('เรียก', 'VACT'),\n",
              "  ('สั้น', 'VATT'),\n",
              "  (' ', ''),\n",
              "  ('ๆ', 'NCMN'),\n",
              "  (' ', ''),\n",
              "  ('ว่า', 'JSBR'),\n",
              "  (' ', ''),\n",
              "  ('บางแก้ว', ''),\n",
              "  (' ', ''),\n",
              "  ('เป็น', 'VSTA'),\n",
              "  ('สุนัข', ''),\n",
              "  ('ประเภท', 'CLTV'),\n",
              "  ('สปิตซ์', ''),\n",
              "  ('สายพันธุ์', ''),\n",
              "  ('หนึ่ง', 'DCNM'),\n",
              "  ('ที่', 'PREL'),\n",
              "  ('มี', 'VSTA'),\n",
              "  ('ถิ่นกำเนิด', ''),\n",
              "  ('ในประเทศ', ''),\n",
              "  ('ไทย', 'NPRP'),\n",
              "  (' ', ''),\n",
              "  ('ที่', 'PREL'),\n",
              "  ('บ้าน', 'NCMN'),\n",
              "  ('บางแก้ว', ''),\n",
              "  (' ', ''),\n",
              "  ('ตำบล', 'NCMN'),\n",
              "  ('ท่า', ''),\n",
              "  ('นางงาม', ''),\n",
              "  (' ', ''),\n",
              "  ('และ', 'JCRG'),\n",
              "  ('บ้าน', 'NCMN'),\n",
              "  ('ชุมแสง', ''),\n",
              "  ('สงคราม', ''),\n",
              "  (' ', ''),\n",
              "  ('ตำบล', 'NCMN'),\n",
              "  ('ชุมแสง', ''),\n",
              "  ('สงคราม', ''),\n",
              "  (' ', ''),\n",
              "  ('อำเภอ', 'NCMN'),\n",
              "  ('บาง', 'DIBQ'),\n",
              "  ('ระกำ', ''),\n",
              "  (' ', ''),\n",
              "  ('จังหวัด', 'NCMN'),\n",
              "  ('พิษณุโลก', '')],\n",
              " [('ไทยบางแก้ว', ''),\n",
              "  ('ถือเป็น', 'VSTA'),\n",
              "  ('สุนัข', ''),\n",
              "  ('ไทย', 'NPRP'),\n",
              "  ('สายพันธุ์', ''),\n",
              "  ('เดียว', 'DIAC'),\n",
              "  ('ที่', 'PREL'),\n",
              "  ('มี', 'VSTA'),\n",
              "  ('ขน', ''),\n",
              "  ('ยาว', 'VATT'),\n",
              "  ('สองชั้น', ''),\n",
              "  ('หาง', 'NCMN'),\n",
              "  ('เป็น', 'VSTA'),\n",
              "  ('พวง', ''),\n",
              "  ('มี', 'VSTA'),\n",
              "  ('ขน', ''),\n",
              "  ('ขา', 'NCMN'),\n",
              "  ('หน้า', 'NCMN'),\n",
              "  ('คล้าย', 'VSTA'),\n",
              "  ('ขน', ''),\n",
              "  ('ขา', 'NCMN'),\n",
              "  ('แข้งสิงห์', ''),\n",
              "  ('แผง', 'NCMN'),\n",
              "  ('รอบ', 'NCMN'),\n",
              "  ('คอ', 'NCMN'),\n",
              "  ('คล้าย', 'VSTA'),\n",
              "  ('สิงโต', ''),\n",
              "  ('มี', 'VSTA'),\n",
              "  ('ความเฉลียวฉลาด', '')]]"
            ]
          },
          "metadata": {},
          "execution_count": 23
        }
      ]
    },
    {
      "cell_type": "code",
      "metadata": {
        "id": "CHt2nUuxa5M8",
        "outputId": "c28f1922-2304-4555-a090-d308317b1718",
        "colab": {
          "base_uri": "https://localhost:8080/"
        }
      },
      "source": [
        "pos_tag_sents(sents, corpus=\"orchid_ud\")"
      ],
      "execution_count": 24,
      "outputs": [
        {
          "output_type": "execute_result",
          "data": {
            "text/plain": [
              "[[('ไทยบางแก้ว', 'NOUN'),\n",
              "  ('หรือ', 'CCONJ'),\n",
              "  ('นิยม', 'VERB'),\n",
              "  ('เรียก', 'VERB'),\n",
              "  ('สั้น', 'ADJ'),\n",
              "  (' ', 'PUNCT'),\n",
              "  ('ๆ', 'NOUN'),\n",
              "  (' ', 'PUNCT'),\n",
              "  ('ว่า', 'SCONJ'),\n",
              "  (' ', 'PUNCT'),\n",
              "  ('บางแก้ว', 'NOUN'),\n",
              "  (' ', 'PUNCT'),\n",
              "  ('เป็น', 'VERB'),\n",
              "  ('สุนัข', 'NOUN'),\n",
              "  ('ประเภท', 'NOUN'),\n",
              "  ('สปิตซ์', 'NOUN'),\n",
              "  ('สายพันธุ์', 'NOUN'),\n",
              "  ('หนึ่ง', 'NUM'),\n",
              "  ('ที่', 'SCONJ'),\n",
              "  ('มี', 'VERB'),\n",
              "  ('ถิ่นกำเนิด', 'NOUN'),\n",
              "  ('ในประเทศ', 'NOUN'),\n",
              "  ('ไทย', 'PROPN'),\n",
              "  (' ', 'PUNCT'),\n",
              "  ('ที่', 'ADP'),\n",
              "  ('บ้าน', 'NOUN'),\n",
              "  ('บางแก้ว', 'NOUN'),\n",
              "  (' ', 'PUNCT'),\n",
              "  ('ตำบล', 'NOUN'),\n",
              "  ('ท่า', 'NOUN'),\n",
              "  ('นางงาม', 'ADJ'),\n",
              "  (' ', 'PUNCT'),\n",
              "  ('และ', 'CCONJ'),\n",
              "  ('บ้าน', 'NOUN'),\n",
              "  ('ชุมแสง', 'NOUN'),\n",
              "  ('สงคราม', 'NOUN'),\n",
              "  (' ', 'PUNCT'),\n",
              "  ('ตำบล', 'NOUN'),\n",
              "  ('ชุมแสง', 'NOUN'),\n",
              "  ('สงคราม', 'NOUN'),\n",
              "  (' ', 'PUNCT'),\n",
              "  ('อำเภอ', 'NOUN'),\n",
              "  ('บาง', 'DET'),\n",
              "  ('ระกำ', 'NOUN'),\n",
              "  (' ', 'PUNCT'),\n",
              "  ('จังหวัด', 'NOUN'),\n",
              "  ('พิษณุโลก', 'NOUN')],\n",
              " [('ไทยบางแก้ว', 'NOUN'),\n",
              "  ('ถือเป็น', 'VERB'),\n",
              "  ('สุนัข', 'NOUN'),\n",
              "  ('ไทย', 'PROPN'),\n",
              "  ('สายพันธุ์', 'NOUN'),\n",
              "  ('เดียว', 'DET'),\n",
              "  ('ที่', 'SCONJ'),\n",
              "  ('มี', 'VERB'),\n",
              "  ('ขน', 'NOUN'),\n",
              "  ('ยาว', 'ADJ'),\n",
              "  ('สองชั้น', 'ADV'),\n",
              "  ('หาง', 'NOUN'),\n",
              "  ('เป็น', 'VERB'),\n",
              "  ('พวง', 'NOUN'),\n",
              "  ('มี', 'VERB'),\n",
              "  ('ขน', 'NOUN'),\n",
              "  ('ขา', 'NOUN'),\n",
              "  ('หน้า', 'ADJ'),\n",
              "  ('คล้าย', 'VERB'),\n",
              "  ('ขน', 'NOUN'),\n",
              "  ('ขา', 'NOUN'),\n",
              "  ('แข้งสิงห์', 'NOUN'),\n",
              "  ('แผง', 'NOUN'),\n",
              "  ('รอบ', 'NOUN'),\n",
              "  ('คอ', 'NOUN'),\n",
              "  ('คล้าย', 'VERB'),\n",
              "  ('สิงโต', 'NOUN'),\n",
              "  ('มี', 'VERB'),\n",
              "  ('ความเฉลียวฉลาด', 'NOUN')]]"
            ]
          },
          "metadata": {},
          "execution_count": 24
        }
      ]
    },
    {
      "cell_type": "code",
      "metadata": {
        "id": "iwx8eGKJa5Cb",
        "outputId": "1175c93b-fd5b-4746-d0af-2bfa35036a2e",
        "colab": {
          "base_uri": "https://localhost:8080/"
        }
      },
      "source": [
        "pos_tag_sents(sents, corpus=\"pud\")"
      ],
      "execution_count": 25,
      "outputs": [
        {
          "output_type": "execute_result",
          "data": {
            "text/plain": [
              "[[('ไทยบางแก้ว', 'NOUN'),\n",
              "  ('หรือ', 'CCONJ'),\n",
              "  ('นิยม', 'NOUN'),\n",
              "  ('เรียก', 'NOUN'),\n",
              "  ('สั้น', 'ADJ'),\n",
              "  (' ', 'ADJ'),\n",
              "  ('ๆ', 'SYM'),\n",
              "  (' ', 'VERB'),\n",
              "  ('ว่า', 'ADP'),\n",
              "  (' ', 'NOUN'),\n",
              "  ('บางแก้ว', 'PROPN'),\n",
              "  (' ', 'PROPN'),\n",
              "  ('เป็น', 'AUX'),\n",
              "  ('สุนัข', 'NOUN'),\n",
              "  ('ประเภท', 'NOUN'),\n",
              "  ('สปิตซ์', 'NOUN'),\n",
              "  ('สายพันธุ์', 'NOUN'),\n",
              "  ('หนึ่ง', 'NUM'),\n",
              "  ('ที่', 'DET'),\n",
              "  ('มี', 'VERB'),\n",
              "  ('ถิ่นกำเนิด', 'NOUN'),\n",
              "  ('ในประเทศ', 'ADP'),\n",
              "  ('ไทย', 'PROPN'),\n",
              "  (' ', 'NOUN'),\n",
              "  ('ที่', 'ADP'),\n",
              "  ('บ้าน', 'NOUN'),\n",
              "  ('บางแก้ว', 'NOUN'),\n",
              "  (' ', 'NOUN'),\n",
              "  ('ตำบล', 'NOUN'),\n",
              "  ('ท่า', 'NOUN'),\n",
              "  ('นางงาม', 'NOUN'),\n",
              "  (' ', 'NOUN'),\n",
              "  ('และ', 'CCONJ'),\n",
              "  ('บ้าน', 'NOUN'),\n",
              "  ('ชุมแสง', 'NOUN'),\n",
              "  ('สงคราม', 'NOUN'),\n",
              "  (' ', 'NOUN'),\n",
              "  ('ตำบล', 'VERB'),\n",
              "  ('ชุมแสง', 'NOUN'),\n",
              "  ('สงคราม', 'NOUN'),\n",
              "  (' ', 'NOUN'),\n",
              "  ('อำเภอ', 'PROPN'),\n",
              "  ('บาง', 'DET'),\n",
              "  ('ระกำ', 'NOUN'),\n",
              "  (' ', 'VERB'),\n",
              "  ('จังหวัด', 'VERB'),\n",
              "  ('พิษณุโลก', 'NOUN')],\n",
              " [('ไทยบางแก้ว', 'PROPN'),\n",
              "  ('ถือเป็น', 'VERB'),\n",
              "  ('สุนัข', 'NOUN'),\n",
              "  ('ไทย', 'PROPN'),\n",
              "  ('สายพันธุ์', 'NOUN'),\n",
              "  ('เดียว', 'ADJ'),\n",
              "  ('ที่', 'DET'),\n",
              "  ('มี', 'VERB'),\n",
              "  ('ขน', 'NOUN'),\n",
              "  ('ยาว', 'ADJ'),\n",
              "  ('สองชั้น', 'NOUN'),\n",
              "  ('หาง', 'ADJ'),\n",
              "  ('เป็น', 'AUX'),\n",
              "  ('พวง', 'NOUN'),\n",
              "  ('มี', 'VERB'),\n",
              "  ('ขน', 'NOUN'),\n",
              "  ('ขา', 'NOUN'),\n",
              "  ('หน้า', 'NOUN'),\n",
              "  ('คล้าย', 'ADJ'),\n",
              "  ('ขน', 'NOUN'),\n",
              "  ('ขา', 'NOUN'),\n",
              "  ('แข้งสิงห์', 'NOUN'),\n",
              "  ('แผง', 'NOUN'),\n",
              "  ('รอบ', 'ADP'),\n",
              "  ('คอ', 'NOUN'),\n",
              "  ('คล้าย', 'VERB'),\n",
              "  ('สิงโต', 'NOUN'),\n",
              "  ('มี', 'VERB'),\n",
              "  ('ความเฉลียวฉลาด', 'NOUN')]]"
            ]
          },
          "metadata": {},
          "execution_count": 25
        }
      ]
    },
    {
      "cell_type": "markdown",
      "metadata": {
        "id": "VnoCCtvmMLwz"
      },
      "source": [
        "# 3. PyThaiNLP Named-Entity Tagging"
      ]
    },
    {
      "cell_type": "markdown",
      "metadata": {
        "id": "CuAadKPIe6za"
      },
      "source": [
        "Named-Entity Recognition หรือ Named Entity Tagging คือ กระบวนการในการหาตำแหน่ง และ แปะป้ายชื่อเฉพาะของสิ่งต่าง ๆ ที่อยู่ในเอกสาร เช่น ชื่อคน ชื่อองค์กร สถานที่ ตัวเลข จำนวนเงิน วันเวลา persons, locations, organizations, products, medical codes, time expressions, quantities, monetary values, percentages"
      ]
    },
    {
      "cell_type": "code",
      "source": [
        "# !pip install transformers sentencepiece  # install for pythainlp 3 wangchanberta"
      ],
      "metadata": {
        "id": "sb7IOwNSO_CC",
        "outputId": "f375c5c5-217a-4f14-b489-5d3d30b0252b",
        "colab": {
          "base_uri": "https://localhost:8080/"
        }
      },
      "execution_count": 36,
      "outputs": [
        {
          "output_type": "stream",
          "name": "stdout",
          "text": [
            "Collecting transformers\n",
            "  Downloading transformers-4.17.0-py3-none-any.whl (3.8 MB)\n",
            "\u001b[K     |████████████████████████████████| 3.8 MB 4.3 MB/s \n",
            "\u001b[?25hCollecting sentencepiece\n",
            "  Downloading sentencepiece-0.1.96-cp37-cp37m-manylinux_2_17_x86_64.manylinux2014_x86_64.whl (1.2 MB)\n",
            "\u001b[K     |████████████████████████████████| 1.2 MB 34.0 MB/s \n",
            "\u001b[?25hCollecting sacremoses\n",
            "  Downloading sacremoses-0.0.47-py2.py3-none-any.whl (895 kB)\n",
            "\u001b[K     |████████████████████████████████| 895 kB 54.2 MB/s \n",
            "\u001b[?25hCollecting tokenizers!=0.11.3,>=0.11.1\n",
            "  Downloading tokenizers-0.11.6-cp37-cp37m-manylinux_2_12_x86_64.manylinux2010_x86_64.whl (6.5 MB)\n",
            "\u001b[K     |████████████████████████████████| 6.5 MB 41.7 MB/s \n",
            "\u001b[?25hRequirement already satisfied: filelock in /usr/local/lib/python3.7/dist-packages (from transformers) (3.6.0)\n",
            "Requirement already satisfied: numpy>=1.17 in /usr/local/lib/python3.7/dist-packages (from transformers) (1.21.5)\n",
            "Collecting pyyaml>=5.1\n",
            "  Downloading PyYAML-6.0-cp37-cp37m-manylinux_2_5_x86_64.manylinux1_x86_64.manylinux_2_12_x86_64.manylinux2010_x86_64.whl (596 kB)\n",
            "\u001b[K     |████████████████████████████████| 596 kB 62.6 MB/s \n",
            "\u001b[?25hRequirement already satisfied: packaging>=20.0 in /usr/local/lib/python3.7/dist-packages (from transformers) (21.3)\n",
            "Requirement already satisfied: importlib-metadata in /usr/local/lib/python3.7/dist-packages (from transformers) (4.11.2)\n",
            "Requirement already satisfied: tqdm>=4.27 in /usr/local/lib/python3.7/dist-packages (from transformers) (4.63.0)\n",
            "Requirement already satisfied: requests in /usr/local/lib/python3.7/dist-packages (from transformers) (2.23.0)\n",
            "Collecting huggingface-hub<1.0,>=0.1.0\n",
            "  Downloading huggingface_hub-0.4.0-py3-none-any.whl (67 kB)\n",
            "\u001b[K     |████████████████████████████████| 67 kB 4.5 MB/s \n",
            "\u001b[?25hRequirement already satisfied: regex!=2019.12.17 in /usr/local/lib/python3.7/dist-packages (from transformers) (2019.12.20)\n",
            "Requirement already satisfied: typing-extensions>=3.7.4.3 in /usr/local/lib/python3.7/dist-packages (from huggingface-hub<1.0,>=0.1.0->transformers) (3.10.0.2)\n",
            "Requirement already satisfied: pyparsing!=3.0.5,>=2.0.2 in /usr/local/lib/python3.7/dist-packages (from packaging>=20.0->transformers) (3.0.7)\n",
            "Requirement already satisfied: zipp>=0.5 in /usr/local/lib/python3.7/dist-packages (from importlib-metadata->transformers) (3.7.0)\n",
            "Requirement already satisfied: certifi>=2017.4.17 in /usr/local/lib/python3.7/dist-packages (from requests->transformers) (2021.10.8)\n",
            "Requirement already satisfied: idna<3,>=2.5 in /usr/local/lib/python3.7/dist-packages (from requests->transformers) (2.10)\n",
            "Requirement already satisfied: urllib3!=1.25.0,!=1.25.1,<1.26,>=1.21.1 in /usr/local/lib/python3.7/dist-packages (from requests->transformers) (1.24.3)\n",
            "Requirement already satisfied: chardet<4,>=3.0.2 in /usr/local/lib/python3.7/dist-packages (from requests->transformers) (3.0.4)\n",
            "Requirement already satisfied: click in /usr/local/lib/python3.7/dist-packages (from sacremoses->transformers) (7.1.2)\n",
            "Requirement already satisfied: six in /usr/local/lib/python3.7/dist-packages (from sacremoses->transformers) (1.15.0)\n",
            "Requirement already satisfied: joblib in /usr/local/lib/python3.7/dist-packages (from sacremoses->transformers) (1.1.0)\n",
            "Installing collected packages: pyyaml, tokenizers, sacremoses, huggingface-hub, transformers, sentencepiece\n",
            "  Attempting uninstall: pyyaml\n",
            "    Found existing installation: PyYAML 3.13\n",
            "    Uninstalling PyYAML-3.13:\n",
            "      Successfully uninstalled PyYAML-3.13\n",
            "Successfully installed huggingface-hub-0.4.0 pyyaml-6.0 sacremoses-0.0.47 sentencepiece-0.1.96 tokenizers-0.11.6 transformers-4.17.0\n"
          ]
        }
      ]
    },
    {
      "cell_type": "code",
      "metadata": {
        "id": "k5VBf7iJML1S",
        "colab": {
          "base_uri": "https://localhost:8080/",
          "height": 241,
          "referenced_widgets": [
            "161be7bb903648178667695e697d2bc2",
            "781a7de1a908444696b513deb8e481b7",
            "4cb0397ff5e14a6e981d782a60516d71",
            "6973af361ecb463b9f28e4f20ace3d94",
            "9060fd04c0574ec59681a4a485630bf2",
            "d5892eb2f83044079d40c79e78036461",
            "d6e3c0f7aa8843f8adf2e798dc49d5cd",
            "12e70b3189ec4b2797a92ce7946716ca",
            "8d6e484dbdd84daa86e3254fce6a8b4c",
            "13795d8e872d44b8ada6b10fa456ce87",
            "2e539829e550491d84bd3c50f6e37ae9",
            "400701e978d748ff95021366d3e007ee",
            "601ac94d14fd4f89bc3f1e8f6d94ca77",
            "a4ae7a19f7294757af9cdfd0dbfb70fd",
            "a28a63d38cda4104badb46e97630bd62",
            "41f947f9f7674c17ab6d558d32f3b245",
            "e4dde8eaf2174d24952208f67f846b0a",
            "94aae76c2d364f2199a614f450480a57",
            "23f942900c0d41d988430520893b930a",
            "4c53ce1157f14f7aba01aca4a481f718",
            "e929d06f4bd946e6b1bd9212659d33c6",
            "e5d2b0fb6ff243a5889b6891f6ef1d5b",
            "c816e4a522574ff2a578d587f73db95e",
            "8c2a1e36eacd4ba9998478444fb9044b",
            "f422659c87cb4b258ba40c400c006b97",
            "998d9222453b47fa8965ac59d93548cd",
            "ce0a2eabc11e4c17bb7b2e5d0c83400d",
            "c3b72bab0b8846a8a42c9083506a3184",
            "61f44c75549d46c7829182c9583930ba",
            "c85810c586ef4b528cb56b69dcd9d445",
            "ada85fa21b41402b951b240d5473c75c",
            "46dbaa8c54c94396941856ca6eb3030a",
            "92125e1e9b984b84a9d7ccf0b4355be2",
            "fa676ffaedaa409faafb1deebd69d1ad",
            "f529e8ab232445ab8a841d233b881a4b",
            "8137b7b63fe44e0f93bfb118f393d5e3",
            "68910d8e791d40098620f9a46ec5d0d4",
            "d77a10a1d39c4fbba372adedb53233db",
            "00b1d6c65d5044328387d0760b4c5707",
            "8e13a7a323db416086af51b527c13881",
            "6e389a6228ef4e76bdf88824cffabfbe",
            "1cf187a8e4584763967983239948543e",
            "bf0d54972826494cab57957a2449bcf5",
            "f06c3d241ad046aa93a46379a3d3e714",
            "557148b29a884009ac585def31a7a0bf",
            "3cc5a2e22c10459a8a16d187d0c3e4fa",
            "bc50ce06240c441ab6409778864c27be",
            "49cfcdfb7f11484f92c0857646b5a4a1",
            "58688c4d99934dbb8850b1fcf6239732",
            "d21ed4a421294c9a92af8bfb86f8b245",
            "385ad3fb07d643578546bedaa698becb",
            "e212ed8f75da4dd28dfbaa4cf538c50e",
            "0bb29b4983f745948bdaef19b21f196a",
            "5ed2c4c19e4e4703b1c94ace7ffcfb0e",
            "0b9ba44c0be048d3b82bd557171ae603",
            "675ce80cab8f41718fd3fbb75d3a216e",
            "64f2e5aa1f77427ab2172ed8c377e681",
            "e7e3c0fb0bfc495dae3ed7755bbf8931",
            "2a5401b4ff454a9db7cb3c55b2ba6fd2",
            "b910c0155cb94ffe9b87f19b7c50e712",
            "f3a68017848f4e7ba3c755d4d91eb997",
            "c5cccb2c06294d3fbc6f5b219d440cb6",
            "7338230fec724be4bde13f7c283c5c69",
            "e37e6a99cece4e39bb3f163b57f3c7cf",
            "7b8b6980670d4d989f1bc23db4bac446",
            "8bb2106f3f9c430e9bd415a16d8c558c",
            "ebffd0516f304c6b8f838b8c1c09bc53",
            "f3d9561e739f460582355abc71d116a6",
            "98ee9145531147818211bd9f231b6345",
            "d04f643548874a57a3b41af909a1344c",
            "ab50e0c2dc564b86bcd950d9654c8a17",
            "4c0c44e2b9d849f197bcc438e9507ac9",
            "da9f7d596c584bff816984ba70c0d9de",
            "d5d59c1388774e54827dd8c7891e613c",
            "14476bcc60d747ea990beb8c52dc0775",
            "9ab3895db4964a1bb775ea9e7c19cf63",
            "768bc589a1ff41f5a72de08504301aa5"
          ]
        },
        "outputId": "a4902ea4-77f8-4176-a950-54335ddb9376"
      },
      "source": [
        "# from pythainlp.tag.named_entity import ThaiNameTagger # pythainlp 2\n",
        "# from pythainlp.tag.thainer import ThaiNameTagger # pythainlp 3\n",
        "from pythainlp.wangchanberta import ThaiNameTagger # pythainlp 3 wangchanberta\n",
        "\n",
        "ner = ThaiNameTagger()\n",
        "# ner.get_ner??"
      ],
      "execution_count": 37,
      "outputs": [
        {
          "output_type": "display_data",
          "data": {
            "application/vnd.jupyter.widget-view+json": {
              "model_id": "161be7bb903648178667695e697d2bc2",
              "version_minor": 0,
              "version_major": 2
            },
            "text/plain": [
              "Downloading:   0%|          | 0.00/883k [00:00<?, ?B/s]"
            ]
          },
          "metadata": {}
        },
        {
          "output_type": "display_data",
          "data": {
            "application/vnd.jupyter.widget-view+json": {
              "model_id": "400701e978d748ff95021366d3e007ee",
              "version_minor": 0,
              "version_major": 2
            },
            "text/plain": [
              "Downloading:   0%|          | 0.00/282 [00:00<?, ?B/s]"
            ]
          },
          "metadata": {}
        },
        {
          "output_type": "display_data",
          "data": {
            "application/vnd.jupyter.widget-view+json": {
              "model_id": "c816e4a522574ff2a578d587f73db95e",
              "version_minor": 0,
              "version_major": 2
            },
            "text/plain": [
              "Downloading:   0%|          | 0.00/546 [00:00<?, ?B/s]"
            ]
          },
          "metadata": {}
        },
        {
          "output_type": "display_data",
          "data": {
            "application/vnd.jupyter.widget-view+json": {
              "model_id": "fa676ffaedaa409faafb1deebd69d1ad",
              "version_minor": 0,
              "version_major": 2
            },
            "text/plain": [
              "Downloading:   0%|          | 0.00/1.03k [00:00<?, ?B/s]"
            ]
          },
          "metadata": {}
        },
        {
          "output_type": "display_data",
          "data": {
            "application/vnd.jupyter.widget-view+json": {
              "model_id": "557148b29a884009ac585def31a7a0bf",
              "version_minor": 0,
              "version_major": 2
            },
            "text/plain": [
              "Downloading:   0%|          | 0.00/399M [00:00<?, ?B/s]"
            ]
          },
          "metadata": {}
        },
        {
          "output_type": "display_data",
          "data": {
            "application/vnd.jupyter.widget-view+json": {
              "model_id": "675ce80cab8f41718fd3fbb75d3a216e",
              "version_minor": 0,
              "version_major": 2
            },
            "text/plain": [
              "Downloading:   0%|          | 0.00/1.75k [00:00<?, ?B/s]"
            ]
          },
          "metadata": {}
        },
        {
          "output_type": "display_data",
          "data": {
            "application/vnd.jupyter.widget-view+json": {
              "model_id": "ebffd0516f304c6b8f838b8c1c09bc53",
              "version_minor": 0,
              "version_major": 2
            },
            "text/plain": [
              "Downloading:   0%|          | 0.00/399M [00:00<?, ?B/s]"
            ]
          },
          "metadata": {}
        }
      ]
    },
    {
      "cell_type": "markdown",
      "metadata": {
        "id": "_E4wWy9LeOrX"
      },
      "source": [
        "## 3.1 POS Tag"
      ]
    },
    {
      "cell_type": "code",
      "metadata": {
        "id": "jtNnQb_BrkzZ"
      },
      "source": [
        "text2 = \"จังหวัดพะเยา เป็นจังหวัดในภาคเหนือตอนบน บริเวณที่ตั้งของตัวเมืองพะเยาในปัจจุบันอยู่ติดกับกว๊านพะเยา เดิมเป็นที่ตั้งของเมือง ภูกามยาว หรือ พะยาว ที่ก่อตั้งขึ้นเมื่อพุทธศตวรรษที่ 16 โดยกษัตริย์องค์แรกคือ พญาจอมธรรม\""
      ],
      "execution_count": 38,
      "outputs": []
    },
    {
      "cell_type": "code",
      "metadata": {
        "id": "phO4H9qLML6N",
        "outputId": "2fd22851-1397-468d-f575-6f2536619fab",
        "colab": {
          "base_uri": "https://localhost:8080/"
        }
      },
      "source": [
        "ner.get_ner(text2)"
      ],
      "execution_count": 39,
      "outputs": [
        {
          "output_type": "stream",
          "name": "stderr",
          "text": [
            "Asking to truncate to max_length but no maximum length is provided and the model has no predefined maximum length. Default to no truncation.\n"
          ]
        },
        {
          "output_type": "execute_result",
          "data": {
            "text/plain": [
              "[('จังหวัด', 'B-LOCATION'),\n",
              " ('พะเยา', 'I-LOCATION'),\n",
              " ('  เป็น', 'O'),\n",
              " ('จังหวัด', 'B-LOCATION'),\n",
              " ('ในภาคเหนือ', 'I-LOCATION'),\n",
              " ('ตอนบน', 'I-LOCATION'),\n",
              " ('  บริเวณที่ตั้งของ', 'O'),\n",
              " ('ตัวเมือง', 'B-LOCATION'),\n",
              " ('พะเยา', 'I-LOCATION'),\n",
              " ('ในปัจจุบันอยู่ติดกับ', 'O'),\n",
              " ('ก', 'B-LOCATION'),\n",
              " ('ว๊า', 'I-LOCATION'),\n",
              " ('น', 'I-LOCATION'),\n",
              " ('พะเยา', 'I-LOCATION'),\n",
              " ('  เดิมเป็นที่ตั้งของ', 'O'),\n",
              " ('เมือง', 'B-LOCATION'),\n",
              " (' ', 'O'),\n",
              " ('ภูกามยาว', 'B-LOCATION'),\n",
              " ('  หรือ', 'O'),\n",
              " (' ', 'B-LOCATION'),\n",
              " ('พะยาว', 'I-LOCATION'),\n",
              " ('  ที่ก่อตั้งขึ้นเมื่อพุทธศตวรรษที่ ', 'O'),\n",
              " ('', 'B-DATE'),\n",
              " ('16', 'I-DATE'),\n",
              " ('  โดยกษัตริย์องค์แรกคือ ', 'O'),\n",
              " ('', 'B-PERSON'),\n",
              " ('พญา', 'I-PERSON'),\n",
              " ('จอม', 'I-PERSON'),\n",
              " ('ธรรม', 'I-PERSON')]"
            ]
          },
          "metadata": {},
          "execution_count": 39
        }
      ]
    },
    {
      "cell_type": "code",
      "metadata": {
        "id": "4FHqTVQWrs0N"
      },
      "source": [
        "text3 = \"ในท้ายที่สุดก่อนที่พะเยาจะถูกยกฐานะขึ้นเป็นจังหวัดพะเยา พะเยาอยู่ใต้การปกครองของจังหวัดเชียงรายในฐานะ อำเภอพะเยา และเมื่อวันที่ 28 สิงหาคม พ.ศ. 2520 อำเภอพะเยาได้ยกฐานะขึ้นเป็น จังหวัดพะเยา นับเป็นจังหวัดที่ 72 ของประเทศไทย\""
      ],
      "execution_count": 40,
      "outputs": []
    },
    {
      "cell_type": "code",
      "metadata": {
        "id": "haTHh1lBdETx",
        "outputId": "069b6bca-17aa-41e8-926c-20068123f61c",
        "colab": {
          "base_uri": "https://localhost:8080/"
        }
      },
      "source": [
        "ner.get_ner(text3)"
      ],
      "execution_count": 41,
      "outputs": [
        {
          "output_type": "execute_result",
          "data": {
            "text/plain": [
              "[('ในท้ายที่สุดก่อนที่', 'O'),\n",
              " ('พะเยา', 'B-LOCATION'),\n",
              " ('จะถูกยกฐานะขึ้นเป็น', 'O'),\n",
              " ('จังหวัด', 'B-LOCATION'),\n",
              " ('พะเยา', 'I-LOCATION'),\n",
              " (' ', 'O'),\n",
              " ('', 'B-LOCATION'),\n",
              " ('พะเยา', 'I-LOCATION'),\n",
              " ('อยู่ใต้การปกครอง', 'O'),\n",
              " ('ของจังหวัด', 'B-LOCATION'),\n",
              " ('เชียงราย', 'I-LOCATION'),\n",
              " ('ในฐานะ ', 'O'),\n",
              " ('', 'B-LOCATION'),\n",
              " ('อําเภอ', 'I-LOCATION'),\n",
              " ('พะเยา', 'I-LOCATION'),\n",
              " ('  และเมื่อวันที่ ', 'O'),\n",
              " ('', 'B-DATE'),\n",
              " ('28', 'I-DATE'),\n",
              " (' ', 'O'),\n",
              " ('สิงหาคม  พ.ศ.  2520', 'B-DATE'),\n",
              " (' ', 'O'),\n",
              " ('', 'B-LOCATION'),\n",
              " ('อําเภอ', 'I-LOCATION'),\n",
              " ('พะเยา', 'I-LOCATION'),\n",
              " ('ได้ยกฐานะขึ้นเป็น ', 'O'),\n",
              " ('', 'B-LOCATION'),\n",
              " ('จังหวัด', 'I-LOCATION'),\n",
              " ('พะเยา', 'I-LOCATION'),\n",
              " ('  นับเป็นจังหวัดที่  72  ของ', 'O'),\n",
              " ('ประเทศไทย', 'B-LOCATION')]"
            ]
          },
          "metadata": {},
          "execution_count": 41
        }
      ]
    },
    {
      "cell_type": "markdown",
      "metadata": {
        "id": "UDE9BslloFJr"
      },
      "source": [
        "*B = Beginning, I = Inside, O = Outside*"
      ]
    },
    {
      "cell_type": "markdown",
      "metadata": {
        "id": "KP2zYJZ8elLQ"
      },
      "source": [
        "## 3.2 Output like HTML Tag"
      ]
    },
    {
      "cell_type": "markdown",
      "metadata": {
        "id": "yswQ7T3Fd8-Z"
      },
      "source": [
        "เราสามารถกำหนดให้ Output เป็น tag แบบ HTML ได้ ด้วย tag=True"
      ]
    },
    {
      "cell_type": "code",
      "metadata": {
        "id": "FFCmaT10ryX6"
      },
      "source": [
        "text4 = \"จังหวัดพะเยา เป็นจังหวัดในภาคเหนือตอนบน บริเวณที่ตั้งของตัวเมืองพะเยาในปัจจุบันอยู่ติดกับกว๊านพะเยา เดิมเป็นที่ตั้งของเมือง ภูกามยาว หรือ พะยาว ที่ก่อตั้งขึ้นเมื่อพุทธศตวรรษที่ 16 โดยกษัตริย์องค์แรกคือ พญาจอมธรรม\""
      ],
      "execution_count": 42,
      "outputs": []
    },
    {
      "cell_type": "code",
      "metadata": {
        "id": "i15GoRutd35S",
        "outputId": "abf03776-b2d6-4fd5-b59f-541a907bc2a3",
        "colab": {
          "base_uri": "https://localhost:8080/",
          "height": 70
        }
      },
      "source": [
        "ner.get_ner(text4, tag=True)"
      ],
      "execution_count": 43,
      "outputs": [
        {
          "output_type": "execute_result",
          "data": {
            "application/vnd.google.colaboratory.intrinsic+json": {
              "type": "string"
            },
            "text/plain": [
              "'<LOCATION>จังหวัดพะเยา</LOCATION>  เป็น<LOCATION>จังหวัดในภาคเหนือตอนบน</LOCATION>  บริเวณที่ตั้งของ<LOCATION>ตัวเมืองพะเยา</LOCATION>ในปัจจุบันอยู่ติดกับ<LOCATION>กว๊านพะเยา</LOCATION>  เดิมเป็นที่ตั้งของ<LOCATION>เมือง</LOCATION> <LOCATION>ภูกามยาว</LOCATION>  หรือ<LOCATION> พะยาว</LOCATION>  ที่ก่อตั้งขึ้นเมื่อพุทธศตวรรษที่ <DATE>16</DATE>  โดยกษัตริย์องค์แรกคือ <PERSON>พญาจอมธรรม</PERSON>'"
            ]
          },
          "metadata": {},
          "execution_count": 43
        }
      ]
    },
    {
      "cell_type": "markdown",
      "metadata": {
        "id": "EK8Mv6wyML_U"
      },
      "source": [
        "# Credit"
      ]
    },
    {
      "cell_type": "markdown",
      "metadata": {
        "id": "qTi5ixZxcVcn"
      },
      "source": [
        "* http://thainlp.org/pythainlp/tutorials/notebooks/pythainlp_get_started.html\n",
        "* https://www.academia.edu/9127599/Thai_Treebank\n",
        "* https://universaldependencies.org/u/pos/\n",
        "* https://github.com/UniversalDependencies/UD_Thai-PUD\n",
        "* "
      ]
    },
    {
      "cell_type": "code",
      "metadata": {
        "id": "3V4Rc3Q8ct8i"
      },
      "source": [
        ""
      ],
      "execution_count": null,
      "outputs": []
    }
  ]
}