{
  "nbformat": 4,
  "nbformat_minor": 0,
  "metadata": {
    "colab": {
      "name": "15d_tensor_gather.ipynb",
      "provenance": [],
      "authorship_tag": "ABX9TyNygtwOb6fXB7fMXYlzFmlM"
    },
    "kernelspec": {
      "name": "python3",
      "display_name": "Python 3"
    }
  },
  "cells": [
    {
      "cell_type": "markdown",
      "metadata": {
        "id": "Aysq7LYTzUM5",
        "colab_type": "text"
      },
      "source": [
        "ใน ep ก่อน ๆ เราได้เรียนรู้การจัดการมิติ การเลือกข้อมูลด้วย [indexing, slicing](https://www.bualabs.com/archives/1749/how-to-pytorch-reshape-squeeze-unsqueeze-flatten-manipulate-shape-high-order-dimensions-tensor-ep-2/) กันไปแล้ว ใน ep นี้ เราจะมาเรียนรู้การเลือกข้อมูล Tensor ที่ซับซ้อนยิ่งขึ้น ด้วย gather อ่านเอกสารแล้วอาจจะยังงง เรามาดูตัวอย่างกันเลยดีกว่า"
      ]
    },
    {
      "cell_type": "code",
      "metadata": {
        "id": "9t6KGIQvdcb5",
        "colab_type": "code",
        "colab": {}
      },
      "source": [
        "import torch\n",
        "from torch import tensor"
      ],
      "execution_count": 0,
      "outputs": []
    },
    {
      "cell_type": "markdown",
      "metadata": {
        "id": "PM6ctI9gg9t-",
        "colab_type": "text"
      },
      "source": [
        "# 1. ข้อมูลตัวอย่าง"
      ]
    },
    {
      "cell_type": "markdown",
      "metadata": {
        "id": "lZL988ivhKLf",
        "colab_type": "text"
      },
      "source": [
        "สร้าง tensor 2 มิติ ขนาด 4 x 10 โดยรันเลข แถว และ หลัก จะได้ดูง่าย"
      ]
    },
    {
      "cell_type": "code",
      "metadata": {
        "id": "YrrUMVJUdCzz",
        "colab_type": "code",
        "colab": {
          "base_uri": "https://localhost:8080/",
          "height": 34
        },
        "outputId": "0d1ad2ea-122a-445d-dcc2-426f6112d448"
      },
      "source": [
        "x = torch.arange(40).reshape(4, 10)\n",
        "x.shape"
      ],
      "execution_count": 18,
      "outputs": [
        {
          "output_type": "execute_result",
          "data": {
            "text/plain": [
              "torch.Size([4, 10])"
            ]
          },
          "metadata": {
            "tags": []
          },
          "execution_count": 18
        }
      ]
    },
    {
      "cell_type": "code",
      "metadata": {
        "id": "Dya78s7SgvPt",
        "colab_type": "code",
        "colab": {
          "base_uri": "https://localhost:8080/",
          "height": 85
        },
        "outputId": "fb511f33-d648-48d9-9dbe-f684390e126b"
      },
      "source": [
        "x"
      ],
      "execution_count": 19,
      "outputs": [
        {
          "output_type": "execute_result",
          "data": {
            "text/plain": [
              "tensor([[ 0,  1,  2,  3,  4,  5,  6,  7,  8,  9],\n",
              "        [10, 11, 12, 13, 14, 15, 16, 17, 18, 19],\n",
              "        [20, 21, 22, 23, 24, 25, 26, 27, 28, 29],\n",
              "        [30, 31, 32, 33, 34, 35, 36, 37, 38, 39]])"
            ]
          },
          "metadata": {
            "tags": []
          },
          "execution_count": 19
        }
      ]
    },
    {
      "cell_type": "markdown",
      "metadata": {
        "id": "ENoY60CWhFsm",
        "colab_type": "text"
      },
      "source": [
        "เราสามารถ เลือกด้วย [indexing](https://www.bualabs.com/archives/1629/what-is-tensor-element-wise-broadcasting-operations-high-order-tensor-numpy-array-matrix-vector-tensor-ep-1/) ตามปกติ"
      ]
    },
    {
      "cell_type": "code",
      "metadata": {
        "id": "le2Emo-rdfqG",
        "colab_type": "code",
        "colab": {
          "base_uri": "https://localhost:8080/",
          "height": 34
        },
        "outputId": "cb804e82-0ece-4914-be7e-71336e67f1e8"
      },
      "source": [
        "x[1, :]"
      ],
      "execution_count": 8,
      "outputs": [
        {
          "output_type": "execute_result",
          "data": {
            "text/plain": [
              "tensor([10, 11, 12, 13, 14, 15, 16, 17, 18, 19])"
            ]
          },
          "metadata": {
            "tags": []
          },
          "execution_count": 8
        }
      ]
    },
    {
      "cell_type": "code",
      "metadata": {
        "id": "RNQhAQ6Hdnap",
        "colab_type": "code",
        "colab": {
          "base_uri": "https://localhost:8080/",
          "height": 34
        },
        "outputId": "29830da7-6d83-4828-a19e-7429bd44256d"
      },
      "source": [
        "x[:, 2]"
      ],
      "execution_count": 10,
      "outputs": [
        {
          "output_type": "execute_result",
          "data": {
            "text/plain": [
              "tensor([ 2, 12, 22, 32])"
            ]
          },
          "metadata": {
            "tags": []
          },
          "execution_count": 10
        }
      ]
    },
    {
      "cell_type": "markdown",
      "metadata": {
        "id": "KE0yXKm3g6LO",
        "colab_type": "text"
      },
      "source": [
        "# 2. gather"
      ]
    },
    {
      "cell_type": "markdown",
      "metadata": {
        "id": "XQCcj7-gdxea",
        "colab_type": "text"
      },
      "source": [
        "ถ้าเราต้องการ เลือกข้อมูล แบบอิสระตามใจ เช่น ตัว 3 แถวแรก, ตัว 5 แถวสอง, ตัว 7 แถวสาม, ตัว 9 แถวสี่ จะทำอย่างไร คำตอบ คือ ใช้ gather"
      ]
    },
    {
      "cell_type": "code",
      "metadata": {
        "id": "XQyFuCybgEBZ",
        "colab_type": "code",
        "colab": {
          "base_uri": "https://localhost:8080/",
          "height": 34
        },
        "outputId": "0ab716d3-5f5d-4da0-abe9-5872b485d2ac"
      },
      "source": [
        "idx = torch.LongTensor([3, 5, 7, 9]).unsqueeze(-1)\n",
        "idx.shape"
      ],
      "execution_count": 25,
      "outputs": [
        {
          "output_type": "execute_result",
          "data": {
            "text/plain": [
              "torch.Size([4, 1])"
            ]
          },
          "metadata": {
            "tags": []
          },
          "execution_count": 25
        }
      ]
    },
    {
      "cell_type": "markdown",
      "metadata": {
        "id": "1vf1f1oqis9L",
        "colab_type": "text"
      },
      "source": [
        "เบื้องต้น เราต้องทำให้ index ที่ใช้ในการเลือก มีมิติเหมือนข้อมูลที่มิติ ยกเว้นมิติที่ใช้เลือก ให้เท่ากับ 1 ดังด้านบน ข้อมูลเป็น 4x10, index เป็น 4x1"
      ]
    },
    {
      "cell_type": "code",
      "metadata": {
        "id": "e8zPOni2g0Wk",
        "colab_type": "code",
        "colab": {
          "base_uri": "https://localhost:8080/",
          "height": 85
        },
        "outputId": "8c14034a-6777-4991-ad9b-1f9dcdae3759"
      },
      "source": [
        "idx"
      ],
      "execution_count": 26,
      "outputs": [
        {
          "output_type": "execute_result",
          "data": {
            "text/plain": [
              "tensor([[3],\n",
              "        [5],\n",
              "        [7],\n",
              "        [9]])"
            ]
          },
          "metadata": {
            "tags": []
          },
          "execution_count": 26
        }
      ]
    },
    {
      "cell_type": "markdown",
      "metadata": {
        "id": "xqumR-jfjD0S",
        "colab_type": "text"
      },
      "source": [
        "เรียก gather ข้อมูลใน x ในมิติที่ 1 ด้วย index ที่กำหนด"
      ]
    },
    {
      "cell_type": "code",
      "metadata": {
        "id": "vqb1s_-MgOnv",
        "colab_type": "code",
        "colab": {
          "base_uri": "https://localhost:8080/",
          "height": 85
        },
        "outputId": "4662d857-df50-4e16-9e3a-946ae37ef92a"
      },
      "source": [
        "dim = 1\n",
        "x.gather(dim, idx)"
      ],
      "execution_count": 27,
      "outputs": [
        {
          "output_type": "execute_result",
          "data": {
            "text/plain": [
              "tensor([[ 3],\n",
              "        [15],\n",
              "        [27],\n",
              "        [39]])"
            ]
          },
          "metadata": {
            "tags": []
          },
          "execution_count": 27
        }
      ]
    },
    {
      "cell_type": "markdown",
      "metadata": {
        "id": "vAmSyZR8nUmb",
        "colab_type": "text"
      },
      "source": [
        "output ที่ได้ออกมาจะมีมิติ เหมือน index เสมอ"
      ]
    },
    {
      "cell_type": "markdown",
      "metadata": {
        "id": "SVZi1vp6kHJ2",
        "colab_type": "text"
      },
      "source": [
        "# 3. gather ทีละหลาย ๆ ตัว"
      ]
    },
    {
      "cell_type": "markdown",
      "metadata": {
        "id": "wrWb911RkMT6",
        "colab_type": "text"
      },
      "source": [
        "เราไม่จำเป็นต้องเลือกมิติละตัว เราสามารถใส่มิติที่เลือกมากกว่า 1 ได้ เช่น ตัวอย่างด้านล่าง เราจะเปลี่ยนจากเลือก 1 ตัว เป็นเลือกทีละ 2 ตัว 4x1 เป็น 4x2 โดย เลือก\n",
        "\n",
        "* ตัว 3, 4 แถวแรก\n",
        "* ตัว 5, 6 แถวสอง\n",
        "* ตัว 7, 8 แถวสาม\n",
        "* ตัว 9, 0 แถวสี่"
      ]
    },
    {
      "cell_type": "code",
      "metadata": {
        "colab_type": "code",
        "outputId": "89cb51dc-e18d-4dba-b6da-1b9bd36f3421",
        "id": "QPyo3XOvkPJb",
        "colab": {
          "base_uri": "https://localhost:8080/",
          "height": 34
        }
      },
      "source": [
        "idx = torch.LongTensor([[3, 4], [5, 6], [7, 8], [9, 0]])\n",
        "idx.shape"
      ],
      "execution_count": 37,
      "outputs": [
        {
          "output_type": "execute_result",
          "data": {
            "text/plain": [
              "torch.Size([4, 2])"
            ]
          },
          "metadata": {
            "tags": []
          },
          "execution_count": 37
        }
      ]
    },
    {
      "cell_type": "markdown",
      "metadata": {
        "colab_type": "text",
        "id": "FwUcOkuAkPJm"
      },
      "source": [
        "เราจะทำให้ index ที่ใช้ในการเลือก มีมิติเหมือนข้อมูลที่มิติ ยกเว้นมิติที่ใช้เลือก ให้เท่ากับ 2 ดังด้านบน ข้อมูลเป็น 4x10, index เป็น 4x2"
      ]
    },
    {
      "cell_type": "code",
      "metadata": {
        "colab_type": "code",
        "outputId": "aa3db1f8-63dd-4fd5-dc41-229e63178554",
        "id": "o4OsfAr5kPJo",
        "colab": {
          "base_uri": "https://localhost:8080/",
          "height": 85
        }
      },
      "source": [
        "idx"
      ],
      "execution_count": 38,
      "outputs": [
        {
          "output_type": "execute_result",
          "data": {
            "text/plain": [
              "tensor([[3, 4],\n",
              "        [5, 6],\n",
              "        [7, 8],\n",
              "        [9, 0]])"
            ]
          },
          "metadata": {
            "tags": []
          },
          "execution_count": 38
        }
      ]
    },
    {
      "cell_type": "markdown",
      "metadata": {
        "colab_type": "text",
        "id": "avY3kh5akPJs"
      },
      "source": [
        "เรียก gather ข้อมูลใน x ในมิติที่ 1 ด้วย index ที่กำหนด"
      ]
    },
    {
      "cell_type": "code",
      "metadata": {
        "colab_type": "code",
        "outputId": "46f11125-6fc5-4cbc-c4b6-e13f3c4e87e6",
        "id": "YkTHIVqAkPJs",
        "colab": {
          "base_uri": "https://localhost:8080/",
          "height": 85
        }
      },
      "source": [
        "dim = 1\n",
        "x.gather(dim, idx)"
      ],
      "execution_count": 39,
      "outputs": [
        {
          "output_type": "execute_result",
          "data": {
            "text/plain": [
              "tensor([[ 3,  4],\n",
              "        [15, 16],\n",
              "        [27, 28],\n",
              "        [39, 30]])"
            ]
          },
          "metadata": {
            "tags": []
          },
          "execution_count": 39
        }
      ]
    },
    {
      "cell_type": "markdown",
      "metadata": {
        "id": "LlZA7YdJm-oo",
        "colab_type": "text"
      },
      "source": [
        "เราสามารถเลือกทีทีละหลายตัวไม่จำกัด สามารถเพิ่มขนาดของ index ไปเรื่อย ๆ output ที่ได้ออกมาจะมีมิติ เหมือน index เสมอ"
      ]
    },
    {
      "cell_type": "markdown",
      "metadata": {
        "id": "M814DUgHge7s",
        "colab_type": "text"
      },
      "source": [
        "# 4. gather ข้อมูล 3 มิติ"
      ]
    },
    {
      "cell_type": "markdown",
      "metadata": {
        "id": "kgLJpcoMqnVv",
        "colab_type": "text"
      },
      "source": [
        "สร้างข้อมูลตัวอย่าง 3 มิติ ให้มีเลขหลักหน่วย สิบ ร้อย ตามมิติ จะได้ดูง่าย"
      ]
    },
    {
      "cell_type": "code",
      "metadata": {
        "id": "5K34zLFCjS3k",
        "colab_type": "code",
        "colab": {
          "base_uri": "https://localhost:8080/",
          "height": 34
        },
        "outputId": "1626da77-5fb4-4b49-e75c-8977a04be044"
      },
      "source": [
        "a = torch.arange(0, 8, step=1).unsqueeze(0).unsqueeze(0)\n",
        "b = torch.arange(0, 60, step=10).unsqueeze(-1).unsqueeze(0)\n",
        "c = torch.arange(0, 400, step=100).unsqueeze(-1).unsqueeze(-1)\n",
        "\n",
        "x = a + b + c\n",
        "x.shape"
      ],
      "execution_count": 78,
      "outputs": [
        {
          "output_type": "execute_result",
          "data": {
            "text/plain": [
              "torch.Size([4, 6, 8])"
            ]
          },
          "metadata": {
            "tags": []
          },
          "execution_count": 78
        }
      ]
    },
    {
      "cell_type": "markdown",
      "metadata": {
        "id": "IGM1LAgtt6C0",
        "colab_type": "text"
      },
      "source": [
        "ได้มิติเป็น 4x6x8"
      ]
    },
    {
      "cell_type": "code",
      "metadata": {
        "id": "WDAQ7Pvbk0DR",
        "colab_type": "code",
        "colab": {
          "base_uri": "https://localhost:8080/",
          "height": 476
        },
        "outputId": "a679ca1f-bfc7-4dfa-a44d-800151b77d31"
      },
      "source": [
        "x"
      ],
      "execution_count": 79,
      "outputs": [
        {
          "output_type": "execute_result",
          "data": {
            "text/plain": [
              "tensor([[[  0,   1,   2,   3,   4,   5,   6,   7],\n",
              "         [ 10,  11,  12,  13,  14,  15,  16,  17],\n",
              "         [ 20,  21,  22,  23,  24,  25,  26,  27],\n",
              "         [ 30,  31,  32,  33,  34,  35,  36,  37],\n",
              "         [ 40,  41,  42,  43,  44,  45,  46,  47],\n",
              "         [ 50,  51,  52,  53,  54,  55,  56,  57]],\n",
              "\n",
              "        [[100, 101, 102, 103, 104, 105, 106, 107],\n",
              "         [110, 111, 112, 113, 114, 115, 116, 117],\n",
              "         [120, 121, 122, 123, 124, 125, 126, 127],\n",
              "         [130, 131, 132, 133, 134, 135, 136, 137],\n",
              "         [140, 141, 142, 143, 144, 145, 146, 147],\n",
              "         [150, 151, 152, 153, 154, 155, 156, 157]],\n",
              "\n",
              "        [[200, 201, 202, 203, 204, 205, 206, 207],\n",
              "         [210, 211, 212, 213, 214, 215, 216, 217],\n",
              "         [220, 221, 222, 223, 224, 225, 226, 227],\n",
              "         [230, 231, 232, 233, 234, 235, 236, 237],\n",
              "         [240, 241, 242, 243, 244, 245, 246, 247],\n",
              "         [250, 251, 252, 253, 254, 255, 256, 257]],\n",
              "\n",
              "        [[300, 301, 302, 303, 304, 305, 306, 307],\n",
              "         [310, 311, 312, 313, 314, 315, 316, 317],\n",
              "         [320, 321, 322, 323, 324, 325, 326, 327],\n",
              "         [330, 331, 332, 333, 334, 335, 336, 337],\n",
              "         [340, 341, 342, 343, 344, 345, 346, 347],\n",
              "         [350, 351, 352, 353, 354, 355, 356, 357]]])"
            ]
          },
          "metadata": {
            "tags": []
          },
          "execution_count": 79
        }
      ]
    },
    {
      "cell_type": "markdown",
      "metadata": {
        "id": "CnY4eLZOq1rn",
        "colab_type": "text"
      },
      "source": [
        "เราสามารถ เลือกด้วย [indexing](https://www.bualabs.com/archives/1629/what-is-tensor-element-wise-broadcasting-operations-high-order-tensor-numpy-array-matrix-vector-tensor-ep-1/) ตามปกติ"
      ]
    },
    {
      "cell_type": "code",
      "metadata": {
        "id": "SFK0gh27k0Gt",
        "colab_type": "code",
        "colab": {
          "base_uri": "https://localhost:8080/",
          "height": 34
        },
        "outputId": "32c529dd-730f-4398-ecd4-12493cc77076"
      },
      "source": [
        "x[1, 2, 3], x[2, 1, 0], x[2, 5, 6]"
      ],
      "execution_count": 80,
      "outputs": [
        {
          "output_type": "execute_result",
          "data": {
            "text/plain": [
              "(tensor(123), tensor(210), tensor(256))"
            ]
          },
          "metadata": {
            "tags": []
          },
          "execution_count": 80
        }
      ]
    },
    {
      "cell_type": "code",
      "metadata": {
        "id": "2m_6l7T7rSxt",
        "colab_type": "code",
        "colab": {
          "base_uri": "https://localhost:8080/",
          "height": 34
        },
        "outputId": "64aa38e5-99ca-4fa2-edeb-07ea163f4d53"
      },
      "source": [
        "x[:, 3, 2]"
      ],
      "execution_count": 81,
      "outputs": [
        {
          "output_type": "execute_result",
          "data": {
            "text/plain": [
              "tensor([ 32, 132, 232, 332])"
            ]
          },
          "metadata": {
            "tags": []
          },
          "execution_count": 81
        }
      ]
    },
    {
      "cell_type": "code",
      "metadata": {
        "id": "cjLHSMJrrBsr",
        "colab_type": "code",
        "colab": {
          "base_uri": "https://localhost:8080/",
          "height": 85
        },
        "outputId": "7e898de2-8f71-4075-b14a-3d7a7634226e"
      },
      "source": [
        "x[:, 2, :]"
      ],
      "execution_count": 82,
      "outputs": [
        {
          "output_type": "execute_result",
          "data": {
            "text/plain": [
              "tensor([[ 20,  21,  22,  23,  24,  25,  26,  27],\n",
              "        [120, 121, 122, 123, 124, 125, 126, 127],\n",
              "        [220, 221, 222, 223, 224, 225, 226, 227],\n",
              "        [320, 321, 322, 323, 324, 325, 326, 327]])"
            ]
          },
          "metadata": {
            "tags": []
          },
          "execution_count": 82
        }
      ]
    },
    {
      "cell_type": "markdown",
      "metadata": {
        "id": "-2-sLxWgk8to",
        "colab_type": "text"
      },
      "source": [
        "ในเคสตัวอย่างเช่น Sequence Model ข้อมูลตัวอย่าง มี 3 มิติ เช่น BATCH_SIZE x MAX_SEQ_LEN x HIDDEN_STATE สมมติเราต้องการเลือก Hidden State ทั้งหมดของ Batch ที่ตัวสุดท้ายของ Sequence เรามีลิสต์ความยาวของ Sequence ใน Batch ดังด้านล่าง"
      ]
    },
    {
      "cell_type": "code",
      "metadata": {
        "id": "z37rQdpDsZ8x",
        "colab_type": "code",
        "colab": {
          "base_uri": "https://localhost:8080/",
          "height": 34
        },
        "outputId": "03df6a6f-b7b9-4282-bc72-424513b7227b"
      },
      "source": [
        "lens = torch.LongTensor([4, 5, 4, 3]).unsqueeze(-1).unsqueeze(-1)\n",
        "lens.shape"
      ],
      "execution_count": 102,
      "outputs": [
        {
          "output_type": "execute_result",
          "data": {
            "text/plain": [
              "torch.Size([4, 1, 1])"
            ]
          },
          "metadata": {
            "tags": []
          },
          "execution_count": 102
        }
      ]
    },
    {
      "cell_type": "markdown",
      "metadata": {
        "id": "UymCCqEAtxbG",
        "colab_type": "text"
      },
      "source": [
        "เราต้องสร้าง index จาก lens ให้มิติเป็น BATCH_SIZE x 1 x HIDDEN_STATE หรือ 4 x 1 x 8"
      ]
    },
    {
      "cell_type": "markdown",
      "metadata": {
        "id": "X0sxHl_CujJ0",
        "colab_type": "text"
      },
      "source": [
        "เนื่องจาก lens เท่ากับ [batch size](https://www.bualabs.com/archives/729/what-is-batch-size-in-deep-neural-networks-how-to-adjust-machine-learning-model-accuracy-deep-learning-hyperparameter-tuning-ep-2/) อยู่แล้ว เราสามารถใช้ repeat ได้เลย"
      ]
    },
    {
      "cell_type": "code",
      "metadata": {
        "id": "ZHY18cE5uyu-",
        "colab_type": "code",
        "colab": {
          "base_uri": "https://localhost:8080/",
          "height": 34
        },
        "outputId": "d5e57536-39f0-4ee9-da9e-a0f1ac5a798c"
      },
      "source": [
        "idx = lens.repeat(1, 1, 8)\n",
        "idx.shape"
      ],
      "execution_count": 103,
      "outputs": [
        {
          "output_type": "execute_result",
          "data": {
            "text/plain": [
              "torch.Size([4, 1, 8])"
            ]
          },
          "metadata": {
            "tags": []
          },
          "execution_count": 103
        }
      ]
    },
    {
      "cell_type": "code",
      "metadata": {
        "id": "qFHEg4kqwrMW",
        "colab_type": "code",
        "colab": {
          "base_uri": "https://localhost:8080/",
          "height": 136
        },
        "outputId": "665efb9a-8465-4d23-f56f-362f7a6b004f"
      },
      "source": [
        "idx"
      ],
      "execution_count": 105,
      "outputs": [
        {
          "output_type": "execute_result",
          "data": {
            "text/plain": [
              "tensor([[[4, 4, 4, 4, 4, 4, 4, 4]],\n",
              "\n",
              "        [[5, 5, 5, 5, 5, 5, 5, 5]],\n",
              "\n",
              "        [[4, 4, 4, 4, 4, 4, 4, 4]],\n",
              "\n",
              "        [[3, 3, 3, 3, 3, 3, 3, 3]]])"
            ]
          },
          "metadata": {
            "tags": []
          },
          "execution_count": 105
        }
      ]
    },
    {
      "cell_type": "code",
      "metadata": {
        "id": "r7BsIvEmvIjF",
        "colab_type": "code",
        "colab": {
          "base_uri": "https://localhost:8080/",
          "height": 136
        },
        "outputId": "8ab4e714-38b7-4f2b-a0bd-2c148c6a3aee"
      },
      "source": [
        "dim = 1\n",
        "x.gather(dim, idx)"
      ],
      "execution_count": 106,
      "outputs": [
        {
          "output_type": "execute_result",
          "data": {
            "text/plain": [
              "tensor([[[ 40,  41,  42,  43,  44,  45,  46,  47]],\n",
              "\n",
              "        [[150, 151, 152, 153, 154, 155, 156, 157]],\n",
              "\n",
              "        [[240, 241, 242, 243, 244, 245, 246, 247]],\n",
              "\n",
              "        [[330, 331, 332, 333, 334, 335, 336, 337]]])"
            ]
          },
          "metadata": {
            "tags": []
          },
          "execution_count": 106
        }
      ]
    },
    {
      "cell_type": "markdown",
      "metadata": {
        "id": "rQVitw7PwZdi",
        "colab_type": "text"
      },
      "source": [
        "เราจะได้ 4 5 4 3 ของมิติที่สอง ออกมาในทุก มิติหนึ่ง และ มิติสาม สังเกต หลักร้อยจะไล่ 0-3 และหลักหน่วยจะไล่ 0-8 ในขณะที่หลักสิบ เป็น 4 5 4 3 ตามที่เรากำหนดใน index"
      ]
    },
    {
      "cell_type": "markdown",
      "metadata": {
        "id": "XNm6oqQxxHct",
        "colab_type": "text"
      },
      "source": [
        "# 5. สรุป"
      ]
    },
    {
      "cell_type": "markdown",
      "metadata": {
        "id": "zBVLGAQvxgnT",
        "colab_type": "text"
      },
      "source": [
        "* เราสามารถใช้ torch.Tensor.gather ในการเลือก Tensor ที่ยืดหยุ่นมากกว่า indexing ปกติ\n",
        "* เวลาใช้งานควรศึกษามิติของข้อมูลตัวอย่าง และออกแบบ dim และ index ให้เหมาะสม\n",
        "* ในการสร้าง index สามารถใช้ [unsqueeze](https://www.bualabs.com/archives/1749/how-to-pytorch-reshape-squeeze-unsqueeze-flatten-manipulate-shape-high-order-dimensions-tensor-ep-2/), repeat ช่วยได้\n",
        "* เราสามารถ apply วิธีเดียวกันนี้ กับ Tensor 4 มิติ 5 มิติ ขึ้นไปได้ไม่จำกัด"
      ]
    },
    {
      "cell_type": "markdown",
      "metadata": {
        "id": "axMxzSavxZUS",
        "colab_type": "text"
      },
      "source": [
        "# Credit"
      ]
    },
    {
      "cell_type": "markdown",
      "metadata": {
        "id": "6IPIb3h4xaPD",
        "colab_type": "text"
      },
      "source": [
        "* https://medium.com/analytics-vidhya/understanding-indexing-with-pytorch-gather-33717a84ebc4\n",
        "* https://pytorch.org/docs/stable/tensors.html\n",
        "* https://stackoverflow.com/questions/50999977/what-does-the-gather-function-do-in-pytorch-in-layman-terms\n",
        "* https://www.tensorflow.org/api_docs/python/tf/gather"
      ]
    },
    {
      "cell_type": "code",
      "metadata": {
        "id": "wg-_NrShxaca",
        "colab_type": "code",
        "colab": {}
      },
      "source": [
        ""
      ],
      "execution_count": 0,
      "outputs": []
    }
  ]
}