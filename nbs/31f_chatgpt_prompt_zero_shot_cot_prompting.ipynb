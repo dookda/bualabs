{
  "nbformat": 4,
  "nbformat_minor": 0,
  "metadata": {
    "colab": {
      "provenance": [],
      "authorship_tag": "ABX9TyMU+yZy1jS4omiH5RWHgetK",
      "include_colab_link": true
    },
    "kernelspec": {
      "name": "python3",
      "display_name": "Python 3"
    },
    "language_info": {
      "name": "python"
    }
  },
  "cells": [
    {
      "cell_type": "markdown",
      "metadata": {
        "id": "view-in-github",
        "colab_type": "text"
      },
      "source": [
        "<a href=\"https://colab.research.google.com/github/gnoparus/bualabs/blob/master/nbs/31f_chatgpt_prompt_zero_shot_cot_prompting.ipynb\" target=\"_parent\"><img src=\"https://colab.research.google.com/assets/colab-badge.svg\" alt=\"Open In Colab\"/></a>"
      ]
    },
    {
      "cell_type": "code",
      "execution_count": null,
      "metadata": {
        "id": "5ekFMsd8U3M-"
      },
      "outputs": [],
      "source": []
    },
    {
      "cell_type": "markdown",
      "source": [
        "ต่อไปเราจะมาเรียนรู้ Prompt Engineering เทคนิคที่ 5 Chain of Thought Prompting  "
      ],
      "metadata": {
        "id": "WrAXCBTSH1VF"
      }
    },
    {
      "cell_type": "markdown",
      "source": [
        "# 0. Magic Commands\n",
        "ให้ใส่ไว้บนสุดทุก Notebook เป็นการสั่งให้ Notebook ก่อนรัน ให้รีโหลด Library ภายนอกที่เรา import ไว้ใหม่โดยอัตโนมัติ\n",
        "\n",
        "และให้พล็อตกราฟ matplotlib ใน Output ของ cell แบบ code ได้เลย"
      ],
      "metadata": {
        "id": "XADbYKvIHVdT"
      }
    },
    {
      "cell_type": "code",
      "source": [
        "%reload_ext autoreload\n",
        "%autoreload 2\n",
        "%matplotlib inline"
      ],
      "metadata": {
        "id": "SY1xxOt4GFMw"
      },
      "execution_count": null,
      "outputs": []
    },
    {
      "cell_type": "markdown",
      "source": [
        "สั่งให้ Colab แสดงผลข้อความแบบ Wrap Text"
      ],
      "metadata": {
        "id": "uvbfUIO3oeEi"
      }
    },
    {
      "cell_type": "code",
      "source": [
        "from IPython.display import HTML, display\n",
        "\n",
        "def set_css():\n",
        "  display(HTML('''\n",
        "  <style>\n",
        "    pre {\n",
        "        white-space: pre-wrap;\n",
        "    }\n",
        "  </style>\n",
        "  '''))\n",
        "get_ipython().events.register('pre_run_cell', set_css)"
      ],
      "metadata": {
        "id": "xwy_06Hgn2T2"
      },
      "execution_count": null,
      "outputs": []
    },
    {
      "cell_type": "markdown",
      "source": [
        "# 1. Import Library\n",
        "\n",
        "ติดตั้ง OpenAI Library ด้วยการ Uncomment Cell ด้านล่างแล้ว Run"
      ],
      "metadata": {
        "id": "2tV5b_GLGsfT"
      }
    },
    {
      "cell_type": "code",
      "execution_count": null,
      "metadata": {
        "id": "AQWl4NIQ8LJm",
        "colab": {
          "base_uri": "https://localhost:8080/",
          "height": 17
        },
        "outputId": "dbf81835-3908-4e9e-c199-5955a0893491"
      },
      "outputs": [
        {
          "output_type": "display_data",
          "data": {
            "text/plain": [
              "<IPython.core.display.HTML object>"
            ],
            "text/html": [
              "\n",
              "  <style>\n",
              "    pre {\n",
              "        white-space: pre-wrap;\n",
              "    }\n",
              "  </style>\n",
              "  "
            ]
          },
          "metadata": {}
        }
      ],
      "source": [
        "# ! pip install openai"
      ]
    },
    {
      "cell_type": "code",
      "source": [
        "import openai"
      ],
      "metadata": {
        "id": "Y9S8DX6a9GdD",
        "colab": {
          "base_uri": "https://localhost:8080/",
          "height": 17
        },
        "outputId": "fe431a83-ffea-43af-a132-cd33945aa6c3"
      },
      "execution_count": null,
      "outputs": [
        {
          "output_type": "display_data",
          "data": {
            "text/plain": [
              "<IPython.core.display.HTML object>"
            ],
            "text/html": [
              "\n",
              "  <style>\n",
              "    pre {\n",
              "        white-space: pre-wrap;\n",
              "    }\n",
              "  </style>\n",
              "  "
            ]
          },
          "metadata": {}
        }
      ]
    },
    {
      "cell_type": "markdown",
      "source": [
        "# 2. Authentication\n",
        "\n",
        "ก่อนที่เราจะเรียกใช้งาน ChatGPT, GPT-4 ของ OpenAI ได้ เราต้องลงทะเบียน สมัครใช้งาน และใส่ข้อมูลวิธีชำระเงินให้เรียบร้อยก่อน \n",
        "\n",
        "## Sign up\n",
        "\n",
        "กดปุ่ม Sign up สีเขียว ในลิงค์ด้านล่าง สมัครใช้งาน OpenAI \n",
        "\n",
        "https://platform.openai.com/overview\n",
        "\n",
        "ใส่ข้อมูลบัตรเครดิต ในหน้า Billing ให้เรียบร้อย\n",
        "\n",
        "https://platform.openai.com/account/billing/payment-methods\n",
        "\n",
        "\n",
        "\n",
        "\n"
      ],
      "metadata": {
        "id": "MyBgjLga_6rG"
      }
    },
    {
      "cell_type": "markdown",
      "source": [
        "## API Key\n",
        "\n",
        "สร้าง API Key จากลิงค์ด้านล่าง โดยกดปุ่ม Create new secret key ตั้งชื่อ แล้ว Copy secret key เตรียมไว้ใส่ในช่อง OPENAI_API_KEY ด้านล่าง\n",
        "\n",
        "https://platform.openai.com/account/api-keys\n",
        "\n",
        "\n",
        "## ตัวอย่าง API Key \n",
        "\n",
        "OPENAI_API_KEY: sk-abcDeFGHijKlMNopQrstuvWxyZ1234567890abcDefhiJklm\n",
        "\n",
        "รัน Cell ด้านล่าง แล้วใส่ secret key ที่ได้มา"
      ],
      "metadata": {
        "id": "2jWLUnvhJ0cX"
      }
    },
    {
      "cell_type": "code",
      "source": [
        "import os\n",
        "from getpass import getpass\n",
        "\n",
        "token = getpass('Enter OPENAI_API_KEY here: ')\n",
        "# print ('token is', token)\n",
        "\n",
        "openai.api_key = token"
      ],
      "metadata": {
        "colab": {
          "base_uri": "https://localhost:8080/",
          "height": 34
        },
        "id": "od_JGCDH85e8",
        "outputId": "006bbb2c-a094-412d-cf50-012e30dbc601"
      },
      "execution_count": null,
      "outputs": [
        {
          "output_type": "display_data",
          "data": {
            "text/plain": [
              "<IPython.core.display.HTML object>"
            ],
            "text/html": [
              "\n",
              "  <style>\n",
              "    pre {\n",
              "        white-space: pre-wrap;\n",
              "    }\n",
              "  </style>\n",
              "  "
            ]
          },
          "metadata": {}
        },
        {
          "name": "stdout",
          "output_type": "stream",
          "text": [
            "Enter OPENAI_API_KEY here: ··········\n"
          ]
        }
      ]
    },
    {
      "cell_type": "markdown",
      "source": [
        "หลังจากทดสอบเสร็จแล้ว แนะนำให้กลับไปลบ Secret Key ในหน้า https://platform.openai.com/account/api-keys ทิ้งไปทุกครั้ง เพื่อความปลอดภัย โดยเราสามารถสร้าง Key ใหม่ได้เรื่อย ๆ ไม่จำกัด"
      ],
      "metadata": {
        "id": "6DGekg9eQyD0"
      }
    },
    {
      "cell_type": "markdown",
      "source": [
        "# 3. ฟังก์ชัน"
      ],
      "metadata": {
        "id": "Eh1bNHQgiAVF"
      }
    },
    {
      "cell_type": "code",
      "source": [
        "def get_completion(prompt, model=\"gpt-4\"):\n",
        "    messages = [{\"role\": \"user\", \"content\": prompt}]\n",
        "    response = openai.ChatCompletion.create(\n",
        "        model=model,\n",
        "        messages=messages,\n",
        "        temperature=0, # this is the degree of randomness of the model's output\n",
        "    )\n",
        "    return response.choices[0].message[\"content\"]"
      ],
      "metadata": {
        "id": "kRe_-7Czhzbd",
        "colab": {
          "base_uri": "https://localhost:8080/",
          "height": 17
        },
        "outputId": "8f82e890-aa8e-443b-c2b0-2ee2bb2095c2"
      },
      "execution_count": null,
      "outputs": [
        {
          "output_type": "display_data",
          "data": {
            "text/plain": [
              "<IPython.core.display.HTML object>"
            ],
            "text/html": [
              "\n",
              "  <style>\n",
              "    pre {\n",
              "        white-space: pre-wrap;\n",
              "    }\n",
              "  </style>\n",
              "  "
            ]
          },
          "metadata": {}
        }
      ]
    },
    {
      "cell_type": "code",
      "source": [
        "resp = get_completion(\"what are the 5 most populated provinces in thailand?\")"
      ],
      "metadata": {
        "id": "kqTWgxHVh-n2",
        "colab": {
          "base_uri": "https://localhost:8080/",
          "height": 17
        },
        "outputId": "28487443-c1a2-4d16-82ee-693a805a3741"
      },
      "execution_count": null,
      "outputs": [
        {
          "output_type": "display_data",
          "data": {
            "text/plain": [
              "<IPython.core.display.HTML object>"
            ],
            "text/html": [
              "\n",
              "  <style>\n",
              "    pre {\n",
              "        white-space: pre-wrap;\n",
              "    }\n",
              "  </style>\n",
              "  "
            ]
          },
          "metadata": {}
        }
      ]
    },
    {
      "cell_type": "code",
      "source": [
        "print(resp)"
      ],
      "metadata": {
        "colab": {
          "base_uri": "https://localhost:8080/",
          "height": 104
        },
        "id": "ASe0VTf2h-ss",
        "outputId": "b560ddf0-fd8a-47c7-ccc8-ddbfb73e4734"
      },
      "execution_count": null,
      "outputs": [
        {
          "output_type": "display_data",
          "data": {
            "text/plain": [
              "<IPython.core.display.HTML object>"
            ],
            "text/html": [
              "\n",
              "  <style>\n",
              "    pre {\n",
              "        white-space: pre-wrap;\n",
              "    }\n",
              "  </style>\n",
              "  "
            ]
          },
          "metadata": {}
        },
        {
          "output_type": "stream",
          "name": "stdout",
          "text": [
            "1. Bangkok - population of approximately 8.3 million\n",
            "2. Nonthaburi - population of approximately 1.2 million\n",
            "3. Samut Prakan - population of approximately 1.1 million\n",
            "4. Chonburi - population of approximately 1.1 million\n",
            "5. Ubon Ratchathani - population of approximately 1.1 million\n"
          ]
        }
      ]
    },
    {
      "cell_type": "markdown",
      "source": [
        "# 4. ตัวอย่างการเขียน Prompt ปกติ"
      ],
      "metadata": {
        "id": "xSLCudDfix_5"
      }
    },
    {
      "cell_type": "markdown",
      "source": [
        "โมเดลแตกขั้นตอนผิด ๆ ถูก"
      ],
      "metadata": {
        "id": "7OANle_plY9F"
      }
    },
    {
      "cell_type": "code",
      "source": [
        "prompt = \"\"\"\n",
        "In a trunk there are 5 chests, in each chest there are 3 boxes, \\\n",
        "and in each box there are 10 gold coins. The trunk, the chests, \\\n",
        "and the boxes are locked. \n",
        "At least how many locks need to be opened in order to take out 50 coins?\n",
        "\"\"\"\n",
        "\n",
        "resp = get_completion(prompt)"
      ],
      "metadata": {
        "colab": {
          "base_uri": "https://localhost:8080/",
          "height": 17
        },
        "id": "d2a1j_hEueBb",
        "outputId": "fcf8fac7-cf7f-4cee-89f0-8b9f856c7188"
      },
      "execution_count": null,
      "outputs": [
        {
          "output_type": "display_data",
          "data": {
            "text/plain": [
              "<IPython.core.display.HTML object>"
            ],
            "text/html": [
              "\n",
              "  <style>\n",
              "    pre {\n",
              "        white-space: pre-wrap;\n",
              "    }\n",
              "  </style>\n",
              "  "
            ]
          },
          "metadata": {}
        }
      ]
    },
    {
      "cell_type": "code",
      "source": [
        "print(resp)"
      ],
      "metadata": {
        "colab": {
          "base_uri": "https://localhost:8080/",
          "height": 364
        },
        "id": "8tFLJ67XueHD",
        "outputId": "b2088a64-dad1-4ed7-8300-4b97386355fe"
      },
      "execution_count": null,
      "outputs": [
        {
          "output_type": "display_data",
          "data": {
            "text/plain": [
              "<IPython.core.display.HTML object>"
            ],
            "text/html": [
              "\n",
              "  <style>\n",
              "    pre {\n",
              "        white-space: pre-wrap;\n",
              "    }\n",
              "  </style>\n",
              "  "
            ]
          },
          "metadata": {}
        },
        {
          "output_type": "stream",
          "name": "stdout",
          "text": [
            "To take out 50 coins, you would need to open at least 5 locks. \n",
            "\n",
            "Here's the breakdown:\n",
            "1. Open the trunk (1 lock)\n",
            "2. Open one chest (1 lock)\n",
            "3. Open all 3 boxes in that chest (3 locks)\n",
            "\n",
            "This would give you access to 3 boxes, each containing 10 gold coins, for a total of 30 gold coins. \n",
            "\n",
            "4. Open another chest (1 lock)\n",
            "5. Open one box in that chest (1 lock)\n",
            "\n",
            "This would give you access to 1 more box containing 10 gold coins, for a total of 40 gold coins.\n",
            "\n",
            "6. Open another chest (1 lock)\n",
            "7. Open one box in that chest (1 lock)\n",
            "\n",
            "This would give you access to 1 more box containing 10 gold coins, for a total of 50 gold coins.\n",
            "\n",
            "So, you would need to open at least 5 locks to take out 50 coins.\n"
          ]
        }
      ]
    },
    {
      "cell_type": "markdown",
      "source": [
        "ได้คำตอบที่ผิด"
      ],
      "metadata": {
        "id": "NcJpjMuIlhUL"
      }
    },
    {
      "cell_type": "markdown",
      "source": [
        "# 5. ตัวอย่างการเขียน Prompt ด้วยเทคนิค Zero Shot Chain of Thought (Zero Shot CoT)"
      ],
      "metadata": {
        "id": "Pxg51bzpx8je"
      }
    },
    {
      "cell_type": "markdown",
      "source": [
        "เมื่อเราสั่งอย่างชัดเจนว่า Let's think step by step. ให้คิดทีละขั้นทีละสเต็ป โมเดลจะมีเวลาคิดมากขึ้น ก็จะวิเคราะห์โจทย์อย่างถี่ถ้วน แตกงานเป็นขั้นตอนย่อย ๆ เอง"
      ],
      "metadata": {
        "id": "ZziW7mBNl1UY"
      }
    },
    {
      "cell_type": "code",
      "source": [
        "prompt2 = \"\"\"\n",
        "In a trunk there are 5 chests, in each chest there are 3 boxes, \\\n",
        "and in each box there are 10 gold coins. The trunk, the chests, \\\n",
        "and the boxes are locked. \n",
        "At least how many locks need to be opened in order to take out 50 coins?\n",
        "Let's think step by step.\n",
        "\"\"\"\n",
        "\n",
        "resp2 = get_completion(prompt2)"
      ],
      "metadata": {
        "colab": {
          "base_uri": "https://localhost:8080/",
          "height": 17
        },
        "id": "-Fuu0iz2ueN3",
        "outputId": "a1755c9c-5b3d-4081-8dfe-26f90fecafd4"
      },
      "execution_count": null,
      "outputs": [
        {
          "output_type": "display_data",
          "data": {
            "text/plain": [
              "<IPython.core.display.HTML object>"
            ],
            "text/html": [
              "\n",
              "  <style>\n",
              "    pre {\n",
              "        white-space: pre-wrap;\n",
              "    }\n",
              "  </style>\n",
              "  "
            ]
          },
          "metadata": {}
        }
      ]
    },
    {
      "cell_type": "code",
      "source": [
        "print(resp2)"
      ],
      "metadata": {
        "colab": {
          "base_uri": "https://localhost:8080/",
          "height": 138
        },
        "id": "3ALZaZ4kueRQ",
        "outputId": "8602686f-577b-43f1-98e3-364d5ecdb911"
      },
      "execution_count": null,
      "outputs": [
        {
          "output_type": "display_data",
          "data": {
            "text/plain": [
              "<IPython.core.display.HTML object>"
            ],
            "text/html": [
              "\n",
              "  <style>\n",
              "    pre {\n",
              "        white-space: pre-wrap;\n",
              "    }\n",
              "  </style>\n",
              "  "
            ]
          },
          "metadata": {}
        },
        {
          "output_type": "stream",
          "name": "stdout",
          "text": [
            "First, we need to open the trunk, which has 1 lock.\n",
            "Next, we need to open at least 2 chests, since 1 chest contains 3 boxes with 10 coins each, which is only 30 coins. So, we need to open 2 locks for the chests.\n",
            "Now, we have access to 6 boxes. We need to open 5 of these boxes to get 50 coins (5 boxes * 10 coins each = 50 coins). So, we need to open 5 locks for the boxes.\n",
            "\n",
            "In total, we need to open 1 (trunk) + 2 (chests) + 5 (boxes) = 8 locks to take out 50 coins.\n"
          ]
        }
      ]
    },
    {
      "cell_type": "markdown",
      "source": [
        "จนกระทั่ง ปะติดปะต่อคำตอบที่ถูกต้อง ออกมาในที่สุด\n",
        "\n"
      ],
      "metadata": {
        "id": "a0GDLCSPmEpk"
      }
    },
    {
      "cell_type": "code",
      "source": [],
      "metadata": {
        "id": "ZAfPSrAKuebb"
      },
      "execution_count": null,
      "outputs": []
    },
    {
      "cell_type": "markdown",
      "source": [
        "# 6. สรุป\n",
        "\n",
        "- เราไม่จำเป็นจะต้องเป็นคนเขียน Prompt ยาว ๆ แตกงานให้โมเดลทำทีละขั้น เราสามารถสั่งให้โมเดลเป็นคนแตกงานเอง โดยให้แสดงวิธีทำ หรือ Let’s think step by step"
      ],
      "metadata": {
        "id": "LguH2Y7rkbE1"
      }
    },
    {
      "cell_type": "code",
      "source": [],
      "metadata": {
        "id": "yVmZ7_B-baAC"
      },
      "execution_count": null,
      "outputs": []
    }
  ]
}