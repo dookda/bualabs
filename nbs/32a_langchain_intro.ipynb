{
  "nbformat": 4,
  "nbformat_minor": 0,
  "metadata": {
    "colab": {
      "provenance": [],
      "authorship_tag": "ABX9TyM6UNTSaR0P7/2iuBI/dm7s",
      "include_colab_link": true
    },
    "kernelspec": {
      "name": "python3",
      "display_name": "Python 3"
    },
    "language_info": {
      "name": "python"
    }
  },
  "cells": [
    {
      "cell_type": "markdown",
      "metadata": {
        "id": "view-in-github",
        "colab_type": "text"
      },
      "source": [
        "<a href=\"https://colab.research.google.com/github/gnoparus/bualabs/blob/master/nbs/32a_langchain_intro.ipynb\" target=\"_parent\"><img src=\"https://colab.research.google.com/assets/colab-badge.svg\" alt=\"Open In Colab\"/></a>"
      ]
    },
    {
      "cell_type": "code",
      "execution_count": null,
      "metadata": {
        "id": "bkOsYAPmPxNf"
      },
      "outputs": [],
      "source": []
    },
    {
      "cell_type": "code",
      "source": [
        "\n"
      ],
      "metadata": {
        "id": "_7oHXYXCP7ym"
      },
      "execution_count": null,
      "outputs": []
    },
    {
      "cell_type": "markdown",
      "source": [
        "ต่อไปเราจะมาเรียนรู้ LangChain"
      ],
      "metadata": {
        "id": "WrAXCBTSH1VF"
      }
    },
    {
      "cell_type": "markdown",
      "source": [
        "# 0. Magic Commands\n",
        "ให้ใส่ไว้บนสุดทุก Notebook เป็นการสั่งให้ Notebook ก่อนรัน ให้รีโหลด Library ภายนอกที่เรา import ไว้ใหม่โดยอัตโนมัติ\n",
        "\n",
        "และให้พล็อตกราฟ matplotlib ใน Output ของ cell แบบ code ได้เลย"
      ],
      "metadata": {
        "id": "XADbYKvIHVdT"
      }
    },
    {
      "cell_type": "code",
      "source": [
        "%reload_ext autoreload\n",
        "%autoreload 2\n",
        "%matplotlib inline"
      ],
      "metadata": {
        "id": "SY1xxOt4GFMw"
      },
      "execution_count": 1,
      "outputs": []
    },
    {
      "cell_type": "markdown",
      "source": [
        "สั่งให้ Colab แสดงผลข้อความแบบ Wrap Text"
      ],
      "metadata": {
        "id": "uvbfUIO3oeEi"
      }
    },
    {
      "cell_type": "code",
      "source": [
        "from IPython.display import HTML, display\n",
        "\n",
        "def set_css():\n",
        "  display(HTML('''\n",
        "  <style>\n",
        "    pre {\n",
        "        white-space: pre-wrap;\n",
        "    }\n",
        "  </style>\n",
        "  '''))\n",
        "get_ipython().events.register('pre_run_cell', set_css)"
      ],
      "metadata": {
        "id": "xwy_06Hgn2T2"
      },
      "execution_count": 2,
      "outputs": []
    },
    {
      "cell_type": "markdown",
      "source": [
        "# 1. Import Library\n",
        "\n",
        "ติดตั้ง OpenAI Library ด้วยการ Uncomment Cell ด้านล่างแล้ว Run"
      ],
      "metadata": {
        "id": "2tV5b_GLGsfT"
      }
    },
    {
      "cell_type": "code",
      "source": [],
      "metadata": {
        "id": "d3WQS1SFTlLp"
      },
      "execution_count": 2,
      "outputs": []
    },
    {
      "cell_type": "code",
      "source": [],
      "metadata": {
        "id": "a80oCM3ZTlRK"
      },
      "execution_count": 2,
      "outputs": []
    },
    {
      "cell_type": "code",
      "source": [],
      "metadata": {
        "id": "v-5QkpsqRBG9"
      },
      "execution_count": 2,
      "outputs": []
    },
    {
      "cell_type": "code",
      "execution_count": 76,
      "metadata": {
        "id": "AQWl4NIQ8LJm",
        "colab": {
          "base_uri": "https://localhost:8080/",
          "height": 17
        },
        "outputId": "e4d1cb60-d7a6-4c03-cbb7-9ebfed1bec83"
      },
      "outputs": [
        {
          "output_type": "display_data",
          "data": {
            "text/plain": [
              "<IPython.core.display.HTML object>"
            ],
            "text/html": [
              "\n",
              "  <style>\n",
              "    pre {\n",
              "        white-space: pre-wrap;\n",
              "    }\n",
              "  </style>\n",
              "  "
            ]
          },
          "metadata": {}
        }
      ],
      "source": [
        "# ! pip install openai"
      ]
    },
    {
      "cell_type": "code",
      "source": [],
      "metadata": {
        "id": "V7A9HeBpTatR"
      },
      "execution_count": 4,
      "outputs": []
    },
    {
      "cell_type": "code",
      "source": [],
      "metadata": {
        "id": "jARkCzjWTa1l"
      },
      "execution_count": 4,
      "outputs": []
    },
    {
      "cell_type": "markdown",
      "source": [
        "# 2. Authentication\n",
        "\n",
        "ก่อนที่เราจะเรียกใช้งาน ChatGPT, GPT-4 ของ OpenAI ได้ เราต้องลงทะเบียน สมัครใช้งาน และใส่ข้อมูลวิธีชำระเงินให้เรียบร้อยก่อน \n",
        "\n",
        "## Sign up\n",
        "\n",
        "กดปุ่ม Sign up สีเขียว ในลิงค์ด้านล่าง สมัครใช้งาน OpenAI \n",
        "\n",
        "https://platform.openai.com/overview\n",
        "\n",
        "ใส่ข้อมูลบัตรเครดิต ในหน้า Billing ให้เรียบร้อย\n",
        "\n",
        "https://platform.openai.com/account/billing/payment-methods\n",
        "\n",
        "\n",
        "\n",
        "\n"
      ],
      "metadata": {
        "id": "MyBgjLga_6rG"
      }
    },
    {
      "cell_type": "markdown",
      "source": [
        "## API Key\n",
        "\n",
        "สร้าง API Key จากลิงค์ด้านล่าง โดยกดปุ่ม Create new secret key ตั้งชื่อ แล้ว Copy secret key เตรียมไว้ใส่ในช่อง OPENAI_API_KEY ด้านล่าง\n",
        "\n",
        "https://platform.openai.com/account/api-keys\n",
        "\n",
        "\n",
        "## ตัวอย่าง API Key \n",
        "\n",
        "OPENAI_API_KEY: sk-abcDeFGHijKlMNopQrstuvWxyZ1234567890abcDefhiJklm\n",
        "\n",
        "รัน Cell ด้านล่าง แล้วใส่ secret key ที่ได้มา\n",
        "\n",
        "บางที Run แล้วค้าง ไม่ขึ้นช่องให้กรอก ให้กดหยุด แล้วลอง Run ใหม่"
      ],
      "metadata": {
        "id": "2jWLUnvhJ0cX"
      }
    },
    {
      "cell_type": "code",
      "source": [
        "import os\n",
        "from getpass import getpass\n",
        "\n",
        "token = getpass('Enter OPENAI_API_KEY here: ')\n",
        "# print ('token is', token)\n",
        "\n",
        "os.environ[\"OPENAI_API_KEY\"] = token"
      ],
      "metadata": {
        "colab": {
          "base_uri": "https://localhost:8080/",
          "height": 34
        },
        "id": "od_JGCDH85e8",
        "outputId": "7acff21f-36d1-49a8-f82f-c02fcac493df"
      },
      "execution_count": 6,
      "outputs": [
        {
          "output_type": "display_data",
          "data": {
            "text/plain": [
              "<IPython.core.display.HTML object>"
            ],
            "text/html": [
              "\n",
              "  <style>\n",
              "    pre {\n",
              "        white-space: pre-wrap;\n",
              "    }\n",
              "  </style>\n",
              "  "
            ]
          },
          "metadata": {}
        },
        {
          "name": "stdout",
          "output_type": "stream",
          "text": [
            "Enter OPENAI_API_KEY here: ··········\n"
          ]
        }
      ]
    },
    {
      "cell_type": "markdown",
      "source": [
        "หลังจากทดสอบเสร็จแล้ว แนะนำให้กลับไปลบ Secret Key ในหน้า https://platform.openai.com/account/api-keys ทิ้งไปทุกครั้ง เพื่อความปลอดภัย โดยเราสามารถสร้าง Key ใหม่ได้เรื่อย ๆ ไม่จำกัด"
      ],
      "metadata": {
        "id": "6DGekg9eQyD0"
      }
    },
    {
      "cell_type": "code",
      "source": [],
      "metadata": {
        "id": "qM2mz2ghTQka"
      },
      "execution_count": 6,
      "outputs": []
    },
    {
      "cell_type": "code",
      "source": [],
      "metadata": {
        "id": "YuODWNoJBxOE"
      },
      "execution_count": 6,
      "outputs": []
    },
    {
      "cell_type": "code",
      "source": [],
      "metadata": {
        "id": "uN-9rNccBxRg"
      },
      "execution_count": 6,
      "outputs": []
    },
    {
      "cell_type": "markdown",
      "source": [
        "#3. Call API "
      ],
      "metadata": {
        "id": "YpsFGTC4CIPp"
      }
    },
    {
      "cell_type": "markdown",
      "source": [
        "## 3.1 เรียกใช้ OpenAI API แบบ ตรง ๆ "
      ],
      "metadata": {
        "id": "5e1DKrHlQes-"
      }
    },
    {
      "cell_type": "code",
      "source": [],
      "metadata": {
        "id": "FGFCxqvmQdOF"
      },
      "execution_count": 6,
      "outputs": []
    },
    {
      "cell_type": "markdown",
      "source": [
        "[จาก ep ก่อน Prompt Engineering คืออะไร ](https://www.bualabs.com/archives/4483/what-is-prompt-engineering/) เราได้เรียกใช้ chatgpt ผ่าน API ของ OpenAI ได้โดยตรง"
      ],
      "metadata": {
        "id": "qj5QYUwhCSA8"
      }
    },
    {
      "cell_type": "code",
      "source": [
        "import openai"
      ],
      "metadata": {
        "colab": {
          "base_uri": "https://localhost:8080/",
          "height": 17
        },
        "id": "sCCD6g5_BxYP",
        "outputId": "bd86ff21-a0ff-479e-d83a-787a42ab8a8a"
      },
      "execution_count": 7,
      "outputs": [
        {
          "output_type": "display_data",
          "data": {
            "text/plain": [
              "<IPython.core.display.HTML object>"
            ],
            "text/html": [
              "\n",
              "  <style>\n",
              "    pre {\n",
              "        white-space: pre-wrap;\n",
              "    }\n",
              "  </style>\n",
              "  "
            ]
          },
          "metadata": {}
        }
      ]
    },
    {
      "cell_type": "code",
      "source": [
        "def get_completion(prompt, model=\"gpt-3.5-turbo\"):\n",
        "    messages = [{\"role\": \"user\", \"content\": prompt}]\n",
        "    response = openai.ChatCompletion.create(\n",
        "        model=model,\n",
        "        messages=messages,\n",
        "        temperature=0, \n",
        "    )\n",
        "    return response.choices[0].message[\"content\"]\n"
      ],
      "metadata": {
        "colab": {
          "base_uri": "https://localhost:8080/",
          "height": 17
        },
        "id": "8mb2NZi-BxVH",
        "outputId": "26a10f9b-9826-4c17-8576-be32a313282a"
      },
      "execution_count": 8,
      "outputs": [
        {
          "output_type": "display_data",
          "data": {
            "text/plain": [
              "<IPython.core.display.HTML object>"
            ],
            "text/html": [
              "\n",
              "  <style>\n",
              "    pre {\n",
              "        white-space: pre-wrap;\n",
              "    }\n",
              "  </style>\n",
              "  "
            ]
          },
          "metadata": {}
        }
      ]
    },
    {
      "cell_type": "code",
      "source": [
        "country = \"Thailand\"\n",
        "language = \"English\"\n",
        "\n",
        "prompt31 = f\"\"\"Give me reasons why {country} is a good place to retire: \\\n",
        "Cost of living, Healthcare, Climate, Safety, Lifestyle, and Visa. \\\n",
        "Output in {language}.\n",
        "\"\"\""
      ],
      "metadata": {
        "colab": {
          "base_uri": "https://localhost:8080/",
          "height": 17
        },
        "id": "y74nVT1qDKcA",
        "outputId": "46f924e5-5ab4-4d6f-ce88-f865c31416cc"
      },
      "execution_count": 20,
      "outputs": [
        {
          "output_type": "display_data",
          "data": {
            "text/plain": [
              "<IPython.core.display.HTML object>"
            ],
            "text/html": [
              "\n",
              "  <style>\n",
              "    pre {\n",
              "        white-space: pre-wrap;\n",
              "    }\n",
              "  </style>\n",
              "  "
            ]
          },
          "metadata": {}
        }
      ]
    },
    {
      "cell_type": "code",
      "source": [
        "print(prompt31)"
      ],
      "metadata": {
        "colab": {
          "base_uri": "https://localhost:8080/",
          "height": 52
        },
        "id": "BZaTzJnVD8Pg",
        "outputId": "8d81b651-17a4-4d50-9b90-0c519820e420"
      },
      "execution_count": 21,
      "outputs": [
        {
          "output_type": "display_data",
          "data": {
            "text/plain": [
              "<IPython.core.display.HTML object>"
            ],
            "text/html": [
              "\n",
              "  <style>\n",
              "    pre {\n",
              "        white-space: pre-wrap;\n",
              "    }\n",
              "  </style>\n",
              "  "
            ]
          },
          "metadata": {}
        },
        {
          "output_type": "stream",
          "name": "stdout",
          "text": [
            "Give me reasons why Thailand is a good place to retire: Cost of living, Healthcare, Climate, Safety, Lifestyle, and Visa. Output in English.\n",
            "\n"
          ]
        }
      ]
    },
    {
      "cell_type": "code",
      "source": [
        "reason31 = get_completion(prompt31)"
      ],
      "metadata": {
        "colab": {
          "base_uri": "https://localhost:8080/",
          "height": 17
        },
        "id": "TIbUg5dtDKng",
        "outputId": "ba652cc5-ccd1-411d-e88e-f70188f2ec99"
      },
      "execution_count": 22,
      "outputs": [
        {
          "output_type": "display_data",
          "data": {
            "text/plain": [
              "<IPython.core.display.HTML object>"
            ],
            "text/html": [
              "\n",
              "  <style>\n",
              "    pre {\n",
              "        white-space: pre-wrap;\n",
              "    }\n",
              "  </style>\n",
              "  "
            ]
          },
          "metadata": {}
        }
      ]
    },
    {
      "cell_type": "code",
      "source": [
        "print(reason31)"
      ],
      "metadata": {
        "colab": {
          "base_uri": "https://localhost:8080/",
          "height": 295
        },
        "id": "LgLruQLZDKop",
        "outputId": "6bdaebeb-a9de-4849-d942-09a488df6af0"
      },
      "execution_count": 23,
      "outputs": [
        {
          "output_type": "display_data",
          "data": {
            "text/plain": [
              "<IPython.core.display.HTML object>"
            ],
            "text/html": [
              "\n",
              "  <style>\n",
              "    pre {\n",
              "        white-space: pre-wrap;\n",
              "    }\n",
              "  </style>\n",
              "  "
            ]
          },
          "metadata": {}
        },
        {
          "output_type": "stream",
          "name": "stdout",
          "text": [
            "Thailand is a popular destination for retirees due to several reasons. Firstly, the cost of living in Thailand is relatively low compared to other countries, making it an affordable option for retirees on a fixed income. Secondly, Thailand has a well-developed healthcare system with modern facilities and highly trained medical professionals. The cost of healthcare is also significantly lower than in many Western countries.\n",
            "\n",
            "Thirdly, Thailand has a warm and tropical climate, which is ideal for retirees who want to enjoy a relaxed and comfortable lifestyle. The country has beautiful beaches, lush forests, and a rich cultural heritage, making it an attractive destination for retirees who want to explore and experience new things.\n",
            "\n",
            "Fourthly, Thailand is generally considered a safe country, with low crime rates and a friendly and welcoming population. Retirees can feel secure and comfortable living in Thailand, knowing that they are in a safe and supportive environment.\n",
            "\n",
            "Fifthly, Thailand offers a diverse and vibrant lifestyle, with plenty of opportunities for socializing, entertainment, and cultural activities. Retirees can enjoy a range of activities, from yoga and meditation to golf and water sports, as well as exploring the country's many temples, markets, and festivals.\n",
            "\n",
            "Finally, Thailand has a relatively straightforward visa process, making it easy for retirees to obtain long-term visas and residency permits. This allows retirees to stay in Thailand for extended periods, enjoying all the benefits that the country has to offer. Overall, Thailand is an excellent place to retire, offering a high quality of life, affordable living costs, and a warm and welcoming culture.\n"
          ]
        }
      ]
    },
    {
      "cell_type": "code",
      "source": [],
      "metadata": {
        "id": "v-99Fzk8DKqB"
      },
      "execution_count": 23,
      "outputs": []
    },
    {
      "cell_type": "code",
      "source": [
        "country = \"Singapore\"\n",
        "language = \"English with stutter in every sentences\"\n",
        "\n",
        "prompt31 = f\"\"\"Give me reasons why {country} is a good place to retire: \\\n",
        "Cost of living, Healthcare, Climate, Safety, Lifestyle, and Visa. \\\n",
        "Output in {language}.\n",
        "\"\"\""
      ],
      "metadata": {
        "colab": {
          "base_uri": "https://localhost:8080/",
          "height": 17
        },
        "id": "YEUZrQgEDKs5",
        "outputId": "3ddb55ca-2df1-439f-c15f-e69ba2cd27ab"
      },
      "execution_count": 24,
      "outputs": [
        {
          "output_type": "display_data",
          "data": {
            "text/plain": [
              "<IPython.core.display.HTML object>"
            ],
            "text/html": [
              "\n",
              "  <style>\n",
              "    pre {\n",
              "        white-space: pre-wrap;\n",
              "    }\n",
              "  </style>\n",
              "  "
            ]
          },
          "metadata": {}
        }
      ]
    },
    {
      "cell_type": "code",
      "source": [
        "print(prompt31)"
      ],
      "metadata": {
        "colab": {
          "base_uri": "https://localhost:8080/",
          "height": 52
        },
        "id": "DIfvLljKEoMA",
        "outputId": "65592397-bfcf-4cb8-fa31-689e2ea25ba2"
      },
      "execution_count": 25,
      "outputs": [
        {
          "output_type": "display_data",
          "data": {
            "text/plain": [
              "<IPython.core.display.HTML object>"
            ],
            "text/html": [
              "\n",
              "  <style>\n",
              "    pre {\n",
              "        white-space: pre-wrap;\n",
              "    }\n",
              "  </style>\n",
              "  "
            ]
          },
          "metadata": {}
        },
        {
          "output_type": "stream",
          "name": "stdout",
          "text": [
            "Give me reasons why Singapore is a good place to retire: Cost of living, Healthcare, Climate, Safety, Lifestyle, and Visa. Output in English with stutter in every sentences.\n",
            "\n"
          ]
        }
      ]
    },
    {
      "cell_type": "code",
      "source": [
        "reason31 = get_completion(prompt31)\n",
        "print(reason31)"
      ],
      "metadata": {
        "colab": {
          "base_uri": "https://localhost:8080/",
          "height": 104
        },
        "id": "VxmpYJ6tDKwz",
        "outputId": "d772e9de-da6f-4ede-f204-3d5259a3c1fd"
      },
      "execution_count": 26,
      "outputs": [
        {
          "output_type": "display_data",
          "data": {
            "text/plain": [
              "<IPython.core.display.HTML object>"
            ],
            "text/html": [
              "\n",
              "  <style>\n",
              "    pre {\n",
              "        white-space: pre-wrap;\n",
              "    }\n",
              "  </style>\n",
              "  "
            ]
          },
          "metadata": {}
        },
        {
          "output_type": "stream",
          "name": "stdout",
          "text": [
            "W-well, S-Singapore is a g-great place to retire because of its c-cost of living. It may be a bit h-higher than other countries in the region, but it's still r-reasonable compared to other developed countries. And the h-healthcare system is top-notch, with w-world-class hospitals and medical facilities. The c-climate is also a plus, with a t-tropical climate that's warm and sunny all year round. And let's not forget about the s-safety. Singapore is one of the safest countries in the world, with l-low crime rates and strict laws. The l-lifestyle is also great, with plenty of activities and events to keep you busy. And if you're a f-foreigner, getting a visa to retire in Singapore is relatively easy, with a number of options available. So, all in all, Singapore is a g-great place to retire for those who value quality of life and peace of mind.\n"
          ]
        }
      ]
    },
    {
      "cell_type": "code",
      "source": [],
      "metadata": {
        "id": "YyfSCKDUDK1T"
      },
      "execution_count": 26,
      "outputs": []
    },
    {
      "cell_type": "markdown",
      "source": [],
      "metadata": {
        "id": "eYSb1YLlF2tI"
      }
    },
    {
      "cell_type": "code",
      "source": [],
      "metadata": {
        "id": "qR6f2GxYDK42"
      },
      "execution_count": 26,
      "outputs": []
    },
    {
      "cell_type": "markdown",
      "source": [
        "## 3.2 เรียกใช้ ChatGPT ผ่าน LangChain"
      ],
      "metadata": {
        "id": "ZfSRyK6YFpK-"
      }
    },
    {
      "cell_type": "markdown",
      "source": [
        "เราสามารถใช้ F-String ในการสร้าง Template เพื่อสร้าง Prompt ส่งไปยัง ChatGPT ได้ไม่มีปัญหา แต่ถ้าเป็น Prompt ที่ซับซ้อนขึ้น มีหลาย Step และมี Output เป็นโครงสร้าง ที่จะนำไปใช้ต่อเช่น JSON การใช้คลาสเฉพาะ เช่น ChatPromptTemplate ของ LangChain สะดวกกว่า"
      ],
      "metadata": {
        "id": "38o3b2PgF0gR"
      }
    },
    {
      "cell_type": "code",
      "source": [],
      "metadata": {
        "id": "vbFQRrGqDK8G"
      },
      "execution_count": 26,
      "outputs": []
    },
    {
      "cell_type": "code",
      "source": [
        "### https://python.langchain.com/en/latest/modules/models/llms/integrations.html"
      ],
      "metadata": {
        "id": "g_vuP4S-TQpd",
        "colab": {
          "base_uri": "https://localhost:8080/",
          "height": 17
        },
        "outputId": "f3f10ddb-0b7d-4b13-c645-f2b51f636b92"
      },
      "execution_count": 27,
      "outputs": [
        {
          "output_type": "display_data",
          "data": {
            "text/plain": [
              "<IPython.core.display.HTML object>"
            ],
            "text/html": [
              "\n",
              "  <style>\n",
              "    pre {\n",
              "        white-space: pre-wrap;\n",
              "    }\n",
              "  </style>\n",
              "  "
            ]
          },
          "metadata": {}
        }
      ]
    },
    {
      "cell_type": "code",
      "source": [
        "# ! pip install langchain"
      ],
      "metadata": {
        "colab": {
          "base_uri": "https://localhost:8080/",
          "height": 17
        },
        "id": "cU_m3JI0P7vA",
        "outputId": "b161227b-65de-4c3e-fb06-af04ecaf04a9"
      },
      "execution_count": 75,
      "outputs": [
        {
          "output_type": "display_data",
          "data": {
            "text/plain": [
              "<IPython.core.display.HTML object>"
            ],
            "text/html": [
              "\n",
              "  <style>\n",
              "    pre {\n",
              "        white-space: pre-wrap;\n",
              "    }\n",
              "  </style>\n",
              "  "
            ]
          },
          "metadata": {}
        }
      ]
    },
    {
      "cell_type": "code",
      "source": [],
      "metadata": {
        "id": "d5aPzZCMRBLC"
      },
      "execution_count": 28,
      "outputs": []
    },
    {
      "cell_type": "code",
      "source": [
        "from langchain.prompts import ChatPromptTemplate\n",
        "from langchain.chat_models import ChatOpenAI\n"
      ],
      "metadata": {
        "colab": {
          "base_uri": "https://localhost:8080/",
          "height": 17
        },
        "id": "sAMPNlmD-yjF",
        "outputId": "66324eed-45cd-4017-e0fa-674ebbb20a7a"
      },
      "execution_count": 29,
      "outputs": [
        {
          "output_type": "display_data",
          "data": {
            "text/plain": [
              "<IPython.core.display.HTML object>"
            ],
            "text/html": [
              "\n",
              "  <style>\n",
              "    pre {\n",
              "        white-space: pre-wrap;\n",
              "    }\n",
              "  </style>\n",
              "  "
            ]
          },
          "metadata": {}
        }
      ]
    },
    {
      "cell_type": "code",
      "source": [
        "chat = ChatOpenAI(temperature=0.0)\n",
        "chat"
      ],
      "metadata": {
        "colab": {
          "base_uri": "https://localhost:8080/",
          "height": 52
        },
        "id": "hAve7ogBJzuh",
        "outputId": "376b371b-cdbc-4bb6-8e4f-c1d10c667c28"
      },
      "execution_count": 30,
      "outputs": [
        {
          "output_type": "display_data",
          "data": {
            "text/plain": [
              "<IPython.core.display.HTML object>"
            ],
            "text/html": [
              "\n",
              "  <style>\n",
              "    pre {\n",
              "        white-space: pre-wrap;\n",
              "    }\n",
              "  </style>\n",
              "  "
            ]
          },
          "metadata": {}
        },
        {
          "output_type": "execute_result",
          "data": {
            "text/plain": [
              "ChatOpenAI(verbose=False, callbacks=None, callback_manager=None, client=<class 'openai.api_resources.chat_completion.ChatCompletion'>, model_name='gpt-3.5-turbo', temperature=0.0, model_kwargs={}, openai_api_key=None, openai_api_base=None, openai_organization=None, openai_proxy=None, request_timeout=None, max_retries=6, streaming=False, n=1, max_tokens=None)"
            ]
          },
          "metadata": {},
          "execution_count": 30
        }
      ]
    },
    {
      "cell_type": "code",
      "source": [],
      "metadata": {
        "id": "uO5iGRKbJzyM"
      },
      "execution_count": 30,
      "outputs": []
    },
    {
      "cell_type": "markdown",
      "source": [
        "ChatPromptTemplate"
      ],
      "metadata": {
        "id": "5W5skAHCMTp0"
      }
    },
    {
      "cell_type": "code",
      "source": [
        "template_string32 = \"\"\"Give me reasons why {country} is a good place to retire: \\\n",
        "Cost of living, Healthcare, Climate, Safety, Lifestyle, and Visa. \\\n",
        "Output in {language}.\n",
        "\"\"\""
      ],
      "metadata": {
        "colab": {
          "base_uri": "https://localhost:8080/",
          "height": 17
        },
        "id": "aFuzlZZ1HI-Y",
        "outputId": "d2b38fb5-35bb-4fbd-b7e3-844811a3b0be"
      },
      "execution_count": 31,
      "outputs": [
        {
          "output_type": "display_data",
          "data": {
            "text/plain": [
              "<IPython.core.display.HTML object>"
            ],
            "text/html": [
              "\n",
              "  <style>\n",
              "    pre {\n",
              "        white-space: pre-wrap;\n",
              "    }\n",
              "  </style>\n",
              "  "
            ]
          },
          "metadata": {}
        }
      ]
    },
    {
      "cell_type": "code",
      "source": [
        "prompt_template32 = ChatPromptTemplate.from_template(template_string32)"
      ],
      "metadata": {
        "colab": {
          "base_uri": "https://localhost:8080/",
          "height": 17
        },
        "id": "13DfUdn8HJB7",
        "outputId": "56eee2f5-aac9-4950-e504-f1d5b23595a3"
      },
      "execution_count": 32,
      "outputs": [
        {
          "output_type": "display_data",
          "data": {
            "text/plain": [
              "<IPython.core.display.HTML object>"
            ],
            "text/html": [
              "\n",
              "  <style>\n",
              "    pre {\n",
              "        white-space: pre-wrap;\n",
              "    }\n",
              "  </style>\n",
              "  "
            ]
          },
          "metadata": {}
        }
      ]
    },
    {
      "cell_type": "code",
      "source": [
        "# prompt_template32"
      ],
      "metadata": {
        "colab": {
          "base_uri": "https://localhost:8080/",
          "height": 17
        },
        "id": "8KMRLFKQHJFV",
        "outputId": "f7783b04-4c2a-4b0c-c391-b5d3a32f12d8"
      },
      "execution_count": 33,
      "outputs": [
        {
          "output_type": "display_data",
          "data": {
            "text/plain": [
              "<IPython.core.display.HTML object>"
            ],
            "text/html": [
              "\n",
              "  <style>\n",
              "    pre {\n",
              "        white-space: pre-wrap;\n",
              "    }\n",
              "  </style>\n",
              "  "
            ]
          },
          "metadata": {}
        }
      ]
    },
    {
      "cell_type": "code",
      "source": [
        "# prompt_template32.messages"
      ],
      "metadata": {
        "colab": {
          "base_uri": "https://localhost:8080/",
          "height": 17
        },
        "id": "TDYEQxLnHjSD",
        "outputId": "8ebb7ddc-ba3d-4dcf-dc64-01486c1a66f5"
      },
      "execution_count": 34,
      "outputs": [
        {
          "output_type": "display_data",
          "data": {
            "text/plain": [
              "<IPython.core.display.HTML object>"
            ],
            "text/html": [
              "\n",
              "  <style>\n",
              "    pre {\n",
              "        white-space: pre-wrap;\n",
              "    }\n",
              "  </style>\n",
              "  "
            ]
          },
          "metadata": {}
        }
      ]
    },
    {
      "cell_type": "code",
      "source": [
        "# prompt_template32.messages[0]"
      ],
      "metadata": {
        "colab": {
          "base_uri": "https://localhost:8080/",
          "height": 17
        },
        "id": "VWrt8aLJHn4f",
        "outputId": "d6d2db79-e9cf-4030-93c3-2e9f48146356"
      },
      "execution_count": 35,
      "outputs": [
        {
          "output_type": "display_data",
          "data": {
            "text/plain": [
              "<IPython.core.display.HTML object>"
            ],
            "text/html": [
              "\n",
              "  <style>\n",
              "    pre {\n",
              "        white-space: pre-wrap;\n",
              "    }\n",
              "  </style>\n",
              "  "
            ]
          },
          "metadata": {}
        }
      ]
    },
    {
      "cell_type": "code",
      "source": [
        "prompt_template32.messages[0].prompt"
      ],
      "metadata": {
        "colab": {
          "base_uri": "https://localhost:8080/",
          "height": 52
        },
        "id": "6A8fN56uHpnQ",
        "outputId": "2ac635c5-e548-4e7c-c85b-5739843df4c0"
      },
      "execution_count": 36,
      "outputs": [
        {
          "output_type": "display_data",
          "data": {
            "text/plain": [
              "<IPython.core.display.HTML object>"
            ],
            "text/html": [
              "\n",
              "  <style>\n",
              "    pre {\n",
              "        white-space: pre-wrap;\n",
              "    }\n",
              "  </style>\n",
              "  "
            ]
          },
          "metadata": {}
        },
        {
          "output_type": "execute_result",
          "data": {
            "text/plain": [
              "PromptTemplate(input_variables=['country', 'language'], output_parser=None, partial_variables={}, template='Give me reasons why {country} is a good place to retire: Cost of living, Healthcare, Climate, Safety, Lifestyle, and Visa. Output in {language}.\\n', template_format='f-string', validate_template=True)"
            ]
          },
          "metadata": {},
          "execution_count": 36
        }
      ]
    },
    {
      "cell_type": "code",
      "source": [
        "country_to_retire = \"Japanese\"   # Not Japan\n",
        "language_to_write = \"Rude English\"\n",
        "\n",
        "prompt32 = prompt_template32.format_messages(\n",
        "                    country=country_to_retire,\n",
        "                    language=language_to_write)"
      ],
      "metadata": {
        "colab": {
          "base_uri": "https://localhost:8080/",
          "height": 17
        },
        "id": "2E5W0EOIHqM4",
        "outputId": "869d2123-1961-44fe-d8f9-2c69c2696277"
      },
      "execution_count": 37,
      "outputs": [
        {
          "output_type": "display_data",
          "data": {
            "text/plain": [
              "<IPython.core.display.HTML object>"
            ],
            "text/html": [
              "\n",
              "  <style>\n",
              "    pre {\n",
              "        white-space: pre-wrap;\n",
              "    }\n",
              "  </style>\n",
              "  "
            ]
          },
          "metadata": {}
        }
      ]
    },
    {
      "cell_type": "code",
      "source": [
        "print(type(prompt32))\n",
        "print(prompt32)"
      ],
      "metadata": {
        "colab": {
          "base_uri": "https://localhost:8080/",
          "height": 69
        },
        "id": "qbY6F_ZvInD3",
        "outputId": "29141aa2-8215-478d-dfdc-b1d78a72e1ce"
      },
      "execution_count": 38,
      "outputs": [
        {
          "output_type": "display_data",
          "data": {
            "text/plain": [
              "<IPython.core.display.HTML object>"
            ],
            "text/html": [
              "\n",
              "  <style>\n",
              "    pre {\n",
              "        white-space: pre-wrap;\n",
              "    }\n",
              "  </style>\n",
              "  "
            ]
          },
          "metadata": {}
        },
        {
          "output_type": "stream",
          "name": "stdout",
          "text": [
            "<class 'list'>\n",
            "[HumanMessage(content='Give me reasons why Japanese is a good place to retire: Cost of living, Healthcare, Climate, Safety, Lifestyle, and Visa. Output in Rude English.\\n', additional_kwargs={}, example=False)]\n"
          ]
        }
      ]
    },
    {
      "cell_type": "code",
      "source": [
        "prompt32[0]"
      ],
      "metadata": {
        "colab": {
          "base_uri": "https://localhost:8080/",
          "height": 52
        },
        "id": "oqHosJr8Ipim",
        "outputId": "3d9e84aa-40d0-444b-9c00-276c5f81dd99"
      },
      "execution_count": 39,
      "outputs": [
        {
          "output_type": "display_data",
          "data": {
            "text/plain": [
              "<IPython.core.display.HTML object>"
            ],
            "text/html": [
              "\n",
              "  <style>\n",
              "    pre {\n",
              "        white-space: pre-wrap;\n",
              "    }\n",
              "  </style>\n",
              "  "
            ]
          },
          "metadata": {}
        },
        {
          "output_type": "execute_result",
          "data": {
            "text/plain": [
              "HumanMessage(content='Give me reasons why Japanese is a good place to retire: Cost of living, Healthcare, Climate, Safety, Lifestyle, and Visa. Output in Rude English.\\n', additional_kwargs={}, example=False)"
            ]
          },
          "metadata": {},
          "execution_count": 39
        }
      ]
    },
    {
      "cell_type": "code",
      "source": [
        "reasons32 = chat(prompt32)"
      ],
      "metadata": {
        "colab": {
          "base_uri": "https://localhost:8080/",
          "height": 17
        },
        "id": "g1XylnxNJjx5",
        "outputId": "d7a7022d-8009-43eb-a2b4-9a0ad8091634"
      },
      "execution_count": 40,
      "outputs": [
        {
          "output_type": "display_data",
          "data": {
            "text/plain": [
              "<IPython.core.display.HTML object>"
            ],
            "text/html": [
              "\n",
              "  <style>\n",
              "    pre {\n",
              "        white-space: pre-wrap;\n",
              "    }\n",
              "  </style>\n",
              "  "
            ]
          },
          "metadata": {}
        }
      ]
    },
    {
      "cell_type": "code",
      "source": [
        "print(reasons32.content)"
      ],
      "metadata": {
        "colab": {
          "base_uri": "https://localhost:8080/",
          "height": 121
        },
        "id": "eBxVmvwdKT2D",
        "outputId": "1038af89-f280-4a7d-93d3-316274958604"
      },
      "execution_count": 41,
      "outputs": [
        {
          "output_type": "display_data",
          "data": {
            "text/plain": [
              "<IPython.core.display.HTML object>"
            ],
            "text/html": [
              "\n",
              "  <style>\n",
              "    pre {\n",
              "        white-space: pre-wrap;\n",
              "    }\n",
              "  </style>\n",
              "  "
            ]
          },
          "metadata": {}
        },
        {
          "output_type": "stream",
          "name": "stdout",
          "text": [
            "1. Cost of living is f\\*cking cheap in Japan, so you can stretch your retirement savings like a rubber band.\n",
            "2. Healthcare is top-notch, so you won't have to worry about getting sick and dying broke.\n",
            "3. The climate is pretty sweet, with mild winters and warm summers, so you can enjoy the outdoors all year round.\n",
            "4. Japan is one of the safest countries in the world, so you won't have to worry about getting mugged or murdered on your way to the grocery store.\n",
            "5. The lifestyle is pretty chill, with lots of opportunities for cultural experiences, outdoor activities, and delicious food.\n",
            "6. Getting a visa to retire in Japan is relatively easy, so you won't have to jump through a bunch of hoops to make it happen.\n"
          ]
        }
      ]
    },
    {
      "cell_type": "code",
      "source": [],
      "metadata": {
        "id": "aLzfetHiKZVK"
      },
      "execution_count": 41,
      "outputs": []
    },
    {
      "cell_type": "code",
      "source": [],
      "metadata": {
        "id": "IgII5xDIMu3w"
      },
      "execution_count": 41,
      "outputs": []
    },
    {
      "cell_type": "code",
      "source": [],
      "metadata": {
        "id": "7nCODh4eMu8C"
      },
      "execution_count": 41,
      "outputs": []
    },
    {
      "cell_type": "markdown",
      "source": [
        "# 4. Output Format"
      ],
      "metadata": {
        "id": "fk4cUAK9MwZD"
      }
    },
    {
      "cell_type": "markdown",
      "source": [
        "ใน [ep ก่อน เรื่องระบุรูปแบบโครงสร้างข้อมูลผลลัพท์](https://www.bualabs.com/archives/4703/how-to-prompt-chatgpt-format-output-prompt-engineering-ep-2/) เราได้พูดถึงเรื่อง การกำหนด Format โครงสร้างผลลัพท์ ที่ต้องการใน Prompt เพื่อนำไปใช้ต่อ"
      ],
      "metadata": {
        "id": "M2oo4TMCM0Tr"
      }
    },
    {
      "cell_type": "markdown",
      "source": [
        "## 4.1 ระบุโครงสร้างผลลัพท์ ที่ต้องการใน Prompt โดยตรง"
      ],
      "metadata": {
        "id": "kAjLKvMDTmI9"
      }
    },
    {
      "cell_type": "code",
      "source": [],
      "metadata": {
        "id": "L0jHzP9AMu_-"
      },
      "execution_count": 41,
      "outputs": []
    },
    {
      "cell_type": "code",
      "source": [
        "template_string41 = \"\"\"Give me reasons why {country} is a good place to retire: \\\n",
        "Cost of living, Healthcare, Climate, Safety, Lifestyle, and Visa. \\\n",
        "Write in {language}. Output in JSON Format.\n",
        "\"\"\""
      ],
      "metadata": {
        "colab": {
          "base_uri": "https://localhost:8080/",
          "height": 17
        },
        "id": "WnhRzOokMvEJ",
        "outputId": "67016519-5a8d-4922-8904-c9c0329cb752"
      },
      "execution_count": 43,
      "outputs": [
        {
          "output_type": "display_data",
          "data": {
            "text/plain": [
              "<IPython.core.display.HTML object>"
            ],
            "text/html": [
              "\n",
              "  <style>\n",
              "    pre {\n",
              "        white-space: pre-wrap;\n",
              "    }\n",
              "  </style>\n",
              "  "
            ]
          },
          "metadata": {}
        }
      ]
    },
    {
      "cell_type": "code",
      "source": [
        "prompt_template41 = ChatPromptTemplate.from_template(template_string41)"
      ],
      "metadata": {
        "colab": {
          "base_uri": "https://localhost:8080/",
          "height": 17
        },
        "id": "Sq4svLTMMvIV",
        "outputId": "d389ab9a-83b4-4bfd-9b79-b1d3d281b5d3"
      },
      "execution_count": 44,
      "outputs": [
        {
          "output_type": "display_data",
          "data": {
            "text/plain": [
              "<IPython.core.display.HTML object>"
            ],
            "text/html": [
              "\n",
              "  <style>\n",
              "    pre {\n",
              "        white-space: pre-wrap;\n",
              "    }\n",
              "  </style>\n",
              "  "
            ]
          },
          "metadata": {}
        }
      ]
    },
    {
      "cell_type": "code",
      "source": [
        "country_to_retire = \"Mexico\"   # Not Japan\n",
        "language_to_write = \"Polite English\"\n",
        "\n",
        "prompt41 = prompt_template41.format_messages(\n",
        "                    country=country_to_retire,\n",
        "                    language=language_to_write)"
      ],
      "metadata": {
        "colab": {
          "base_uri": "https://localhost:8080/",
          "height": 17
        },
        "id": "vixo8RyfMvL9",
        "outputId": "c96e89cc-f917-48b8-9dec-875d9bc0679c"
      },
      "execution_count": 45,
      "outputs": [
        {
          "output_type": "display_data",
          "data": {
            "text/plain": [
              "<IPython.core.display.HTML object>"
            ],
            "text/html": [
              "\n",
              "  <style>\n",
              "    pre {\n",
              "        white-space: pre-wrap;\n",
              "    }\n",
              "  </style>\n",
              "  "
            ]
          },
          "metadata": {}
        }
      ]
    },
    {
      "cell_type": "code",
      "source": [],
      "metadata": {
        "id": "3Tls3a2GMvPv"
      },
      "execution_count": 45,
      "outputs": []
    },
    {
      "cell_type": "code",
      "source": [
        "reasons41 = chat(prompt41)"
      ],
      "metadata": {
        "outputId": "949d593e-c45a-4b80-e172-97496a96e0b1",
        "colab": {
          "base_uri": "https://localhost:8080/",
          "height": 17
        },
        "id": "vFVXRwI9QQVB"
      },
      "execution_count": 46,
      "outputs": [
        {
          "output_type": "display_data",
          "data": {
            "text/plain": [
              "<IPython.core.display.HTML object>"
            ],
            "text/html": [
              "\n",
              "  <style>\n",
              "    pre {\n",
              "        white-space: pre-wrap;\n",
              "    }\n",
              "  </style>\n",
              "  "
            ]
          },
          "metadata": {}
        }
      ]
    },
    {
      "cell_type": "code",
      "source": [
        "print(reasons41.content)"
      ],
      "metadata": {
        "outputId": "48648893-9d2e-43f8-be87-2cf7d1d45b55",
        "colab": {
          "base_uri": "https://localhost:8080/",
          "height": 173
        },
        "id": "yfekQrOyQQVJ"
      },
      "execution_count": 47,
      "outputs": [
        {
          "output_type": "display_data",
          "data": {
            "text/plain": [
              "<IPython.core.display.HTML object>"
            ],
            "text/html": [
              "\n",
              "  <style>\n",
              "    pre {\n",
              "        white-space: pre-wrap;\n",
              "    }\n",
              "  </style>\n",
              "  "
            ]
          },
          "metadata": {}
        },
        {
          "output_type": "stream",
          "name": "stdout",
          "text": [
            "{\n",
            "    \"Cost of living\": \"Mexico has a lower cost of living compared to many other countries, making it an affordable option for retirees.\",\n",
            "    \"Healthcare\": \"Mexico has a good healthcare system, with many hospitals and clinics offering high-quality care at a fraction of the cost of other countries.\",\n",
            "    \"Climate\": \"Mexico has a warm and sunny climate, making it an ideal place for retirees who enjoy spending time outdoors.\",\n",
            "    \"Safety\": \"While there are some safety concerns in certain areas of Mexico, overall it is a safe place to retire. Many retirees feel safe and secure living in Mexico.\",\n",
            "    \"Lifestyle\": \"Mexico has a rich culture and history, with many opportunities for retirees to explore and enjoy. The country is also known for its delicious food, beautiful beaches, and vibrant nightlife.\",\n",
            "    \"Visa\": \"Mexico offers a retirement visa program, which makes it easy for retirees to obtain residency and enjoy all the benefits of living in the country.\"\n",
            "}\n"
          ]
        }
      ]
    },
    {
      "cell_type": "code",
      "source": [
        "print(type(reasons41.content))"
      ],
      "metadata": {
        "colab": {
          "base_uri": "https://localhost:8080/",
          "height": 34
        },
        "id": "GBs_IEClMvUB",
        "outputId": "2d9a4497-26ca-4e07-9ea0-aa35af751524"
      },
      "execution_count": 48,
      "outputs": [
        {
          "output_type": "display_data",
          "data": {
            "text/plain": [
              "<IPython.core.display.HTML object>"
            ],
            "text/html": [
              "\n",
              "  <style>\n",
              "    pre {\n",
              "        white-space: pre-wrap;\n",
              "    }\n",
              "  </style>\n",
              "  "
            ]
          },
          "metadata": {}
        },
        {
          "output_type": "stream",
          "name": "stdout",
          "text": [
            "<class 'str'>\n"
          ]
        }
      ]
    },
    {
      "cell_type": "code",
      "source": [],
      "metadata": {
        "id": "C6aqzM4QMvYR"
      },
      "execution_count": 48,
      "outputs": []
    },
    {
      "cell_type": "code",
      "source": [],
      "metadata": {
        "id": "TC9oxmtDMvcC"
      },
      "execution_count": 48,
      "outputs": []
    },
    {
      "cell_type": "markdown",
      "source": [
        "## 4.2 ใช้ StructuredOutputParser และ ResponseSchema จาก LangChain"
      ],
      "metadata": {
        "id": "ROEMYJ4OUrou"
      }
    },
    {
      "cell_type": "markdown",
      "source": [],
      "metadata": {
        "id": "AO6vUitQUr8F"
      }
    },
    {
      "cell_type": "code",
      "source": [
        "from langchain.output_parsers import ResponseSchema\n",
        "from langchain.output_parsers import StructuredOutputParser"
      ],
      "metadata": {
        "colab": {
          "base_uri": "https://localhost:8080/",
          "height": 17
        },
        "id": "DJCQM8hUMvgC",
        "outputId": "4177b968-9223-4612-f297-4f51ed3ea73d"
      },
      "execution_count": 49,
      "outputs": [
        {
          "output_type": "display_data",
          "data": {
            "text/plain": [
              "<IPython.core.display.HTML object>"
            ],
            "text/html": [
              "\n",
              "  <style>\n",
              "    pre {\n",
              "        white-space: pre-wrap;\n",
              "    }\n",
              "  </style>\n",
              "  "
            ]
          },
          "metadata": {}
        }
      ]
    },
    {
      "cell_type": "code",
      "source": [
        "col_schema = ResponseSchema(name=\"cost_of_living\",\n",
        "                             description=\"Assess the cost of housing, healthcare, groceries, transportation, and other essential expenses in the country you are considering. Ensure that your retirement income or savings can adequately cover your desired lifestyle.\")\n",
        "healthcare_schema = ResponseSchema(name=\"healthcare\",\n",
        "                                      description=\"Look into the quality and accessibility of healthcare services in the country. Consider the availability of affordable healthcare insurance or the country's public healthcare system.\")\n",
        "climate_schema = ResponseSchema(name=\"climate\",\n",
        "                                      description=\"Consider the climate and natural surroundings of the country. Determine if you prefer a warm or cold climate, proximity to the beach, mountains, or other natural attractions.\")\n",
        "safety_schema = ResponseSchema(name=\"safety\",\n",
        "                                      description=\"Research the country's safety record, crime rates, and political stability. Consider how safe you will feel living there and if the country has a stable legal system that protects your rights.\")\n",
        "lifestyle_schema = ResponseSchema(name=\"lifestyle\",\n",
        "                                      description=\"Evaluate whether the country's culture, language, and social environment align with your preferences. Consider the availability of recreational activities, entertainment, and amenities that cater to your interests.\")\n",
        "visa_schema = ResponseSchema(name=\"visa\",\n",
        "                                      description=\"Understand the visa and residency requirements for retirees in the country you are considering. Determine if you are eligible for retirement visas or long-term residency, and consider the ease of obtaining such permits.\")\n",
        "\n",
        "reasons_schemas = [col_schema, healthcare_schema, climate_schema, safety_schema, lifestyle_schema, visa_schema]"
      ],
      "metadata": {
        "colab": {
          "base_uri": "https://localhost:8080/",
          "height": 17
        },
        "id": "rhvnBxj-Mvju",
        "outputId": "15104d88-9e85-4638-f732-fafc8c728ae8"
      },
      "execution_count": 55,
      "outputs": [
        {
          "output_type": "display_data",
          "data": {
            "text/plain": [
              "<IPython.core.display.HTML object>"
            ],
            "text/html": [
              "\n",
              "  <style>\n",
              "    pre {\n",
              "        white-space: pre-wrap;\n",
              "    }\n",
              "  </style>\n",
              "  "
            ]
          },
          "metadata": {}
        }
      ]
    },
    {
      "cell_type": "code",
      "source": [],
      "metadata": {
        "id": "XeZ05QacVSvq"
      },
      "execution_count": 55,
      "outputs": []
    },
    {
      "cell_type": "code",
      "source": [
        "output_parser = StructuredOutputParser.from_response_schemas(reasons_schemas)"
      ],
      "metadata": {
        "colab": {
          "base_uri": "https://localhost:8080/",
          "height": 17
        },
        "id": "zHirzAnSVSz3",
        "outputId": "12e35acf-f354-4417-e639-386279264818"
      },
      "execution_count": 56,
      "outputs": [
        {
          "output_type": "display_data",
          "data": {
            "text/plain": [
              "<IPython.core.display.HTML object>"
            ],
            "text/html": [
              "\n",
              "  <style>\n",
              "    pre {\n",
              "        white-space: pre-wrap;\n",
              "    }\n",
              "  </style>\n",
              "  "
            ]
          },
          "metadata": {}
        }
      ]
    },
    {
      "cell_type": "code",
      "source": [
        "format_instructions = output_parser.get_format_instructions()"
      ],
      "metadata": {
        "colab": {
          "base_uri": "https://localhost:8080/",
          "height": 17
        },
        "id": "oC55yJ3qVS3z",
        "outputId": "875ec332-0790-46e9-c524-66cc6b2e66c4"
      },
      "execution_count": 57,
      "outputs": [
        {
          "output_type": "display_data",
          "data": {
            "text/plain": [
              "<IPython.core.display.HTML object>"
            ],
            "text/html": [
              "\n",
              "  <style>\n",
              "    pre {\n",
              "        white-space: pre-wrap;\n",
              "    }\n",
              "  </style>\n",
              "  "
            ]
          },
          "metadata": {}
        }
      ]
    },
    {
      "cell_type": "code",
      "source": [
        "print(format_instructions)"
      ],
      "metadata": {
        "colab": {
          "base_uri": "https://localhost:8080/",
          "height": 329
        },
        "id": "LxatHZ2dVS7h",
        "outputId": "1355295b-25c6-4a7c-e398-7cf01bb7cd18"
      },
      "execution_count": 58,
      "outputs": [
        {
          "output_type": "display_data",
          "data": {
            "text/plain": [
              "<IPython.core.display.HTML object>"
            ],
            "text/html": [
              "\n",
              "  <style>\n",
              "    pre {\n",
              "        white-space: pre-wrap;\n",
              "    }\n",
              "  </style>\n",
              "  "
            ]
          },
          "metadata": {}
        },
        {
          "output_type": "stream",
          "name": "stdout",
          "text": [
            "The output should be a markdown code snippet formatted in the following schema, including the leading and trailing \"\\`\\`\\`json\" and \"\\`\\`\\`\":\n",
            "\n",
            "```json\n",
            "{\n",
            "\t\"cost_of_living\": string  // Assess the cost of housing, healthcare, groceries, transportation, and other essential expenses in the country you are considering. Ensure that your retirement income or savings can adequately cover your desired lifestyle.\n",
            "\t\"healthcare\": string  // Look into the quality and accessibility of healthcare services in the country. Consider the availability of affordable healthcare insurance or the country's public healthcare system.\n",
            "\t\"climate\": string  // Consider the climate and natural surroundings of the country. Determine if you prefer a warm or cold climate, proximity to the beach, mountains, or other natural attractions.\n",
            "\t\"safety\": string  // Research the country's safety record, crime rates, and political stability. Consider how safe you will feel living there and if the country has a stable legal system that protects your rights.\n",
            "\t\"lifestyle\": string  // Evaluate whether the country's culture, language, and social environment align with your preferences. Consider the availability of recreational activities, entertainment, and amenities that cater to your interests.\n",
            "\t\"visa\": string  // Understand the visa and residency requirements for retirees in the country you are considering. Determine if you are eligible for retirement visas or long-term residency, and consider the ease of obtaining such permits.\n",
            "}\n",
            "```\n"
          ]
        }
      ]
    },
    {
      "cell_type": "code",
      "source": [],
      "metadata": {
        "id": "WKrR0UwRVTAJ"
      },
      "execution_count": 58,
      "outputs": []
    },
    {
      "cell_type": "code",
      "source": [],
      "metadata": {
        "id": "h-MpiZNoVTEq"
      },
      "execution_count": 58,
      "outputs": []
    },
    {
      "cell_type": "code",
      "source": [
        "template_string42 = \"\"\"Give me reasons why {country} is a good place to retire: \n",
        "\n",
        "Cost of living, Healthcare, Climate, Safety, Lifestyle, and Visa. \n",
        "\n",
        "Write in {language}. \n",
        "\n",
        "{format_instructions}\n",
        "\"\"\"\n"
      ],
      "metadata": {
        "colab": {
          "base_uri": "https://localhost:8080/",
          "height": 17
        },
        "outputId": "d0e66e5b-c374-41d9-aa93-c0ed4ab09825",
        "id": "FHfwt7oVVsO7"
      },
      "execution_count": 59,
      "outputs": [
        {
          "output_type": "display_data",
          "data": {
            "text/plain": [
              "<IPython.core.display.HTML object>"
            ],
            "text/html": [
              "\n",
              "  <style>\n",
              "    pre {\n",
              "        white-space: pre-wrap;\n",
              "    }\n",
              "  </style>\n",
              "  "
            ]
          },
          "metadata": {}
        }
      ]
    },
    {
      "cell_type": "code",
      "source": [
        "prompt_template42 = ChatPromptTemplate.from_template(template_string42)"
      ],
      "metadata": {
        "colab": {
          "base_uri": "https://localhost:8080/",
          "height": 17
        },
        "outputId": "5f7131a2-831b-46fb-a546-8ca6327d642f",
        "id": "ml8pUAalVsO8"
      },
      "execution_count": 60,
      "outputs": [
        {
          "output_type": "display_data",
          "data": {
            "text/plain": [
              "<IPython.core.display.HTML object>"
            ],
            "text/html": [
              "\n",
              "  <style>\n",
              "    pre {\n",
              "        white-space: pre-wrap;\n",
              "    }\n",
              "  </style>\n",
              "  "
            ]
          },
          "metadata": {}
        }
      ]
    },
    {
      "cell_type": "code",
      "source": [
        "country_to_retire = \"Nepal\"   # Not Japan\n",
        "language_to_write = \"Funny English\"\n",
        "\n",
        "prompt42 = prompt_template42.format_messages(\n",
        "                    country=country_to_retire,\n",
        "                    language=language_to_write, \n",
        "                    format_instructions=format_instructions)"
      ],
      "metadata": {
        "colab": {
          "base_uri": "https://localhost:8080/",
          "height": 17
        },
        "outputId": "f588ea77-3229-4da7-fbc8-262515649222",
        "id": "3EnNEUHIVsO8"
      },
      "execution_count": 61,
      "outputs": [
        {
          "output_type": "display_data",
          "data": {
            "text/plain": [
              "<IPython.core.display.HTML object>"
            ],
            "text/html": [
              "\n",
              "  <style>\n",
              "    pre {\n",
              "        white-space: pre-wrap;\n",
              "    }\n",
              "  </style>\n",
              "  "
            ]
          },
          "metadata": {}
        }
      ]
    },
    {
      "cell_type": "code",
      "source": [
        "print(prompt42[0].content)"
      ],
      "metadata": {
        "colab": {
          "base_uri": "https://localhost:8080/",
          "height": 451
        },
        "id": "B9z6i2AQVTJS",
        "outputId": "f22f37eb-28ce-44af-87ca-48507a68c2fb"
      },
      "execution_count": 62,
      "outputs": [
        {
          "output_type": "display_data",
          "data": {
            "text/plain": [
              "<IPython.core.display.HTML object>"
            ],
            "text/html": [
              "\n",
              "  <style>\n",
              "    pre {\n",
              "        white-space: pre-wrap;\n",
              "    }\n",
              "  </style>\n",
              "  "
            ]
          },
          "metadata": {}
        },
        {
          "output_type": "stream",
          "name": "stdout",
          "text": [
            "Give me reasons why Nepal is a good place to retire: \n",
            "\n",
            "Cost of living, Healthcare, Climate, Safety, Lifestyle, and Visa. \n",
            "\n",
            "Write in Funny English. \n",
            "\n",
            "The output should be a markdown code snippet formatted in the following schema, including the leading and trailing \"\\`\\`\\`json\" and \"\\`\\`\\`\":\n",
            "\n",
            "```json\n",
            "{\n",
            "\t\"cost_of_living\": string  // Assess the cost of housing, healthcare, groceries, transportation, and other essential expenses in the country you are considering. Ensure that your retirement income or savings can adequately cover your desired lifestyle.\n",
            "\t\"healthcare\": string  // Look into the quality and accessibility of healthcare services in the country. Consider the availability of affordable healthcare insurance or the country's public healthcare system.\n",
            "\t\"climate\": string  // Consider the climate and natural surroundings of the country. Determine if you prefer a warm or cold climate, proximity to the beach, mountains, or other natural attractions.\n",
            "\t\"safety\": string  // Research the country's safety record, crime rates, and political stability. Consider how safe you will feel living there and if the country has a stable legal system that protects your rights.\n",
            "\t\"lifestyle\": string  // Evaluate whether the country's culture, language, and social environment align with your preferences. Consider the availability of recreational activities, entertainment, and amenities that cater to your interests.\n",
            "\t\"visa\": string  // Understand the visa and residency requirements for retirees in the country you are considering. Determine if you are eligible for retirement visas or long-term residency, and consider the ease of obtaining such permits.\n",
            "}\n",
            "```\n",
            "\n"
          ]
        }
      ]
    },
    {
      "cell_type": "code",
      "source": [],
      "metadata": {
        "id": "S-khEN9RVTOJ"
      },
      "execution_count": 62,
      "outputs": []
    },
    {
      "cell_type": "code",
      "source": [],
      "metadata": {
        "id": "DGKvqDqnVTSg"
      },
      "execution_count": 62,
      "outputs": []
    },
    {
      "cell_type": "code",
      "source": [
        "reasons42 = chat(prompt42)"
      ],
      "metadata": {
        "outputId": "80e01f27-ed84-42c5-de16-60af3892da71",
        "colab": {
          "base_uri": "https://localhost:8080/",
          "height": 17
        },
        "id": "GV5Bk8-1WzXu"
      },
      "execution_count": 63,
      "outputs": [
        {
          "output_type": "display_data",
          "data": {
            "text/plain": [
              "<IPython.core.display.HTML object>"
            ],
            "text/html": [
              "\n",
              "  <style>\n",
              "    pre {\n",
              "        white-space: pre-wrap;\n",
              "    }\n",
              "  </style>\n",
              "  "
            ]
          },
          "metadata": {}
        }
      ]
    },
    {
      "cell_type": "code",
      "source": [
        "print(reasons42.content)"
      ],
      "metadata": {
        "outputId": "51853018-dba2-4f7b-8089-1c80e686eba9",
        "colab": {
          "base_uri": "https://localhost:8080/",
          "height": 225
        },
        "id": "tKJktJ0JWzXv"
      },
      "execution_count": 64,
      "outputs": [
        {
          "output_type": "display_data",
          "data": {
            "text/plain": [
              "<IPython.core.display.HTML object>"
            ],
            "text/html": [
              "\n",
              "  <style>\n",
              "    pre {\n",
              "        white-space: pre-wrap;\n",
              "    }\n",
              "  </style>\n",
              "  "
            ]
          },
          "metadata": {}
        },
        {
          "output_type": "stream",
          "name": "stdout",
          "text": [
            "```json\n",
            "{\n",
            "\t\"cost_of_living\": \"Nepal is cheap like momo, you can live like a king with your retirement savings. You can buy a whole goat for the price of a Starbucks coffee.\",\n",
            "\t\"healthcare\": \"Don't worry about your health, Nepal has Ayurvedic medicine that can cure anything from a headache to a broken heart. Plus, the fresh mountain air will do wonders for your lungs.\",\n",
            "\t\"climate\": \"Nepal has the perfect climate for retirees who want to escape the heat or the cold. You can enjoy the cool mountain breeze in the summer and snuggle up by the fire in the winter.\",\n",
            "\t\"safety\": \"Nepal is safer than your grandma's house. The only danger you'll face is getting lost in the beauty of the Himalayas.\",\n",
            "\t\"lifestyle\": \"Nepal has a laid-back lifestyle that will make you forget about the hustle and bustle of city life. You can spend your days hiking, meditating, or just enjoying a cup of chai with the locals.\",\n",
            "\t\"visa\": \"Getting a visa in Nepal is easier than making a cup of instant noodles. You can get a retirement visa in no time and start living your dream life in the land of the Gurkhas.\"\n",
            "}\n",
            "```\n"
          ]
        }
      ]
    },
    {
      "cell_type": "code",
      "source": [
        "print(type(reasons42.content))"
      ],
      "metadata": {
        "colab": {
          "base_uri": "https://localhost:8080/",
          "height": 34
        },
        "outputId": "986f9c47-1c1c-4c54-cc62-f940e7adad93",
        "id": "sOekx-bDWzXv"
      },
      "execution_count": 65,
      "outputs": [
        {
          "output_type": "display_data",
          "data": {
            "text/plain": [
              "<IPython.core.display.HTML object>"
            ],
            "text/html": [
              "\n",
              "  <style>\n",
              "    pre {\n",
              "        white-space: pre-wrap;\n",
              "    }\n",
              "  </style>\n",
              "  "
            ]
          },
          "metadata": {}
        },
        {
          "output_type": "stream",
          "name": "stdout",
          "text": [
            "<class 'str'>\n"
          ]
        }
      ]
    },
    {
      "cell_type": "code",
      "source": [
        "output_dict = output_parser.parse(reasons42.content)"
      ],
      "metadata": {
        "colab": {
          "base_uri": "https://localhost:8080/",
          "height": 17
        },
        "id": "JmquHdbCVTYg",
        "outputId": "3041dea4-7203-40be-e43d-9787a3119147"
      },
      "execution_count": 66,
      "outputs": [
        {
          "output_type": "display_data",
          "data": {
            "text/plain": [
              "<IPython.core.display.HTML object>"
            ],
            "text/html": [
              "\n",
              "  <style>\n",
              "    pre {\n",
              "        white-space: pre-wrap;\n",
              "    }\n",
              "  </style>\n",
              "  "
            ]
          },
          "metadata": {}
        }
      ]
    },
    {
      "cell_type": "code",
      "source": [
        "type(output_dict)"
      ],
      "metadata": {
        "colab": {
          "base_uri": "https://localhost:8080/",
          "height": 34
        },
        "id": "U15892xfVTds",
        "outputId": "71cbee30-b78e-4788-c9a2-ff0e7180d26f"
      },
      "execution_count": 67,
      "outputs": [
        {
          "output_type": "display_data",
          "data": {
            "text/plain": [
              "<IPython.core.display.HTML object>"
            ],
            "text/html": [
              "\n",
              "  <style>\n",
              "    pre {\n",
              "        white-space: pre-wrap;\n",
              "    }\n",
              "  </style>\n",
              "  "
            ]
          },
          "metadata": {}
        },
        {
          "output_type": "execute_result",
          "data": {
            "text/plain": [
              "dict"
            ]
          },
          "metadata": {},
          "execution_count": 67
        }
      ]
    },
    {
      "cell_type": "code",
      "source": [
        "from pprint import pprint"
      ],
      "metadata": {
        "colab": {
          "base_uri": "https://localhost:8080/",
          "height": 17
        },
        "id": "_elstBTVrRSX",
        "outputId": "201253fe-0372-4631-f6fb-057035530cc7"
      },
      "execution_count": 72,
      "outputs": [
        {
          "output_type": "display_data",
          "data": {
            "text/plain": [
              "<IPython.core.display.HTML object>"
            ],
            "text/html": [
              "\n",
              "  <style>\n",
              "    pre {\n",
              "        white-space: pre-wrap;\n",
              "    }\n",
              "  </style>\n",
              "  "
            ]
          },
          "metadata": {}
        }
      ]
    },
    {
      "cell_type": "code",
      "source": [
        "pprint(output_dict)"
      ],
      "metadata": {
        "colab": {
          "base_uri": "https://localhost:8080/",
          "height": 329
        },
        "id": "0cO0Yy-7XL7-",
        "outputId": "d3a05440-c97a-4324-82f6-501f2f085bbe"
      },
      "execution_count": 73,
      "outputs": [
        {
          "output_type": "display_data",
          "data": {
            "text/plain": [
              "<IPython.core.display.HTML object>"
            ],
            "text/html": [
              "\n",
              "  <style>\n",
              "    pre {\n",
              "        white-space: pre-wrap;\n",
              "    }\n",
              "  </style>\n",
              "  "
            ]
          },
          "metadata": {}
        },
        {
          "output_type": "stream",
          "name": "stdout",
          "text": [
            "{'climate': 'Nepal has the perfect climate for retirees who want to escape the '\n",
            "            'heat or the cold. You can enjoy the cool mountain breeze in the '\n",
            "            'summer and snuggle up by the fire in the winter.',\n",
            " 'cost_of_living': 'Nepal is cheap like momo, you can live like a king with '\n",
            "                   'your retirement savings. You can buy a whole goat for the '\n",
            "                   'price of a Starbucks coffee.',\n",
            " 'healthcare': \"Don't worry about your health, Nepal has Ayurvedic medicine \"\n",
            "               'that can cure anything from a headache to a broken heart. '\n",
            "               'Plus, the fresh mountain air will do wonders for your lungs.',\n",
            " 'lifestyle': 'Nepal has a laid-back lifestyle that will make you forget about '\n",
            "              'the hustle and bustle of city life. You can spend your days '\n",
            "              'hiking, meditating, or just enjoying a cup of chai with the '\n",
            "              'locals.',\n",
            " 'safety': \"Nepal is safer than your grandma's house. The only danger you'll \"\n",
            "           'face is getting lost in the beauty of the Himalayas.',\n",
            " 'visa': 'Getting a visa in Nepal is easier than making a cup of instant '\n",
            "         'noodles. You can get a retirement visa in no time and start living '\n",
            "         'your dream life in the land of the Gurkhas.'}\n"
          ]
        }
      ]
    },
    {
      "cell_type": "code",
      "source": [
        "print(output_dict[\"visa\"])"
      ],
      "metadata": {
        "colab": {
          "base_uri": "https://localhost:8080/",
          "height": 34
        },
        "id": "lGdUOrU1ZjCE",
        "outputId": "646a0b4c-db70-4735-9d41-22d3756b0475"
      },
      "execution_count": 74,
      "outputs": [
        {
          "output_type": "display_data",
          "data": {
            "text/plain": [
              "<IPython.core.display.HTML object>"
            ],
            "text/html": [
              "\n",
              "  <style>\n",
              "    pre {\n",
              "        white-space: pre-wrap;\n",
              "    }\n",
              "  </style>\n",
              "  "
            ]
          },
          "metadata": {}
        },
        {
          "output_type": "stream",
          "name": "stdout",
          "text": [
            "Getting a visa in Nepal is easier than making a cup of instant noodles. You can get a retirement visa in no time and start living your dream life in the land of the Gurkhas.\n"
          ]
        }
      ]
    },
    {
      "cell_type": "code",
      "source": [],
      "metadata": {
        "id": "lkYOdfr4Zphk"
      },
      "execution_count": null,
      "outputs": []
    }
  ]
}