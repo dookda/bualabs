{
  "nbformat": 4,
  "nbformat_minor": 0,
  "metadata": {
    "colab": {
      "provenance": [],
      "authorship_tag": "ABX9TyP7VFyjEoch+Hu2nbg447n3",
      "include_colab_link": true
    },
    "kernelspec": {
      "name": "python3",
      "display_name": "Python 3"
    },
    "language_info": {
      "name": "python"
    }
  },
  "cells": [
    {
      "cell_type": "markdown",
      "metadata": {
        "id": "view-in-github",
        "colab_type": "text"
      },
      "source": [
        "<a href=\"https://colab.research.google.com/github/gnoparus/bualabs/blob/master/nbs/32a_langchain_intro.ipynb\" target=\"_parent\"><img src=\"https://colab.research.google.com/assets/colab-badge.svg\" alt=\"Open In Colab\"/></a>"
      ]
    },
    {
      "cell_type": "code",
      "execution_count": null,
      "metadata": {
        "id": "bkOsYAPmPxNf"
      },
      "outputs": [],
      "source": []
    },
    {
      "cell_type": "code",
      "source": [
        "\n"
      ],
      "metadata": {
        "id": "_7oHXYXCP7ym"
      },
      "execution_count": null,
      "outputs": []
    },
    {
      "cell_type": "markdown",
      "source": [
        "ต่อไปเราจะมาเรียนรู้ LangChain"
      ],
      "metadata": {
        "id": "WrAXCBTSH1VF"
      }
    },
    {
      "cell_type": "markdown",
      "source": [
        "# 0. Magic Commands\n",
        "ให้ใส่ไว้บนสุดทุก Notebook เป็นการสั่งให้ Notebook ก่อนรัน ให้รีโหลด Library ภายนอกที่เรา import ไว้ใหม่โดยอัตโนมัติ\n",
        "\n",
        "และให้พล็อตกราฟ matplotlib ใน Output ของ cell แบบ code ได้เลย"
      ],
      "metadata": {
        "id": "XADbYKvIHVdT"
      }
    },
    {
      "cell_type": "code",
      "source": [
        "%reload_ext autoreload\n",
        "%autoreload 2\n",
        "%matplotlib inline"
      ],
      "metadata": {
        "id": "SY1xxOt4GFMw"
      },
      "execution_count": 1,
      "outputs": []
    },
    {
      "cell_type": "markdown",
      "source": [
        "สั่งให้ Colab แสดงผลข้อความแบบ Wrap Text"
      ],
      "metadata": {
        "id": "uvbfUIO3oeEi"
      }
    },
    {
      "cell_type": "code",
      "source": [
        "from IPython.display import HTML, display\n",
        "\n",
        "def set_css():\n",
        "  display(HTML('''\n",
        "  <style>\n",
        "    pre {\n",
        "        white-space: pre-wrap;\n",
        "    }\n",
        "  </style>\n",
        "  '''))\n",
        "get_ipython().events.register('pre_run_cell', set_css)"
      ],
      "metadata": {
        "id": "xwy_06Hgn2T2"
      },
      "execution_count": 2,
      "outputs": []
    },
    {
      "cell_type": "markdown",
      "source": [
        "# 1. Import Library\n",
        "\n",
        "ติดตั้ง OpenAI Library ด้วยการ Uncomment Cell ด้านล่างแล้ว Run"
      ],
      "metadata": {
        "id": "2tV5b_GLGsfT"
      }
    },
    {
      "cell_type": "code",
      "source": [],
      "metadata": {
        "id": "d3WQS1SFTlLp"
      },
      "execution_count": 3,
      "outputs": []
    },
    {
      "cell_type": "code",
      "source": [],
      "metadata": {
        "id": "a80oCM3ZTlRK"
      },
      "execution_count": 3,
      "outputs": []
    },
    {
      "cell_type": "code",
      "source": [],
      "metadata": {
        "id": "v-5QkpsqRBG9",
        "colab": {
          "base_uri": "https://localhost:8080/",
          "height": 17
        },
        "outputId": "7ad8d2af-f330-4fc6-ca20-c4b3c78c4c0c"
      },
      "execution_count": 4,
      "outputs": [
        {
          "output_type": "display_data",
          "data": {
            "text/plain": [
              "<IPython.core.display.HTML object>"
            ],
            "text/html": [
              "\n",
              "  <style>\n",
              "    pre {\n",
              "        white-space: pre-wrap;\n",
              "    }\n",
              "  </style>\n",
              "  "
            ]
          },
          "metadata": {}
        }
      ]
    },
    {
      "cell_type": "code",
      "execution_count": 6,
      "metadata": {
        "id": "AQWl4NIQ8LJm",
        "colab": {
          "base_uri": "https://localhost:8080/",
          "height": 17
        },
        "outputId": "8a2182f9-b406-46f7-aa8d-5b37255b6be4"
      },
      "outputs": [
        {
          "output_type": "display_data",
          "data": {
            "text/plain": [
              "<IPython.core.display.HTML object>"
            ],
            "text/html": [
              "\n",
              "  <style>\n",
              "    pre {\n",
              "        white-space: pre-wrap;\n",
              "    }\n",
              "  </style>\n",
              "  "
            ]
          },
          "metadata": {}
        }
      ],
      "source": [
        "# ! pip install openai"
      ]
    },
    {
      "cell_type": "code",
      "source": [],
      "metadata": {
        "id": "V7A9HeBpTatR"
      },
      "execution_count": 6,
      "outputs": []
    },
    {
      "cell_type": "code",
      "source": [],
      "metadata": {
        "id": "jARkCzjWTa1l"
      },
      "execution_count": 6,
      "outputs": []
    },
    {
      "cell_type": "markdown",
      "source": [
        "# 2. Authentication\n",
        "\n",
        "ก่อนที่เราจะเรียกใช้งาน ChatGPT, GPT-4 ของ OpenAI ได้ เราต้องลงทะเบียน สมัครใช้งาน และใส่ข้อมูลวิธีชำระเงินให้เรียบร้อยก่อน \n",
        "\n",
        "## Sign up\n",
        "\n",
        "กดปุ่ม Sign up สีเขียว ในลิงค์ด้านล่าง สมัครใช้งาน OpenAI \n",
        "\n",
        "https://platform.openai.com/overview\n",
        "\n",
        "ใส่ข้อมูลบัตรเครดิต ในหน้า Billing ให้เรียบร้อย\n",
        "\n",
        "https://platform.openai.com/account/billing/payment-methods\n",
        "\n",
        "\n",
        "\n",
        "\n"
      ],
      "metadata": {
        "id": "MyBgjLga_6rG"
      }
    },
    {
      "cell_type": "markdown",
      "source": [
        "## API Key\n",
        "\n",
        "สร้าง API Key จากลิงค์ด้านล่าง โดยกดปุ่ม Create new secret key ตั้งชื่อ แล้ว Copy secret key เตรียมไว้ใส่ในช่อง OPENAI_API_KEY ด้านล่าง\n",
        "\n",
        "https://platform.openai.com/account/api-keys\n",
        "\n",
        "\n",
        "## ตัวอย่าง API Key \n",
        "\n",
        "OPENAI_API_KEY: sk-abcDeFGHijKlMNopQrstuvWxyZ1234567890abcDefhiJklm\n",
        "\n",
        "รัน Cell ด้านล่าง แล้วใส่ secret key ที่ได้มา\n",
        "\n",
        "บางที Run แล้วค้าง ไม่ขึ้นช่องให้กรอก ให้กดหยุด แล้วลอง Run ใหม่"
      ],
      "metadata": {
        "id": "2jWLUnvhJ0cX"
      }
    },
    {
      "cell_type": "code",
      "source": [
        "import os\n",
        "from getpass import getpass\n",
        "\n",
        "token = getpass('Enter OPENAI_API_KEY here: ')\n",
        "# print ('token is', token)\n",
        "\n",
        "os.environ[\"OPENAI_API_KEY\"] = token"
      ],
      "metadata": {
        "colab": {
          "base_uri": "https://localhost:8080/",
          "height": 34
        },
        "id": "od_JGCDH85e8",
        "outputId": "67ed3b19-8e37-4fa2-e052-06a1dfa909ad"
      },
      "execution_count": 8,
      "outputs": [
        {
          "output_type": "display_data",
          "data": {
            "text/plain": [
              "<IPython.core.display.HTML object>"
            ],
            "text/html": [
              "\n",
              "  <style>\n",
              "    pre {\n",
              "        white-space: pre-wrap;\n",
              "    }\n",
              "  </style>\n",
              "  "
            ]
          },
          "metadata": {}
        },
        {
          "name": "stdout",
          "output_type": "stream",
          "text": [
            "Enter OPENAI_API_KEY here: ··········\n"
          ]
        }
      ]
    },
    {
      "cell_type": "markdown",
      "source": [
        "หลังจากทดสอบเสร็จแล้ว แนะนำให้กลับไปลบ Secret Key ในหน้า https://platform.openai.com/account/api-keys ทิ้งไปทุกครั้ง เพื่อความปลอดภัย โดยเราสามารถสร้าง Key ใหม่ได้เรื่อย ๆ ไม่จำกัด"
      ],
      "metadata": {
        "id": "6DGekg9eQyD0"
      }
    },
    {
      "cell_type": "code",
      "source": [],
      "metadata": {
        "id": "qM2mz2ghTQka"
      },
      "execution_count": null,
      "outputs": []
    },
    {
      "cell_type": "code",
      "source": [],
      "metadata": {
        "id": "YuODWNoJBxOE"
      },
      "execution_count": null,
      "outputs": []
    },
    {
      "cell_type": "code",
      "source": [],
      "metadata": {
        "id": "uN-9rNccBxRg"
      },
      "execution_count": null,
      "outputs": []
    },
    {
      "cell_type": "markdown",
      "source": [
        "#3. Call API "
      ],
      "metadata": {
        "id": "YpsFGTC4CIPp"
      }
    },
    {
      "cell_type": "markdown",
      "source": [
        "## 3.1 เรียกใช้ OpenAI API แบบ ตรง ๆ "
      ],
      "metadata": {
        "id": "5e1DKrHlQes-"
      }
    },
    {
      "cell_type": "code",
      "source": [],
      "metadata": {
        "id": "FGFCxqvmQdOF"
      },
      "execution_count": null,
      "outputs": []
    },
    {
      "cell_type": "markdown",
      "source": [
        "[จาก ep ก่อน Prompt Engineering คืออะไร ](https://www.bualabs.com/archives/4483/what-is-prompt-engineering/) เราได้เรียกใช้ chatgpt ผ่าน API ของ OpenAI ได้โดยตรง"
      ],
      "metadata": {
        "id": "qj5QYUwhCSA8"
      }
    },
    {
      "cell_type": "code",
      "source": [
        "import openai"
      ],
      "metadata": {
        "colab": {
          "base_uri": "https://localhost:8080/",
          "height": 17
        },
        "id": "sCCD6g5_BxYP",
        "outputId": "28090ff5-cfc5-49d1-c7f0-7b813a59b571"
      },
      "execution_count": 11,
      "outputs": [
        {
          "output_type": "display_data",
          "data": {
            "text/plain": [
              "<IPython.core.display.HTML object>"
            ],
            "text/html": [
              "\n",
              "  <style>\n",
              "    pre {\n",
              "        white-space: pre-wrap;\n",
              "    }\n",
              "  </style>\n",
              "  "
            ]
          },
          "metadata": {}
        }
      ]
    },
    {
      "cell_type": "code",
      "source": [
        "def get_completion(prompt, model=\"gpt-3.5-turbo\"):\n",
        "    messages = [{\"role\": \"user\", \"content\": prompt}]\n",
        "    response = openai.ChatCompletion.create(\n",
        "        model=model,\n",
        "        messages=messages,\n",
        "        temperature=0, \n",
        "    )\n",
        "    return response.choices[0].message[\"content\"]\n"
      ],
      "metadata": {
        "colab": {
          "base_uri": "https://localhost:8080/",
          "height": 17
        },
        "id": "8mb2NZi-BxVH",
        "outputId": "9480efbf-bfb3-4530-f868-ccc26021243b"
      },
      "execution_count": 12,
      "outputs": [
        {
          "output_type": "display_data",
          "data": {
            "text/plain": [
              "<IPython.core.display.HTML object>"
            ],
            "text/html": [
              "\n",
              "  <style>\n",
              "    pre {\n",
              "        white-space: pre-wrap;\n",
              "    }\n",
              "  </style>\n",
              "  "
            ]
          },
          "metadata": {}
        }
      ]
    },
    {
      "cell_type": "code",
      "source": [
        "country = \"Thailand\"\n",
        "language = \"English\"\n",
        "\n",
        "prompt31 = f\"\"\"Give me 10 reasons why {country} is a good place to retire.\n",
        "Output in {language}.\n",
        "\"\"\""
      ],
      "metadata": {
        "colab": {
          "base_uri": "https://localhost:8080/",
          "height": 17
        },
        "id": "y74nVT1qDKcA",
        "outputId": "7cb3e2fd-d4ba-4adf-a122-8052fd1f6076"
      },
      "execution_count": 94,
      "outputs": [
        {
          "output_type": "display_data",
          "data": {
            "text/plain": [
              "<IPython.core.display.HTML object>"
            ],
            "text/html": [
              "\n",
              "  <style>\n",
              "    pre {\n",
              "        white-space: pre-wrap;\n",
              "    }\n",
              "  </style>\n",
              "  "
            ]
          },
          "metadata": {}
        }
      ]
    },
    {
      "cell_type": "code",
      "source": [
        "print(prompt31)"
      ],
      "metadata": {
        "colab": {
          "base_uri": "https://localhost:8080/",
          "height": 69
        },
        "id": "BZaTzJnVD8Pg",
        "outputId": "f0bc84b4-25fc-4d86-acc1-efd5c7ce5d00"
      },
      "execution_count": 95,
      "outputs": [
        {
          "output_type": "display_data",
          "data": {
            "text/plain": [
              "<IPython.core.display.HTML object>"
            ],
            "text/html": [
              "\n",
              "  <style>\n",
              "    pre {\n",
              "        white-space: pre-wrap;\n",
              "    }\n",
              "  </style>\n",
              "  "
            ]
          },
          "metadata": {}
        },
        {
          "output_type": "stream",
          "name": "stdout",
          "text": [
            "Give me 10 reasons why Thailand is a good place to retire.\n",
            "Output in English.\n",
            "\n"
          ]
        }
      ]
    },
    {
      "cell_type": "code",
      "source": [
        "reason31 = get_completion(prompt31)"
      ],
      "metadata": {
        "colab": {
          "base_uri": "https://localhost:8080/",
          "height": 17
        },
        "id": "TIbUg5dtDKng",
        "outputId": "f7006cba-054e-47da-9c72-ae7eec641dc0"
      },
      "execution_count": 96,
      "outputs": [
        {
          "output_type": "display_data",
          "data": {
            "text/plain": [
              "<IPython.core.display.HTML object>"
            ],
            "text/html": [
              "\n",
              "  <style>\n",
              "    pre {\n",
              "        white-space: pre-wrap;\n",
              "    }\n",
              "  </style>\n",
              "  "
            ]
          },
          "metadata": {}
        }
      ]
    },
    {
      "cell_type": "code",
      "source": [
        "print(reason31)"
      ],
      "metadata": {
        "colab": {
          "base_uri": "https://localhost:8080/",
          "height": 347
        },
        "id": "LgLruQLZDKop",
        "outputId": "9745f40d-aced-486a-c228-fc666577104f"
      },
      "execution_count": 97,
      "outputs": [
        {
          "output_type": "display_data",
          "data": {
            "text/plain": [
              "<IPython.core.display.HTML object>"
            ],
            "text/html": [
              "\n",
              "  <style>\n",
              "    pre {\n",
              "        white-space: pre-wrap;\n",
              "    }\n",
              "  </style>\n",
              "  "
            ]
          },
          "metadata": {}
        },
        {
          "output_type": "stream",
          "name": "stdout",
          "text": [
            "1. Affordable cost of living: Thailand offers a low cost of living compared to many Western countries, making it an attractive option for retirees on a budget.\n",
            "\n",
            "2. Warm climate: With its tropical climate, Thailand offers warm weather year-round, which is ideal for retirees who want to enjoy outdoor activities.\n",
            "\n",
            "3. High-quality healthcare: Thailand has a well-developed healthcare system, with modern facilities and highly trained medical professionals.\n",
            "\n",
            "4. Friendly locals: Thai people are known for their warm hospitality and friendly nature, making it easy for retirees to feel at home in the country.\n",
            "\n",
            "5. Delicious food: Thailand is famous for its delicious cuisine, which is both healthy and affordable.\n",
            "\n",
            "6. Beautiful scenery: From stunning beaches to lush jungles, Thailand offers retirees a wide range of beautiful scenery to explore.\n",
            "\n",
            "7. Rich culture: Thailand has a rich cultural heritage, with ancient temples, traditional festivals, and a vibrant arts scene.\n",
            "\n",
            "8. Easy visa process: Thailand offers a retirement visa program that makes it easy for retirees to stay in the country long-term.\n",
            "\n",
            "9. Modern infrastructure: Thailand has a modern infrastructure, with good roads, reliable public transportation, and high-speed internet.\n",
            "\n",
            "10. Active expat community: Thailand has a large expat community, which means retirees can easily connect with like-minded individuals and enjoy a range of social activities.\n"
          ]
        }
      ]
    },
    {
      "cell_type": "code",
      "source": [],
      "metadata": {
        "id": "v-99Fzk8DKqB"
      },
      "execution_count": 97,
      "outputs": []
    },
    {
      "cell_type": "code",
      "source": [
        "country = \"Singapore\"\n",
        "language = \"English with stutter in every sentences\"\n",
        "\n",
        "prompt31 = f\"\"\"Give me 10 reasons why {country} is a good place to retire.\n",
        "Output in {language}.\n",
        "\"\"\""
      ],
      "metadata": {
        "colab": {
          "base_uri": "https://localhost:8080/",
          "height": 17
        },
        "id": "YEUZrQgEDKs5",
        "outputId": "075ab912-fce4-4dc0-ba18-d5a81141276a"
      },
      "execution_count": 115,
      "outputs": [
        {
          "output_type": "display_data",
          "data": {
            "text/plain": [
              "<IPython.core.display.HTML object>"
            ],
            "text/html": [
              "\n",
              "  <style>\n",
              "    pre {\n",
              "        white-space: pre-wrap;\n",
              "    }\n",
              "  </style>\n",
              "  "
            ]
          },
          "metadata": {}
        }
      ]
    },
    {
      "cell_type": "code",
      "source": [
        "print(prompt31)"
      ],
      "metadata": {
        "colab": {
          "base_uri": "https://localhost:8080/",
          "height": 69
        },
        "id": "DIfvLljKEoMA",
        "outputId": "e55443a7-5bb0-49f2-adbc-ef05e8dc9b1b"
      },
      "execution_count": 116,
      "outputs": [
        {
          "output_type": "display_data",
          "data": {
            "text/plain": [
              "<IPython.core.display.HTML object>"
            ],
            "text/html": [
              "\n",
              "  <style>\n",
              "    pre {\n",
              "        white-space: pre-wrap;\n",
              "    }\n",
              "  </style>\n",
              "  "
            ]
          },
          "metadata": {}
        },
        {
          "output_type": "stream",
          "name": "stdout",
          "text": [
            "Give me 10 reasons why Singapore is a good place to retire.\n",
            "Output in English with stutter in every sentences.\n",
            "\n"
          ]
        }
      ]
    },
    {
      "cell_type": "code",
      "source": [
        "reason31 = get_completion(prompt31)\n",
        "print(reason31)"
      ],
      "metadata": {
        "colab": {
          "base_uri": "https://localhost:8080/",
          "height": 225
        },
        "id": "VxmpYJ6tDKwz",
        "outputId": "50ec826a-cf4a-43c3-bbc3-751ddc5faedb"
      },
      "execution_count": 117,
      "outputs": [
        {
          "output_type": "display_data",
          "data": {
            "text/plain": [
              "<IPython.core.display.HTML object>"
            ],
            "text/html": [
              "\n",
              "  <style>\n",
              "    pre {\n",
              "        white-space: pre-wrap;\n",
              "    }\n",
              "  </style>\n",
              "  "
            ]
          },
          "metadata": {}
        },
        {
          "output_type": "stream",
          "name": "stdout",
          "text": [
            "W-w-well, S-Singapore is a g-g-great place to retire because:\n",
            "\n",
            "1. It has a s-s-safe and secure environment.\n",
            "2. The healthcare system is w-w-world-class.\n",
            "3. The public transportation is efficient and accessible.\n",
            "4. The c-c-climate is warm and tropical.\n",
            "5. There are plenty of parks and green spaces to enjoy.\n",
            "6. The food scene is diverse and delicious.\n",
            "7. There are many cultural and recreational activities to participate in.\n",
            "8. The economy is stable and prosperous.\n",
            "9. The government provides support for retirees.\n",
            "10. It's a m-m-multicultural society with a welcoming attitude towards foreigners.\n"
          ]
        }
      ]
    },
    {
      "cell_type": "code",
      "source": [],
      "metadata": {
        "id": "YyfSCKDUDK1T"
      },
      "execution_count": 71,
      "outputs": []
    },
    {
      "cell_type": "markdown",
      "source": [],
      "metadata": {
        "id": "eYSb1YLlF2tI"
      }
    },
    {
      "cell_type": "code",
      "source": [],
      "metadata": {
        "id": "qR6f2GxYDK42"
      },
      "execution_count": 71,
      "outputs": []
    },
    {
      "cell_type": "markdown",
      "source": [
        "## 3.2 เรียกใช้ ChatGPT ผ่าน LangChain"
      ],
      "metadata": {
        "id": "ZfSRyK6YFpK-"
      }
    },
    {
      "cell_type": "markdown",
      "source": [
        "เราสามารถใช้ F-String ในการสร้าง Template เพื่อสร้าง Prompt ส่งไปยัง ChatGPT ได้ไม่มีปัญหา แต่ถ้าเป็น Prompt ที่ซับซ้อนขึ้น มีหลาย Step และมี Output เป็นโครงสร้าง ที่จะนำไปใช้ต่อเช่น JSON การใช้คลาสเฉพาะ เช่น ChatPromptTemplate ของ LangChain สะดวกกว่า"
      ],
      "metadata": {
        "id": "38o3b2PgF0gR"
      }
    },
    {
      "cell_type": "code",
      "source": [],
      "metadata": {
        "id": "vbFQRrGqDK8G"
      },
      "execution_count": 71,
      "outputs": []
    },
    {
      "cell_type": "code",
      "source": [
        "### https://python.langchain.com/en/latest/modules/models/llms/integrations.html"
      ],
      "metadata": {
        "id": "g_vuP4S-TQpd",
        "colab": {
          "base_uri": "https://localhost:8080/",
          "height": 17
        },
        "outputId": "c2c0b3cb-a04c-43dc-efc3-3001b63674e5"
      },
      "execution_count": 72,
      "outputs": [
        {
          "output_type": "display_data",
          "data": {
            "text/plain": [
              "<IPython.core.display.HTML object>"
            ],
            "text/html": [
              "\n",
              "  <style>\n",
              "    pre {\n",
              "        white-space: pre-wrap;\n",
              "    }\n",
              "  </style>\n",
              "  "
            ]
          },
          "metadata": {}
        }
      ]
    },
    {
      "cell_type": "code",
      "source": [
        "# ! pip install langchain"
      ],
      "metadata": {
        "colab": {
          "base_uri": "https://localhost:8080/",
          "height": 17
        },
        "id": "cU_m3JI0P7vA",
        "outputId": "0db4d065-5049-4fbc-c71b-0a50936de213"
      },
      "execution_count": 73,
      "outputs": [
        {
          "output_type": "display_data",
          "data": {
            "text/plain": [
              "<IPython.core.display.HTML object>"
            ],
            "text/html": [
              "\n",
              "  <style>\n",
              "    pre {\n",
              "        white-space: pre-wrap;\n",
              "    }\n",
              "  </style>\n",
              "  "
            ]
          },
          "metadata": {}
        }
      ]
    },
    {
      "cell_type": "code",
      "source": [],
      "metadata": {
        "id": "d5aPzZCMRBLC"
      },
      "execution_count": 73,
      "outputs": []
    },
    {
      "cell_type": "code",
      "source": [
        "from langchain.prompts import ChatPromptTemplate\n",
        "from langchain.chat_models import ChatOpenAI\n"
      ],
      "metadata": {
        "colab": {
          "base_uri": "https://localhost:8080/",
          "height": 17
        },
        "id": "sAMPNlmD-yjF",
        "outputId": "074d5f38-8323-48a1-dc73-92b3f0109146"
      },
      "execution_count": 74,
      "outputs": [
        {
          "output_type": "display_data",
          "data": {
            "text/plain": [
              "<IPython.core.display.HTML object>"
            ],
            "text/html": [
              "\n",
              "  <style>\n",
              "    pre {\n",
              "        white-space: pre-wrap;\n",
              "    }\n",
              "  </style>\n",
              "  "
            ]
          },
          "metadata": {}
        }
      ]
    },
    {
      "cell_type": "code",
      "source": [
        "chat = ChatOpenAI(temperature=0.0)\n",
        "chat"
      ],
      "metadata": {
        "id": "hAve7ogBJzuh",
        "outputId": "c381471f-16c3-4f7a-b298-83f222c13612",
        "colab": {
          "base_uri": "https://localhost:8080/",
          "height": 52
        }
      },
      "execution_count": 75,
      "outputs": [
        {
          "output_type": "display_data",
          "data": {
            "text/plain": [
              "<IPython.core.display.HTML object>"
            ],
            "text/html": [
              "\n",
              "  <style>\n",
              "    pre {\n",
              "        white-space: pre-wrap;\n",
              "    }\n",
              "  </style>\n",
              "  "
            ]
          },
          "metadata": {}
        },
        {
          "output_type": "execute_result",
          "data": {
            "text/plain": [
              "ChatOpenAI(verbose=False, callbacks=None, callback_manager=None, client=<class 'openai.api_resources.chat_completion.ChatCompletion'>, model_name='gpt-3.5-turbo', temperature=0.0, model_kwargs={}, openai_api_key=None, openai_api_base=None, openai_organization=None, openai_proxy=None, request_timeout=None, max_retries=6, streaming=False, n=1, max_tokens=None)"
            ]
          },
          "metadata": {},
          "execution_count": 75
        }
      ]
    },
    {
      "cell_type": "code",
      "source": [],
      "metadata": {
        "id": "uO5iGRKbJzyM"
      },
      "execution_count": 75,
      "outputs": []
    },
    {
      "cell_type": "markdown",
      "source": [
        "ChatPromptTemplate"
      ],
      "metadata": {
        "id": "5W5skAHCMTp0"
      }
    },
    {
      "cell_type": "code",
      "source": [
        "template_string32 = \"\"\"Give me 10 reasons why {country} is a good place to retire.\n",
        "Output in {language}.\"\"\""
      ],
      "metadata": {
        "id": "aFuzlZZ1HI-Y",
        "outputId": "92dd437b-3be6-4291-897a-6e3fb3b81244",
        "colab": {
          "base_uri": "https://localhost:8080/",
          "height": 17
        }
      },
      "execution_count": 118,
      "outputs": [
        {
          "output_type": "display_data",
          "data": {
            "text/plain": [
              "<IPython.core.display.HTML object>"
            ],
            "text/html": [
              "\n",
              "  <style>\n",
              "    pre {\n",
              "        white-space: pre-wrap;\n",
              "    }\n",
              "  </style>\n",
              "  "
            ]
          },
          "metadata": {}
        }
      ]
    },
    {
      "cell_type": "code",
      "source": [
        "prompt_template32 = ChatPromptTemplate.from_template(template_string32)"
      ],
      "metadata": {
        "id": "13DfUdn8HJB7",
        "outputId": "cd45569b-ce1f-4c62-b010-da3263dd1a79",
        "colab": {
          "base_uri": "https://localhost:8080/",
          "height": 17
        }
      },
      "execution_count": 119,
      "outputs": [
        {
          "output_type": "display_data",
          "data": {
            "text/plain": [
              "<IPython.core.display.HTML object>"
            ],
            "text/html": [
              "\n",
              "  <style>\n",
              "    pre {\n",
              "        white-space: pre-wrap;\n",
              "    }\n",
              "  </style>\n",
              "  "
            ]
          },
          "metadata": {}
        }
      ]
    },
    {
      "cell_type": "code",
      "source": [
        "# prompt_template32"
      ],
      "metadata": {
        "id": "8KMRLFKQHJFV",
        "outputId": "fc1adb48-d75e-4557-8f9d-65d60db74c1f",
        "colab": {
          "base_uri": "https://localhost:8080/",
          "height": 17
        }
      },
      "execution_count": 103,
      "outputs": [
        {
          "output_type": "display_data",
          "data": {
            "text/plain": [
              "<IPython.core.display.HTML object>"
            ],
            "text/html": [
              "\n",
              "  <style>\n",
              "    pre {\n",
              "        white-space: pre-wrap;\n",
              "    }\n",
              "  </style>\n",
              "  "
            ]
          },
          "metadata": {}
        }
      ]
    },
    {
      "cell_type": "code",
      "source": [
        "# prompt_template32.messages"
      ],
      "metadata": {
        "id": "TDYEQxLnHjSD",
        "outputId": "c47739b4-2bb4-4736-d1c0-c0fb3c648033",
        "colab": {
          "base_uri": "https://localhost:8080/",
          "height": 17
        }
      },
      "execution_count": 104,
      "outputs": [
        {
          "output_type": "display_data",
          "data": {
            "text/plain": [
              "<IPython.core.display.HTML object>"
            ],
            "text/html": [
              "\n",
              "  <style>\n",
              "    pre {\n",
              "        white-space: pre-wrap;\n",
              "    }\n",
              "  </style>\n",
              "  "
            ]
          },
          "metadata": {}
        }
      ]
    },
    {
      "cell_type": "code",
      "source": [
        "# prompt_template32.messages[0]"
      ],
      "metadata": {
        "id": "VWrt8aLJHn4f",
        "outputId": "c3c553d0-8a72-4bea-9eec-25ebcdc15ef4",
        "colab": {
          "base_uri": "https://localhost:8080/",
          "height": 17
        }
      },
      "execution_count": 105,
      "outputs": [
        {
          "output_type": "display_data",
          "data": {
            "text/plain": [
              "<IPython.core.display.HTML object>"
            ],
            "text/html": [
              "\n",
              "  <style>\n",
              "    pre {\n",
              "        white-space: pre-wrap;\n",
              "    }\n",
              "  </style>\n",
              "  "
            ]
          },
          "metadata": {}
        }
      ]
    },
    {
      "cell_type": "code",
      "source": [
        "prompt_template32.messages[0].prompt"
      ],
      "metadata": {
        "id": "6A8fN56uHpnQ",
        "outputId": "70698a38-8935-4c7f-c019-494bc4fa408e",
        "colab": {
          "base_uri": "https://localhost:8080/",
          "height": 52
        }
      },
      "execution_count": 120,
      "outputs": [
        {
          "output_type": "display_data",
          "data": {
            "text/plain": [
              "<IPython.core.display.HTML object>"
            ],
            "text/html": [
              "\n",
              "  <style>\n",
              "    pre {\n",
              "        white-space: pre-wrap;\n",
              "    }\n",
              "  </style>\n",
              "  "
            ]
          },
          "metadata": {}
        },
        {
          "output_type": "execute_result",
          "data": {
            "text/plain": [
              "PromptTemplate(input_variables=['country', 'language'], output_parser=None, partial_variables={}, template='Give me 10 reasons why {country} is a good place to retire.\\nOutput in {language}.', template_format='f-string', validate_template=True)"
            ]
          },
          "metadata": {},
          "execution_count": 120
        }
      ]
    },
    {
      "cell_type": "code",
      "source": [
        "country_to_retire = \"Japanese\"   # Not Japan\n",
        "language_to_write = \"Rude English\"\n",
        "\n",
        "prompt32 = prompt_template32.format_messages(\n",
        "                    country=country_to_retire,\n",
        "                    language=language_to_write)"
      ],
      "metadata": {
        "id": "2E5W0EOIHqM4",
        "outputId": "a5359d2a-d283-48a2-bf58-fbf1941be7ca",
        "colab": {
          "base_uri": "https://localhost:8080/",
          "height": 17
        }
      },
      "execution_count": 121,
      "outputs": [
        {
          "output_type": "display_data",
          "data": {
            "text/plain": [
              "<IPython.core.display.HTML object>"
            ],
            "text/html": [
              "\n",
              "  <style>\n",
              "    pre {\n",
              "        white-space: pre-wrap;\n",
              "    }\n",
              "  </style>\n",
              "  "
            ]
          },
          "metadata": {}
        }
      ]
    },
    {
      "cell_type": "code",
      "source": [
        "print(type(prompt32))\n",
        "print(prompt32)"
      ],
      "metadata": {
        "id": "qbY6F_ZvInD3",
        "outputId": "f3c57202-bb44-479f-9f23-effb701eb09d",
        "colab": {
          "base_uri": "https://localhost:8080/",
          "height": 52
        }
      },
      "execution_count": 122,
      "outputs": [
        {
          "output_type": "display_data",
          "data": {
            "text/plain": [
              "<IPython.core.display.HTML object>"
            ],
            "text/html": [
              "\n",
              "  <style>\n",
              "    pre {\n",
              "        white-space: pre-wrap;\n",
              "    }\n",
              "  </style>\n",
              "  "
            ]
          },
          "metadata": {}
        },
        {
          "output_type": "stream",
          "name": "stdout",
          "text": [
            "<class 'list'>\n",
            "[HumanMessage(content='Give me 10 reasons why Japanese is a good place to retire.\\nOutput in Rude English.', additional_kwargs={}, example=False)]\n"
          ]
        }
      ]
    },
    {
      "cell_type": "code",
      "source": [
        "prompt32[0]"
      ],
      "metadata": {
        "id": "oqHosJr8Ipim",
        "outputId": "121386f7-52a2-4f68-d6fb-0e12d8b43cd5",
        "colab": {
          "base_uri": "https://localhost:8080/",
          "height": 34
        }
      },
      "execution_count": 123,
      "outputs": [
        {
          "output_type": "display_data",
          "data": {
            "text/plain": [
              "<IPython.core.display.HTML object>"
            ],
            "text/html": [
              "\n",
              "  <style>\n",
              "    pre {\n",
              "        white-space: pre-wrap;\n",
              "    }\n",
              "  </style>\n",
              "  "
            ]
          },
          "metadata": {}
        },
        {
          "output_type": "execute_result",
          "data": {
            "text/plain": [
              "HumanMessage(content='Give me 10 reasons why Japanese is a good place to retire.\\nOutput in Rude English.', additional_kwargs={}, example=False)"
            ]
          },
          "metadata": {},
          "execution_count": 123
        }
      ]
    },
    {
      "cell_type": "code",
      "source": [
        "reasons32 = chat(prompt32)"
      ],
      "metadata": {
        "colab": {
          "base_uri": "https://localhost:8080/",
          "height": 17
        },
        "id": "g1XylnxNJjx5",
        "outputId": "75616c56-efda-4e22-9665-92d865ed11d0"
      },
      "execution_count": 124,
      "outputs": [
        {
          "output_type": "display_data",
          "data": {
            "text/plain": [
              "<IPython.core.display.HTML object>"
            ],
            "text/html": [
              "\n",
              "  <style>\n",
              "    pre {\n",
              "        white-space: pre-wrap;\n",
              "    }\n",
              "  </style>\n",
              "  "
            ]
          },
          "metadata": {}
        }
      ]
    },
    {
      "cell_type": "code",
      "source": [
        "print(reasons32.content)"
      ],
      "metadata": {
        "colab": {
          "base_uri": "https://localhost:8080/",
          "height": 191
        },
        "id": "eBxVmvwdKT2D",
        "outputId": "4022bfb3-ce4c-41fd-cab5-a3e80f7f49d2"
      },
      "execution_count": 125,
      "outputs": [
        {
          "output_type": "display_data",
          "data": {
            "text/plain": [
              "<IPython.core.display.HTML object>"
            ],
            "text/html": [
              "\n",
              "  <style>\n",
              "    pre {\n",
              "        white-space: pre-wrap;\n",
              "    }\n",
              "  </style>\n",
              "  "
            ]
          },
          "metadata": {}
        },
        {
          "output_type": "stream",
          "name": "stdout",
          "text": [
            "1. Shitloads of sushi and ramen to stuff your face with.\n",
            "2. The public transportation is fucking amazing.\n",
            "3. The healthcare system is top-notch, so you won't have to worry about dying from some bullshit disease.\n",
            "4. The crime rate is low as fuck, so you can walk around without getting shanked.\n",
            "5. The culture is rich as fuck, so you can learn some cool shit.\n",
            "6. The technology is advanced as fuck, so you can play with some cool gadgets.\n",
            "7. The scenery is beautiful as fuck, so you can enjoy some breathtaking views.\n",
            "8. The people are polite as fuck, so you won't have to deal with assholes.\n",
            "9. The weather is mild as fuck, so you won't have to deal with extreme temperatures.\n",
            "10. The nightlife is lit as fuck, so you can party like a fucking rockstar.\n"
          ]
        }
      ]
    },
    {
      "cell_type": "code",
      "source": [],
      "metadata": {
        "id": "aLzfetHiKZVK"
      },
      "execution_count": null,
      "outputs": []
    },
    {
      "cell_type": "code",
      "source": [],
      "metadata": {
        "id": "IgII5xDIMu3w"
      },
      "execution_count": null,
      "outputs": []
    },
    {
      "cell_type": "code",
      "source": [],
      "metadata": {
        "id": "7nCODh4eMu8C"
      },
      "execution_count": null,
      "outputs": []
    },
    {
      "cell_type": "markdown",
      "source": [
        "# 4. Output Format"
      ],
      "metadata": {
        "id": "fk4cUAK9MwZD"
      }
    },
    {
      "cell_type": "markdown",
      "source": [
        "ใน [ep ก่อน เรื่องระบุรูปแบบโครงสร้างข้อมูลผลลัพท์](https://www.bualabs.com/archives/4703/how-to-prompt-chatgpt-format-output-prompt-engineering-ep-2/) เราได้พูดถึงเรื่อง การกำหนด Format โครงสร้างผลลัพท์ ที่ต้องการใน Prompt เพื่อนำไปใช้ต่อ"
      ],
      "metadata": {
        "id": "M2oo4TMCM0Tr"
      }
    },
    {
      "cell_type": "code",
      "source": [],
      "metadata": {
        "id": "L0jHzP9AMu_-"
      },
      "execution_count": null,
      "outputs": []
    },
    {
      "cell_type": "code",
      "source": [
        "template_string42 = \"\"\"Give me 10 reasons why {country} is a good place to retire.\n",
        "Write in {language}. Output in JSON Format.\"\"\""
      ],
      "metadata": {
        "id": "WnhRzOokMvEJ",
        "outputId": "d9d9ad2c-374f-42cd-b374-88248ba97234",
        "colab": {
          "base_uri": "https://localhost:8080/",
          "height": 17
        }
      },
      "execution_count": 112,
      "outputs": [
        {
          "output_type": "display_data",
          "data": {
            "text/plain": [
              "<IPython.core.display.HTML object>"
            ],
            "text/html": [
              "\n",
              "  <style>\n",
              "    pre {\n",
              "        white-space: pre-wrap;\n",
              "    }\n",
              "  </style>\n",
              "  "
            ]
          },
          "metadata": {}
        }
      ]
    },
    {
      "cell_type": "code",
      "source": [
        "prompt_template42 = ChatPromptTemplate.from_template(template_string42)"
      ],
      "metadata": {
        "id": "Sq4svLTMMvIV",
        "outputId": "670e3bc0-140c-4690-8214-a574978a4814",
        "colab": {
          "base_uri": "https://localhost:8080/",
          "height": 17
        }
      },
      "execution_count": 113,
      "outputs": [
        {
          "output_type": "display_data",
          "data": {
            "text/plain": [
              "<IPython.core.display.HTML object>"
            ],
            "text/html": [
              "\n",
              "  <style>\n",
              "    pre {\n",
              "        white-space: pre-wrap;\n",
              "    }\n",
              "  </style>\n",
              "  "
            ]
          },
          "metadata": {}
        }
      ]
    },
    {
      "cell_type": "code",
      "source": [
        "country_to_retire = \"Japanese\"   # Not Japan\n",
        "language_to_write = \"Rude English\"\n",
        "\n",
        "prompt42 = prompt_template42.format_messages(\n",
        "                    country=country_to_retire,\n",
        "                    language=language_to_write)"
      ],
      "metadata": {
        "id": "vixo8RyfMvL9",
        "outputId": "f6243a88-00c3-4d12-8487-dca16efb9c0e",
        "colab": {
          "base_uri": "https://localhost:8080/",
          "height": 17
        }
      },
      "execution_count": 114,
      "outputs": [
        {
          "output_type": "display_data",
          "data": {
            "text/plain": [
              "<IPython.core.display.HTML object>"
            ],
            "text/html": [
              "\n",
              "  <style>\n",
              "    pre {\n",
              "        white-space: pre-wrap;\n",
              "    }\n",
              "  </style>\n",
              "  "
            ]
          },
          "metadata": {}
        }
      ]
    },
    {
      "cell_type": "code",
      "source": [],
      "metadata": {
        "id": "3Tls3a2GMvPv"
      },
      "execution_count": null,
      "outputs": []
    },
    {
      "cell_type": "code",
      "source": [
        "reasons41 = chat(prompt41)"
      ],
      "metadata": {
        "outputId": "1dd36e6d-1987-4baa-874a-33eeeee9d934",
        "colab": {
          "base_uri": "https://localhost:8080/",
          "height": 17
        },
        "id": "vFVXRwI9QQVB"
      },
      "execution_count": null,
      "outputs": [
        {
          "output_type": "display_data",
          "data": {
            "text/plain": [
              "<IPython.core.display.HTML object>"
            ],
            "text/html": [
              "\n",
              "  <style>\n",
              "    pre {\n",
              "        white-space: pre-wrap;\n",
              "    }\n",
              "  </style>\n",
              "  "
            ]
          },
          "metadata": {}
        }
      ]
    },
    {
      "cell_type": "code",
      "source": [
        "print(reasons41.content)"
      ],
      "metadata": {
        "outputId": "d7bee203-dd1c-4d0d-e3e7-58b6a7c95ed6",
        "colab": {
          "base_uri": "https://localhost:8080/",
          "height": 191
        },
        "id": "yfekQrOyQQVJ"
      },
      "execution_count": null,
      "outputs": [
        {
          "output_type": "display_data",
          "data": {
            "text/plain": [
              "<IPython.core.display.HTML object>"
            ],
            "text/html": [
              "\n",
              "  <style>\n",
              "    pre {\n",
              "        white-space: pre-wrap;\n",
              "    }\n",
              "  </style>\n",
              "  "
            ]
          },
          "metadata": {}
        },
        {
          "output_type": "stream",
          "name": "stdout",
          "text": [
            "1. Shitloads of sushi and ramen to stuff your face with.\n",
            "2. The hot springs will make your old bones feel like new.\n",
            "3. The public transportation is so efficient, you won't even need a car.\n",
            "4. The culture is fascinating and will keep you entertained for years.\n",
            "5. The healthcare system is top-notch, so you won't have to worry about getting sick.\n",
            "6. The crime rate is low, so you can feel safe and secure.\n",
            "7. The scenery is beautiful, with cherry blossoms and mountains galore.\n",
            "8. The technology is cutting-edge, so you can stay connected with loved ones.\n",
            "9. The people are polite and respectful, making for a pleasant social environment.\n",
            "10. You can finally live out your dream of becoming a samurai or geisha.\n"
          ]
        }
      ]
    },
    {
      "cell_type": "code",
      "source": [],
      "metadata": {
        "id": "GBs_IEClMvUB"
      },
      "execution_count": null,
      "outputs": []
    },
    {
      "cell_type": "code",
      "source": [],
      "metadata": {
        "id": "C6aqzM4QMvYR"
      },
      "execution_count": null,
      "outputs": []
    },
    {
      "cell_type": "code",
      "source": [],
      "metadata": {
        "id": "TC9oxmtDMvcC"
      },
      "execution_count": null,
      "outputs": []
    },
    {
      "cell_type": "code",
      "source": [],
      "metadata": {
        "id": "DJCQM8hUMvgC"
      },
      "execution_count": null,
      "outputs": []
    },
    {
      "cell_type": "code",
      "source": [],
      "metadata": {
        "id": "rhvnBxj-Mvju"
      },
      "execution_count": null,
      "outputs": []
    }
  ]
}