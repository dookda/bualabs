{
  "nbformat": 4,
  "nbformat_minor": 0,
  "metadata": {
    "colab": {
      "name": "30a_dicom_medical_imaging_fastai2_pneumothorax_classification.ipynb",
      "provenance": [],
      "collapsed_sections": [],
      "authorship_tag": "ABX9TyO4uCNfjG6IjCsyGJe+/O/A"
    },
    "kernelspec": {
      "name": "python3",
      "display_name": "Python 3"
    }
  },
  "cells": [
    {
      "cell_type": "code",
      "metadata": {
        "id": "DrnZASYRgHAO",
        "colab_type": "code",
        "colab": {}
      },
      "source": [
        ""
      ],
      "execution_count": 0,
      "outputs": []
    },
    {
      "cell_type": "code",
      "metadata": {
        "id": "SK4pRD4Ug6np",
        "colab_type": "code",
        "colab": {
          "base_uri": "https://localhost:8080/",
          "height": 51
        },
        "outputId": "92a4f3f4-7804-49bc-d193-6a0fa8dd9e1b"
      },
      "source": [
        "! nvidia-smi"
      ],
      "execution_count": 1,
      "outputs": [
        {
          "output_type": "stream",
          "text": [
            "NVIDIA-SMI has failed because it couldn't communicate with the NVIDIA driver. Make sure that the latest NVIDIA driver is installed and running.\n",
            "\n"
          ],
          "name": "stdout"
        }
      ]
    },
    {
      "cell_type": "code",
      "metadata": {
        "id": "opyb_yvVg6rn",
        "colab_type": "code",
        "colab": {}
      },
      "source": [
        "%reload_ext autoreload\n",
        "%autoreload 2\n",
        "%matplotlib inline"
      ],
      "execution_count": 0,
      "outputs": []
    },
    {
      "cell_type": "code",
      "metadata": {
        "id": "ZWTgHe8ShBBD",
        "colab_type": "code",
        "colab": {}
      },
      "source": [
        ""
      ],
      "execution_count": 0,
      "outputs": []
    },
    {
      "cell_type": "code",
      "metadata": {
        "id": "iEA26XE5hBns",
        "colab_type": "code",
        "colab": {}
      },
      "source": [
        "# Colab\n",
        "! pip install fastai2 -q\n",
        "! pip install pydicom -q\n",
        "! pip install kornia -q"
      ],
      "execution_count": 0,
      "outputs": []
    },
    {
      "cell_type": "code",
      "metadata": {
        "id": "7LIdNZI2hBH9",
        "colab_type": "code",
        "colab": {}
      },
      "source": [
        ""
      ],
      "execution_count": 0,
      "outputs": []
    },
    {
      "cell_type": "code",
      "metadata": {
        "id": "SqORpVDNg6vv",
        "colab_type": "code",
        "colab": {}
      },
      "source": [
        "from fastai2.basics import *\n",
        "from fastai2.callback.all import *\n",
        "from fastai2.vision.all import *\n",
        "from fastai2.medical.imaging import *\n",
        "\n",
        "import pydicom\n",
        "\n",
        "import pandas as pd"
      ],
      "execution_count": 0,
      "outputs": []
    },
    {
      "cell_type": "code",
      "metadata": {
        "id": "SB2w0hndg6zK",
        "colab_type": "code",
        "colab": {}
      },
      "source": [
        ""
      ],
      "execution_count": 0,
      "outputs": []
    },
    {
      "cell_type": "code",
      "metadata": {
        "id": "13DsQAPVhVXN",
        "colab_type": "code",
        "colab": {
          "base_uri": "https://localhost:8080/",
          "height": 34
        },
        "outputId": "2c7a2583-f41f-41a3-c8c2-896d0aba5ff4"
      },
      "source": [
        "dataset2 = 'jesperdramsch/siim-acr-pneumothorax-segmentation-data'\n",
        "\n",
        "# Google Colab\n",
        "config_path = Path('/content/drive')\n",
        "learner_path = config_path/\"My Drive\"\n",
        "data_path_base = Path('/content/datasets/')\n",
        "\n",
        "data_path2 = data_path_base/dataset2\n",
        "\n",
        "from google.colab import drive\n",
        "\n",
        "drive.mount(str(config_path))\n",
        "os.environ['KAGGLE_CONFIG_DIR'] = f\"{config_path}/My Drive/.kaggle\""
      ],
      "execution_count": 5,
      "outputs": [
        {
          "output_type": "stream",
          "text": [
            "Drive already mounted at /content/drive; to attempt to forcibly remount, call drive.mount(\"/content/drive\", force_remount=True).\n"
          ],
          "name": "stdout"
        }
      ]
    },
    {
      "cell_type": "code",
      "metadata": {
        "id": "w1VH-nonT9Nt",
        "colab_type": "code",
        "colab": {
          "base_uri": "https://localhost:8080/",
          "height": 97
        },
        "outputId": "937ca1a7-1c80-43f0-9595-86ce12a3fb58"
      },
      "source": [
        "!kaggle datasets download {dataset2} -p \"{data_path2}\" --unzip"
      ],
      "execution_count": 0,
      "outputs": [
        {
          "output_type": "stream",
          "text": [
            "Downloading siim-acr-pneumothorax-segmentation-data.zip to /content/datasets/jesperdramsch/siim-acr-pneumothorax-segmentation-data\n",
            "100% 3.03G/3.03G [00:33<00:00, 49.1MB/s]\n",
            "100% 3.03G/3.03G [00:33<00:00, 97.7MB/s]\n"
          ],
          "name": "stdout"
        }
      ]
    },
    {
      "cell_type": "code",
      "metadata": {
        "id": "W7tgbneQT9Wa",
        "colab_type": "code",
        "colab": {}
      },
      "source": [
        "data_path2.ls()"
      ],
      "execution_count": 0,
      "outputs": []
    },
    {
      "cell_type": "code",
      "metadata": {
        "id": "ImNHYw0lT9S6",
        "colab_type": "code",
        "colab": {}
      },
      "source": [
        "(data_path2/'dicom-images-train').ls()"
      ],
      "execution_count": 0,
      "outputs": []
    },
    {
      "cell_type": "code",
      "metadata": {
        "id": "483mZAv1XtAe",
        "colab_type": "code",
        "colab": {}
      },
      "source": [
        "items = get_dicom_files(data_path2/'dicom-images-train')\n",
        "items"
      ],
      "execution_count": 0,
      "outputs": []
    },
    {
      "cell_type": "code",
      "metadata": {
        "id": "n_ckKpzMhVbt",
        "colab_type": "code",
        "colab": {}
      },
      "source": [
        "path = untar_data(URLs.SIIM_SMALL)\n",
        "path.ls()"
      ],
      "execution_count": 0,
      "outputs": []
    },
    {
      "cell_type": "code",
      "metadata": {
        "id": "J0Fi0d2m_xkq",
        "colab_type": "code",
        "colab": {}
      },
      "source": [
        "(path/'train').ls()"
      ],
      "execution_count": 0,
      "outputs": []
    },
    {
      "cell_type": "code",
      "metadata": {
        "id": "N5-izCFa_4cj",
        "colab_type": "code",
        "colab": {}
      },
      "source": [
        "(path/'train/Pneumothorax').ls()"
      ],
      "execution_count": 0,
      "outputs": []
    },
    {
      "cell_type": "code",
      "metadata": {
        "id": "a7sLmODYhVgf",
        "colab_type": "code",
        "colab": {}
      },
      "source": [
        "items = get_dicom_files(path/f\"train/\")\n",
        "items"
      ],
      "execution_count": 0,
      "outputs": []
    },
    {
      "cell_type": "code",
      "metadata": {
        "id": "3uqCTdcWhVlY",
        "colab_type": "code",
        "colab": {}
      },
      "source": [
        ""
      ],
      "execution_count": 0,
      "outputs": []
    },
    {
      "cell_type": "code",
      "metadata": {
        "id": "8f_2eLQWhh61",
        "colab_type": "code",
        "colab": {}
      },
      "source": [
        "patient = 5555\n",
        "xray_sample = dcmread(items[patient])\n",
        "xray_sample.show(figsize=(12, 12))"
      ],
      "execution_count": 0,
      "outputs": []
    },
    {
      "cell_type": "code",
      "metadata": {
        "id": "jo298K7CEi64",
        "colab_type": "code",
        "colab": {}
      },
      "source": [
        "xray_sample.as_dict()"
      ],
      "execution_count": 0,
      "outputs": []
    },
    {
      "cell_type": "code",
      "metadata": {
        "id": "6JsWzAmuEMiK",
        "colab_type": "code",
        "colab": {}
      },
      "source": [
        "xray_sample.pixels.shape"
      ],
      "execution_count": 0,
      "outputs": []
    },
    {
      "cell_type": "code",
      "metadata": {
        "id": "ckTFTW9dD_hn",
        "colab_type": "code",
        "colab": {}
      },
      "source": [
        "xray_sample.pixels.min(), xray_sample.pixels.max()"
      ],
      "execution_count": 0,
      "outputs": []
    },
    {
      "cell_type": "code",
      "metadata": {
        "id": "tBJzmHgE39Yc",
        "colab_type": "code",
        "colab": {}
      },
      "source": [
        "xray_sample.pixels[300:310, 400:410]"
      ],
      "execution_count": 0,
      "outputs": []
    },
    {
      "cell_type": "code",
      "metadata": {
        "id": "CeGwwrbdhoJ1",
        "colab_type": "code",
        "colab": {}
      },
      "source": [
        "xray_sample.scaled_px[300:310, 400:410]"
      ],
      "execution_count": 0,
      "outputs": []
    },
    {
      "cell_type": "code",
      "metadata": {
        "id": "DCHzepPcHUl4",
        "colab_type": "code",
        "colab": {}
      },
      "source": [
        ""
      ],
      "execution_count": 0,
      "outputs": []
    },
    {
      "cell_type": "code",
      "metadata": {
        "id": "ltW0Ptxx4f1c",
        "colab_type": "code",
        "colab": {}
      },
      "source": [
        "xray_sample.pixels.freqhist_bins()"
      ],
      "execution_count": 0,
      "outputs": []
    },
    {
      "cell_type": "code",
      "metadata": {
        "id": "z_y7dlZK-8Lz",
        "colab_type": "code",
        "colab": {}
      },
      "source": [
        "dicom_windows"
      ],
      "execution_count": 0,
      "outputs": []
    },
    {
      "cell_type": "code",
      "metadata": {
        "id": "0xoY7VtUCFAD",
        "colab_type": "code",
        "colab": {}
      },
      "source": [
        "# xray_sample.pct_in_window??"
      ],
      "execution_count": 0,
      "outputs": []
    },
    {
      "cell_type": "code",
      "metadata": {
        "id": "EgE37Ti14iNi",
        "colab_type": "code",
        "colab": {}
      },
      "source": [
        "xray_sample.pct_in_window(*dicom_windows.brain)"
      ],
      "execution_count": 0,
      "outputs": []
    },
    {
      "cell_type": "code",
      "metadata": {
        "id": "XWTgDg5x4iE3",
        "colab_type": "code",
        "colab": {}
      },
      "source": [
        "xray_sample.pct_in_window(*dicom_windows.lungs)"
      ],
      "execution_count": 0,
      "outputs": []
    },
    {
      "cell_type": "code",
      "metadata": {
        "id": "W3BxNXi24h5d",
        "colab_type": "code",
        "colab": {}
      },
      "source": [
        "xray_sample.pct_in_window(*dicom_windows.mediastinum)"
      ],
      "execution_count": 0,
      "outputs": []
    },
    {
      "cell_type": "code",
      "metadata": {
        "id": "CA4ONoum4hul",
        "colab_type": "code",
        "colab": {}
      },
      "source": [
        ""
      ],
      "execution_count": 0,
      "outputs": []
    },
    {
      "cell_type": "code",
      "metadata": {
        "id": "5LFZyVG35hXJ",
        "colab_type": "code",
        "colab": {}
      },
      "source": [
        "ims = xray_sample.hist_scaled(), uniform_blur2d(xray_sample.hist_scaled(),50)\n",
        "show_images(ims, titles=('orig', 'blurred'), figsize=(12, 6))"
      ],
      "execution_count": 0,
      "outputs": []
    },
    {
      "cell_type": "code",
      "metadata": {
        "id": "3wR48ReX5hbS",
        "colab_type": "code",
        "colab": {}
      },
      "source": [
        "ims = xray_sample.hist_scaled(), gauss_blur2d(xray_sample.hist_scaled(),50)\n",
        "show_images(ims, titles=('orig', 'blurred'), figsize=(12, 6))"
      ],
      "execution_count": 0,
      "outputs": []
    },
    {
      "cell_type": "code",
      "metadata": {
        "id": "F-NmcvapD4Um",
        "colab_type": "code",
        "colab": {}
      },
      "source": [
        "xray_sample.mask_from_blur??"
      ],
      "execution_count": 0,
      "outputs": []
    },
    {
      "cell_type": "code",
      "metadata": {
        "id": "vNrY1tWi5hf-",
        "colab_type": "code",
        "colab": {}
      },
      "source": [
        "wind = xray_sample.windowed(*dicom_windows.lungs)\n",
        "mask1 = xray_sample.mask_from_blur(dicom_windows.lungs)\n",
        "mask2 = xray_sample.mask_from_blur(dicom_windows.spine_soft)\n",
        "mask3 = xray_sample.mask_from_blur(dicom_windows.liver)\n",
        "\n",
        "_,ax = subplots(2,2, figsize=(12, 12))\n",
        "ax = ax.reshape(-1)\n",
        "show_image(wind, ax=ax[0])\n",
        "show_image(wind, ax=ax[1])\n",
        "show_image(wind, ax=ax[2])\n",
        "show_image(wind, ax=ax[3])\n",
        "\n",
        "show_image(mask1, alpha=0.5, cmap=plt.cm.Reds, ax=ax[1], title=\"lungs\");\n",
        "show_image(mask2, alpha=0.5, cmap=plt.cm.Reds, ax=ax[2], title=\"spine_soft\");\n",
        "show_image(mask3, alpha=0.5, cmap=plt.cm.Reds, ax=ax[3], title=\"liver\");"
      ],
      "execution_count": 0,
      "outputs": []
    },
    {
      "cell_type": "code",
      "metadata": {
        "id": "FsXZGRVD5hjO",
        "colab_type": "code",
        "colab": {}
      },
      "source": [
        ""
      ],
      "execution_count": 0,
      "outputs": []
    },
    {
      "cell_type": "code",
      "metadata": {
        "id": "YfIss2Ibi-Qe",
        "colab_type": "code",
        "colab": {}
      },
      "source": [
        "xray_sample.show(cmap=plt.cm.gist_ncar, figsize=(12, 12))"
      ],
      "execution_count": 0,
      "outputs": []
    },
    {
      "cell_type": "code",
      "metadata": {
        "id": "0eM4n4QEi9ss",
        "colab_type": "code",
        "colab": {}
      },
      "source": [
        ""
      ],
      "execution_count": 0,
      "outputs": []
    },
    {
      "cell_type": "code",
      "metadata": {
        "id": "9RsPD4Ve6QaZ",
        "colab_type": "code",
        "colab": {}
      },
      "source": [
        "bbs = mask2bbox(mask)\n",
        "bbs"
      ],
      "execution_count": 0,
      "outputs": []
    },
    {
      "cell_type": "code",
      "metadata": {
        "id": "FZP9jfeR6Qem",
        "colab_type": "code",
        "colab": {}
      },
      "source": [
        "lo,hi = bbs\n",
        "show_image(wind[lo[0]:hi[0],lo[1]:hi[1]], figsize=(12, 12));"
      ],
      "execution_count": 0,
      "outputs": []
    },
    {
      "cell_type": "code",
      "metadata": {
        "id": "6nzPPrds6QjI",
        "colab_type": "code",
        "colab": {}
      },
      "source": [
        ""
      ],
      "execution_count": 0,
      "outputs": []
    },
    {
      "cell_type": "code",
      "metadata": {
        "id": "fp1dOFz46QoB",
        "colab_type": "code",
        "colab": {}
      },
      "source": [
        ""
      ],
      "execution_count": 0,
      "outputs": []
    },
    {
      "cell_type": "code",
      "metadata": {
        "id": "lMig2s2wh3V_",
        "colab_type": "code",
        "colab": {}
      },
      "source": [
        "df = pd.read_csv(path/'labels.csv')\n",
        "df.head()"
      ],
      "execution_count": 0,
      "outputs": []
    },
    {
      "cell_type": "code",
      "metadata": {
        "id": "EphP60Kkh3Zi",
        "colab_type": "code",
        "colab": {}
      },
      "source": [
        ""
      ],
      "execution_count": 0,
      "outputs": []
    },
    {
      "cell_type": "code",
      "metadata": {
        "id": "M5_ag2O9iDPd",
        "colab_type": "code",
        "colab": {}
      },
      "source": [
        "pneumothorax = DataBlock(blocks=(ImageBlock(cls=PILDicom), CategoryBlock), \n",
        "                         get_x=lambda x: path/f\"{x[0]}\", \n",
        "                         get_y=lambda x: x[1], \n",
        "                         batch_tfms=[*aug_transforms(size=224)]\n",
        "                         )"
      ],
      "execution_count": 0,
      "outputs": []
    },
    {
      "cell_type": "code",
      "metadata": {
        "id": "Q1C70fhyiDTh",
        "colab_type": "code",
        "colab": {}
      },
      "source": [
        "dls = pneumothorax.dataloaders(df.values)\n",
        "dls.show_batch(max_n=16)"
      ],
      "execution_count": 0,
      "outputs": []
    },
    {
      "cell_type": "code",
      "metadata": {
        "id": "6ADPzLUakgea",
        "colab_type": "code",
        "colab": {}
      },
      "source": [
        "learn = cnn_learner(dls, resnet34, metrics=accuracy, cbs=[ShowGraphCallback])"
      ],
      "execution_count": 0,
      "outputs": []
    },
    {
      "cell_type": "code",
      "metadata": {
        "id": "ba86CtnskgiD",
        "colab_type": "code",
        "colab": {}
      },
      "source": [
        "learn.fine_tune(6)"
      ],
      "execution_count": 0,
      "outputs": []
    },
    {
      "cell_type": "code",
      "metadata": {
        "id": "Wmljc-K1k08x",
        "colab_type": "code",
        "colab": {}
      },
      "source": [
        ""
      ],
      "execution_count": 0,
      "outputs": []
    },
    {
      "cell_type": "markdown",
      "metadata": {
        "id": "7ahbXbFIl2iQ",
        "colab_type": "text"
      },
      "source": [
        "# Credit"
      ]
    },
    {
      "cell_type": "markdown",
      "metadata": {
        "id": "fobfJfu6l2my",
        "colab_type": "text"
      },
      "source": [
        "* https://dev.fast.ai/medical.imaging\n",
        "* https://www.kaggle.com/jhoward/don-t-see-like-a-radiologist-fastai\n",
        "* https://www.kaggle.com/jhoward/some-dicom-gotchas-to-be-aware-of-fastai\n",
        "* https://www.kaggle.com/jesperdramsch/siim-acr-pneumothorax-segmentation-data\n",
        "* https://github.com/fastai/fastai2/blob/master/nbs/61_tutorial.medical_imaging.ipynb\n",
        "* "
      ]
    }
  ]
}