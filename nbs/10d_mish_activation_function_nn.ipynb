{
  "nbformat": 4,
  "nbformat_minor": 0,
  "metadata": {
    "colab": {
      "name": "10d_mish_activation_function_nn.ipynb",
      "provenance": [],
      "authorship_tag": "ABX9TyNI2gOWTdFqYddb5Rk1of3H"
    },
    "kernelspec": {
      "name": "python3",
      "display_name": "Python 3"
    }
  },
  "cells": [
    {
      "cell_type": "code",
      "metadata": {
        "id": "THCOUq6bwI-j",
        "colab_type": "code",
        "colab": {}
      },
      "source": [
        "%reload_ext autoreload\n",
        "%autoreload 2\n",
        "%matplotlib inline"
      ],
      "execution_count": 0,
      "outputs": []
    },
    {
      "cell_type": "code",
      "metadata": {
        "id": "hjHIxO4ZwI-v",
        "colab_type": "code",
        "colab": {}
      },
      "source": [
        "import torch\n",
        "from torch.functional import F\n",
        "import matplotlib.pyplot as plt"
      ],
      "execution_count": 0,
      "outputs": []
    },
    {
      "cell_type": "markdown",
      "metadata": {
        "id": "16kzrE3dwI-0",
        "colab_type": "text"
      },
      "source": [
        "สร้าง x เป็นเลข ระหว่าง -10 บวกทีละ 0.01 ไปจนถึง 10 เราจะเอามาเป็นแกน x "
      ]
    },
    {
      "cell_type": "code",
      "metadata": {
        "id": "xAqMrJUSwI-1",
        "colab_type": "code",
        "colab": {}
      },
      "source": [
        "x = torch.arange(-10., 10., 0.01)"
      ],
      "execution_count": 0,
      "outputs": []
    },
    {
      "cell_type": "code",
      "metadata": {
        "scrolled": true,
        "id": "ZHA_8qtFwI-7",
        "colab_type": "code",
        "outputId": "c5831a6e-e19f-438b-bf58-60d97bafc745",
        "colab": {
          "base_uri": "https://localhost:8080/",
          "height": 34
        }
      },
      "source": [
        "x"
      ],
      "execution_count": 10,
      "outputs": [
        {
          "output_type": "execute_result",
          "data": {
            "text/plain": [
              "tensor([-10.0000,  -9.9900,  -9.9800,  ...,   9.9700,   9.9800,   9.9900])"
            ]
          },
          "metadata": {
            "tags": []
          },
          "execution_count": 10
        }
      ]
    },
    {
      "cell_type": "code",
      "metadata": {
        "id": "5niLV6ynwpBM",
        "colab_type": "code",
        "colab": {}
      },
      "source": [
        "def mish(x):\n",
        "    return x * torch.tanh(F.softplus(x)) "
      ],
      "execution_count": 0,
      "outputs": []
    },
    {
      "cell_type": "markdown",
      "metadata": {
        "id": "VX9mQGc6wI_B",
        "colab_type": "text"
      },
      "source": [
        "นำ x ผ่าน activation ฟังก์ชัน ได้ค่า y"
      ]
    },
    {
      "cell_type": "code",
      "metadata": {
        "id": "ZridN5USwI_D",
        "colab_type": "code",
        "colab": {}
      },
      "source": [
        "activation = mish\n",
        "y1 = activation(x)"
      ],
      "execution_count": 0,
      "outputs": []
    },
    {
      "cell_type": "code",
      "metadata": {
        "scrolled": true,
        "id": "6lKSxLGIwI_I",
        "colab_type": "code",
        "outputId": "42cfa713-a659-4104-eb3d-bf95d98c8721",
        "colab": {
          "base_uri": "https://localhost:8080/",
          "height": 51
        }
      },
      "source": [
        "y1"
      ],
      "execution_count": 13,
      "outputs": [
        {
          "output_type": "execute_result",
          "data": {
            "text/plain": [
              "tensor([-4.5399e-04, -4.5809e-04, -4.6223e-04,  ...,  9.9700e+00,\n",
              "         9.9800e+00,  9.9900e+00])"
            ]
          },
          "metadata": {
            "tags": []
          },
          "execution_count": 13
        }
      ]
    },
    {
      "cell_type": "code",
      "metadata": {
        "id": "2vtyGDjywI_P",
        "colab_type": "code",
        "colab": {}
      },
      "source": [
        "activation = torch.nn.ReLU()\n",
        "y3 = activation(x)"
      ],
      "execution_count": 0,
      "outputs": []
    },
    {
      "cell_type": "code",
      "metadata": {
        "id": "IEcAnq2DwI_W",
        "colab_type": "code",
        "outputId": "66ae92a6-c2fe-48b3-be59-b415d0cf7032",
        "colab": {
          "base_uri": "https://localhost:8080/",
          "height": 34
        }
      },
      "source": [
        "y3"
      ],
      "execution_count": 15,
      "outputs": [
        {
          "output_type": "execute_result",
          "data": {
            "text/plain": [
              "tensor([0.0000, 0.0000, 0.0000,  ..., 9.9700, 9.9800, 9.9900])"
            ]
          },
          "metadata": {
            "tags": []
          },
          "execution_count": 15
        }
      ]
    },
    {
      "cell_type": "markdown",
      "metadata": {
        "id": "pSI14xfEwI_c",
        "colab_type": "text"
      },
      "source": [
        "แสดงกราฟ"
      ]
    },
    {
      "cell_type": "code",
      "metadata": {
        "id": "-55-9Q_JwI_d",
        "colab_type": "code",
        "outputId": "85141d3b-54dc-4091-d598-0102d52f6c9a",
        "colab": {
          "base_uri": "https://localhost:8080/",
          "height": 269
        }
      },
      "source": [
        "plt.ylim(top=2.0, bottom=-0.5)\n",
        "plt.xlim(right=5.0, left=-5.0)\n",
        "plt.grid()\n",
        "\n",
        "plt.plot(x.numpy(), y1.numpy())\n",
        "plt.plot(x.numpy(), y3.numpy())\n",
        "\n",
        "plt.legend(['Mish', 'ReLU'], loc='upper left')\n",
        "plt.show()"
      ],
      "execution_count": 21,
      "outputs": [
        {
          "output_type": "display_data",
          "data": {
            "image/png": "[encoded data removed]",
            "text/plain": [
              "<Figure size 432x288 with 1 Axes>"
            ]
          },
          "metadata": {
            "tags": [],
            "needs_background": "light"
          }
        }
      ]
    },
    {
      "cell_type": "code",
      "metadata": {
        "id": "CNoWScXgxY6N",
        "colab_type": "code",
        "colab": {}
      },
      "source": [
        ""
      ],
      "execution_count": 0,
      "outputs": []
    }
  ]
}