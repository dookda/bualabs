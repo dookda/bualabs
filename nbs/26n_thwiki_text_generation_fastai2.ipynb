{
  "nbformat": 4,
  "nbformat_minor": 0,
  "metadata": {
    "colab": {
      "name": "26n_thwiki_text_generation_fastai2.ipynb",
      "provenance": [],
      "authorship_tag": "ABX9TyPGIP+LlqE01Rrq4UBWPl1g"
    },
    "kernelspec": {
      "name": "python3",
      "display_name": "Python 3"
    },
    "accelerator": "GPU"
  },
  "cells": [
    {
      "cell_type": "code",
      "metadata": {
        "id": "XZt8uLBplcgs",
        "colab_type": "code",
        "colab": {}
      },
      "source": [
        ""
      ],
      "execution_count": 0,
      "outputs": []
    },
    {
      "cell_type": "markdown",
      "metadata": {
        "id": "5dUbGObC56iZ",
        "colab_type": "text"
      },
      "source": [
        "# 0. Install"
      ]
    },
    {
      "cell_type": "code",
      "metadata": {
        "id": "Y1N_zfQlldHA",
        "colab_type": "code",
        "colab": {
          "base_uri": "https://localhost:8080/",
          "height": 306
        },
        "outputId": "3b31ffe7-d993-44d2-a737-e35a87f8afbc"
      },
      "source": [
        "! nvidia-smi"
      ],
      "execution_count": 1,
      "outputs": [
        {
          "output_type": "stream",
          "text": [
            "Wed May 27 12:55:48 2020       \n",
            "+-----------------------------------------------------------------------------+\n",
            "| NVIDIA-SMI 440.82       Driver Version: 418.67       CUDA Version: 10.1     |\n",
            "|-------------------------------+----------------------+----------------------+\n",
            "| GPU  Name        Persistence-M| Bus-Id        Disp.A | Volatile Uncorr. ECC |\n",
            "| Fan  Temp  Perf  Pwr:Usage/Cap|         Memory-Usage | GPU-Util  Compute M. |\n",
            "|===============================+======================+======================|\n",
            "|   0  Tesla K80           Off  | 00000000:00:04.0 Off |                    0 |\n",
            "| N/A   50C    P8    30W / 149W |      0MiB / 11441MiB |      0%      Default |\n",
            "+-------------------------------+----------------------+----------------------+\n",
            "                                                                               \n",
            "+-----------------------------------------------------------------------------+\n",
            "| Processes:                                                       GPU Memory |\n",
            "|  GPU       PID   Type   Process name                             Usage      |\n",
            "|=============================================================================|\n",
            "|  No running processes found                                                 |\n",
            "+-----------------------------------------------------------------------------+\n"
          ],
          "name": "stdout"
        }
      ]
    },
    {
      "cell_type": "code",
      "metadata": {
        "id": "08yoVC1wlcMx",
        "colab_type": "code",
        "colab": {}
      },
      "source": [
        ""
      ],
      "execution_count": 0,
      "outputs": []
    },
    {
      "cell_type": "code",
      "metadata": {
        "id": "H1ZCrJ0plHlE",
        "colab_type": "code",
        "colab": {
          "base_uri": "https://localhost:8080/",
          "height": 119
        },
        "outputId": "84f7bff4-6512-44dc-ca69-a4700518692f"
      },
      "source": [
        "# uncomment if you are running from google colab\n",
        "! pip install sklearn_crfsuite -q\n",
        "! pip install https://github.com/PyThaiNLP/pythainlp/archive/dev.zip -q\n",
        "! pip install fastai2 -q\n",
        "! pip install emoji -q"
      ],
      "execution_count": 2,
      "outputs": [
        {
          "output_type": "stream",
          "text": [
            "\u001b[K     |████████████████████████████████| 747kB 684kB/s \n",
            "\u001b[K     \\ 22.5MB 124kB/s\n",
            "\u001b[?25h  Building wheel for pythainlp (setup.py) ... \u001b[?25l\u001b[?25hdone\n",
            "\u001b[K     |████████████████████████████████| 194kB 6.9MB/s \n",
            "\u001b[K     |████████████████████████████████| 51kB 3.0MB/s \n",
            "\u001b[?25h  Building wheel for emoji (setup.py) ... \u001b[?25l\u001b[?25hdone\n"
          ],
          "name": "stdout"
        }
      ]
    },
    {
      "cell_type": "markdown",
      "metadata": {
        "id": "in8cLMpLlVbQ",
        "colab_type": "text"
      },
      "source": [
        "# 1. Import"
      ]
    },
    {
      "cell_type": "code",
      "metadata": {
        "id": "tZxgbbElloXa",
        "colab_type": "code",
        "colab": {
          "base_uri": "https://localhost:8080/",
          "height": 119
        },
        "outputId": "df9c337b-82b7-40cb-ff23-80c4d2c4d9f5"
      },
      "source": [
        "#fastai\n",
        "from fastai2.basics import *\n",
        "from fastai2.text.all import *\n",
        "\n",
        "#pythainlp\n",
        "from pythainlp.ulmfit import *\n",
        "from pythainlp.tokenize import THAI2FIT_TOKENIZER"
      ],
      "execution_count": 3,
      "outputs": [
        {
          "output_type": "stream",
          "text": [
            "Corpus: wiki_lm_lstm\n",
            "- Downloading: wiki_lm_lstm 0.32\n"
          ],
          "name": "stdout"
        },
        {
          "output_type": "stream",
          "text": [
            "100%|██████████| 1050919089/1050919089 [01:42<00:00, 10281144.47it/s]\n"
          ],
          "name": "stderr"
        },
        {
          "output_type": "stream",
          "text": [
            "Corpus: wiki_itos_lstm\n",
            "- Downloading: wiki_itos_lstm 0.32\n"
          ],
          "name": "stdout"
        },
        {
          "output_type": "stream",
          "text": [
            "100%|██████████| 1530484/1530484 [00:00<00:00, 5430745.67it/s]\n"
          ],
          "name": "stderr"
        }
      ]
    },
    {
      "cell_type": "markdown",
      "metadata": {
        "id": "DrWeoYeAloa_",
        "colab_type": "text"
      },
      "source": [
        "# 2. Dummy Dataset"
      ]
    },
    {
      "cell_type": "code",
      "metadata": {
        "id": "HVD_RPhDlofd",
        "colab_type": "code",
        "colab": {
          "base_uri": "https://localhost:8080/",
          "height": 17
        },
        "outputId": "e797e1c0-bae4-4f0b-d71e-349ebb284726"
      },
      "source": [
        "#get dummy data\n",
        "imdb = untar_data(URLs.IMDB_SAMPLE)\n",
        "dummy_df = pd.read_csv(imdb/'texts.csv')\n",
        "\n",
        "# dummy_df.head()"
      ],
      "execution_count": 4,
      "outputs": [
        {
          "output_type": "display_data",
          "data": {
            "text/html": [
              ""
            ],
            "text/plain": [
              "<IPython.core.display.HTML object>"
            ]
          },
          "metadata": {
            "tags": []
          }
        }
      ]
    },
    {
      "cell_type": "markdown",
      "metadata": {
        "id": "R1tx5q4-mRES",
        "colab_type": "text"
      },
      "source": [
        "# 3. Data pipeline"
      ]
    },
    {
      "cell_type": "code",
      "metadata": {
        "id": "YZmzdaG66SQO",
        "colab_type": "code",
        "colab": {}
      },
      "source": [
        ""
      ],
      "execution_count": 0,
      "outputs": []
    },
    {
      "cell_type": "code",
      "metadata": {
        "id": "IoPYM08NrBsw",
        "colab_type": "code",
        "colab": {}
      },
      "source": [
        "class XThaiTokenizer():\n",
        "    def __init__(self, lang: str = \"th\", split_char=' ', **kwargs): \n",
        "        self.split_char=split_char\n",
        "        self.lang = lang\n",
        "\n",
        "    def __call__(self, items): return (THAI2FIT_TOKENIZER.word_tokenize(t) for t in items)\n",
        "\n",
        "    def add_special_cases(self, toks):\n",
        "        pass"
      ],
      "execution_count": 0,
      "outputs": []
    },
    {
      "cell_type": "code",
      "metadata": {
        "id": "bN5KV-Xe6MHZ",
        "colab_type": "code",
        "colab": {}
      },
      "source": [
        ""
      ],
      "execution_count": 0,
      "outputs": []
    },
    {
      "cell_type": "code",
      "metadata": {
        "id": "Q34dlVGelojB",
        "colab_type": "code",
        "colab": {
          "base_uri": "https://localhost:8080/",
          "height": 374
        },
        "outputId": "04e169f5-d872-4e08-f0d7-c40e64a70994"
      },
      "source": [
        "#get vocab\n",
        "thwiki_vocab = pickle.load(open(THWIKI_LSTM['itos_fname'],'rb'))\n",
        "\n",
        "len(thwiki_vocab), thwiki_vocab[:20]"
      ],
      "execution_count": 6,
      "outputs": [
        {
          "output_type": "execute_result",
          "data": {
            "text/plain": [
              "(60005,\n",
              " ['xxunk',\n",
              "  'xxpad',\n",
              "  'xxbos',\n",
              "  'xxfld',\n",
              "  'xxmaj',\n",
              "  'xxup',\n",
              "  'xxrep',\n",
              "  'xxwrep',\n",
              "  ' ',\n",
              "  '\\n',\n",
              "  'ใน',\n",
              "  'ที่',\n",
              "  'และ',\n",
              "  'ของ',\n",
              "  'เป็น',\n",
              "  'มี',\n",
              "  'ได้',\n",
              "  'การ',\n",
              "  '\"',\n",
              "  '('])"
            ]
          },
          "metadata": {
            "tags": []
          },
          "execution_count": 6
        }
      ]
    },
    {
      "cell_type": "code",
      "metadata": {
        "id": "Ca_jPyGcrBHK",
        "colab_type": "code",
        "colab": {}
      },
      "source": [
        ""
      ],
      "execution_count": 0,
      "outputs": []
    },
    {
      "cell_type": "code",
      "metadata": {
        "id": "abBYR7VzmoVk",
        "colab_type": "code",
        "colab": {}
      },
      "source": [
        "imdb_lm = DataBlock(blocks=TextBlock.from_df('text', is_lm=True, tok_func=XThaiTokenizer, vocab=thwiki_vocab, sep=''),\n",
        "                    get_x=ColReader('text'),    \n",
        "                    splitter=ColSplitter())"
      ],
      "execution_count": 0,
      "outputs": []
    },
    {
      "cell_type": "code",
      "metadata": {
        "id": "12lJZAKWmoda",
        "colab_type": "code",
        "colab": {}
      },
      "source": [
        "# imdb_lm.summary(dummy_df, bs=64, seq_len=72)"
      ],
      "execution_count": 0,
      "outputs": []
    },
    {
      "cell_type": "code",
      "metadata": {
        "id": "mzcTlNpHmohi",
        "colab_type": "code",
        "colab": {
          "base_uri": "https://localhost:8080/",
          "height": 17
        },
        "outputId": "decc6c2b-e635-4518-fefc-3e959ea25cca"
      },
      "source": [
        "dls = imdb_lm.dataloaders(dummy_df, bs=64, seq_len=72)"
      ],
      "execution_count": 9,
      "outputs": [
        {
          "output_type": "display_data",
          "data": {
            "text/html": [
              ""
            ],
            "text/plain": [
              "<IPython.core.display.HTML object>"
            ]
          },
          "metadata": {
            "tags": []
          }
        }
      ]
    },
    {
      "cell_type": "code",
      "metadata": {
        "id": "nNR5EupBt00F",
        "colab_type": "code",
        "colab": {
          "base_uri": "https://localhost:8080/",
          "height": 34
        },
        "outputId": "fe8a028b-9315-4dca-ea15-dd5e209b7b8c"
      },
      "source": [
        "len(dls.vocab)"
      ],
      "execution_count": 10,
      "outputs": [
        {
          "output_type": "execute_result",
          "data": {
            "text/plain": [
              "60005"
            ]
          },
          "metadata": {
            "tags": []
          },
          "execution_count": 10
        }
      ]
    },
    {
      "cell_type": "code",
      "metadata": {
        "id": "6iEVw9TlqYOF",
        "colab_type": "code",
        "colab": {}
      },
      "source": [
        "# dls.show_batch(max_n=5)"
      ],
      "execution_count": 0,
      "outputs": []
    },
    {
      "cell_type": "markdown",
      "metadata": {
        "id": "WoNMu2-Bqabk",
        "colab_type": "text"
      },
      "source": [
        "# 4. Model"
      ]
    },
    {
      "cell_type": "code",
      "metadata": {
        "id": "fcEuzdoKM1so",
        "colab_type": "code",
        "colab": {}
      },
      "source": [
        "language_model_learner??\n",
        "# AWD_LSTM??"
      ],
      "execution_count": 0,
      "outputs": []
    },
    {
      "cell_type": "code",
      "metadata": {
        "id": "7j6MOXRYuurx",
        "colab_type": "code",
        "colab": {}
      },
      "source": [
        "config = dict(emb_sz=400, n_hid=1550, n_layers=4, pad_token=1, tie_weights=True, out_bias=True,\n",
        "             output_p=0.25, hidden_p=0.1, input_p=0.2, embed_p=0.02, weight_p=0.15)\n",
        "\n",
        "trn_args = dict(drop_mult=0.9, clip=0.12, alpha=2, beta=1)\n",
        "\n",
        "learn = language_model_learner(dls, AWD_LSTM, config=config, pretrained=False, **trn_args)"
      ],
      "execution_count": 0,
      "outputs": []
    },
    {
      "cell_type": "code",
      "metadata": {
        "id": "4BEGDJuL4d5o",
        "colab_type": "code",
        "colab": {}
      },
      "source": [
        ""
      ],
      "execution_count": 0,
      "outputs": []
    },
    {
      "cell_type": "markdown",
      "metadata": {
        "id": "hKH2jRc46b3t",
        "colab_type": "text"
      },
      "source": [
        "# 5. Load Pretrained Model"
      ]
    },
    {
      "cell_type": "code",
      "metadata": {
        "id": "OceSXzr3zFfa",
        "colab_type": "code",
        "colab": {
          "base_uri": "https://localhost:8080/",
          "height": 34
        },
        "outputId": "e724adee-bd1a-4d35-98d1-6cf6ca719e03"
      },
      "source": [
        "#load pretrained models\n",
        "learn.load_pretrained(THWIKI_LSTM['wgts_fname'], THWIKI_LSTM['itos_fname'])"
      ],
      "execution_count": 14,
      "outputs": [
        {
          "output_type": "execute_result",
          "data": {
            "text/plain": [
              "<fastai2.text.learner.LMLearner at 0x7f89eea89898>"
            ]
          },
          "metadata": {
            "tags": []
          },
          "execution_count": 14
        }
      ]
    },
    {
      "cell_type": "markdown",
      "metadata": {
        "id": "Gwmnf8DB54m5",
        "colab_type": "text"
      },
      "source": [
        "# 6. Generate Text"
      ]
    },
    {
      "cell_type": "markdown",
      "metadata": {
        "id": "WKIiWgIU4dNf",
        "colab_type": "text"
      },
      "source": [
        "## ตัวอย่าง 1"
      ]
    },
    {
      "cell_type": "code",
      "metadata": {
        "id": "eF2vfPZ5uuvQ",
        "colab_type": "code",
        "colab": {
          "base_uri": "https://localhost:8080/",
          "height": 122
        },
        "outputId": "d4ebe2cd-eaa3-4569-c939-387d41cf9a52"
      },
      "source": [
        "print(learn.predict('ตำรวจชุดสืบสวนไปถึงที่เกิดเหตุพบว่า', 200, temperature=0.8, min_p=0.005))"
      ],
      "execution_count": 15,
      "outputs": [
        {
          "output_type": "display_data",
          "data": {
            "text/html": [
              ""
            ],
            "text/plain": [
              "<IPython.core.display.HTML object>"
            ]
          },
          "metadata": {
            "tags": []
          }
        },
        {
          "output_type": "stream",
          "text": [
            " ตำรวจชุดสืบสวนไปถึงที่เกิดเหตุพบว่า ระเบิดที่ใช้อยู่ในที่เกิดเหตุนั้น อยู่ที่จุดเกิดระเบิด (ระเบิด) ระหว่างการสืบสวน ส่วนตำรวจในกองตำรวจ ที่ถูกจับกุมก็พบว่าระเบิดถูกยิงตกจากหลังรถจนถูกยิง \n",
            " \n",
            " ในวันที่ 8 พฤษภาคม พ.ศ. 2548 หน่วยข่าวกรองฝรั่งเศส โดยมี คริส โคลัมบัส หรือ เอลเมอร์ สมิธ เป็นเจ้าหน้าที่ค้นหาข้อมูล และรายงานข่าวว่า มีผู้เสียชีวิตจำนวน 12 คน โดยมีผู้เสียชีวิต 2 คน และบาดเจ็บอีก 1 คน ซึ่งในขณะอยู่ในที่เกิดเหตุ มีทหาร 3 นายที่รอดชีวิตจากเหตุระเบิดในเมือง มีคนหนึ่งเสียชีวิตจากอุบัติเหตุ \n",
            " \n",
            " ผลการสอบสวน พบว่า เกิดการยิงกัน ระหว่าง ระเบิด กับ ระเบิด ซึ่งเป็นอาวุธที่ทำให้หน่วยของผู้ก่อการร้าย เสียชีวิต ในข้อหาอาชญากรรมสงคราม โดย เจ้าหน้าที่ CIA และ CIA ได้\n"
          ],
          "name": "stdout"
        }
      ]
    },
    {
      "cell_type": "markdown",
      "metadata": {
        "id": "b1Uv7pVK5yde",
        "colab_type": "text"
      },
      "source": [
        "## ตัวอย่าง 2"
      ]
    },
    {
      "cell_type": "code",
      "metadata": {
        "id": "pG7j04IwvCsf",
        "colab_type": "code",
        "colab": {
          "base_uri": "https://localhost:8080/",
          "height": 122
        },
        "outputId": "4b270831-4da6-4467-b973-016c98231217"
      },
      "source": [
        "TEXT = \"ประชาชนหันมาใช้ถุงมือยางเพื่อ\"\n",
        "N_WORDS = 50\n",
        "N_SENTENCES = 5\n",
        "\n",
        "preds = [learn.predict(TEXT, N_WORDS, temperature=0.8, min_p=0.005) \n",
        "         for _ in range(N_SENTENCES)]\n",
        "\n",
        "preds"
      ],
      "execution_count": 16,
      "outputs": [
        {
          "output_type": "display_data",
          "data": {
            "text/html": [
              ""
            ],
            "text/plain": [
              "<IPython.core.display.HTML object>"
            ]
          },
          "metadata": {
            "tags": []
          }
        },
        {
          "output_type": "display_data",
          "data": {
            "text/html": [
              ""
            ],
            "text/plain": [
              "<IPython.core.display.HTML object>"
            ]
          },
          "metadata": {
            "tags": []
          }
        },
        {
          "output_type": "display_data",
          "data": {
            "text/html": [
              ""
            ],
            "text/plain": [
              "<IPython.core.display.HTML object>"
            ]
          },
          "metadata": {
            "tags": []
          }
        },
        {
          "output_type": "display_data",
          "data": {
            "text/html": [
              ""
            ],
            "text/plain": [
              "<IPython.core.display.HTML object>"
            ]
          },
          "metadata": {
            "tags": []
          }
        },
        {
          "output_type": "display_data",
          "data": {
            "text/html": [
              ""
            ],
            "text/plain": [
              "<IPython.core.display.HTML object>"
            ]
          },
          "metadata": {
            "tags": []
          }
        },
        {
          "output_type": "execute_result",
          "data": {
            "text/plain": [
              "[' ประชาชนหันมาใช้ถุงมือยางเพื่อทำเป็นเครื่องประดับหรือเครื่องประดับ ซึ่งมีการใช้กันมาอย่างยาวนานตั้งแต่ครั้งสมัยราชวงศ์ฮั่น (ปี ค.ศ. 400 - ค.ศ. 900) โดยมีการแต่งชุดดำเป็นชุด เพื่อแสดงความเคารพและให้ความเคารพต่อ',\n",
              " ' ประชาชนหันมาใช้ถุงมือยางเพื่อเป็นอนุสรณ์ และสร้างความสงบสุขให้แก่ชาติ \\n \\n  \\n =ฟุตบอลโลก 2018 รอบคัดเลือก โซนอเมริกาเหนือ – รอบที่ 2= \\n ฟุตบอลโลก 2018 รอบคัดเลือก ',\n",
              " ' ประชาชนหันมาใช้ถุงมือยางเพื่อดูว่าเป็นใคร แต่เนื่องจากการทำไม้เป็นโลหะและการใช้วัสดุที่มีคุณภาพสูง ทำให้ต้องใช้เงินจำนวนมาก จึงถูกนำไปขายให้กับประชาชน \\n \\n \\n \\n \\n \\n \\n ',\n",
              " ' ประชาชนหันมาใช้ถุงมือยางเพื่อดูว่าเป็นสีขาวหรือสีขาว มีการตัดสีดำและดำออกจากกัน \\n \\n การตรวจเยี่ยม. \\n วันที่ 18 กันยายน พ.ศ. 25   รัฐบาลรัฐบาลรัฐบาลสหรัฐอเมริกาสหรัฐอเมริกาสหรัฐอเมริกาได้ได้ได้อนุมัติอนุมัติอนุมัติให้ให้ให้มีมีมีการการการตรวจสอบตรวจสอบตรวจสอบ',\n",
              " ' ประชาชนหันมาใช้ถุงมือยางเพื่อใช้ในการฝึกและจัดการแสดงในงานวันเสาร์ โดยเริ่มจากการเดิน 1 รอบ ตามถนน โดยผ่านประตูที่ 2 และ 4 จากนั้น เมื่อถึงห้องของผู้ที่มีการถ่ายทอดสด จะมี']"
            ]
          },
          "metadata": {
            "tags": []
          },
          "execution_count": 16
        }
      ]
    },
    {
      "cell_type": "markdown",
      "metadata": {
        "id": "LZxB8w6S50uk",
        "colab_type": "text"
      },
      "source": [
        "## ตัวอย่าง 3"
      ]
    },
    {
      "cell_type": "code",
      "metadata": {
        "id": "1p2cmVIrv0X0",
        "colab_type": "code",
        "colab": {
          "base_uri": "https://localhost:8080/",
          "height": 122
        },
        "outputId": "9baac541-bb47-4b01-cd82-f6b02f126730"
      },
      "source": [
        "TEXT = \"เจ้าหน้าที่จึงแจ้งข้อกล่าวหาให้\"\n",
        "N_WORDS = 50\n",
        "N_SENTENCES = 5\n",
        "\n",
        "preds = [learn.predict(TEXT, N_WORDS, temperature=0.8, min_p=0.005) \n",
        "         for _ in range(N_SENTENCES)]\n",
        "\n",
        "preds"
      ],
      "execution_count": 17,
      "outputs": [
        {
          "output_type": "display_data",
          "data": {
            "text/html": [
              ""
            ],
            "text/plain": [
              "<IPython.core.display.HTML object>"
            ]
          },
          "metadata": {
            "tags": []
          }
        },
        {
          "output_type": "display_data",
          "data": {
            "text/html": [
              ""
            ],
            "text/plain": [
              "<IPython.core.display.HTML object>"
            ]
          },
          "metadata": {
            "tags": []
          }
        },
        {
          "output_type": "display_data",
          "data": {
            "text/html": [
              ""
            ],
            "text/plain": [
              "<IPython.core.display.HTML object>"
            ]
          },
          "metadata": {
            "tags": []
          }
        },
        {
          "output_type": "display_data",
          "data": {
            "text/html": [
              ""
            ],
            "text/plain": [
              "<IPython.core.display.HTML object>"
            ]
          },
          "metadata": {
            "tags": []
          }
        },
        {
          "output_type": "display_data",
          "data": {
            "text/html": [
              ""
            ],
            "text/plain": [
              "<IPython.core.display.HTML object>"
            ]
          },
          "metadata": {
            "tags": []
          }
        },
        {
          "output_type": "execute_result",
          "data": {
            "text/plain": [
              "[' เจ้าหน้าที่จึงแจ้งข้อกล่าวหาให้แก่ บริษัท เอสทีเอ จำกัด (มหาชน) ว่ามีการตรวจสอบหาตัวเท็จ ให้พบว่ามีการใช้ เครื่องตรวจจับ และ รายงานในสภาพที่ผิดพลาด ซึ่งไม่สามารถตรวจสอบได้ โดยการ ตรวจสอบ',\n",
              " ' เจ้าหน้าที่จึงแจ้งข้อกล่าวหาให้แก่เจ้าหน้าที่รักษาความปลอดภัยของรัฐบาล ซึ่งเป็นผู้ที่ขอลาออกเพื่อไปเป็นที่ปรึกษาราชการแผ่นดิน ต่อมา ในวันที่ 25 พฤษภาคม พ.ศ. 2547 รัฐบาลได้ออกประกาศ ประกาศ ยกเลิกคำสั่งรัฐบาลที่มีพลเอก ประยุทธ์ จันทร์',\n",
              " ' เจ้าหน้าที่จึงแจ้งข้อกล่าวหาให้ลงโทษบุคคลที่เกี่ยวข้องโดยการเผาทรัพย์สินที่เคยใช้ในการคุมขัง โดยการลงโทษ โดยการดำเนินคดี จากคณะกรรมการพิจารณาถึงการทุจริต \\n \\n ในเดือนพฤศจิกายน ปี พ.ศ. 2550 ศาลพิพากษาให้จำคุก 2',\n",
              " ' เจ้าหน้าที่จึงแจ้งข้อกล่าวหาให้ฆ่าตำรวจ ซึ่งอยู่ระหว่างปฏิบัติการ แต่ก็ไม่เป็นผล \\n \\n เมื่อวันที่ 18 ธันวาคม พ.ศ. 2556 ตำรวจจับกุม นาย วีระยุทธ บุญเกิด สมาชิกสภานิติบัญญัติแห่งชาติ (ประเทศไทย) พ.ศ. ',\n",
              " ' เจ้าหน้าที่จึงแจ้งข้อกล่าวหาให้ตำรวจสั่งจับตำรวจที่อำเภอบ้านโป่ง อำเภอปากช่อง จังหวัดประจวบคีรีขันธ์ แต่ก็ไม่เกิดปัญหา ตำรวจจึงได้ให้ตำรวจเข้าจับกุม ซึ่งตำรวจได้สั่งให้จับกุมตัวตำรวจ และได้หลบหนีไปพร้อมๆกับตำรวจ \\n ']"
            ]
          },
          "metadata": {
            "tags": []
          },
          "execution_count": 17
        }
      ]
    },
    {
      "cell_type": "markdown",
      "metadata": {
        "id": "JZm4dZMG3deb",
        "colab_type": "text"
      },
      "source": [
        "# Credit"
      ]
    },
    {
      "cell_type": "markdown",
      "metadata": {
        "id": "h6TpkMsd3dio",
        "colab_type": "text"
      },
      "source": [
        "* https://www.thainlp.org/pythainlp/tutorials/notebooks/text_generation.html\n",
        "* http://dev.fast.ai/tutorial.wikitext"
      ]
    },
    {
      "cell_type": "code",
      "metadata": {
        "id": "IILaY6O93evz",
        "colab_type": "code",
        "colab": {}
      },
      "source": [
        ""
      ],
      "execution_count": 0,
      "outputs": []
    }
  ]
}