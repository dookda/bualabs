{
  "nbformat": 4,
  "nbformat_minor": 0,
  "metadata": {
    "colab": {
      "provenance": [],
      "authorship_tag": "ABX9TyPDDlTo043ZC2MfO1KYf23F",
      "include_colab_link": true
    },
    "kernelspec": {
      "name": "python3",
      "display_name": "Python 3"
    },
    "language_info": {
      "name": "python"
    }
  },
  "cells": [
    {
      "cell_type": "markdown",
      "metadata": {
        "id": "view-in-github",
        "colab_type": "text"
      },
      "source": [
        "<a href=\"https://colab.research.google.com/github/gnoparus/bualabs/blob/master/nbs/31c_chatgpt_prompt_format_output.ipynb\" target=\"_parent\"><img src=\"https://colab.research.google.com/assets/colab-badge.svg\" alt=\"Open In Colab\"/></a>"
      ]
    },
    {
      "cell_type": "code",
      "execution_count": null,
      "metadata": {
        "id": "ctCt5HrqnWW7"
      },
      "outputs": [],
      "source": []
    },
    {
      "cell_type": "markdown",
      "source": [
        "ต่อไปเราจะมาเรียนรู้ Prompt Engineering เทคนิคที่สอง คือ ระบุรูปแบบโครงสร้างข้อมูลผลลัพท์"
      ],
      "metadata": {
        "id": "WrAXCBTSH1VF"
      }
    },
    {
      "cell_type": "markdown",
      "source": [
        "# 0. Magic Commands\n",
        "ให้ใส่ไว้บนสุดทุก Notebook เป็นการสั่งให้ Notebook ก่อนรัน ให้รีโหลด Library ภายนอกที่เรา import ไว้ใหม่โดยอัตโนมัติ\n",
        "\n",
        "และให้พล็อตกราฟ matplotlib ใน Output ของ cell แบบ code ได้เลย"
      ],
      "metadata": {
        "id": "XADbYKvIHVdT"
      }
    },
    {
      "cell_type": "code",
      "source": [
        "%reload_ext autoreload\n",
        "%autoreload 2\n",
        "%matplotlib inline"
      ],
      "metadata": {
        "id": "SY1xxOt4GFMw"
      },
      "execution_count": 1,
      "outputs": []
    },
    {
      "cell_type": "markdown",
      "source": [
        "สั่งให้ Colab แสดงผลข้อความแบบ Wrap Text"
      ],
      "metadata": {
        "id": "uvbfUIO3oeEi"
      }
    },
    {
      "cell_type": "code",
      "source": [
        "from IPython.display import HTML, display\n",
        "\n",
        "def set_css():\n",
        "  display(HTML('''\n",
        "  <style>\n",
        "    pre {\n",
        "        white-space: pre-wrap;\n",
        "    }\n",
        "  </style>\n",
        "  '''))\n",
        "get_ipython().events.register('pre_run_cell', set_css)"
      ],
      "metadata": {
        "id": "xwy_06Hgn2T2"
      },
      "execution_count": 2,
      "outputs": []
    },
    {
      "cell_type": "markdown",
      "source": [
        "# 1. Import Library\n",
        "\n",
        "ติดตั้ง OpenAI Library ด้วยการ Uncomment Cell ด้านล่างแล้ว Run"
      ],
      "metadata": {
        "id": "2tV5b_GLGsfT"
      }
    },
    {
      "cell_type": "code",
      "execution_count": 6,
      "metadata": {
        "id": "AQWl4NIQ8LJm",
        "colab": {
          "base_uri": "https://localhost:8080/",
          "height": 17
        },
        "outputId": "d2664d29-c922-4eb5-becb-87f485dd794e"
      },
      "outputs": [
        {
          "output_type": "display_data",
          "data": {
            "text/plain": [
              "<IPython.core.display.HTML object>"
            ],
            "text/html": [
              "\n",
              "  <style>\n",
              "    pre {\n",
              "        white-space: pre-wrap;\n",
              "    }\n",
              "  </style>\n",
              "  "
            ]
          },
          "metadata": {}
        }
      ],
      "source": [
        "# ! pip install openai"
      ]
    },
    {
      "cell_type": "code",
      "source": [
        "import openai"
      ],
      "metadata": {
        "id": "Y9S8DX6a9GdD",
        "colab": {
          "base_uri": "https://localhost:8080/",
          "height": 17
        },
        "outputId": "436e617e-854b-49b6-8bbe-3d12247f6375"
      },
      "execution_count": 4,
      "outputs": [
        {
          "output_type": "display_data",
          "data": {
            "text/plain": [
              "<IPython.core.display.HTML object>"
            ],
            "text/html": [
              "\n",
              "  <style>\n",
              "    pre {\n",
              "        white-space: pre-wrap;\n",
              "    }\n",
              "  </style>\n",
              "  "
            ]
          },
          "metadata": {}
        }
      ]
    },
    {
      "cell_type": "markdown",
      "source": [
        "# 2. Authentication\n",
        "\n",
        "ก่อนที่เราจะเรียกใช้งาน ChatGPT, GPT-4 ของ OpenAI ได้ เราต้องลงทะเบียน สมัครใช้งาน และใส่ข้อมูลวิธีชำระเงินให้เรียบร้อยก่อน \n",
        "\n",
        "## Sign up\n",
        "\n",
        "กดปุ่ม Sign up สีเขียว ในลิงค์ด้านล่าง สมัครใช้งาน OpenAI \n",
        "\n",
        "https://platform.openai.com/overview\n",
        "\n",
        "ใส่ข้อมูลบัตรเครดิต ในหน้า Billing ให้เรียบร้อย\n",
        "\n",
        "https://platform.openai.com/account/billing/payment-methods\n",
        "\n",
        "\n",
        "\n",
        "\n"
      ],
      "metadata": {
        "id": "MyBgjLga_6rG"
      }
    },
    {
      "cell_type": "markdown",
      "source": [
        "## API Key\n",
        "\n",
        "สร้าง API Key จากลิงค์ด้านล่าง โดยกดปุ่ม Create new secret key ตั้งชื่อ แล้ว Copy secret key เตรียมไว้ใส่ในช่อง OPENAI_API_KEY ด้านล่าง\n",
        "\n",
        "https://platform.openai.com/account/api-keys\n",
        "\n",
        "\n",
        "## ตัวอย่าง API Key \n",
        "\n",
        "OPENAI_API_KEY: sk-abcDeFGHijKlMNopQrstuvWxyZ1234567890abcDefhiJklm\n",
        "\n",
        "รัน Cell ด้านล่าง แล้วใส่ secret key ที่ได้มา"
      ],
      "metadata": {
        "id": "2jWLUnvhJ0cX"
      }
    },
    {
      "cell_type": "code",
      "source": [
        "import os\n",
        "from getpass import getpass\n",
        "\n",
        "token = getpass('Enter OPENAI_API_KEY here: ')\n",
        "# print ('token is', token)\n",
        "\n",
        "openai.api_key = token"
      ],
      "metadata": {
        "colab": {
          "base_uri": "https://localhost:8080/",
          "height": 34
        },
        "id": "od_JGCDH85e8",
        "outputId": "329bc811-f7e4-45ab-8973-7eb6f9eb4a3c"
      },
      "execution_count": 5,
      "outputs": [
        {
          "output_type": "display_data",
          "data": {
            "text/plain": [
              "<IPython.core.display.HTML object>"
            ],
            "text/html": [
              "\n",
              "  <style>\n",
              "    pre {\n",
              "        white-space: pre-wrap;\n",
              "    }\n",
              "  </style>\n",
              "  "
            ]
          },
          "metadata": {}
        },
        {
          "name": "stdout",
          "output_type": "stream",
          "text": [
            "Enter OPENAI_API_KEY here: ··········\n"
          ]
        }
      ]
    },
    {
      "cell_type": "markdown",
      "source": [
        "หลังจากทดสอบเสร็จแล้ว แนะนำให้กลับไปลบ Secret Key ในหน้า https://platform.openai.com/account/api-keys ทิ้งไปทุกครั้ง เพื่อความปลอดภัย โดยเราสามารถสร้าง Key ใหม่ได้เรื่อย ๆ ไม่จำกัด"
      ],
      "metadata": {
        "id": "6DGekg9eQyD0"
      }
    },
    {
      "cell_type": "markdown",
      "source": [
        "# 3. ฟังก์ชัน"
      ],
      "metadata": {
        "id": "Eh1bNHQgiAVF"
      }
    },
    {
      "cell_type": "code",
      "source": [
        "def get_completion(prompt, model=\"gpt-3.5-turbo\"):\n",
        "    messages = [{\"role\": \"user\", \"content\": prompt}]\n",
        "    response = openai.ChatCompletion.create(\n",
        "        model=model,\n",
        "        messages=messages,\n",
        "        temperature=0, # this is the degree of randomness of the model's output\n",
        "    )\n",
        "    return response.choices[0].message[\"content\"]"
      ],
      "metadata": {
        "id": "kRe_-7Czhzbd",
        "colab": {
          "base_uri": "https://localhost:8080/",
          "height": 17
        },
        "outputId": "a7e9c485-7d1c-4bbf-cf62-f4b33cb46874"
      },
      "execution_count": 7,
      "outputs": [
        {
          "output_type": "display_data",
          "data": {
            "text/plain": [
              "<IPython.core.display.HTML object>"
            ],
            "text/html": [
              "\n",
              "  <style>\n",
              "    pre {\n",
              "        white-space: pre-wrap;\n",
              "    }\n",
              "  </style>\n",
              "  "
            ]
          },
          "metadata": {}
        }
      ]
    },
    {
      "cell_type": "code",
      "source": [
        "resp = get_completion(\"what are the 5 most populated provinces in thailand?\")"
      ],
      "metadata": {
        "id": "kqTWgxHVh-n2",
        "colab": {
          "base_uri": "https://localhost:8080/",
          "height": 17
        },
        "outputId": "107c4c71-09c5-4c99-f782-3a00f7435f8f"
      },
      "execution_count": 8,
      "outputs": [
        {
          "output_type": "display_data",
          "data": {
            "text/plain": [
              "<IPython.core.display.HTML object>"
            ],
            "text/html": [
              "\n",
              "  <style>\n",
              "    pre {\n",
              "        white-space: pre-wrap;\n",
              "    }\n",
              "  </style>\n",
              "  "
            ]
          },
          "metadata": {}
        }
      ]
    },
    {
      "cell_type": "code",
      "source": [
        "print(resp)"
      ],
      "metadata": {
        "colab": {
          "base_uri": "https://localhost:8080/",
          "height": 104
        },
        "id": "ASe0VTf2h-ss",
        "outputId": "3807d66f-c55f-45dc-d285-b7a24385398f"
      },
      "execution_count": 9,
      "outputs": [
        {
          "output_type": "display_data",
          "data": {
            "text/plain": [
              "<IPython.core.display.HTML object>"
            ],
            "text/html": [
              "\n",
              "  <style>\n",
              "    pre {\n",
              "        white-space: pre-wrap;\n",
              "    }\n",
              "  </style>\n",
              "  "
            ]
          },
          "metadata": {}
        },
        {
          "output_type": "stream",
          "name": "stdout",
          "text": [
            "1. Bangkok - population of approximately 8.3 million\n",
            "2. Nonthaburi - population of approximately 1.2 million\n",
            "3. Samut Prakan - population of approximately 1.1 million\n",
            "4. Chonburi - population of approximately 1.1 million\n",
            "5. Ubon Ratchathani - population of approximately 1.1 million\n"
          ]
        }
      ]
    },
    {
      "cell_type": "markdown",
      "source": [
        "# 4. ตัวอย่างการเขียน Prompt ไม่ระบุรูปแบบโครงสร้างข้อมูลผลลัพท์ "
      ],
      "metadata": {
        "id": "xSLCudDfix_5"
      }
    },
    {
      "cell_type": "markdown",
      "source": [
        "แล้วแต่โมเดลจะจัดให้"
      ],
      "metadata": {
        "id": "9loYhRa_s3tF"
      }
    },
    {
      "cell_type": "code",
      "source": [
        "prompt = \"\"\"\n",
        "Give me top 5 movies of all time. \n",
        "\"\"\"\n",
        "resp = get_completion(prompt)"
      ],
      "metadata": {
        "colab": {
          "base_uri": "https://localhost:8080/",
          "height": 17
        },
        "id": "AMarf6wGi-St",
        "outputId": "e4be1538-f2fd-4196-9770-2230283d6b53"
      },
      "execution_count": 10,
      "outputs": [
        {
          "output_type": "display_data",
          "data": {
            "text/plain": [
              "<IPython.core.display.HTML object>"
            ],
            "text/html": [
              "\n",
              "  <style>\n",
              "    pre {\n",
              "        white-space: pre-wrap;\n",
              "    }\n",
              "  </style>\n",
              "  "
            ]
          },
          "metadata": {}
        }
      ]
    },
    {
      "cell_type": "code",
      "source": [
        "print(resp)"
      ],
      "metadata": {
        "outputId": "363762c4-c36d-4129-d792-a3f0f1fe6c8b",
        "colab": {
          "base_uri": "https://localhost:8080/",
          "height": 138
        },
        "id": "wZM4tF_5i-Su"
      },
      "execution_count": 11,
      "outputs": [
        {
          "output_type": "display_data",
          "data": {
            "text/plain": [
              "<IPython.core.display.HTML object>"
            ],
            "text/html": [
              "\n",
              "  <style>\n",
              "    pre {\n",
              "        white-space: pre-wrap;\n",
              "    }\n",
              "  </style>\n",
              "  "
            ]
          },
          "metadata": {}
        },
        {
          "output_type": "stream",
          "name": "stdout",
          "text": [
            "As an AI language model, I do not have personal preferences, but here are some of the most critically acclaimed movies of all time:\n",
            "\n",
            "1. The Godfather (1972)\n",
            "2. The Shawshank Redemption (1994)\n",
            "3. The Dark Knight (2008)\n",
            "4. Schindler's List (1993)\n",
            "5. Pulp Fiction (1994)\n"
          ]
        }
      ]
    },
    {
      "cell_type": "markdown",
      "source": [
        "# 5. ตัวอย่างการเขียน Prompt แบบระบุรูปแบบโครงสร้างข้อมูลผลลัพท์ Format ต่าง ๆ "
      ],
      "metadata": {
        "id": "6T8Ksr8jpZdz"
      }
    },
    {
      "cell_type": "markdown",
      "source": [
        "## CSV"
      ],
      "metadata": {
        "id": "QiSrm1y5pZd8"
      }
    },
    {
      "cell_type": "code",
      "source": [
        "prompt = \"\"\"\n",
        "Give me top 5 movies of all time. Output only as csv with header: rank, name, year.\n",
        "\"\"\"\n",
        "resp = get_completion(prompt)"
      ],
      "metadata": {
        "colab": {
          "base_uri": "https://localhost:8080/",
          "height": 17
        },
        "outputId": "fd7b1b2e-6362-4860-9139-1d0baa534546",
        "id": "gYAfw1TnplW2"
      },
      "execution_count": 12,
      "outputs": [
        {
          "output_type": "display_data",
          "data": {
            "text/plain": [
              "<IPython.core.display.HTML object>"
            ],
            "text/html": [
              "\n",
              "  <style>\n",
              "    pre {\n",
              "        white-space: pre-wrap;\n",
              "    }\n",
              "  </style>\n",
              "  "
            ]
          },
          "metadata": {}
        }
      ]
    },
    {
      "cell_type": "code",
      "source": [
        "print(resp)"
      ],
      "metadata": {
        "outputId": "40a57b44-c19a-4614-9c6e-5c74d511d350",
        "colab": {
          "base_uri": "https://localhost:8080/",
          "height": 121
        },
        "id": "77QMPAdzplW3"
      },
      "execution_count": 13,
      "outputs": [
        {
          "output_type": "display_data",
          "data": {
            "text/plain": [
              "<IPython.core.display.HTML object>"
            ],
            "text/html": [
              "\n",
              "  <style>\n",
              "    pre {\n",
              "        white-space: pre-wrap;\n",
              "    }\n",
              "  </style>\n",
              "  "
            ]
          },
          "metadata": {}
        },
        {
          "output_type": "stream",
          "name": "stdout",
          "text": [
            "rank,name,year\n",
            "1,The Godfather,1972\n",
            "2,The Shawshank Redemption,1994\n",
            "3,The Dark Knight,2008\n",
            "4,The Godfather: Part II,1974\n",
            "5,Pulp Fiction,1994\n"
          ]
        }
      ]
    },
    {
      "cell_type": "markdown",
      "source": [
        "## JSON "
      ],
      "metadata": {
        "id": "mRGt3NhFpyP6"
      }
    },
    {
      "cell_type": "code",
      "source": [
        "prompt = \"\"\"\n",
        "Give me top 5 movies of all time. Output only as JSON with header: rank, name, year.\n",
        "\"\"\"\n",
        "resp = get_completion(prompt)"
      ],
      "metadata": {
        "colab": {
          "base_uri": "https://localhost:8080/",
          "height": 17
        },
        "outputId": "6de663bc-64a2-4ce6-dc0f-04575a0e44dc",
        "id": "deCdpeVQpyP6"
      },
      "execution_count": 14,
      "outputs": [
        {
          "output_type": "display_data",
          "data": {
            "text/plain": [
              "<IPython.core.display.HTML object>"
            ],
            "text/html": [
              "\n",
              "  <style>\n",
              "    pre {\n",
              "        white-space: pre-wrap;\n",
              "    }\n",
              "  </style>\n",
              "  "
            ]
          },
          "metadata": {}
        }
      ]
    },
    {
      "cell_type": "code",
      "source": [
        "print(resp)"
      ],
      "metadata": {
        "outputId": "5870e7cf-c731-4d0f-8dbd-9c0f41a12821",
        "colab": {
          "base_uri": "https://localhost:8080/",
          "height": 520
        },
        "id": "7RnoyMuZpyP7"
      },
      "execution_count": 15,
      "outputs": [
        {
          "output_type": "display_data",
          "data": {
            "text/plain": [
              "<IPython.core.display.HTML object>"
            ],
            "text/html": [
              "\n",
              "  <style>\n",
              "    pre {\n",
              "        white-space: pre-wrap;\n",
              "    }\n",
              "  </style>\n",
              "  "
            ]
          },
          "metadata": {}
        },
        {
          "output_type": "stream",
          "name": "stdout",
          "text": [
            "{\n",
            "  \"movies\": [\n",
            "    {\n",
            "      \"rank\": 1,\n",
            "      \"name\": \"The Godfather\",\n",
            "      \"year\": 1972\n",
            "    },\n",
            "    {\n",
            "      \"rank\": 2,\n",
            "      \"name\": \"The Shawshank Redemption\",\n",
            "      \"year\": 1994\n",
            "    },\n",
            "    {\n",
            "      \"rank\": 3,\n",
            "      \"name\": \"The Dark Knight\",\n",
            "      \"year\": 2008\n",
            "    },\n",
            "    {\n",
            "      \"rank\": 4,\n",
            "      \"name\": \"The Godfather: Part II\",\n",
            "      \"year\": 1974\n",
            "    },\n",
            "    {\n",
            "      \"rank\": 5,\n",
            "      \"name\": \"Schindler's List\",\n",
            "      \"year\": 1993\n",
            "    }\n",
            "  ]\n",
            "}\n"
          ]
        }
      ]
    },
    {
      "cell_type": "markdown",
      "source": [
        "## markdown "
      ],
      "metadata": {
        "id": "2LFN65LBp8ik"
      }
    },
    {
      "cell_type": "code",
      "source": [
        "prompt = \"\"\"\n",
        "Give me top 5 movies of all time. Output only as markdown  with header: rank, name, year.\n",
        "\"\"\"\n",
        "resp = get_completion(prompt)"
      ],
      "metadata": {
        "colab": {
          "base_uri": "https://localhost:8080/",
          "height": 17
        },
        "outputId": "a87e6e5c-f4ba-41d0-b005-d51ca73ea214",
        "id": "zVwV4SbUp8ik"
      },
      "execution_count": 16,
      "outputs": [
        {
          "output_type": "display_data",
          "data": {
            "text/plain": [
              "<IPython.core.display.HTML object>"
            ],
            "text/html": [
              "\n",
              "  <style>\n",
              "    pre {\n",
              "        white-space: pre-wrap;\n",
              "    }\n",
              "  </style>\n",
              "  "
            ]
          },
          "metadata": {}
        }
      ]
    },
    {
      "cell_type": "code",
      "source": [
        "print(resp)"
      ],
      "metadata": {
        "outputId": "f700cbbb-29ec-46a7-9744-6610682b2153",
        "colab": {
          "base_uri": "https://localhost:8080/",
          "height": 173
        },
        "id": "5j6lheW8p8il"
      },
      "execution_count": 17,
      "outputs": [
        {
          "output_type": "display_data",
          "data": {
            "text/plain": [
              "<IPython.core.display.HTML object>"
            ],
            "text/html": [
              "\n",
              "  <style>\n",
              "    pre {\n",
              "        white-space: pre-wrap;\n",
              "    }\n",
              "  </style>\n",
              "  "
            ]
          },
          "metadata": {}
        },
        {
          "output_type": "stream",
          "name": "stdout",
          "text": [
            "# Top 5 Movies of All Time\n",
            "\n",
            "| Rank | Name | Year |\n",
            "|------|------|------|\n",
            "| 1 | The Godfather | 1972 |\n",
            "| 2 | The Shawshank Redemption | 1994 |\n",
            "| 3 | The Dark Knight | 2008 |\n",
            "| 4 | Schindler's List | 1993 |\n",
            "| 5 | Forrest Gump | 1994 |\n"
          ]
        }
      ]
    },
    {
      "cell_type": "markdown",
      "source": [
        "## HTML "
      ],
      "metadata": {
        "id": "9xD-T3JRp9FI"
      }
    },
    {
      "cell_type": "code",
      "source": [
        "prompt = \"\"\"\n",
        "Give me top 5 movies of all time. Output only as HTML with header: rank, name, year.\n",
        "\"\"\"\n",
        "resp = get_completion(prompt)"
      ],
      "metadata": {
        "colab": {
          "base_uri": "https://localhost:8080/",
          "height": 17
        },
        "outputId": "01e607cb-acb7-4100-9cc7-6a33e1533f43",
        "id": "OLNoXScXp9FJ"
      },
      "execution_count": 18,
      "outputs": [
        {
          "output_type": "display_data",
          "data": {
            "text/plain": [
              "<IPython.core.display.HTML object>"
            ],
            "text/html": [
              "\n",
              "  <style>\n",
              "    pre {\n",
              "        white-space: pre-wrap;\n",
              "    }\n",
              "  </style>\n",
              "  "
            ]
          },
          "metadata": {}
        }
      ]
    },
    {
      "cell_type": "code",
      "source": [
        "print(resp)"
      ],
      "metadata": {
        "outputId": "6854a328-81ab-43ce-9b3b-f520229a6431",
        "colab": {
          "base_uri": "https://localhost:8080/",
          "height": 1000
        },
        "id": "HtdmiSwQp9FJ"
      },
      "execution_count": 19,
      "outputs": [
        {
          "output_type": "display_data",
          "data": {
            "text/plain": [
              "<IPython.core.display.HTML object>"
            ],
            "text/html": [
              "\n",
              "  <style>\n",
              "    pre {\n",
              "        white-space: pre-wrap;\n",
              "    }\n",
              "  </style>\n",
              "  "
            ]
          },
          "metadata": {}
        },
        {
          "output_type": "stream",
          "name": "stdout",
          "text": [
            "<!DOCTYPE html>\n",
            "<html>\n",
            "<head>\n",
            "\t<title>Top 5 Movies of All Time</title>\n",
            "\t<style>\n",
            "\t\ttable {\n",
            "\t\t\tborder-collapse: collapse;\n",
            "\t\t\twidth: 100%;\n",
            "\t\t}\n",
            "\t\tth, td {\n",
            "\t\t\ttext-align: left;\n",
            "\t\t\tpadding: 8px;\n",
            "\t\t\tborder-bottom: 1px solid #ddd;\n",
            "\t\t}\n",
            "\t\tth {\n",
            "\t\t\tbackground-color: #4CAF50;\n",
            "\t\t\tcolor: white;\n",
            "\t\t}\n",
            "\t\ttr:hover {\n",
            "\t\t\tbackground-color: #f5f5f5;\n",
            "\t\t}\n",
            "\t</style>\n",
            "</head>\n",
            "<body>\n",
            "\t<h1>Top 5 Movies of All Time</h1>\n",
            "\t<table>\n",
            "\t\t<thead>\n",
            "\t\t\t<tr>\n",
            "\t\t\t\t<th>Rank</th>\n",
            "\t\t\t\t<th>Name</th>\n",
            "\t\t\t\t<th>Year</th>\n",
            "\t\t\t</tr>\n",
            "\t\t</thead>\n",
            "\t\t<tbody>\n",
            "\t\t\t<tr>\n",
            "\t\t\t\t<td>1</td>\n",
            "\t\t\t\t<td>The Godfather</td>\n",
            "\t\t\t\t<td>1972</td>\n",
            "\t\t\t</tr>\n",
            "\t\t\t<tr>\n",
            "\t\t\t\t<td>2</td>\n",
            "\t\t\t\t<td>The Shawshank Redemption</td>\n",
            "\t\t\t\t<td>1994</td>\n",
            "\t\t\t</tr>\n",
            "\t\t\t<tr>\n",
            "\t\t\t\t<td>3</td>\n",
            "\t\t\t\t<td>The Dark Knight</td>\n",
            "\t\t\t\t<td>2008</td>\n",
            "\t\t\t</tr>\n",
            "\t\t\t<tr>\n",
            "\t\t\t\t<td>4</td>\n",
            "\t\t\t\t<td>The Godfather: Part II</td>\n",
            "\t\t\t\t<td>1974</td>\n",
            "\t\t\t</tr>\n",
            "\t\t\t<tr>\n",
            "\t\t\t\t<td>5</td>\n",
            "\t\t\t\t<td>Pulp Fiction</td>\n",
            "\t\t\t\t<td>1994</td>\n",
            "\t\t\t</tr>\n",
            "\t\t</tbody>\n",
            "\t</table>\n",
            "</body>\n",
            "</html>\n"
          ]
        }
      ]
    },
    {
      "cell_type": "markdown",
      "source": [
        "## Latex "
      ],
      "metadata": {
        "id": "fNZ4HHoxp9W8"
      }
    },
    {
      "cell_type": "code",
      "source": [
        "prompt = \"\"\"\n",
        "Give me top 5 movies of all time. Output only as Latex with header: rank, name, year.\n",
        "\"\"\"\n",
        "resp = get_completion(prompt)"
      ],
      "metadata": {
        "colab": {
          "base_uri": "https://localhost:8080/",
          "height": 17
        },
        "outputId": "b429df3d-7b0d-47ce-ee0c-e438036b14e8",
        "id": "nABmDybMp9W9"
      },
      "execution_count": 20,
      "outputs": [
        {
          "output_type": "display_data",
          "data": {
            "text/plain": [
              "<IPython.core.display.HTML object>"
            ],
            "text/html": [
              "\n",
              "  <style>\n",
              "    pre {\n",
              "        white-space: pre-wrap;\n",
              "    }\n",
              "  </style>\n",
              "  "
            ]
          },
          "metadata": {}
        }
      ]
    },
    {
      "cell_type": "code",
      "source": [
        "print(resp)"
      ],
      "metadata": {
        "outputId": "c3275d98-9bf9-4e07-884a-d3835e9529e8",
        "colab": {
          "base_uri": "https://localhost:8080/",
          "height": 416
        },
        "id": "kM7bc67Sp9W9"
      },
      "execution_count": 21,
      "outputs": [
        {
          "output_type": "display_data",
          "data": {
            "text/plain": [
              "<IPython.core.display.HTML object>"
            ],
            "text/html": [
              "\n",
              "  <style>\n",
              "    pre {\n",
              "        white-space: pre-wrap;\n",
              "    }\n",
              "  </style>\n",
              "  "
            ]
          },
          "metadata": {}
        },
        {
          "output_type": "stream",
          "name": "stdout",
          "text": [
            "\\textbf{Top 5 Movies of All Time}\n",
            "\n",
            "\\begin{enumerate}\n",
            "\\item \\textbf{Rank:} 1\n",
            "\\textbf{Name:} The Godfather\n",
            "\\textbf{Year:} 1972\n",
            "\n",
            "\\item \\textbf{Rank:} 2\n",
            "\\textbf{Name:} The Shawshank Redemption\n",
            "\\textbf{Year:} 1994\n",
            "\n",
            "\\item \\textbf{Rank:} 3\n",
            "\\textbf{Name:} The Dark Knight\n",
            "\\textbf{Year:} 2008\n",
            "\n",
            "\\item \\textbf{Rank:} 4\n",
            "\\textbf{Name:} The Godfather: Part II\n",
            "\\textbf{Year:} 1974\n",
            "\n",
            "\\item \\textbf{Rank:} 5\n",
            "\\textbf{Name:} Schindler's List\n",
            "\\textbf{Year:} 1993\n",
            "\\end{enumerate}\n"
          ]
        }
      ]
    },
    {
      "cell_type": "markdown",
      "source": [
        "## Excel "
      ],
      "metadata": {
        "id": "SX-FiaLFp9iP"
      }
    },
    {
      "cell_type": "code",
      "source": [
        "prompt = \"\"\"\n",
        "Give me top 5 movies of all time. Output only as Excel with header: rank, name, year.\n",
        "\"\"\"\n",
        "resp = get_completion(prompt)"
      ],
      "metadata": {
        "colab": {
          "base_uri": "https://localhost:8080/",
          "height": 17
        },
        "outputId": "7b2d7d4a-a738-414d-cef3-11a188e928f6",
        "id": "WDGgUxCFp9iP"
      },
      "execution_count": 22,
      "outputs": [
        {
          "output_type": "display_data",
          "data": {
            "text/plain": [
              "<IPython.core.display.HTML object>"
            ],
            "text/html": [
              "\n",
              "  <style>\n",
              "    pre {\n",
              "        white-space: pre-wrap;\n",
              "    }\n",
              "  </style>\n",
              "  "
            ]
          },
          "metadata": {}
        }
      ]
    },
    {
      "cell_type": "code",
      "source": [
        "print(resp)"
      ],
      "metadata": {
        "outputId": "1a753a6f-80d9-4845-f45a-e012ec1512c0",
        "colab": {
          "base_uri": "https://localhost:8080/",
          "height": 173
        },
        "id": "2gszCFDZp9iQ"
      },
      "execution_count": 23,
      "outputs": [
        {
          "output_type": "display_data",
          "data": {
            "text/plain": [
              "<IPython.core.display.HTML object>"
            ],
            "text/html": [
              "\n",
              "  <style>\n",
              "    pre {\n",
              "        white-space: pre-wrap;\n",
              "    }\n",
              "  </style>\n",
              "  "
            ]
          },
          "metadata": {}
        },
        {
          "output_type": "stream",
          "name": "stdout",
          "text": [
            "Sorry, as an AI language model, I am not capable of creating an Excel file. However, here are the top 5 movies of all time:\n",
            "\n",
            "Rank | Name | Year\n",
            "---|---|---\n",
            "1 | The Godfather | 1972\n",
            "2 | The Shawshank Redemption | 1994\n",
            "3 | The Dark Knight | 2008\n",
            "4 | Schindler's List | 1993\n",
            "5 | Forrest Gump | 1994\n"
          ]
        }
      ]
    },
    {
      "cell_type": "markdown",
      "source": [
        "ถ้าใช้ผ่าน ChatGPT สามารถออกเป็นตารางให้ก็อปปี้ไปใส่ Excel ได้ แต่เคสนี้ใช้งานผ่าน API แนะนำให้ใช้ CSV แทน"
      ],
      "metadata": {
        "id": "uawg2eLgqjkq"
      }
    },
    {
      "cell_type": "markdown",
      "source": [
        "## SQL "
      ],
      "metadata": {
        "id": "Pm4wSp96p9ri"
      }
    },
    {
      "cell_type": "code",
      "source": [
        "prompt = \"\"\"\n",
        "Give me top 5 movies of all time. Output only as SQL insert: rank, name, year.\n",
        "\"\"\"\n",
        "resp = get_completion(prompt)"
      ],
      "metadata": {
        "colab": {
          "base_uri": "https://localhost:8080/",
          "height": 17
        },
        "outputId": "dae3f9e1-aa3c-4876-f311-d01ca8234064",
        "id": "eiOZC_Nbp9rj"
      },
      "execution_count": 28,
      "outputs": [
        {
          "output_type": "display_data",
          "data": {
            "text/plain": [
              "<IPython.core.display.HTML object>"
            ],
            "text/html": [
              "\n",
              "  <style>\n",
              "    pre {\n",
              "        white-space: pre-wrap;\n",
              "    }\n",
              "  </style>\n",
              "  "
            ]
          },
          "metadata": {}
        }
      ]
    },
    {
      "cell_type": "code",
      "source": [
        "print(resp)"
      ],
      "metadata": {
        "outputId": "7753b748-0f57-4388-8aed-1f2673d7ccdc",
        "colab": {
          "base_uri": "https://localhost:8080/",
          "height": 121
        },
        "id": "uG1KVlX5p9rj"
      },
      "execution_count": 29,
      "outputs": [
        {
          "output_type": "display_data",
          "data": {
            "text/plain": [
              "<IPython.core.display.HTML object>"
            ],
            "text/html": [
              "\n",
              "  <style>\n",
              "    pre {\n",
              "        white-space: pre-wrap;\n",
              "    }\n",
              "  </style>\n",
              "  "
            ]
          },
          "metadata": {}
        },
        {
          "output_type": "stream",
          "name": "stdout",
          "text": [
            "INSERT INTO movies (rank, name, year) VALUES \n",
            "(1, 'The Godfather', 1972),\n",
            "(2, 'The Shawshank Redemption', 1994),\n",
            "(3, 'The Dark Knight', 2008),\n",
            "(4, 'The Godfather: Part II', 1974),\n",
            "(5, '12 Angry Men', 1957);\n"
          ]
        }
      ]
    },
    {
      "cell_type": "markdown",
      "source": [
        "# 6. สรุป\n",
        "\n",
        "- ระบุรูปแบบโครงสร้างข้อมูลที่ต้องการ ใน Prompt อย่างชัดเจนตั้งแต่ต้น ทำให้เราแน่ใจว่าสามารถบูรณาการระบบงานต่าง ๆ ได้อย่างไร้รอยต่อ\n",
        "- ระบุรูปแบบโครงสร้างข้อมูลที่ต้องการ ได้ผลลัพท์ที่มีความยืดหยุ่น และใช้งานง่าย"
      ],
      "metadata": {
        "id": "LguH2Y7rkbE1"
      }
    },
    {
      "cell_type": "code",
      "source": [],
      "metadata": {
        "id": "gCxRBlG7p1Md"
      },
      "execution_count": null,
      "outputs": []
    }
  ]
}