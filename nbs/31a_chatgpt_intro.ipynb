{
  "nbformat": 4,
  "nbformat_minor": 0,
  "metadata": {
    "colab": {
      "provenance": [],
      "authorship_tag": "ABX9TyPVXCd/CYqm9qxgZL/F43Rs",
      "include_colab_link": true
    },
    "kernelspec": {
      "name": "python3",
      "display_name": "Python 3"
    },
    "language_info": {
      "name": "python"
    }
  },
  "cells": [
    {
      "cell_type": "markdown",
      "metadata": {
        "id": "view-in-github",
        "colab_type": "text"
      },
      "source": [
        "<a href=\"https://colab.research.google.com/github/gnoparus/bualabs/blob/master/nbs/31a_chatgpt_intro.ipynb\" target=\"_parent\"><img src=\"https://colab.research.google.com/assets/colab-badge.svg\" alt=\"Open In Colab\"/></a>"
      ]
    },
    {
      "cell_type": "code",
      "source": [],
      "metadata": {
        "id": "Z1JtCGiY9IVB"
      },
      "execution_count": null,
      "outputs": []
    },
    {
      "cell_type": "code",
      "source": [],
      "metadata": {
        "id": "Iw1jTYRH9IL_"
      },
      "execution_count": null,
      "outputs": []
    },
    {
      "cell_type": "code",
      "execution_count": 3,
      "metadata": {
        "id": "AQWl4NIQ8LJm"
      },
      "outputs": [],
      "source": [
        "# ! pip install openai"
      ]
    },
    {
      "cell_type": "code",
      "source": [],
      "metadata": {
        "id": "Y9S8DX6a9GdD"
      },
      "execution_count": 1,
      "outputs": []
    },
    {
      "cell_type": "code",
      "source": [],
      "metadata": {
        "id": "iWGkDiHa_Mfs"
      },
      "execution_count": 4,
      "outputs": []
    },
    {
      "cell_type": "markdown",
      "source": [
        "Get Key from the following link. You may need to input your billing info.\n",
        "\n",
        "https://platform.openai.com/account/api-keys\n",
        "\n",
        "Sample OpenAI API Key\n",
        "\n",
        "OPENAI_API_KEY: sk-abcDeFGHijKlMNopQrstuvWxyZ1234567890abcDefhiJklm"
      ],
      "metadata": {
        "id": "MyBgjLga_6rG"
      }
    },
    {
      "cell_type": "code",
      "source": [],
      "metadata": {
        "id": "Y_gJSB7Y_OJb"
      },
      "execution_count": null,
      "outputs": []
    },
    {
      "cell_type": "code",
      "source": [
        "import openai\n",
        "import os\n",
        "from getpass import getpass\n",
        "\n",
        "token = getpass('Enter OPENAI_API_KEY here: ')\n",
        "# print ('token is', token)\n",
        "\n",
        "openai.api_key = token"
      ],
      "metadata": {
        "colab": {
          "base_uri": "https://localhost:8080/"
        },
        "id": "od_JGCDH85e8",
        "outputId": "5b3bd6dd-8e13-45f6-abdd-e0335383ec5e"
      },
      "execution_count": 2,
      "outputs": [
        {
          "name": "stdout",
          "output_type": "stream",
          "text": [
            "Enter OPENAI_API_KEY here: ··········\n"
          ]
        }
      ]
    },
    {
      "cell_type": "code",
      "source": [],
      "metadata": {
        "id": "r8wMVl0j86RE"
      },
      "execution_count": null,
      "outputs": []
    },
    {
      "cell_type": "code",
      "source": [
        "# https://github.com/openai/openai-python\n"
      ],
      "metadata": {
        "id": "Gs2r_8I7BhH-"
      },
      "execution_count": 6,
      "outputs": []
    },
    {
      "cell_type": "code",
      "source": [],
      "metadata": {
        "id": "FD0dgen2B9YG"
      },
      "execution_count": null,
      "outputs": []
    },
    {
      "cell_type": "code",
      "source": [
        "\n",
        "# list models\n",
        "models = openai.Model.list()\n",
        "\n",
        "# print(models.data)    "
      ],
      "metadata": {
        "id": "C8Sy3S3dB9dj"
      },
      "execution_count": 16,
      "outputs": []
    },
    {
      "cell_type": "code",
      "source": [
        "# print the first model's id\n",
        "print(len(models.data))\n",
        "print(models.data[0].id)\n"
      ],
      "metadata": {
        "colab": {
          "base_uri": "https://localhost:8080/"
        },
        "id": "7XfWvWniCT3A",
        "outputId": "43d46a32-acdf-44fa-8efc-2406b0171f43"
      },
      "execution_count": 17,
      "outputs": [
        {
          "output_type": "stream",
          "name": "stdout",
          "text": [
            "66\n",
            "babbage\n"
          ]
        }
      ]
    },
    {
      "cell_type": "code",
      "source": [
        "\n",
        "# create a completion\n",
        "completion = openai.Completion.create(model=\"ada\", prompt=\"Hello world\")\n"
      ],
      "metadata": {
        "id": "g9A7Vq3ACMKr"
      },
      "execution_count": 24,
      "outputs": []
    },
    {
      "cell_type": "code",
      "source": [
        "\n",
        "print(completion)"
      ],
      "metadata": {
        "id": "y2Lkg-L3Dxp-",
        "outputId": "4dfcfc7d-17f5-4302-921c-7da2e508c350",
        "colab": {
          "base_uri": "https://localhost:8080/"
        }
      },
      "execution_count": 25,
      "outputs": [
        {
          "output_type": "stream",
          "name": "stdout",
          "text": [
            "{\n",
            "  \"choices\": [\n",
            "    {\n",
            "      \"finish_reason\": \"stop\",\n",
            "      \"index\": 0,\n",
            "      \"logprobs\": null,\n",
            "      \"text\": \" so far? Beautiful. Hopefully more guides will follow! xDD\"\n",
            "    }\n",
            "  ],\n",
            "  \"created\": 1682655114,\n",
            "  \"id\": \"cmpl-7A9kYiH5kLLV99vTcFv6JouKN0syW\",\n",
            "  \"model\": \"ada\",\n",
            "  \"object\": \"text_completion\",\n",
            "  \"usage\": {\n",
            "    \"completion_tokens\": 13,\n",
            "    \"prompt_tokens\": 2,\n",
            "    \"total_tokens\": 15\n",
            "  }\n",
            "}\n"
          ]
        }
      ]
    },
    {
      "cell_type": "code",
      "source": [
        "# print the completion\n",
        "print(completion.choices[0].text)"
      ],
      "metadata": {
        "id": "Mgdtw01FDJw7",
        "outputId": "00d2e7c2-0c2a-4fed-9113-dd03d837266c",
        "colab": {
          "base_uri": "https://localhost:8080/"
        }
      },
      "execution_count": 26,
      "outputs": [
        {
          "output_type": "stream",
          "name": "stdout",
          "text": [
            " so far? Beautiful. Hopefully more guides will follow! xDD\n"
          ]
        }
      ]
    },
    {
      "cell_type": "code",
      "source": [],
      "metadata": {
        "id": "S-4Mrxd2B9ha"
      },
      "execution_count": 26,
      "outputs": []
    },
    {
      "cell_type": "code",
      "source": [
        "messages = [{\"role\": \"user\", \"content\": \"Hello World\"}]\n",
        "completion2 = openai.ChatCompletion.create(\n",
        "        model=\"gpt-3.5-turbo\",\n",
        "        messages=messages,\n",
        "        temperature=0, \n",
        "        request_timeout=3.0,\n",
        "    )\n"
      ],
      "metadata": {
        "id": "7_b2ne4VD-Nd"
      },
      "execution_count": 38,
      "outputs": []
    },
    {
      "cell_type": "code",
      "source": [
        "# completion2"
      ],
      "metadata": {
        "id": "yHKsWi5AD-WC"
      },
      "execution_count": 39,
      "outputs": []
    },
    {
      "cell_type": "code",
      "source": [],
      "metadata": {
        "id": "LJkI7i42D-2a"
      },
      "execution_count": 39,
      "outputs": []
    },
    {
      "cell_type": "code",
      "source": [
        "completion2.choices[0].message[\"content\"]"
      ],
      "metadata": {
        "id": "DRWhUigkEpCt",
        "outputId": "d5232a0a-537e-4808-fcb8-625f8c660bd6",
        "colab": {
          "base_uri": "https://localhost:8080/",
          "height": 35
        }
      },
      "execution_count": 40,
      "outputs": [
        {
          "output_type": "execute_result",
          "data": {
            "text/plain": [
              "'Hello there! How can I assist you today?'"
            ],
            "application/vnd.google.colaboratory.intrinsic+json": {
              "type": "string"
            }
          },
          "metadata": {},
          "execution_count": 40
        }
      ]
    },
    {
      "cell_type": "code",
      "source": [],
      "metadata": {
        "id": "99VeqSXOEpF1"
      },
      "execution_count": null,
      "outputs": []
    },
    {
      "cell_type": "code",
      "source": [
        "def get_completion(prompt, model=\"gpt-3.5-turbo\"):\n",
        "    messages = [{\"role\": \"user\", \"content\": prompt}]\n",
        "    response = openai.ChatCompletion.create(\n",
        "        model=model,\n",
        "        messages=messages,\n",
        "        temperature=0, # this is the degree of randomness of the model's output\n",
        "    )\n",
        "    return response.choices[0].message[\"content\"]"
      ],
      "metadata": {
        "id": "V69WEZkVBenI"
      },
      "execution_count": 27,
      "outputs": []
    },
    {
      "cell_type": "code",
      "source": [],
      "metadata": {
        "id": "dBG6eyWMBetx"
      },
      "execution_count": null,
      "outputs": []
    },
    {
      "cell_type": "code",
      "source": [],
      "metadata": {
        "id": "g7WwdbcKBeyW"
      },
      "execution_count": null,
      "outputs": []
    },
    {
      "cell_type": "code",
      "source": [],
      "metadata": {
        "id": "aT2MvLT_Be2I"
      },
      "execution_count": null,
      "outputs": []
    }
  ]
}